{
 "cells": [
  {
   "cell_type": "code",
   "execution_count": 1,
   "metadata": {},
   "outputs": [],
   "source": [
    "import pandas as pd"
   ]
  },
  {
   "cell_type": "code",
   "execution_count": 2,
   "metadata": {},
   "outputs": [
    {
     "name": "stdout",
     "output_type": "stream",
     "text": [
      "/code/notebooks\n"
     ]
    }
   ],
   "source": [
    "!pwd"
   ]
  },
  {
   "cell_type": "code",
   "execution_count": 6,
   "metadata": {},
   "outputs": [
    {
     "name": "stdout",
     "output_type": "stream",
     "text": [
      "--2021-12-19 00:28:44--  http://serving:6758/logs\n",
      "Resolving serving (serving)... 172.18.0.2\n",
      "Connecting to serving (serving)|172.18.0.2|:6758... connected.\n",
      "HTTP request sent, awaiting response... 200 OK\n",
      "Length: 148 [application/json]\n",
      "Saving to: ‘logs’\n",
      "\n",
      "logs                100%[===================>]     148  --.-KB/s    in 0s      \n",
      "\n",
      "2021-12-19 00:28:44 (18.5 MB/s) - ‘logs’ saved [148/148]\n",
      "\n"
     ]
    }
   ],
   "source": [
    "!wget serving:6758/logs"
   ]
  },
  {
   "cell_type": "code",
   "execution_count": null,
   "metadata": {},
   "outputs": [],
   "source": []
  }
 ],
 "metadata": {
  "kernelspec": {
   "display_name": "Python 3 (ipykernel)",
   "language": "python",
   "name": "python3"
  },
  "language_info": {
   "codemirror_mode": {
    "name": "ipython",
    "version": 3
   },
   "file_extension": ".py",
   "mimetype": "text/x-python",
   "name": "python",
   "nbconvert_exporter": "python",
   "pygments_lexer": "ipython3",
   "version": "3.7.12"
  }
 },
 "nbformat": 4,
 "nbformat_minor": 4
}
