{
 "cells": [
  {
   "cell_type": "markdown",
   "metadata": {},
   "source": [
    "%load_ext autoreload\n",
    "%autoreload 2"
   ]
  },
  {
   "cell_type": "code",
   "execution_count": 1,
   "metadata": {},
   "outputs": [],
   "source": [
    "import numpy as np\n",
    "# some handy functions to use along widgets\n",
    "from IPython.display import display, Markdown, clear_output\n",
    "# widget packages\n",
    "import ipywidgets as widgets"
   ]
  },
  {
   "cell_type": "code",
   "execution_count": 2,
   "metadata": {},
   "outputs": [],
   "source": [
    "import sys\n",
    "\n",
    "# setting path\n",
    "sys.path.append('../client')\n",
    "import serving_client\n",
    "import game_Client "
   ]
  },
  {
   "cell_type": "code",
   "execution_count": 3,
   "metadata": {},
   "outputs": [],
   "source": [
    "#Here I am instanciating the classes from game_client and serving_client\n",
    "\n",
    "pinger = game_Client.gameClient(ip=\"127.0.0.1\",port=6758)\n",
    "serving = serving_client.AppClient(ip=\"127.0.0.1\",port=6758)"
   ]
  },
  {
   "cell_type": "code",
   "execution_count": 4,
   "metadata": {},
   "outputs": [
    {
     "name": "stdout",
     "output_type": "stream",
     "text": [
      "Empty DataFrame\n",
      "Columns: [eventType, period, periodTime, periodType, gameID, teamOfShooter, homeOrAway, xCoord, yCoord, shooter, goalie, shotType, emptyNet, strength, season, rinkSide, gameType, totalPlayTime, lastEventType, lastEventPeriod, lastEventPeriodTime, lastEventXCoord, lastEventYCoord, is_goal, EmptyNet, distance, angle, gameSeconds, lastEventGameSeconds, timeFromLastEvent, distanceFromLastEvent, rebound, lastEventAngle, changeInAngleShot, speed, timeSincePowerPlayStarted, numFriendlyNonGoalieSkaters, numOpposingNonGoalieSkaters, strength2]\n",
      "Index: []\n",
      "\n",
      "[0 rows x 39 columns]\n"
     ]
    }
   ],
   "source": [
    "game = pinger.pingGame('2021020329')\n",
    "print(game)"
   ]
  },
  {
   "cell_type": "code",
   "execution_count": 5,
   "metadata": {},
   "outputs": [
    {
     "data": {
      "text/plain": [
       "[0.1373259574174881,\n",
       " 0.11719298362731934,\n",
       " 0.054750945419073105,\n",
       " 0.021762799471616745,\n",
       " 0.020969975739717484,\n",
       " 0.111834816634655,\n",
       " 0.04057128727436066,\n",
       " 0.10517524182796478,\n",
       " 0.03199763223528862,\n",
       " 0.03911442309617996,\n",
       " 0.056099627166986465,\n",
       " 0.021959971636533737,\n",
       " 0.08207261562347412,\n",
       " 0.12972502410411835,\n",
       " 0.03868458792567253,\n",
       " 0.1373259574174881,\n",
       " 0.16570928692817688,\n",
       " 0.08837094902992249,\n",
       " 0.09348900616168976,\n",
       " 0.08067451417446136,\n",
       " 0.026046667248010635,\n",
       " 0.05270504206418991,\n",
       " 0.12416189163923264,\n",
       " 0.12735049426555634,\n",
       " 0.03463427722454071,\n",
       " 0.016764365136623383,\n",
       " 0.04373400658369064,\n",
       " 0.13980941474437714,\n",
       " 0.003696165047585964,\n",
       " 0.013908498920500278,\n",
       " 0.010872800834476948,\n",
       " 0.1870231181383133,\n",
       " 0.08584775030612946,\n",
       " 0.05907023698091507,\n",
       " 0.04420512542128563,\n",
       " 0.01959666609764099,\n",
       " 0.08085787296295166,\n",
       " 0.050502873957157135,\n",
       " 0.06533315032720566,\n",
       " 0.10178351402282715,\n",
       " 0.11751626431941986,\n",
       " 0.0372968427836895,\n",
       " 0.22253085672855377,\n",
       " 0.23231938481330872,\n",
       " 0.05831390246748924,\n",
       " 0.17358145117759705,\n",
       " 0.027964424341917038,\n",
       " 0.29112592339515686,\n",
       " 0.05416743829846382,\n",
       " 0.2175472527742386,\n",
       " 0.21518082916736603,\n",
       " 0.05193660780787468,\n",
       " 0.06941401958465576,\n",
       " 0.16313305497169495,\n",
       " 0.07543259859085083,\n",
       " 0.12739087641239166]"
      ]
     },
     "execution_count": 5,
     "metadata": {},
     "output_type": "execute_result"
    }
   ],
   "source": [
    "serving.predict(game,'2021020329')"
   ]
  },
  {
   "cell_type": "code",
   "execution_count": 5,
   "metadata": {},
   "outputs": [
    {
     "data": {
      "application/vnd.jupyter.widget-view+json": {
       "model_id": "55459366bcb54147bade4066a190bb57",
       "version_major": 2,
       "version_minor": 0
      },
      "text/plain": [
       "VBox(children=(Text(value='workspaceTest', description='workspace'), Text(value='modelTest', description='mode…"
      ]
     },
     "metadata": {},
     "output_type": "display_data"
    }
   ],
   "source": [
    "#Input text for the model\n",
    "text1 = widgets.Text(\n",
    "       value='workspaceTest',\n",
    "       description='workspace',)\n",
    "text2 = widgets.Text(\n",
    "       value='modelTest',\n",
    "       description='model',)\n",
    "text3 = widgets.Text(\n",
    "       value='versionTest',\n",
    "       description='version',)\n",
    "\n",
    "#Button1 will load the model of choice\n",
    "button1 = widgets.Button(description='Load Model')\n",
    "\n",
    "#Input text for gameID\n",
    "text4 = widgets.Text(\n",
    "       value='2021020329',\n",
    "       description='gameID',) \n",
    "\n",
    "#Button2 will ping the game\n",
    "button2 = widgets.Button(description='Ping Game')\n",
    "out = widgets.Output()\n",
    "\n",
    "#Here will be stored the info of games and gameID\n",
    "\n",
    "memoryGame=0\n",
    "memoryGameID=0\n",
    "\n",
    "def on_button1_clicked(_):\n",
    "    #This function activates when button 1 is pushed\n",
    "      with out:\n",
    "          clear_output()  \n",
    "          #download_registry_model(self, workspace: str, model: str, version: str)\n",
    "          print(\"Model '\",text1.value, \"' Version '\",text2.value,\"' Workspace '\",text3.value,\" has been uploaded\")\n",
    "            \n",
    "def on_button2_clicked(_):\n",
    "      # This function activates when button 2 is pushed \n",
    "      with out:\n",
    "          clear_output()\n",
    "            \n",
    "          #Ping game for a given gameID\n",
    "          game = pinger.pingGame(str(text4.value))\n",
    "          \n",
    "          if memoryGameID==0:\n",
    "              #if no memory yet, set memoryGameID\n",
    "              memoryGameID=str(text4.value)\n",
    "          if memoryGame==0:\n",
    "              #if no memory yet, set memoryGame\n",
    "              memoryGame=game\n",
    "          else:\n",
    "            if memoryGameID!=str(text4.value):\n",
    "                #if the memoryGameID does not correspond to the input gameID, it means that\n",
    "                #we are dealing with a new game. \n",
    "                memoryGame=game\n",
    "                memoryGameID=str(text4.value)\n",
    "            else:\n",
    "                #This is if the new events belong to the same game\n",
    "                memoryGame.append(game,ignore_index=True)\n",
    "            \n",
    "\n",
    "            \n",
    "          #Get current period and time left for that period  \n",
    "          period = memoryGame.iloc[-1][\"period\"]\n",
    "          time = str(memoryGame.iloc[-1][\"periodTime\"]).split(\":\")\n",
    "          minuteLeft = 19-int(time[0])\n",
    "          secondLeft=60-int(time[1])\n",
    "          timeLeft= str(minuteLeft)+\":\"+str(secondLeft)\n",
    "        \n",
    "          #Get teams and homeOrAway\n",
    "          teams=list(memoryGame[\"teamOfShooter\"])\n",
    "          homeOrAway=list(memoryGame[\"homeOrAway\"])\n",
    "          teams = list(dict.fromkeys(teams))\n",
    "          homeOrAway= list(dict.fromkeys(homeOrAway))\n",
    "           \n",
    "          #Separate dataframes for each team, and get their corresponding XG\n",
    "          XGhome=serving.predict(game,teams[0])\n",
    "          XGaway=serving.predict(game,teams[1])\n",
    "            \n",
    "          #sum of XG\n",
    "          sumt1 = sum(XGhome)\n",
    "          sumt2= sum(XGaway)\n",
    "        \n",
    "          #Output to print \n",
    "          print(\"period:\",period)\n",
    "          print(\"time left:\",timeLeft)\n",
    "          print(homeOrAway[0],\"team and expected score:\",teams[0],sumt1)\n",
    "          print(homeOrAway[1],\"team and expected score:\",teams[1],sumt2)\n",
    "\n",
    "\n",
    "        \n",
    "\n",
    "#Associate buttons to functions\n",
    "button1.on_click(on_button1_clicked)\n",
    "button2.on_click(on_button2_clicked)\n",
    "#Widgets that will be displayed\n",
    "widgets.VBox([text1,text2,text3,button1,text4,button2,out])"
   ]
  },
  {
   "cell_type": "markdown",
   "metadata": {},
   "source": [
    "    def ping_game(game_id, idx, other) -> new_events, new_idx, new_other\n",
    "    \n",
    "    def predict(self, X: pd.DataFrame) -> pd.DataFrame:\n",
    "        \"\"\"\n",
    "        Formats the inputs into an appropriate payload for a POST request, and queries the\n",
    "        prediction service. Retrieves the response from the server, and processes it back into a\n",
    "        dataframe that corresponds index-wise to the input dataframe.\n",
    "        \n",
    "        Args:\n",
    "            X (Dataframe): Input dataframe to submit to the prediction service.\n",
    "        \"\"\"\n",
    "\n",
    "        raise NotImplementedError(\"TODO: implement this function\")\n",
    "\n",
    "    def logs(self) -> dict:\n",
    "        \"\"\"Get server logs\"\"\"\n",
    "\n",
    "        raise NotImplementedError(\"TODO: implement this function\")\n",
    "\n",
    "    def download_registry_model(self, workspace: str, model: str, version: str) -> dict:\n",
    "        \"\"\"\n",
    "        Triggers a \"model swap\" in the service; the workspace, model, and model version are\n",
    "        specified and the service looks for this model in the model registry and tries to\n",
    "        download it. \n",
    "\n",
    "        See more here:\n",
    "\n",
    "            https://www.comet.ml/docs/python-sdk/API/#apidownload_registry_model\n",
    "        \n",
    "        Args:\n",
    "            workspace (str): The Comet ML workspace\n",
    "            model (str): The model in the Comet ML registry to download\n",
    "            version (str): The model version to download\n",
    "        \"\"\"\n",
    "\n",
    "        raise NotImplementedError(\"TODO: implement this function\")"
   ]
  }
 ],
 "metadata": {
  "kernelspec": {
   "display_name": "Python 3 (ipykernel)",
   "language": "python",
   "name": "python3"
  },
  "language_info": {
   "codemirror_mode": {
    "name": "ipython",
    "version": 3
   },
   "file_extension": ".py",
   "mimetype": "text/x-python",
   "name": "python",
   "nbconvert_exporter": "python",
   "pygments_lexer": "ipython3",
   "version": "3.9.7"
  }
 },
 "nbformat": 4,
 "nbformat_minor": 4
}
