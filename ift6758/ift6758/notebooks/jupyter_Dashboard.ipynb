{
 "cells": [
  {
   "cell_type": "markdown",
   "metadata": {},
   "source": [
    "%load_ext autoreload\n",
    "%autoreload 2"
   ]
  },
  {
   "cell_type": "code",
   "execution_count": 11,
   "metadata": {},
   "outputs": [],
   "source": [
    "import numpy as np\n",
    "# some handy functions to use along widgets\n",
    "from IPython.display import display, Markdown, clear_output\n",
    "# widget packages\n",
    "import ipywidgets as widgets"
   ]
  },
  {
   "cell_type": "code",
   "execution_count": 12,
   "metadata": {},
   "outputs": [],
   "source": [
    "import sys\n",
    "\n",
    "# setting path\n",
    "sys.path.append('../client')\n",
    "import serving_client\n",
    "import game_Client "
   ]
  },
  {
   "cell_type": "code",
   "execution_count": 13,
   "metadata": {},
   "outputs": [],
   "source": [
    "#Here I am instanciating the classes from game_client and serving_client\n",
    "\n",
    "pinger = game_Client.gameClient(ip=\"127.0.0.1\",port=6758)\n",
    "serving = serving_client.AppClient(ip=\"127.0.0.1\",port=6758)"
   ]
  },
  {
   "cell_type": "code",
   "execution_count": 14,
   "metadata": {},
   "outputs": [],
   "source": [
    "game = pinger.pingGame('2021020329')"
   ]
  },
  {
   "cell_type": "code",
   "execution_count": 20,
   "metadata": {},
   "outputs": [
    {
     "ename": "JSONDecodeError",
     "evalue": "Expecting value: line 1 column 1 (char 0)",
     "output_type": "error",
     "traceback": [
      "\u001b[1;31m---------------------------------------------------------------------------\u001b[0m",
      "\u001b[1;31mJSONDecodeError\u001b[0m                           Traceback (most recent call last)",
      "\u001b[1;32m~\\AppData\\Local\\Temp/ipykernel_19808/2342727017.py\u001b[0m in \u001b[0;36m<module>\u001b[1;34m\u001b[0m\n\u001b[1;32m----> 1\u001b[1;33m \u001b[0mserving\u001b[0m\u001b[1;33m.\u001b[0m\u001b[0mpredict\u001b[0m\u001b[1;33m(\u001b[0m\u001b[0mgame\u001b[0m\u001b[1;33m,\u001b[0m\u001b[1;34m'2021020329'\u001b[0m\u001b[1;33m)\u001b[0m\u001b[1;33m\u001b[0m\u001b[1;33m\u001b[0m\u001b[0m\n\u001b[0m",
      "\u001b[1;32m~\\Desktop\\gitRepos\\IFT6758\\ift6758\\ift6758\\notebooks\\../client\\serving_client.py\u001b[0m in \u001b[0;36mpredict\u001b[1;34m(self, X, gameId)\u001b[0m\n\u001b[0;32m     36\u001b[0m         \u001b[1;32massert\u001b[0m \u001b[1;36m1\u001b[0m\u001b[1;33m==\u001b[0m\u001b[1;36m0\u001b[0m\u001b[1;33m\u001b[0m\u001b[1;33m\u001b[0m\u001b[0m\n\u001b[0;32m     37\u001b[0m         \u001b[0mresponse_API\u001b[0m \u001b[1;33m=\u001b[0m \u001b[0mrequests\u001b[0m\u001b[1;33m.\u001b[0m\u001b[0mpost\u001b[0m\u001b[1;33m(\u001b[0m\u001b[0mself\u001b[0m\u001b[1;33m.\u001b[0m\u001b[0mbase_url\u001b[0m\u001b[1;33m+\u001b[0m\u001b[1;34m\"/predict\"\u001b[0m\u001b[1;33m,\u001b[0m \u001b[0mjson\u001b[0m\u001b[1;33m=\u001b[0m\u001b[0mX\u001b[0m\u001b[1;33m.\u001b[0m\u001b[0mto_json\u001b[0m\u001b[1;33m(\u001b[0m\u001b[1;33m)\u001b[0m\u001b[1;33m)\u001b[0m\u001b[1;33m\u001b[0m\u001b[1;33m\u001b[0m\u001b[0m\n\u001b[1;32m---> 38\u001b[1;33m         \u001b[0mprint\u001b[0m\u001b[1;33m(\u001b[0m\u001b[0mresponse_API\u001b[0m\u001b[1;33m.\u001b[0m\u001b[0mtext\u001b[0m\u001b[1;33m)\u001b[0m\u001b[1;33m\u001b[0m\u001b[1;33m\u001b[0m\u001b[0m\n\u001b[0m\u001b[0;32m     39\u001b[0m         \u001b[0mprint\u001b[0m\u001b[1;33m(\u001b[0m\u001b[1;34m\"test\"\u001b[0m\u001b[1;33m)\u001b[0m\u001b[1;33m\u001b[0m\u001b[1;33m\u001b[0m\u001b[0m\n\u001b[0;32m     40\u001b[0m         \u001b[1;32massert\u001b[0m \u001b[1;36m1\u001b[0m\u001b[1;33m==\u001b[0m\u001b[1;36m0\u001b[0m\u001b[1;33m\u001b[0m\u001b[1;33m\u001b[0m\u001b[0m\n",
      "\u001b[1;32m~\\anaconda3\\envs\\ift6758-conda-env\\lib\\json\\__init__.py\u001b[0m in \u001b[0;36mloads\u001b[1;34m(s, cls, object_hook, parse_float, parse_int, parse_constant, object_pairs_hook, **kw)\u001b[0m\n\u001b[0;32m    344\u001b[0m             \u001b[0mparse_int\u001b[0m \u001b[1;32mis\u001b[0m \u001b[1;32mNone\u001b[0m \u001b[1;32mand\u001b[0m \u001b[0mparse_float\u001b[0m \u001b[1;32mis\u001b[0m \u001b[1;32mNone\u001b[0m \u001b[1;32mand\u001b[0m\u001b[1;33m\u001b[0m\u001b[1;33m\u001b[0m\u001b[0m\n\u001b[0;32m    345\u001b[0m             parse_constant is None and object_pairs_hook is None and not kw):\n\u001b[1;32m--> 346\u001b[1;33m         \u001b[1;32mreturn\u001b[0m \u001b[0m_default_decoder\u001b[0m\u001b[1;33m.\u001b[0m\u001b[0mdecode\u001b[0m\u001b[1;33m(\u001b[0m\u001b[0ms\u001b[0m\u001b[1;33m)\u001b[0m\u001b[1;33m\u001b[0m\u001b[1;33m\u001b[0m\u001b[0m\n\u001b[0m\u001b[0;32m    347\u001b[0m     \u001b[1;32mif\u001b[0m \u001b[0mcls\u001b[0m \u001b[1;32mis\u001b[0m \u001b[1;32mNone\u001b[0m\u001b[1;33m:\u001b[0m\u001b[1;33m\u001b[0m\u001b[1;33m\u001b[0m\u001b[0m\n\u001b[0;32m    348\u001b[0m         \u001b[0mcls\u001b[0m \u001b[1;33m=\u001b[0m \u001b[0mJSONDecoder\u001b[0m\u001b[1;33m\u001b[0m\u001b[1;33m\u001b[0m\u001b[0m\n",
      "\u001b[1;32m~\\anaconda3\\envs\\ift6758-conda-env\\lib\\json\\decoder.py\u001b[0m in \u001b[0;36mdecode\u001b[1;34m(self, s, _w)\u001b[0m\n\u001b[0;32m    335\u001b[0m \u001b[1;33m\u001b[0m\u001b[0m\n\u001b[0;32m    336\u001b[0m         \"\"\"\n\u001b[1;32m--> 337\u001b[1;33m         \u001b[0mobj\u001b[0m\u001b[1;33m,\u001b[0m \u001b[0mend\u001b[0m \u001b[1;33m=\u001b[0m \u001b[0mself\u001b[0m\u001b[1;33m.\u001b[0m\u001b[0mraw_decode\u001b[0m\u001b[1;33m(\u001b[0m\u001b[0ms\u001b[0m\u001b[1;33m,\u001b[0m \u001b[0midx\u001b[0m\u001b[1;33m=\u001b[0m\u001b[0m_w\u001b[0m\u001b[1;33m(\u001b[0m\u001b[0ms\u001b[0m\u001b[1;33m,\u001b[0m \u001b[1;36m0\u001b[0m\u001b[1;33m)\u001b[0m\u001b[1;33m.\u001b[0m\u001b[0mend\u001b[0m\u001b[1;33m(\u001b[0m\u001b[1;33m)\u001b[0m\u001b[1;33m)\u001b[0m\u001b[1;33m\u001b[0m\u001b[1;33m\u001b[0m\u001b[0m\n\u001b[0m\u001b[0;32m    338\u001b[0m         \u001b[0mend\u001b[0m \u001b[1;33m=\u001b[0m \u001b[0m_w\u001b[0m\u001b[1;33m(\u001b[0m\u001b[0ms\u001b[0m\u001b[1;33m,\u001b[0m \u001b[0mend\u001b[0m\u001b[1;33m)\u001b[0m\u001b[1;33m.\u001b[0m\u001b[0mend\u001b[0m\u001b[1;33m(\u001b[0m\u001b[1;33m)\u001b[0m\u001b[1;33m\u001b[0m\u001b[1;33m\u001b[0m\u001b[0m\n\u001b[0;32m    339\u001b[0m         \u001b[1;32mif\u001b[0m \u001b[0mend\u001b[0m \u001b[1;33m!=\u001b[0m \u001b[0mlen\u001b[0m\u001b[1;33m(\u001b[0m\u001b[0ms\u001b[0m\u001b[1;33m)\u001b[0m\u001b[1;33m:\u001b[0m\u001b[1;33m\u001b[0m\u001b[1;33m\u001b[0m\u001b[0m\n",
      "\u001b[1;32m~\\anaconda3\\envs\\ift6758-conda-env\\lib\\json\\decoder.py\u001b[0m in \u001b[0;36mraw_decode\u001b[1;34m(self, s, idx)\u001b[0m\n\u001b[0;32m    353\u001b[0m             \u001b[0mobj\u001b[0m\u001b[1;33m,\u001b[0m \u001b[0mend\u001b[0m \u001b[1;33m=\u001b[0m \u001b[0mself\u001b[0m\u001b[1;33m.\u001b[0m\u001b[0mscan_once\u001b[0m\u001b[1;33m(\u001b[0m\u001b[0ms\u001b[0m\u001b[1;33m,\u001b[0m \u001b[0midx\u001b[0m\u001b[1;33m)\u001b[0m\u001b[1;33m\u001b[0m\u001b[1;33m\u001b[0m\u001b[0m\n\u001b[0;32m    354\u001b[0m         \u001b[1;32mexcept\u001b[0m \u001b[0mStopIteration\u001b[0m \u001b[1;32mas\u001b[0m \u001b[0merr\u001b[0m\u001b[1;33m:\u001b[0m\u001b[1;33m\u001b[0m\u001b[1;33m\u001b[0m\u001b[0m\n\u001b[1;32m--> 355\u001b[1;33m             \u001b[1;32mraise\u001b[0m \u001b[0mJSONDecodeError\u001b[0m\u001b[1;33m(\u001b[0m\u001b[1;34m\"Expecting value\"\u001b[0m\u001b[1;33m,\u001b[0m \u001b[0ms\u001b[0m\u001b[1;33m,\u001b[0m \u001b[0merr\u001b[0m\u001b[1;33m.\u001b[0m\u001b[0mvalue\u001b[0m\u001b[1;33m)\u001b[0m \u001b[1;32mfrom\u001b[0m \u001b[1;32mNone\u001b[0m\u001b[1;33m\u001b[0m\u001b[1;33m\u001b[0m\u001b[0m\n\u001b[0m\u001b[0;32m    356\u001b[0m         \u001b[1;32mreturn\u001b[0m \u001b[0mobj\u001b[0m\u001b[1;33m,\u001b[0m \u001b[0mend\u001b[0m\u001b[1;33m\u001b[0m\u001b[1;33m\u001b[0m\u001b[0m\n",
      "\u001b[1;31mJSONDecodeError\u001b[0m: Expecting value: line 1 column 1 (char 0)"
     ]
    }
   ],
   "source": [
    "serving.predict(game,'2021020329')"
   ]
  },
  {
   "cell_type": "code",
   "execution_count": 16,
   "metadata": {},
   "outputs": [
    {
     "data": {
      "application/vnd.jupyter.widget-view+json": {
       "model_id": "fa4e3ccec1844b6fabdb3e971039f8d7",
       "version_major": 2,
       "version_minor": 0
      },
      "text/plain": [
       "VBox(children=(Text(value='workspaceTest', description='workspace'), Text(value='modelTest', description='mode…"
      ]
     },
     "metadata": {},
     "output_type": "display_data"
    }
   ],
   "source": [
    "#Input text for the model\n",
    "text1 = widgets.Text(\n",
    "       value='workspaceTest',\n",
    "       description='workspace',)\n",
    "text2 = widgets.Text(\n",
    "       value='modelTest',\n",
    "       description='model',)\n",
    "text3 = widgets.Text(\n",
    "       value='versionTest',\n",
    "       description='version',)\n",
    "\n",
    "#Button1 will load the model of choice\n",
    "button1 = widgets.Button(description='Load Model')\n",
    "\n",
    "#Input text for gameID\n",
    "text4 = widgets.Text(\n",
    "       value='2021020329',\n",
    "       description='gameID',) \n",
    "\n",
    "#Button2 will ping the game\n",
    "button2 = widgets.Button(description='Ping Game')\n",
    "out = widgets.Output()\n",
    "\n",
    "#Here will be stored the expected goals \n",
    "XGt1=[]\n",
    "XGt2=[]\n",
    "\n",
    "def on_button1_clicked(_):\n",
    "    #This function activates when button 1 is pushed\n",
    "      with out:\n",
    "          clear_output()  \n",
    "          #download_registry_model(self, workspace: str, model: str, version: str)\n",
    "          print(\"Model '\",text1.value, \"' Version '\",text2.value,\"' Workspace '\",text3.value,\" has been uploaded\")\n",
    "            \n",
    "def on_button2_clicked(_):\n",
    "      # This function activates when button 2 is pushed \n",
    "      with out:\n",
    "          clear_output()\n",
    "            \n",
    "          #Ping game for a given gameID\n",
    "          game = pinger.pingGame(str(text4.value))\n",
    "            \n",
    "          #Get current period and time left for that period  \n",
    "          period = game.iloc[-1][\"period\"]\n",
    "          time = str(game.iloc[-1][\"periodTime\"]).split(\":\")\n",
    "          minuteLeft = 19-int(time[0])\n",
    "          secondLeft=60-int(time[1])\n",
    "          timeLeft= str(minuteLeft)+\":\"+str(secondLeft)\n",
    "        \n",
    "          #Get teams and homeOrAway\n",
    "          teams=list(game[\"teamOfShooter\"])\n",
    "          homeOrAway=list(game[\"homeOrAway\"])\n",
    "          teams = list(dict.fromkeys(teams))\n",
    "          homeOrAway= list(dict.fromkeys(homeOrAway))\n",
    "           \n",
    "          #Separate dataframes for each team, and get their corresponding XG\n",
    "          gamet1=game.loc[game[\"teamOfShooter\"]==teams[0]]\n",
    "          gamet2=game.loc[game[\"teamOfShooter\"]==teams[1]]\n",
    "          XGt1.extend(serving.predict(gamet1))\n",
    "          XGt2.extend(serving.predict(gamet2))\n",
    "          #sum of XG\n",
    "          sumt1 = sum(XGt1)\n",
    "          sumt2= sum(XGt2)\n",
    "        \n",
    "          #Output to print \n",
    "          print(\"period:\",period)\n",
    "          print(\"time left:\",timeLeft)\n",
    "          print(homeOrAway[0],\"team and expected score:\",teams[0],sumt1)\n",
    "          print(homeOrAway[1],\"team and expected score:\",teams[1],sumt2)\n",
    "\n",
    "\n",
    "        \n",
    "\n",
    "#Associate buttons to functions\n",
    "button1.on_click(on_button1_clicked)\n",
    "button2.on_click(on_button2_clicked)\n",
    "#Widgets that will be displayed\n",
    "widgets.VBox([text1,text2,text3,button1,text4,button2,out])"
   ]
  },
  {
   "cell_type": "markdown",
   "metadata": {},
   "source": [
    "    def ping_game(game_id, idx, other) -> new_events, new_idx, new_other\n",
    "    \n",
    "    def predict(self, X: pd.DataFrame) -> pd.DataFrame:\n",
    "        \"\"\"\n",
    "        Formats the inputs into an appropriate payload for a POST request, and queries the\n",
    "        prediction service. Retrieves the response from the server, and processes it back into a\n",
    "        dataframe that corresponds index-wise to the input dataframe.\n",
    "        \n",
    "        Args:\n",
    "            X (Dataframe): Input dataframe to submit to the prediction service.\n",
    "        \"\"\"\n",
    "\n",
    "        raise NotImplementedError(\"TODO: implement this function\")\n",
    "\n",
    "    def logs(self) -> dict:\n",
    "        \"\"\"Get server logs\"\"\"\n",
    "\n",
    "        raise NotImplementedError(\"TODO: implement this function\")\n",
    "\n",
    "    def download_registry_model(self, workspace: str, model: str, version: str) -> dict:\n",
    "        \"\"\"\n",
    "        Triggers a \"model swap\" in the service; the workspace, model, and model version are\n",
    "        specified and the service looks for this model in the model registry and tries to\n",
    "        download it. \n",
    "\n",
    "        See more here:\n",
    "\n",
    "            https://www.comet.ml/docs/python-sdk/API/#apidownload_registry_model\n",
    "        \n",
    "        Args:\n",
    "            workspace (str): The Comet ML workspace\n",
    "            model (str): The model in the Comet ML registry to download\n",
    "            version (str): The model version to download\n",
    "        \"\"\"\n",
    "\n",
    "        raise NotImplementedError(\"TODO: implement this function\")"
   ]
  },
  {
   "cell_type": "code",
   "execution_count": null,
   "metadata": {},
   "outputs": [],
   "source": []
  }
 ],
 "metadata": {
  "kernelspec": {
   "display_name": "Python 3 (ipykernel)",
   "language": "python",
   "name": "python3"
  },
  "language_info": {
   "codemirror_mode": {
    "name": "ipython",
    "version": 3
   },
   "file_extension": ".py",
   "mimetype": "text/x-python",
   "name": "python",
   "nbconvert_exporter": "python",
   "pygments_lexer": "ipython3",
   "version": "3.9.7"
  }
 },
 "nbformat": 4,
 "nbformat_minor": 4
}
