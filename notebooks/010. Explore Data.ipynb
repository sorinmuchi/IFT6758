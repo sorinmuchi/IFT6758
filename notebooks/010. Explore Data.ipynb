{
 "cells": [
  {
   "cell_type": "code",
   "execution_count": 1,
   "id": "c7f4a81e",
   "metadata": {},
   "outputs": [],
   "source": [
    "import numpy as np\n",
    "import pandas as pd\n",
    "\n",
    "from ipywidgets import interact, interactive, fixed, interact_manual\n",
    "import ipywidgets as widgets\n",
    "\n",
    "import matplotlib.pyplot as plt"
   ]
  },
  {
   "cell_type": "code",
   "execution_count": 2,
   "id": "11044bf8",
   "metadata": {},
   "outputs": [],
   "source": [
    "df = pd.read_csv('../data/ift6758_dfwseasons 3/Allseasons.csv')"
   ]
  },
  {
   "cell_type": "markdown",
   "id": "473841da",
   "metadata": {},
   "source": [
    "# EDA"
   ]
  },
  {
   "cell_type": "code",
   "execution_count": 3,
   "id": "09c46a9c",
   "metadata": {},
   "outputs": [
    {
     "data": {
      "text/html": [
       "<div>\n",
       "<style scoped>\n",
       "    .dataframe tbody tr th:only-of-type {\n",
       "        vertical-align: middle;\n",
       "    }\n",
       "\n",
       "    .dataframe tbody tr th {\n",
       "        vertical-align: top;\n",
       "    }\n",
       "\n",
       "    .dataframe thead th {\n",
       "        text-align: right;\n",
       "    }\n",
       "</style>\n",
       "<table border=\"1\" class=\"dataframe\">\n",
       "  <thead>\n",
       "    <tr style=\"text-align: right;\">\n",
       "      <th></th>\n",
       "      <th>eventType</th>\n",
       "      <th>period</th>\n",
       "      <th>periodTime</th>\n",
       "      <th>periodType</th>\n",
       "      <th>gameID</th>\n",
       "      <th>teamOfShooter</th>\n",
       "      <th>homeOrAway</th>\n",
       "      <th>xCoord</th>\n",
       "      <th>yCoord</th>\n",
       "      <th>shooter</th>\n",
       "      <th>goalie</th>\n",
       "      <th>shotType</th>\n",
       "      <th>emptyNet</th>\n",
       "      <th>strength</th>\n",
       "      <th>season</th>\n",
       "      <th>rinkSide</th>\n",
       "    </tr>\n",
       "  </thead>\n",
       "  <tbody>\n",
       "    <tr>\n",
       "      <th>0</th>\n",
       "      <td>Shot</td>\n",
       "      <td>1</td>\n",
       "      <td>01:11</td>\n",
       "      <td>REGULAR</td>\n",
       "      <td>2016020001</td>\n",
       "      <td>Toronto Maple Leafs</td>\n",
       "      <td>away</td>\n",
       "      <td>-77.0</td>\n",
       "      <td>5.0</td>\n",
       "      <td>Mitchell Marner</td>\n",
       "      <td>Craig Anderson</td>\n",
       "      <td>Wrist Shot</td>\n",
       "      <td>NaN</td>\n",
       "      <td>NaN</td>\n",
       "      <td>2016</td>\n",
       "      <td>right</td>\n",
       "    </tr>\n",
       "    <tr>\n",
       "      <th>1</th>\n",
       "      <td>Shot</td>\n",
       "      <td>1</td>\n",
       "      <td>02:53</td>\n",
       "      <td>REGULAR</td>\n",
       "      <td>2016020001</td>\n",
       "      <td>Ottawa Senators</td>\n",
       "      <td>home</td>\n",
       "      <td>86.0</td>\n",
       "      <td>13.0</td>\n",
       "      <td>Chris Kelly</td>\n",
       "      <td>Frederik Andersen</td>\n",
       "      <td>Wrist Shot</td>\n",
       "      <td>NaN</td>\n",
       "      <td>NaN</td>\n",
       "      <td>2016</td>\n",
       "      <td>left</td>\n",
       "    </tr>\n",
       "    <tr>\n",
       "      <th>2</th>\n",
       "      <td>Shot</td>\n",
       "      <td>1</td>\n",
       "      <td>04:01</td>\n",
       "      <td>REGULAR</td>\n",
       "      <td>2016020001</td>\n",
       "      <td>Ottawa Senators</td>\n",
       "      <td>home</td>\n",
       "      <td>23.0</td>\n",
       "      <td>-38.0</td>\n",
       "      <td>Cody Ceci</td>\n",
       "      <td>Frederik Andersen</td>\n",
       "      <td>Wrist Shot</td>\n",
       "      <td>NaN</td>\n",
       "      <td>NaN</td>\n",
       "      <td>2016</td>\n",
       "      <td>left</td>\n",
       "    </tr>\n",
       "    <tr>\n",
       "      <th>3</th>\n",
       "      <td>Shot</td>\n",
       "      <td>1</td>\n",
       "      <td>04:46</td>\n",
       "      <td>REGULAR</td>\n",
       "      <td>2016020001</td>\n",
       "      <td>Ottawa Senators</td>\n",
       "      <td>home</td>\n",
       "      <td>33.0</td>\n",
       "      <td>-15.0</td>\n",
       "      <td>Erik Karlsson</td>\n",
       "      <td>Frederik Andersen</td>\n",
       "      <td>Slap Shot</td>\n",
       "      <td>NaN</td>\n",
       "      <td>NaN</td>\n",
       "      <td>2016</td>\n",
       "      <td>left</td>\n",
       "    </tr>\n",
       "    <tr>\n",
       "      <th>4</th>\n",
       "      <td>Shot</td>\n",
       "      <td>1</td>\n",
       "      <td>06:46</td>\n",
       "      <td>REGULAR</td>\n",
       "      <td>2016020001</td>\n",
       "      <td>Toronto Maple Leafs</td>\n",
       "      <td>away</td>\n",
       "      <td>-34.0</td>\n",
       "      <td>28.0</td>\n",
       "      <td>Martin Marincin</td>\n",
       "      <td>Craig Anderson</td>\n",
       "      <td>Wrist Shot</td>\n",
       "      <td>NaN</td>\n",
       "      <td>NaN</td>\n",
       "      <td>2016</td>\n",
       "      <td>right</td>\n",
       "    </tr>\n",
       "  </tbody>\n",
       "</table>\n",
       "</div>"
      ],
      "text/plain": [
       "  eventType  period periodTime periodType      gameID        teamOfShooter  \\\n",
       "0      Shot       1      01:11    REGULAR  2016020001  Toronto Maple Leafs   \n",
       "1      Shot       1      02:53    REGULAR  2016020001      Ottawa Senators   \n",
       "2      Shot       1      04:01    REGULAR  2016020001      Ottawa Senators   \n",
       "3      Shot       1      04:46    REGULAR  2016020001      Ottawa Senators   \n",
       "4      Shot       1      06:46    REGULAR  2016020001  Toronto Maple Leafs   \n",
       "\n",
       "  homeOrAway  xCoord  yCoord          shooter             goalie    shotType  \\\n",
       "0       away   -77.0     5.0  Mitchell Marner     Craig Anderson  Wrist Shot   \n",
       "1       home    86.0    13.0      Chris Kelly  Frederik Andersen  Wrist Shot   \n",
       "2       home    23.0   -38.0        Cody Ceci  Frederik Andersen  Wrist Shot   \n",
       "3       home    33.0   -15.0    Erik Karlsson  Frederik Andersen   Slap Shot   \n",
       "4       away   -34.0    28.0  Martin Marincin     Craig Anderson  Wrist Shot   \n",
       "\n",
       "  emptyNet strength  season rinkSide  \n",
       "0      NaN      NaN    2016    right  \n",
       "1      NaN      NaN    2016     left  \n",
       "2      NaN      NaN    2016     left  \n",
       "3      NaN      NaN    2016     left  \n",
       "4      NaN      NaN    2016    right  "
      ]
     },
     "execution_count": 3,
     "metadata": {},
     "output_type": "execute_result"
    }
   ],
   "source": [
    "df.head()"
   ]
  },
  {
   "cell_type": "code",
   "execution_count": 4,
   "id": "b0a42838",
   "metadata": {},
   "outputs": [],
   "source": [
    "games = df.groupby(['season', 'periodType'])['gameID'].unique()"
   ]
  },
  {
   "cell_type": "code",
   "execution_count": 5,
   "id": "ed8f5b3b",
   "metadata": {},
   "outputs": [
    {
     "data": {
      "text/plain": [
       "MultiIndex([(2016, 'OVERTIME'),\n",
       "            (2016,  'REGULAR'),\n",
       "            (2016, 'SHOOTOUT'),\n",
       "            (2017, 'OVERTIME'),\n",
       "            (2017,  'REGULAR'),\n",
       "            (2017, 'SHOOTOUT'),\n",
       "            (2018, 'OVERTIME'),\n",
       "            (2018,  'REGULAR'),\n",
       "            (2018, 'SHOOTOUT'),\n",
       "            (2019, 'OVERTIME'),\n",
       "            (2019,  'REGULAR'),\n",
       "            (2019, 'SHOOTOUT'),\n",
       "            (2020, 'OVERTIME'),\n",
       "            (2020,  'REGULAR'),\n",
       "            (2020, 'SHOOTOUT')],\n",
       "           names=['season', 'periodType'])"
      ]
     },
     "execution_count": 5,
     "metadata": {},
     "output_type": "execute_result"
    }
   ],
   "source": [
    "games.index"
   ]
  },
  {
   "cell_type": "markdown",
   "id": "06073780",
   "metadata": {},
   "source": [
    "### Shots across the middle red line"
   ]
  },
  {
   "cell_type": "code",
   "execution_count": 6,
   "id": "749b1dc2",
   "metadata": {},
   "outputs": [
    {
     "data": {
      "text/plain": [
       "season  eventType\n",
       "2016    Shot          946\n",
       "        Goal          125\n",
       "2017    Shot         2137\n",
       "        Goal          129\n",
       "2018    Shot         2374\n",
       "        Goal          150\n",
       "2019    Shot         4278\n",
       "        Goal          374\n",
       "2020    Shot         1329\n",
       "        Goal          110\n",
       "Name: eventType, dtype: int64"
      ]
     },
     "execution_count": 6,
     "metadata": {},
     "output_type": "execute_result"
    }
   ],
   "source": [
    "df[((df['rinkSide'] == 'left') & (df['xCoord'] < 0)) | ((df['rinkSide'] == 'right') & (df['xCoord'] > 0))].groupby('season')['eventType'].value_counts()"
   ]
  },
  {
   "cell_type": "code",
   "execution_count": 7,
   "id": "da673703",
   "metadata": {},
   "outputs": [],
   "source": [
    "def normalize_df(df):\n",
    "    df_normalized = df.copy()\n",
    "    df_normalized['xCoordNorm'] = np.where(df['rinkSide'] == 'left', df['xCoord'], -1 * df['xCoord'])\n",
    "    df_normalized['yCoordNorm'] = np.where(df['rinkSide'] == 'left', df['yCoord'], -1 * df['yCoord'])\n",
    "\n",
    "    return df_normalized"
   ]
  },
  {
   "cell_type": "code",
   "execution_count": 8,
   "id": "968c807c",
   "metadata": {},
   "outputs": [],
   "source": [
    "df_normalized = normalize_df(df)"
   ]
  },
  {
   "cell_type": "code",
   "execution_count": 9,
   "id": "d92dc2f8",
   "metadata": {},
   "outputs": [
    {
     "data": {
      "application/vnd.jupyter.widget-view+json": {
       "model_id": "083c0e49c7744d78a0eb897dacb2b90a",
       "version_major": 2,
       "version_minor": 0
      },
      "text/plain": [
       "interactive(children=(IntSlider(value=2016, description='season_year', max=2020, min=2016), Dropdown(descripti…"
      ]
     },
     "metadata": {},
     "output_type": "display_data"
    }
   ],
   "source": [
    "def plot_rink_overlay(data, normalize=False, title='', marker='o', size=100, color='#ea6969', alpha=.7):\n",
    "    fig, ax = plt.subplots(figsize=(13,8.5))\n",
    "    plt.axis('on')\n",
    "\n",
    "    img = plt.imread('../figures/nhl_rink.png')\n",
    "    # rink dimensions\n",
    "    ext = [-100, 100, -42.5, 42.5]\n",
    "    plt.imshow(img, zorder=0, extent=ext, aspect=1)\n",
    "\n",
    "    # plot the points on top of the image\n",
    "    xLabel, yLabel = ('xCoordNorm', 'yCoordNorm') if normalize else ('xCoord', 'yCoord')\n",
    "    plt.scatter(data[xLabel], data[yLabel], s=size, c=color, alpha=alpha, marker=marker, label='shot')\n",
    "\n",
    "    # plot the opposing team's net\n",
    "    net_x, net_y = (89, 0) if (data['rinkSide'] == 'left') or normalize else (-89, 0)\n",
    "    plt.scatter(net_x, net_y, s=200, c='blue', alpha=alpha, marker='x', label='net')\n",
    "    plt.title(title)\n",
    "    plt.legend()\n",
    "\n",
    "\n",
    "@interact(\n",
    "    season_year=widgets.IntSlider(min=2016, max=2020, step=1),\n",
    "    season_type=['REGULAR', 'OVERTIME', 'SHOOTOUT']\n",
    ")\n",
    "def show_data(season_year, season_type):\n",
    "    season_games = games[(season_year, season_type)]\n",
    "\n",
    "    @interact(game_id=widgets.SelectionSlider(options=season_games))\n",
    "    def show_game(game_id):\n",
    "        selected_game = df_normalized[df_normalized['gameID'] == game_id]\n",
    "\n",
    "        @interact(event_id=widgets.IntSlider(min=0, max=selected_game.shape[0]-1, step=1, value=0))\n",
    "        def show_event(event_id, normalize_shots=True):\n",
    "            event = selected_game.iloc[event_id]\n",
    "            title = f\"{event['eventType']} \\t {event['shotType']} \\t {event['shooter']} -> {event['goalie']}\"\n",
    "            plot_rink_overlay(event, normalize=normalize_shots, title=title, marker='o', size=300, color='red', alpha=1)\n",
    "            print(event)\n"
   ]
  },
  {
   "cell_type": "code",
   "execution_count": null,
   "id": "fb7140ab",
   "metadata": {},
   "outputs": [],
   "source": []
  }
 ],
 "metadata": {
  "kernelspec": {
   "display_name": "ift6758-conda-env",
   "language": "python",
   "name": "ift6758-conda-env"
  },
  "language_info": {
   "codemirror_mode": {
    "name": "ipython",
    "version": 3
   },
   "file_extension": ".py",
   "mimetype": "text/x-python",
   "name": "python",
   "nbconvert_exporter": "python",
   "pygments_lexer": "ipython3",
   "version": "3.9.7"
  }
 },
 "nbformat": 4,
 "nbformat_minor": 5
}
