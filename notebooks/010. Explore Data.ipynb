{
 "cells": [
  {
   "cell_type": "code",
   "execution_count": 25,
   "id": "5ba7f728",
   "metadata": {},
   "outputs": [],
   "source": [
    "import numpy as np\n",
    "import pandas as pd\n",
    "\n",
    "from ipywidgets import interact, interactive, fixed, interact_manual\n",
    "import ipywidgets as widgets"
   ]
  },
  {
   "cell_type": "code",
   "execution_count": 5,
   "id": "59118e3b",
   "metadata": {},
   "outputs": [],
   "source": [
    "df = np.load('../data/ift6758_dfwseasons 2/all_seasons.npy', allow_pickle=True)\n",
    "df1 = np.load('../data/ift6758_dfwseasons 2/df1.npy', allow_pickle=True)\n",
    "df = pd.DataFrame(df, columns=df1[0].columns)"
   ]
  },
  {
   "cell_type": "code",
   "execution_count": 6,
   "id": "1cbb2f0b",
   "metadata": {},
   "outputs": [],
   "source": [
    "# for year in [2016, 2017, 2018, 2019, 2020]:\n",
    "#     print(year)\n",
    "#     print(np.load(f'../data/ift6758_dfwseasons 2/season_{year}.npy', allow_pickle=True))\n",
    "#     display(pd.DataFrame(np.load(f'../data/ift6758_dfwseasons 2/season_{year}.npy', allow_pickle=True)).head())"
   ]
  },
  {
   "cell_type": "code",
   "execution_count": 20,
   "id": "69bacbc7",
   "metadata": {},
   "outputs": [],
   "source": [
    "games = df.groupby(['season', 'period_type'])['gameID'].unique()"
   ]
  },
  {
   "cell_type": "code",
   "execution_count": 24,
   "id": "b65a3f5a",
   "metadata": {},
   "outputs": [
    {
     "data": {
      "text/plain": [
       "MultiIndex([('2016', 'OVERTIME'),\n",
       "            ('2016',  'REGULAR'),\n",
       "            ('2016', 'SHOOTOUT'),\n",
       "            ('2017', 'OVERTIME'),\n",
       "            ('2017',  'REGULAR'),\n",
       "            ('2017', 'SHOOTOUT'),\n",
       "            ('2018', 'OVERTIME'),\n",
       "            ('2018',  'REGULAR'),\n",
       "            ('2018', 'SHOOTOUT'),\n",
       "            ('2019', 'OVERTIME'),\n",
       "            ('2019',  'REGULAR'),\n",
       "            ('2019', 'SHOOTOUT'),\n",
       "            ('2020', 'OVERTIME'),\n",
       "            ('2020',  'REGULAR'),\n",
       "            ('2020', 'SHOOTOUT')],\n",
       "           names=['season', 'period_type'])"
      ]
     },
     "execution_count": 24,
     "metadata": {},
     "output_type": "execute_result"
    }
   ],
   "source": [
    "games.index"
   ]
  },
  {
   "cell_type": "code",
   "execution_count": 47,
   "id": "e579603f",
   "metadata": {},
   "outputs": [
    {
     "data": {
      "application/vnd.jupyter.widget-view+json": {
       "model_id": "caf25d4e29384503b89f7810b47920b5",
       "version_major": 2,
       "version_minor": 0
      },
      "text/plain": [
       "interactive(children=(Dropdown(description='year', options=(2016, 2017, 2018, 2019, 2020), value=2016), Dropdo…"
      ]
     },
     "metadata": {},
     "output_type": "display_data"
    }
   ],
   "source": [
    "@interact(year=range(2016, 2021), season_type=['OVERTIME', 'REGULAR', 'SHOOTOUT'])\n",
    "def show_data(year, season_type):\n",
    "    season_games = games[(f'{year}', season_type)]\n",
    "    \n",
    "    @interact(game_id=season_games)\n",
    "    def show_game(game_id):\n",
    "        selected_game = df[df['gameID'] == game_id]\n",
    "        \n",
    "        \n",
    "        @interact(event_id=range(0, selected_game.shape[0]))\n",
    "        def show_event(event_id):\n",
    "            print(selected_game.iloc[event_id])\n",
    "    \n"
   ]
  },
  {
   "cell_type": "code",
   "execution_count": null,
   "id": "31284184",
   "metadata": {},
   "outputs": [],
   "source": [
    "@interactu"
   ]
  }
 ],
 "metadata": {
  "kernelspec": {
   "display_name": "ift6758-conda-env",
   "language": "python",
   "name": "ift6758-conda-env"
  },
  "language_info": {
   "codemirror_mode": {
    "name": "ipython",
    "version": 3
   },
   "file_extension": ".py",
   "mimetype": "text/x-python",
   "name": "python",
   "nbconvert_exporter": "python",
   "pygments_lexer": "ipython3",
   "version": "3.9.7"
  }
 },
 "nbformat": 4,
 "nbformat_minor": 5
}
