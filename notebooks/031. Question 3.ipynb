{
 "cells": [
  {
   "cell_type": "markdown",
   "id": "82ebea70",
   "metadata": {},
   "source": [
    "# Imports"
   ]
  },
  {
   "cell_type": "code",
   "execution_count": 1,
   "id": "c7f4a81e",
   "metadata": {},
   "outputs": [],
   "source": [
    "import numpy as np\n",
    "import pandas as pd\n",
    "\n",
    "from ipywidgets import interact, interactive, fixed, interact_manual\n",
    "import ipywidgets as widgets\n",
    "\n",
    "import matplotlib.pyplot as plt"
   ]
  },
  {
   "cell_type": "code",
   "execution_count": 2,
   "id": "11044bf8",
   "metadata": {},
   "outputs": [],
   "source": [
    "df = pd.read_csv('../data/ift6758_dfwseasons 3/Allseasons.csv')"
   ]
  },
  {
   "cell_type": "markdown",
   "id": "2ff9b9b3",
   "metadata": {},
   "source": [
    "# Process Data"
   ]
  },
  {
   "cell_type": "code",
   "execution_count": 3,
   "id": "b0259398",
   "metadata": {},
   "outputs": [],
   "source": [
    "def normalize_df(df):\n",
    "    df_normalized = df.copy()\n",
    "    df_normalized['xCoordNorm'] = np.where(df['rinkSide'] == 'left', df['xCoord'], -1 * df['xCoord'])\n",
    "    df_normalized['yCoordNorm'] = np.where(df['rinkSide'] == 'left', df['yCoord'], -1 * df['yCoord'])\n",
    "\n",
    "    return df_normalized\n",
    "\n",
    "# Normalize Shot Direction\n",
    "df_normalized = normalize_df(df)\n",
    "\n",
    "\n",
    "# TODO: FIX: use 'gameType' = ['playoffs', 'season'] instead of 'periodType' \n",
    "# Grouped list of game IDs by season and game type\n",
    "games = df.groupby(['season', 'periodType'])['gameID'].unique()"
   ]
  },
  {
   "cell_type": "markdown",
   "id": "2ee05293",
   "metadata": {},
   "source": [
    "# Create Plot"
   ]
  },
  {
   "cell_type": "code",
   "execution_count": 4,
   "id": "d92dc2f8",
   "metadata": {},
   "outputs": [
    {
     "data": {
      "application/vnd.jupyter.widget-view+json": {
       "model_id": "a328f5103c544369800eb12f234f2736",
       "version_major": 2,
       "version_minor": 0
      },
      "text/plain": [
       "interactive(children=(IntSlider(value=2016, description='season_year', max=2020, min=2016), Dropdown(descripti…"
      ]
     },
     "metadata": {},
     "output_type": "display_data"
    }
   ],
   "source": [
    "def plot_one_event(event, normalize=False, title='', marker='o', size=100, color='#ea6969', alpha=.7):\n",
    "    fig, ax = plt.subplots(figsize=(13,8.5))\n",
    "    plt.axis('on')\n",
    "\n",
    "    img = plt.imread('../figures/nhl_rink.png')\n",
    "    # rink dimensions\n",
    "    ext = [-100, 100, -42.5, 42.5]\n",
    "    plt.imshow(img, zorder=0, extent=ext, aspect=1)\n",
    "\n",
    "    # plot the points on top of the image\n",
    "    xLabel, yLabel = ('xCoordNorm', 'yCoordNorm') if normalize else ('xCoord', 'yCoord')\n",
    "    plt.scatter(event[xLabel], event[yLabel], s=size, c=color, alpha=alpha, marker=marker, label='shot')\n",
    "\n",
    "    # plot the opposing team's net\n",
    "    net_x, net_y = (89, 0) if (event['rinkSide'] == 'left') or normalize else (-89, 0)\n",
    "    plt.scatter(net_x, net_y, s=200, c='blue', alpha=alpha, marker='x', label='net')\n",
    "    plt.xlabel('feet')\n",
    "    plt.ylabel('feet')\n",
    "    plt.title(title)\n",
    "    plt.legend()\n",
    "\n",
    "\n",
    "@interact(\n",
    "    season_year=widgets.IntSlider(min=2016, max=2020, step=1),\n",
    "    season_type=['REGULAR', 'OVERTIME', 'SHOOTOUT']\n",
    ")\n",
    "def show_data(season_year, season_type):\n",
    "    season_games = games[(season_year, season_type)]\n",
    "\n",
    "    @interact(game_id=widgets.SelectionSlider(options=season_games))\n",
    "    def show_game(game_id):\n",
    "        selected_game = df_normalized[df_normalized['gameID'] == game_id]\n",
    "\n",
    "        @interact(event_id=widgets.IntSlider(min=0, max=selected_game.shape[0]-1, step=1, value=0))\n",
    "        def show_event(event_id, normalize_shots=True):\n",
    "            event = selected_game.iloc[event_id]\n",
    "            title = f\"{event['eventType']} \\t {event['shotType']} \\t {event['shooter']} -> {event['goalie']}\"\n",
    "            plot_one_event(event, normalize=normalize_shots, title=title, marker='o', size=300, color='red', alpha=1)\n",
    "            print(event)\n"
   ]
  },
  {
   "cell_type": "code",
   "execution_count": null,
   "id": "729588e9",
   "metadata": {},
   "outputs": [],
   "source": []
  }
 ],
 "metadata": {
  "kernelspec": {
   "display_name": "ift6758-conda-env",
   "language": "python",
   "name": "ift6758-conda-env"
  },
  "language_info": {
   "codemirror_mode": {
    "name": "ipython",
    "version": 3
   },
   "file_extension": ".py",
   "mimetype": "text/x-python",
   "name": "python",
   "nbconvert_exporter": "python",
   "pygments_lexer": "ipython3",
   "version": "3.9.7"
  }
 },
 "nbformat": 4,
 "nbformat_minor": 5
}
