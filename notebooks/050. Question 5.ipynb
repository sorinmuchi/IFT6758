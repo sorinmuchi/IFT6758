{
 "cells": [
  {
   "cell_type": "markdown",
   "id": "71b7a9d3",
   "metadata": {},
   "source": [
    "# Imports"
   ]
  },
  {
   "cell_type": "code",
   "execution_count": 1,
   "id": "84a44e57",
   "metadata": {},
   "outputs": [],
   "source": [
    "import numpy as np\n",
    "import pandas as pd\n",
    "\n",
    "from ipywidgets import interact, interactive, fixed, interact_manual\n",
    "import ipywidgets as widgets\n",
    "\n",
    "import matplotlib.pyplot as plt\n",
    "import seaborn as sns"
   ]
  },
  {
   "cell_type": "code",
   "execution_count": 2,
   "id": "d7c1464e",
   "metadata": {},
   "outputs": [],
   "source": [
    "df = pd.read_csv('../data/ift6758_dfwseasons 4/Allseasons.csv')"
   ]
  },
  {
   "cell_type": "code",
   "execution_count": 3,
   "id": "35043c15",
   "metadata": {},
   "outputs": [
    {
     "data": {
      "text/plain": [
       "(season  gameType\n",
       " 2016    P           [Montréal Canadiens, New York Rangers, Ottawa ...\n",
       "         R           [Toronto Maple Leafs, Ottawa Senators, St. Lou...\n",
       " 2017    P           [Tampa Bay Lightning, New Jersey Devils, Bosto...\n",
       "         R           [Winnipeg Jets, Toronto Maple Leafs, Pittsburg...\n",
       " 2018    P           [Columbus Blue Jackets, Tampa Bay Lightning, B...\n",
       "         R           [Montréal Canadiens, Toronto Maple Leafs, Wash...\n",
       " 2019    P           [Philadelphia Flyers, Montréal Canadiens, Tamp...\n",
       "         R           [Ottawa Senators, Toronto Maple Leafs, St. Lou...\n",
       " 2020    P           [Pittsburgh Penguins, New York Islanders, Wash...\n",
       "         R           [Philadelphia Flyers, Pittsburgh Penguins, Chi...\n",
       " Name: teamOfShooter, dtype: object,\n",
       " array(['R', 'P'], dtype=object))"
      ]
     },
     "execution_count": 3,
     "metadata": {},
     "output_type": "execute_result"
    }
   ],
   "source": [
    "teams = df.groupby(['season', 'gameType'])['teamOfShooter'].unique()\n",
    "game_types = df['gameType'].unique()\n",
    "teams, game_types"
   ]
  },
  {
   "cell_type": "markdown",
   "id": "bd3e0f43",
   "metadata": {},
   "source": [
    "# Process Data"
   ]
  },
  {
   "cell_type": "code",
   "execution_count": 4,
   "id": "cd2b86b9",
   "metadata": {},
   "outputs": [],
   "source": [
    "def normalize_df(df):\n",
    "    df_normalized = df.copy()\n",
    "    df_normalized['xCoordNorm'] = np.where(df['rinkSide'] == 'left', df['xCoord'], -1 * df['xCoord'])\n",
    "    df_normalized['yCoordNorm'] = np.where(df['rinkSide'] == 'left', df['yCoord'], -1 * df['yCoord'])\n",
    "    return df_normalized\n",
    "\n",
    "def compute_distance(x1, y1, x2, y2):\n",
    "    return np.sqrt((x2-x1)**2 + (y2-y1)**2)\n",
    "\n",
    "\n",
    "# Normalize Shot Direction\n",
    "is_normalized = True\n",
    "df_normalized = normalize_df(df)\n",
    "\n",
    "\n",
    "# Distance from Net\n",
    "net_x, net_y = (89, 0)\n",
    "df_normalized['distance'] = df_normalized[['xCoordNorm', 'yCoordNorm']].apply(\n",
    "    lambda row: compute_distance(row['xCoordNorm'], row['yCoordNorm'], net_x, net_y),\n",
    "    axis=1\n",
    ")"
   ]
  },
  {
   "cell_type": "markdown",
   "id": "b7bbfb47",
   "metadata": {},
   "source": [
    "# Create Plot"
   ]
  },
  {
   "cell_type": "code",
   "execution_count": 5,
   "id": "453cfe5d",
   "metadata": {},
   "outputs": [],
   "source": [
    "df_normalized['shotType'] = df_normalized['shotType'].fillna('Unknown')\n",
    "shot_types = sorted(df_normalized['shotType'].unique())"
   ]
  },
  {
   "cell_type": "code",
   "execution_count": 6,
   "id": "9b6d9d17",
   "metadata": {
    "scrolled": false
   },
   "outputs": [
    {
     "data": {
      "application/vnd.jupyter.widget-view+json": {
       "model_id": "95551c6f1eb24fe28721767dab96ee2e",
       "version_major": 2,
       "version_minor": 0
      },
      "text/plain": [
       "interactive(children=(IntSlider(value=2016, description='season_year', max=2020, min=2016), Dropdown(descripti…"
      ]
     },
     "metadata": {},
     "output_type": "display_data"
    }
   ],
   "source": [
    "def plot_events_hostogram(\n",
    "    events, normalize=False, title='', marker='o', size=100, color='#ea6969', alpha=.7\n",
    "):\n",
    "    fig, ax = plt.subplots(figsize=(13,8.5))\n",
    "    plt.axis('on')\n",
    "\n",
    "    sns.histplot(\n",
    "        data=events, x=\"shotType\", hue=\"eventType\", multiple=\"stack\", shrink=.8, stat='density',\n",
    "        bins=shot_types, hue_order=['Shot', 'Goal']\n",
    "    )\n",
    "\n",
    "\n",
    "@interact(\n",
    "    season_year=widgets.IntSlider(min=2016, max=2020, step=1),\n",
    "    game_type=game_types\n",
    ")\n",
    "def show_data(season_year, game_type):\n",
    "    season_data = df_normalized[(df_normalized['season'] == season_year) & (df_normalized['gameType'] == game_type)]\n",
    "    plot_events_hostogram(season_data)\n",
    "\n"
   ]
  },
  {
   "cell_type": "code",
   "execution_count": 7,
   "id": "75897746",
   "metadata": {},
   "outputs": [
    {
     "data": {
      "text/plain": [
       "0         13.000000\n",
       "1         13.341664\n",
       "2         76.157731\n",
       "3         57.974132\n",
       "4         61.717096\n",
       "            ...    \n",
       "385071    43.863424\n",
       "385072    45.276926\n",
       "385073    46.173586\n",
       "385074    12.369317\n",
       "385075    21.633308\n",
       "Name: distance, Length: 385076, dtype: float64"
      ]
     },
     "execution_count": 7,
     "metadata": {},
     "output_type": "execute_result"
    }
   ],
   "source": [
    "df_normalized['distance']"
   ]
  },
  {
   "cell_type": "code",
   "execution_count": 60,
   "id": "17d46f5e",
   "metadata": {},
   "outputs": [
    {
     "data": {
      "text/plain": [
       "Text(0.5, 1.0, 'Goal Percentage vs Distance from Net (ft)')"
      ]
     },
     "execution_count": 60,
     "metadata": {},
     "output_type": "execute_result"
    },
    {
     "data": {
      "image/png": "[encoded data removed]",
      "text/plain": [
       "<Figure size 432x288 with 1 Axes>"
      ]
     },
     "metadata": {
      "needs_background": "light"
     },
     "output_type": "display_data"
    }
   ],
   "source": [
    "df_normalized['distance_1ft'] = df_normalized['distance'].round()\n",
    "\n",
    "df_goals_only = df_normalized[df_normalized['eventType'] == 'Goal']\n",
    "score_percentage_by_distance = (\n",
    "    df_goals_only.groupby(['distance_1ft'])['eventType'].count() / \n",
    "    df_normalized.groupby(['distance_1ft'])['eventType'].count()\n",
    ") * 100\n",
    "score_percentage_by_distance = score_percentage_by_distance.rename_axis('Distance (ft)')\n",
    "score_percentage_by_distance = score_percentage_by_distance.rename('Goal Percentage')\n",
    "\n",
    "sns.scatterplot(x=score_percentage_by_distance.index, y=score_percentage_by_distance)\n",
    "plt.title('Goal Percentage vs Distance from Net (ft)')"
   ]
  },
  {
   "cell_type": "code",
   "execution_count": 67,
   "id": "ec62ab8e",
   "metadata": {},
   "outputs": [
    {
     "data": {
      "application/vnd.jupyter.widget-view+json": {
       "model_id": "f4806910d6454ac2ac353a91c3bb5e71",
       "version_major": 2,
       "version_minor": 0
      },
      "text/plain": [
       "interactive(children=(IntSlider(value=2016, description='season_year', max=2020, min=2016), Dropdown(descripti…"
      ]
     },
     "metadata": {},
     "output_type": "display_data"
    }
   ],
   "source": [
    "def plot_events_hostogram(\n",
    "    events, season_year, normalize=False, title='', marker='o', size=100, color='#ea6969', alpha=.7\n",
    "):\n",
    "    fig, ax = plt.subplots(figsize=(13,8.5))\n",
    "    plt.axis('on')\n",
    "\n",
    "    events = events.copy()\n",
    "    events['distance_1ft'] = events['distance'].round()\n",
    "\n",
    "    events_goals_only = events[events['eventType'] == 'Goal']\n",
    "    score_percentage_by_distance = (\n",
    "        events_goals_only.groupby(['distance_1ft'])['eventType'].count() / \n",
    "        events.groupby(['distance_1ft'])['eventType'].count()\n",
    "    ) * 100\n",
    "    score_percentage_by_distance = score_percentage_by_distance.rename_axis('Distance (ft)')\n",
    "    score_percentage_by_distance = score_percentage_by_distance.rename('Goal Percentage')\n",
    "\n",
    "    sns.scatterplot(x=score_percentage_by_distance.index, y=score_percentage_by_distance)\n",
    "    plt.title(f'Goal Percentage vs Distance from Net (ft) for {season_year}')\n",
    "\n",
    "\n",
    "@interact(\n",
    "    season_year=widgets.IntSlider(min=2016, max=2020, step=1),\n",
    "    game_type=game_types,\n",
    ")\n",
    "def show_data(season_year, game_type):\n",
    "    season_data = df_normalized[(df_normalized['season'] == season_year) & (df_normalized['gameType'] == game_type)]\n",
    "    plot_events_hostogram(season_data, season_year)\n",
    "\n"
   ]
  },
  {
   "cell_type": "code",
   "execution_count": null,
   "id": "ed326a79",
   "metadata": {},
   "outputs": [],
   "source": []
  },
  {
   "cell_type": "code",
   "execution_count": null,
   "id": "0e066aa9",
   "metadata": {},
   "outputs": [],
   "source": []
  },
  {
   "cell_type": "code",
   "execution_count": null,
   "id": "86c26fac",
   "metadata": {},
   "outputs": [],
   "source": []
  },
  {
   "cell_type": "code",
   "execution_count": null,
   "id": "b0551848",
   "metadata": {},
   "outputs": [],
   "source": []
  },
  {
   "cell_type": "code",
   "execution_count": null,
   "id": "67a7e1c9",
   "metadata": {},
   "outputs": [],
   "source": []
  },
  {
   "cell_type": "code",
   "execution_count": null,
   "id": "818cec16",
   "metadata": {},
   "outputs": [],
   "source": []
  },
  {
   "cell_type": "code",
   "execution_count": null,
   "id": "a438c38e",
   "metadata": {},
   "outputs": [],
   "source": []
  },
  {
   "cell_type": "code",
   "execution_count": null,
   "id": "5d4a4ed1",
   "metadata": {},
   "outputs": [],
   "source": []
  },
  {
   "cell_type": "code",
   "execution_count": null,
   "id": "bbcbefc2",
   "metadata": {},
   "outputs": [],
   "source": []
  },
  {
   "cell_type": "code",
   "execution_count": 9,
   "id": "b3270e89",
   "metadata": {},
   "outputs": [
    {
     "data": {
      "image/png": "[encoded data removed]",
      "text/plain": [
       "<Figure size 936x612 with 1 Axes>"
      ]
     },
     "metadata": {
      "needs_background": "light"
     },
     "output_type": "display_data"
    }
   ],
   "source": [
    "fig, ax = plt.subplots(figsize=(13,8.5))\n",
    "plt.axis('on')\n",
    "\n",
    "ax = sns.violinplot(x=\"season\", y=\"distance\", hue=\"eventType\",\n",
    "                data=df_normalized, palette=\"muted\", split=True)"
   ]
  },
  {
   "cell_type": "code",
   "execution_count": null,
   "id": "ada98e43",
   "metadata": {},
   "outputs": [],
   "source": []
  },
  {
   "cell_type": "code",
   "execution_count": null,
   "id": "dbdd80e1",
   "metadata": {},
   "outputs": [],
   "source": []
  },
  {
   "cell_type": "code",
   "execution_count": 11,
   "id": "516d7cf6",
   "metadata": {},
   "outputs": [
    {
     "data": {
      "application/vnd.jupyter.widget-view+json": {
       "model_id": "281a175b5aa048db86098ba0726f5754",
       "version_major": 2,
       "version_minor": 0
      },
      "text/plain": [
       "interactive(children=(IntSlider(value=2016, description='season_year', max=2020, min=2016), Dropdown(descripti…"
      ]
     },
     "metadata": {},
     "output_type": "display_data"
    }
   ],
   "source": [
    "def plot_team_events(events, normalize=False, title='', marker='o', size=100, color='#ea6969', alpha=.7):\n",
    "    fig, ax = plt.subplots(figsize=(13,8.5))\n",
    "    plt.axis('on')\n",
    "\n",
    "    img = plt.imread('../figures/nhl_rink.png')\n",
    "    # rink dimensions\n",
    "    ext = [-100, 100, -42.5, 42.5]\n",
    "    plt.imshow(img, zorder=0, extent=ext, aspect=1)\n",
    "\n",
    "    # plot the points on top of the image\n",
    "    xLabel, yLabel = ('xCoordNorm', 'yCoordNorm') if normalize else ('xCoord', 'yCoord')\n",
    "    plt.scatter(event[xLabel], event[yLabel], s=size, c=color, alpha=alpha, marker=marker, label='shot')\n",
    "\n",
    "    # plot the opposing team's net\n",
    "    net_x, net_y = (89, 0) if (event['rinkSide'] == 'left') or normalize else (-89, 0)\n",
    "    plt.scatter(net_x, net_y, s=200, c='blue', alpha=alpha, marker='x', label='net')\n",
    "    plt.xlabel('feet')\n",
    "    plt.ylabel('feet')\n",
    "    plt.title(title)\n",
    "    plt.legend()\n",
    "\n",
    "\n",
    "@interact(\n",
    "    season_year=widgets.IntSlider(min=2016, max=2020, step=1),\n",
    "    game_type=game_types,\n",
    ")\n",
    "def show_data(season_year, game_type):\n",
    "    season_teams = teams[(season_year, game_type)]\n",
    "\n",
    "    @interact(team_name=widgets.SelectionSlider(options=season_teams))\n",
    "    def show_game(team_name):\n",
    "        selected_team = df_normalized[df_normalized['teamOfShooter'] == team_name]\n",
    "        print(selected_team)\n"
   ]
  },
  {
   "cell_type": "code",
   "execution_count": null,
   "id": "ace5eac5",
   "metadata": {},
   "outputs": [],
   "source": []
  }
 ],
 "metadata": {
  "kernelspec": {
   "display_name": "ift6758-conda-env",
   "language": "python",
   "name": "ift6758-conda-env"
  },
  "language_info": {
   "codemirror_mode": {
    "name": "ipython",
    "version": 3
   },
   "file_extension": ".py",
   "mimetype": "text/x-python",
   "name": "python",
   "nbconvert_exporter": "python",
   "pygments_lexer": "ipython3",
   "version": "3.9.7"
  }
 },
 "nbformat": 4,
 "nbformat_minor": 5
}
