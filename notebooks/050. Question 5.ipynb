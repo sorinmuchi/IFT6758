{
 "cells": [
  {
   "cell_type": "markdown",
   "id": "1d34706c",
   "metadata": {},
   "source": [
    "# Imports"
   ]
  },
  {
   "cell_type": "code",
   "execution_count": 1,
   "id": "a1e37483",
   "metadata": {},
   "outputs": [],
   "source": [
    "import numpy as np\n",
    "import pandas as pd\n",
    "\n",
    "from ipywidgets import interact, interactive, fixed, interact_manual\n",
    "import ipywidgets as widgets\n",
    "\n",
    "import matplotlib.pyplot as plt\n",
    "import seaborn as sns"
   ]
  },
  {
   "cell_type": "code",
   "execution_count": 2,
   "id": "a05238c2",
   "metadata": {},
   "outputs": [],
   "source": [
    "df = pd.read_csv('../data/ift6758_dfwseasons 4/Allseasons.csv')"
   ]
  },
  {
   "cell_type": "code",
   "execution_count": 3,
   "id": "6c6a5608",
   "metadata": {},
   "outputs": [
    {
     "data": {
      "text/plain": [
       "(season  gameType\n",
       " 2016    P           [Montréal Canadiens, New York Rangers, Ottawa ...\n",
       "         R           [Toronto Maple Leafs, Ottawa Senators, St. Lou...\n",
       " 2017    P           [Tampa Bay Lightning, New Jersey Devils, Bosto...\n",
       "         R           [Winnipeg Jets, Toronto Maple Leafs, Pittsburg...\n",
       " 2018    P           [Columbus Blue Jackets, Tampa Bay Lightning, B...\n",
       "         R           [Montréal Canadiens, Toronto Maple Leafs, Wash...\n",
       " 2019    P           [Philadelphia Flyers, Montréal Canadiens, Tamp...\n",
       "         R           [Ottawa Senators, Toronto Maple Leafs, St. Lou...\n",
       " 2020    P           [Pittsburgh Penguins, New York Islanders, Wash...\n",
       "         R           [Philadelphia Flyers, Pittsburgh Penguins, Chi...\n",
       " Name: teamOfShooter, dtype: object,\n",
       " array(['R', 'P'], dtype=object))"
      ]
     },
     "execution_count": 3,
     "metadata": {},
     "output_type": "execute_result"
    }
   ],
   "source": [
    "teams = df.groupby(['season', 'gameType'])['teamOfShooter'].unique()\n",
    "game_types = df['gameType'].unique()\n",
    "teams, game_types"
   ]
  },
  {
   "cell_type": "markdown",
   "id": "3a96a9ae",
   "metadata": {},
   "source": [
    "# Process Data"
   ]
  },
  {
   "cell_type": "code",
   "execution_count": 4,
   "id": "b475d154",
   "metadata": {},
   "outputs": [],
   "source": [
    "def normalize_df(df):\n",
    "    df_normalized = df.copy()\n",
    "    df_normalized['xCoordNorm'] = np.where(df['rinkSide'] == 'left', df['xCoord'], -1 * df['xCoord'])\n",
    "    df_normalized['yCoordNorm'] = np.where(df['rinkSide'] == 'left', df['yCoord'], -1 * df['yCoord'])\n",
    "    return df_normalized\n",
    "\n",
    "def compute_distance(x1, y1, x2, y2):\n",
    "    return np.sqrt((x2-x1)**2 + (y2-y1)**2)\n",
    "\n",
    "\n",
    "# Normalize Shot Direction\n",
    "is_normalized = True\n",
    "df_normalized = normalize_df(df)\n",
    "\n",
    "\n",
    "# Distance from Net\n",
    "net_x, net_y = (89, 0)\n",
    "df_normalized['distance'] = df_normalized[['xCoordNorm', 'yCoordNorm']].apply(\n",
    "    lambda row: compute_distance(row['xCoordNorm'], row['yCoordNorm'], net_x, net_y),\n",
    "    axis=1\n",
    ")"
   ]
  },
  {
   "cell_type": "markdown",
   "id": "096fccfe",
   "metadata": {},
   "source": [
    "# Create Plot"
   ]
  },
  {
   "cell_type": "code",
   "execution_count": 5,
   "id": "3a2ff25b",
   "metadata": {},
   "outputs": [],
   "source": [
    "# df_normalized['shotType'] = df_normalized['shotType'].fillna('Unknown')\n",
    "df_normalized = df_normalized.dropna(subset=['shotType'])\n",
    "shot_types = sorted(df_normalized['shotType'].unique())"
   ]
  },
  {
   "cell_type": "code",
   "execution_count": 6,
   "id": "fcd692b1",
   "metadata": {
    "scrolled": false
   },
   "outputs": [
    {
     "data": {
      "application/vnd.jupyter.widget-view+json": {
       "model_id": "9930ccdee7ce41ceb8d7f6388181df8b",
       "version_major": 2,
       "version_minor": 0
      },
      "text/plain": [
       "interactive(children=(IntSlider(value=2016, description='season_year', max=2020, min=2016), Dropdown(descripti…"
      ]
     },
     "metadata": {},
     "output_type": "display_data"
    }
   ],
   "source": [
    "def plot_events_histogram(\n",
    "    events, normalize=False, title='', marker='o', size=100, color='#ea6969', alpha=.7\n",
    "):\n",
    "    fig, ax = plt.subplots(figsize=(13,8.5))\n",
    "    plt.axis('on')\n",
    "\n",
    "    sns.histplot(\n",
    "        data=events, x=\"shotType\", hue=\"eventType\", multiple=\"stack\", shrink=.8, stat='density',\n",
    "        bins=shot_types, hue_order=['Shot', 'Goal']\n",
    "    )\n",
    "\n",
    "\n",
    "@interact(\n",
    "    season_year=widgets.IntSlider(min=2016, max=2020, step=1),\n",
    "    game_type=game_types\n",
    ")\n",
    "def show_data(season_year, game_type):\n",
    "    season_data = df_normalized[(df_normalized['season'] == season_year) & (df_normalized['gameType'] == game_type)]\n",
    "    plot_events_histogram(season_data)\n",
    "\n"
   ]
  },
  {
   "cell_type": "code",
   "execution_count": 7,
   "id": "27b10feb",
   "metadata": {},
   "outputs": [
    {
     "data": {
      "application/vnd.jupyter.widget-view+json": {
       "model_id": "91e20a96718b44efb48c9351e8be8d49",
       "version_major": 2,
       "version_minor": 0
      },
      "text/plain": [
       "interactive(children=(IntSlider(value=2016, description='season_year', max=2020, min=2016), Dropdown(descripti…"
      ]
     },
     "metadata": {},
     "output_type": "display_data"
    }
   ],
   "source": [
    "def plot_pct_scatterplot(\n",
    "    events, season_year, normalize=False, title='', marker='o', size=100, color='#ea6969', alpha=.7\n",
    "):\n",
    "    fig, ax = plt.subplots(figsize=(13,8.5))\n",
    "    plt.axis('on')\n",
    "\n",
    "    events = events.copy()\n",
    "    events['distance_1ft'] = events['distance'].round(-1)\n",
    "\n",
    "    events_goals_only = events[events['eventType'] == 'Goal']\n",
    "    score_percentage_by_distance = (\n",
    "        events_goals_only.groupby(['distance_1ft'])['eventType'].count() / \n",
    "        events.groupby(['distance_1ft'])['eventType'].count()\n",
    "    ) * 100\n",
    "    score_percentage_by_distance = score_percentage_by_distance.rename_axis('Distance (ft)')\n",
    "    score_percentage_by_distance = score_percentage_by_distance.rename('Goal Percentage')\n",
    "\n",
    "    sns.scatterplot(x=score_percentage_by_distance.index, y=score_percentage_by_distance)\n",
    "    plt.title(f'Goal Percentage vs Distance from Net (ft) for {season_year}')\n",
    "\n",
    "\n",
    "@interact(\n",
    "    season_year=widgets.IntSlider(min=2016, max=2020, step=1),\n",
    "    game_type=game_types,\n",
    ")\n",
    "def show_data(season_year, game_type):\n",
    "    season_data = df_normalized[(df_normalized['season'] == season_year) & (df_normalized['gameType'] == game_type)]\n",
    "    plot_pct_scatterplot(season_data, season_year)\n",
    "\n"
   ]
  },
  {
   "cell_type": "code",
   "execution_count": 15,
   "id": "3f7cb3fe",
   "metadata": {},
   "outputs": [
    {
     "data": {
      "application/vnd.jupyter.widget-view+json": {
       "model_id": "a8d7c1f7e8204d97b5cd9112300806d2",
       "version_major": 2,
       "version_minor": 0
      },
      "text/plain": [
       "interactive(children=(IntSlider(value=2016, description='season_year', max=2020, min=2016), Dropdown(descripti…"
      ]
     },
     "metadata": {},
     "output_type": "display_data"
    }
   ],
   "source": [
    "def plot_pct_by_shot_type_relplot(\n",
    "    events, season_year, normalize=False, title='', marker='o', size=100, color='#ea6969', alpha=.7\n",
    "):\n",
    "    events = events.copy()\n",
    "    events['distance_1ft'] = events['distance'].round(-1)\n",
    "\n",
    "    events_goals_only = events[events['eventType'] == 'Goal']\n",
    "    score_percentage_by_distance = (\n",
    "        events_goals_only.groupby(['distance_1ft', 'shotType'])['eventType'].count() / \n",
    "        events.groupby(['distance_1ft', 'shotType'])['eventType'].count()\n",
    "    ) * 100\n",
    "\n",
    "\n",
    "    score_percentage_by_distance = score_percentage_by_distance.reset_index().dropna()\n",
    "    score_percentage_by_distance = score_percentage_by_distance.rename(columns={\n",
    "        'eventType': 'Goal Percentage',\n",
    "        'distance_1ft': 'Distance (ft)',\n",
    "        'shotType': 'Shot Type'\n",
    "    })\n",
    "\n",
    "    sns.relplot(\n",
    "        x=score_percentage_by_distance['Distance (ft)'], \n",
    "        y=score_percentage_by_distance['Goal Percentage'], \n",
    "        col=score_percentage_by_distance['Shot Type'],\n",
    "        col_wrap=3,\n",
    "    )\n",
    "    plt.suptitle(f'Goal Pct vs Distance (ft) by Shot Type  for {season_year}', fontsize=16)\n",
    "    plt.tight_layout()\n",
    "\n",
    "\n",
    "@interact(\n",
    "    season_year=widgets.IntSlider(min=2016, max=2020, step=1),\n",
    "    game_type=game_types,\n",
    ")\n",
    "def show_data(season_year, game_type):\n",
    "    season_data = df_normalized[(df_normalized['season'] == season_year) & (df_normalized['gameType'] == game_type)]\n",
    "    plot_pct_by_shot_type_relplot(season_data, season_year)\n",
    "\n"
   ]
  },
  {
   "cell_type": "code",
   "execution_count": 12,
   "id": "9fc16e2f",
   "metadata": {},
   "outputs": [
    {
     "data": {
      "application/vnd.jupyter.widget-view+json": {
       "model_id": "ecf74055305c4c3e8cd0c2225611b24b",
       "version_major": 2,
       "version_minor": 0
      },
      "text/plain": [
       "interactive(children=(IntSlider(value=2016, description='season_year', max=2020, min=2016), Dropdown(descripti…"
      ]
     },
     "metadata": {},
     "output_type": "display_data"
    }
   ],
   "source": [
    "def plot_pct_by_shot_type_kdeplot(\n",
    "    events, season_year, normalize=False, title='', marker='o', size=100, color='#ea6969', alpha=.7\n",
    "):\n",
    "    fig, axs = plt.subplots(3,3, figsize=(13,8.5), constrained_layout=True)\n",
    "    plt.axis('on')\n",
    "    \n",
    "    events = events.copy()\n",
    "    events['distance_1ft'] = events['distance']\n",
    "\n",
    "    events_goals_only = events[events['eventType'] == 'Goal']\n",
    "    score_percentage_by_distance = (\n",
    "        events_goals_only.groupby(['distance_1ft', 'shotType'])['eventType'].count() / \n",
    "        events.groupby(['distance_1ft', 'shotType'])['eventType'].count()\n",
    "    ) * 100\n",
    "\n",
    "\n",
    "    score_percentage_by_distance = score_percentage_by_distance.reset_index().dropna()\n",
    "    score_percentage_by_distance = score_percentage_by_distance.rename(columns={\n",
    "        'eventType': 'Goal Percentage',\n",
    "        'distance_1ft': 'Distance (ft)',\n",
    "        'shotType': 'Shot Type'\n",
    "    })\n",
    "\n",
    "    shot_types = score_percentage_by_distance['Shot Type'].unique()\n",
    "    \n",
    "    for i in range(7):\n",
    "        shot_type = shot_types[i]\n",
    "        subset = score_percentage_by_distance[score_percentage_by_distance['Shot Type'] == shot_type]\n",
    "        sns.kdeplot(\n",
    "            ax=axs[int(i/3), i%3],\n",
    "            data=subset,\n",
    "            x='Distance (ft)', \n",
    "            y='Goal Percentage', \n",
    "            hue_norm=(0,100),\n",
    "            bw_adjust=.2,\n",
    "            fill=True,\n",
    "        )\n",
    "        axs[int(i/3), i%3].title.set_text(shot_type)\n",
    "    fig.suptitle(f'Goal Pct vs Distance (ft) by Shot Type', fontsize=16)\n",
    "\n",
    "\n",
    "@interact(\n",
    "    season_year=widgets.IntSlider(min=2016, max=2020, step=1),\n",
    "    game_type=game_types,\n",
    ")\n",
    "def show_data(season_year, game_type):\n",
    "    season_data = df_normalized[(df_normalized['season'] == season_year) & (df_normalized['gameType'] == game_type)]\n",
    "    plot_pct_by_shot_type_kdeplot(season_data, season_year)\n",
    "\n"
   ]
  },
  {
   "cell_type": "code",
   "execution_count": null,
   "id": "0bc8aa02",
   "metadata": {},
   "outputs": [],
   "source": []
  },
  {
   "cell_type": "code",
   "execution_count": 10,
   "id": "35e198b4",
   "metadata": {},
   "outputs": [
    {
     "data": {
      "image/png": "[encoded data removed]",
      "text/plain": [
       "<Figure size 936x612 with 1 Axes>"
      ]
     },
     "metadata": {
      "needs_background": "light"
     },
     "output_type": "display_data"
    }
   ],
   "source": [
    "fig, ax = plt.subplots(figsize=(13,8.5))\n",
    "plt.axis('on')\n",
    "\n",
    "ax = sns.violinplot(x=\"season\", y=\"distance\", hue=\"eventType\",\n",
    "                data=df_normalized, palette=\"muted\", split=True)"
   ]
  },
  {
   "cell_type": "code",
   "execution_count": 11,
   "id": "fd7bfa3b",
   "metadata": {},
   "outputs": [
    {
     "data": {
      "application/vnd.jupyter.widget-view+json": {
       "model_id": "c2d568b53c634bd6bf829fdeec91b0f1",
       "version_major": 2,
       "version_minor": 0
      },
      "text/plain": [
       "interactive(children=(IntSlider(value=2016, description='season_year', max=2020, min=2016), Dropdown(descripti…"
      ]
     },
     "metadata": {},
     "output_type": "display_data"
    }
   ],
   "source": [
    "def plot_team_events(events, normalize=False, title='', marker='o', size=100, color='#ea6969', alpha=.7):\n",
    "    fig, ax = plt.subplots(figsize=(13,8.5))\n",
    "    plt.axis('on')\n",
    "\n",
    "    img = plt.imread('../figures/nhl_rink.png')\n",
    "    # rink dimensions\n",
    "    ext = [-100, 100, -42.5, 42.5]\n",
    "    plt.imshow(img, zorder=0, extent=ext, aspect=1)\n",
    "\n",
    "    # plot the points on top of the image\n",
    "    xLabel, yLabel = ('xCoordNorm', 'yCoordNorm') if normalize else ('xCoord', 'yCoord')\n",
    "    plt.scatter(event[xLabel], event[yLabel], s=size, c=color, alpha=alpha, marker=marker, label='shot')\n",
    "\n",
    "    # plot the opposing team's net\n",
    "    net_x, net_y = (89, 0) if (event['rinkSide'] == 'left') or normalize else (-89, 0)\n",
    "    plt.scatter(net_x, net_y, s=200, c='blue', alpha=alpha, marker='x', label='net')\n",
    "    plt.xlabel('feet')\n",
    "    plt.ylabel('feet')\n",
    "    plt.title(title)\n",
    "    plt.legend()\n",
    "\n",
    "\n",
    "@interact(\n",
    "    season_year=widgets.IntSlider(min=2016, max=2020, step=1),\n",
    "    game_type=game_types,\n",
    ")\n",
    "def show_data(season_year, game_type):\n",
    "    season_teams = teams[(season_year, game_type)]\n",
    "\n",
    "    @interact(team_name=widgets.SelectionSlider(options=season_teams))\n",
    "    def show_game(team_name):\n",
    "        selected_team = df_normalized[df_normalized['teamOfShooter'] == team_name]\n",
    "        print(selected_team)\n"
   ]
  },
  {
   "cell_type": "code",
   "execution_count": null,
   "id": "5fb1e2e1",
   "metadata": {},
   "outputs": [],
   "source": []
  }
 ],
 "metadata": {
  "kernelspec": {
   "display_name": "ift6758-conda-env",
   "language": "python",
   "name": "ift6758-conda-env"
  },
  "language_info": {
   "codemirror_mode": {
    "name": "ipython",
    "version": 3
   },
   "file_extension": ".py",
   "mimetype": "text/x-python",
   "name": "python",
   "nbconvert_exporter": "python",
   "pygments_lexer": "ipython3",
   "version": "3.9.7"
  }
 },
 "nbformat": 4,
 "nbformat_minor": 5
}
