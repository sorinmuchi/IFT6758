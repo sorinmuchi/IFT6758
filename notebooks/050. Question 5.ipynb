{
 "cells": [
  {
   "cell_type": "markdown",
   "id": "249943f3",
   "metadata": {},
   "source": [
    "# Imports"
   ]
  },
  {
   "cell_type": "code",
   "execution_count": 20,
   "id": "c3305cfe",
   "metadata": {},
   "outputs": [],
   "source": [
    "import numpy as np\n",
    "import pandas as pd\n",
    "\n",
    "from ipywidgets import interact, interactive, fixed, interact_manual\n",
    "import ipywidgets as widgets\n",
    "\n",
    "import matplotlib.pyplot as plt\n",
    "import seaborn as sns"
   ]
  },
  {
   "cell_type": "code",
   "execution_count": 2,
   "id": "dbda7474",
   "metadata": {},
   "outputs": [],
   "source": [
    "df = pd.read_csv('../data/ift6758_dfwseasons 3/Allseasons.csv')"
   ]
  },
  {
   "cell_type": "code",
   "execution_count": 7,
   "id": "1a3d3bf2",
   "metadata": {},
   "outputs": [
    {
     "data": {
      "text/plain": [
       "season  periodType\n",
       "2016    OVERTIME      [Ottawa Senators, Pittsburgh Penguins, Washing...\n",
       "        REGULAR       [Toronto Maple Leafs, Ottawa Senators, St. Lou...\n",
       "        SHOOTOUT      [Washington Capitals, Pittsburgh Penguins, Ott...\n",
       "2017    OVERTIME      [St. Louis Blues, Montréal Canadiens, Buffalo ...\n",
       "        REGULAR       [Winnipeg Jets, Toronto Maple Leafs, Pittsburg...\n",
       "        SHOOTOUT      [Buffalo Sabres, Montréal Canadiens, Ottawa Se...\n",
       "2018    OVERTIME      [Toronto Maple Leafs, Pittsburgh Penguins, New...\n",
       "        REGULAR       [Montréal Canadiens, Toronto Maple Leafs, Wash...\n",
       "        SHOOTOUT      [Tampa Bay Lightning, Florida Panthers, Minnes...\n",
       "2019    OVERTIME      [Washington Capitals, Carolina Hurricanes, Mon...\n",
       "        REGULAR       [Ottawa Senators, Toronto Maple Leafs, St. Lou...\n",
       "        SHOOTOUT      [Carolina Hurricanes, Montréal Canadiens, New ...\n",
       "2020    OVERTIME      [Toronto Maple Leafs, Montréal Canadiens, New ...\n",
       "        REGULAR       [Philadelphia Flyers, Pittsburgh Penguins, Chi...\n",
       "        SHOOTOUT      [New Jersey Devils, Boston Bruins, Arizona Coy...\n",
       "Name: teamOfShooter, dtype: object"
      ]
     },
     "execution_count": 7,
     "metadata": {},
     "output_type": "execute_result"
    }
   ],
   "source": [
    "# TODO: FIX: use 'gameType' = ['playoffs', 'season'] instead of 'periodType' \n",
    "teams = df.groupby(['season', 'periodType'])['teamOfShooter'].unique()\n",
    "teams"
   ]
  },
  {
   "cell_type": "markdown",
   "id": "2ba2067d",
   "metadata": {},
   "source": [
    "# Process Data"
   ]
  },
  {
   "cell_type": "code",
   "execution_count": 65,
   "id": "2079d811",
   "metadata": {},
   "outputs": [],
   "source": [
    "def normalize_df(df):\n",
    "    df_normalized = df.copy()\n",
    "    df_normalized['xCoordNorm'] = np.where(df['rinkSide'] == 'left', df['xCoord'], -1 * df['xCoord'])\n",
    "    df_normalized['yCoordNorm'] = np.where(df['rinkSide'] == 'left', df['yCoord'], -1 * df['yCoord'])\n",
    "    return df_normalized\n",
    "\n",
    "def compute_distance(x1, y1, x2, y2):\n",
    "    return np.sqrt((x2-x1)**2 + (y2-y1)**2)\n",
    "\n",
    "\n",
    "# Normalize Shot Direction\n",
    "is_normalized = True\n",
    "df_normalized = normalize_df(df)\n",
    "\n",
    "\n",
    "# Distance from Net\n",
    "net_x, net_y = (89, 0)\n",
    "df_normalized['distance'] = df_normalized[['xCoordNorm', 'yCoordNorm']].apply(\n",
    "    lambda row: compute_distance(row['xCoordNorm'], row['yCoordNorm'], net_x, net_y),\n",
    "    axis=1\n",
    ")"
   ]
  },
  {
   "cell_type": "markdown",
   "id": "45cba3cd",
   "metadata": {},
   "source": [
    "# Create Plot"
   ]
  },
  {
   "cell_type": "code",
   "execution_count": 44,
   "id": "b69c4ca6",
   "metadata": {},
   "outputs": [],
   "source": [
    "df_normalized['shotType'] = df_normalized['shotType'].fillna('Unknown')\n",
    "shot_types = sorted(df_normalized['shotType'].unique())"
   ]
  },
  {
   "cell_type": "code",
   "execution_count": 77,
   "id": "a02ee032",
   "metadata": {
    "scrolled": false
   },
   "outputs": [
    {
     "data": {
      "application/vnd.jupyter.widget-view+json": {
       "model_id": "c8cfbe14cdcc4590800b5c6b649fe9bf",
       "version_major": 2,
       "version_minor": 0
      },
      "text/plain": [
       "interactive(children=(IntSlider(value=2016, description='season_year', max=2020, min=2016), Dropdown(descripti…"
      ]
     },
     "metadata": {},
     "output_type": "display_data"
    }
   ],
   "source": [
    "def plot_events_hostogram(\n",
    "    events, normalize=False, title='', marker='o', size=100, color='#ea6969', alpha=.7\n",
    "):\n",
    "    fig, ax = plt.subplots(figsize=(13,8.5))\n",
    "    plt.axis('on')\n",
    "\n",
    "    sns.histplot(\n",
    "        data=events, x=\"shotType\", hue=\"eventType\", multiple=\"stack\", shrink=.8, stat='density',\n",
    "        bins=shot_types, hue_order=['Shot', 'Goal']\n",
    "    )\n",
    "\n",
    "\n",
    "@interact(\n",
    "    season_year=widgets.IntSlider(min=2016, max=2020, step=1),\n",
    "    season_type=['REGULAR', 'OVERTIME', 'SHOOTOUT']\n",
    ")\n",
    "def show_data(season_year, season_type):\n",
    "    season_data = df_normalized[(df_normalized['season'] == season_year) & (df_normalized['periodType'] == season_type)]\n",
    "    plot_events_hostogram(season_data)\n",
    "\n"
   ]
  },
  {
   "cell_type": "code",
   "execution_count": 66,
   "id": "307f5a98",
   "metadata": {},
   "outputs": [
    {
     "data": {
      "text/plain": [
       "0         13.000000\n",
       "1         13.341664\n",
       "2         76.157731\n",
       "3         57.974132\n",
       "4         61.717096\n",
       "            ...    \n",
       "385071    43.863424\n",
       "385072    45.276926\n",
       "385073    46.173586\n",
       "385074    12.369317\n",
       "385075    21.633308\n",
       "Name: distance, Length: 385076, dtype: float64"
      ]
     },
     "execution_count": 66,
     "metadata": {},
     "output_type": "execute_result"
    }
   ],
   "source": [
    "df_normalized['distance']"
   ]
  },
  {
   "cell_type": "code",
   "execution_count": 67,
   "id": "15a16765",
   "metadata": {},
   "outputs": [
    {
     "data": {
      "application/vnd.jupyter.widget-view+json": {
       "model_id": "1c7e0fa709dd41cb88c1de02d5eef40e",
       "version_major": 2,
       "version_minor": 0
      },
      "text/plain": [
       "interactive(children=(IntSlider(value=2016, description='season_year', max=2020, min=2016), Dropdown(descripti…"
      ]
     },
     "metadata": {},
     "output_type": "display_data"
    }
   ],
   "source": [
    "def plot_events_hostogram(\n",
    "    events, normalize=False, title='', marker='o', size=100, color='#ea6969', alpha=.7\n",
    "):\n",
    "    fig, ax = plt.subplots(figsize=(13,8.5))\n",
    "    plt.axis('on')\n",
    "\n",
    "    ax = sns.violinplot(x=\"shotType\", y=\"distance\", hue=\"eventType\",\n",
    "                    data=events, palette=\"muted\", split=True)\n",
    "#     sns.histplot(\n",
    "#         data=events, x=\"shotType\", hue=\"eventType\", multiple=\"stack\", shrink=.8, stat='density',\n",
    "#         bins=shot_types, hue_order=['Shot', 'Goal']\n",
    "#     )\n",
    "\n",
    "\n",
    "@interact(\n",
    "    season_year=widgets.IntSlider(min=2016, max=2020, step=1),\n",
    "    season_type=['REGULAR', 'OVERTIME', 'SHOOTOUT']\n",
    ")\n",
    "def show_data(season_year, season_type):\n",
    "    season_data = df_normalized[(df_normalized['season'] == season_year) & (df_normalized['periodType'] == season_type)]\n",
    "    plot_events_hostogram(season_data)\n",
    "\n"
   ]
  },
  {
   "cell_type": "code",
   "execution_count": 76,
   "id": "484fcd6a",
   "metadata": {},
   "outputs": [
    {
     "data": {
      "image/png": "[encoded data removed]",
      "text/plain": [
       "<Figure size 936x612 with 1 Axes>"
      ]
     },
     "metadata": {
      "needs_background": "light"
     },
     "output_type": "display_data"
    }
   ],
   "source": [
    "fig, ax = plt.subplots(figsize=(13,8.5))\n",
    "plt.axis('on')\n",
    "\n",
    "ax = sns.violinplot(x=\"season\", y=\"distance\", hue=\"eventType\",\n",
    "                data=df_normalized, palette=\"muted\", split=True)"
   ]
  },
  {
   "cell_type": "code",
   "execution_count": null,
   "id": "13f771cf",
   "metadata": {},
   "outputs": [],
   "source": []
  },
  {
   "cell_type": "code",
   "execution_count": null,
   "id": "a2a47994",
   "metadata": {},
   "outputs": [],
   "source": []
  },
  {
   "cell_type": "code",
   "execution_count": 17,
   "id": "f60445c8",
   "metadata": {},
   "outputs": [
    {
     "data": {
      "application/vnd.jupyter.widget-view+json": {
       "model_id": "5c8798a9d4ef4da78fc1f0f41131cf43",
       "version_major": 2,
       "version_minor": 0
      },
      "text/plain": [
       "interactive(children=(IntSlider(value=2016, description='season_year', max=2020, min=2016), Dropdown(descripti…"
      ]
     },
     "metadata": {},
     "output_type": "display_data"
    }
   ],
   "source": [
    "def plot_team_events(events, normalize=False, title='', marker='o', size=100, color='#ea6969', alpha=.7):\n",
    "    fig, ax = plt.subplots(figsize=(13,8.5))\n",
    "    plt.axis('on')\n",
    "\n",
    "    img = plt.imread('../figures/nhl_rink.png')\n",
    "    # rink dimensions\n",
    "    ext = [-100, 100, -42.5, 42.5]\n",
    "    plt.imshow(img, zorder=0, extent=ext, aspect=1)\n",
    "\n",
    "    # plot the points on top of the image\n",
    "    xLabel, yLabel = ('xCoordNorm', 'yCoordNorm') if normalize else ('xCoord', 'yCoord')\n",
    "    plt.scatter(event[xLabel], event[yLabel], s=size, c=color, alpha=alpha, marker=marker, label='shot')\n",
    "\n",
    "    # plot the opposing team's net\n",
    "    net_x, net_y = (89, 0) if (event['rinkSide'] == 'left') or normalize else (-89, 0)\n",
    "    plt.scatter(net_x, net_y, s=200, c='blue', alpha=alpha, marker='x', label='net')\n",
    "    plt.xlabel('feet')\n",
    "    plt.ylabel('feet')\n",
    "    plt.title(title)\n",
    "    plt.legend()\n",
    "\n",
    "\n",
    "@interact(\n",
    "    season_year=widgets.IntSlider(min=2016, max=2020, step=1),\n",
    "    season_type=['REGULAR', 'OVERTIME', 'SHOOTOUT']\n",
    ")\n",
    "def show_data(season_year, season_type):\n",
    "    season_teams = teams[(season_year, season_type)]\n",
    "\n",
    "    @interact(team_name=widgets.SelectionSlider(options=season_teams))\n",
    "    def show_game(team_name):\n",
    "        selected_team = df_normalized[df_normalized['teamOfShooter'] == team_name]\n",
    "        print(selected_team)\n"
   ]
  },
  {
   "cell_type": "code",
   "execution_count": null,
   "id": "ddaec717",
   "metadata": {},
   "outputs": [],
   "source": []
  }
 ],
 "metadata": {
  "kernelspec": {
   "display_name": "ift6758-conda-env",
   "language": "python",
   "name": "ift6758-conda-env"
  },
  "language_info": {
   "codemirror_mode": {
    "name": "ipython",
    "version": 3
   },
   "file_extension": ".py",
   "mimetype": "text/x-python",
   "name": "python",
   "nbconvert_exporter": "python",
   "pygments_lexer": "ipython3",
   "version": "3.9.7"
  }
 },
 "nbformat": 4,
 "nbformat_minor": 5
}
