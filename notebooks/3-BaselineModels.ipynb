{
 "cells": [
  {
   "cell_type": "code",
<<<<<<< HEAD
   "execution_count": 6,
   "id": "d81d0ab9-6628-48a5-a9f5-a23f1a46e937",
   "metadata": {},
   "outputs": [],
   "source": [
    "# Import comet_ml at the top of your file, before sklearn!\n",
    "from comet_ml import Experiment\n",
    "import os\n",
    "from dotenv import load_dotenv\n",
    "import warnings\n",
    "\n",
    "warnings.filterwarnings(\"ignore\")\n",
    "\n",
    "load_dotenv('../.env')\n",
    "COMET_API_KEY = os.getenv('COMET_API_KEY')"
   ]
  },
  {
   "cell_type": "code",
   "execution_count": 7,
   "id": "bacfa541-ad61-46df-96e2-bf6d5270f4cd",
   "metadata": {},
   "outputs": [
    {
     "name": "stderr",
     "output_type": "stream",
     "text": [
      "COMET WARNING: As you are running in a Jupyter environment, you will need to call `experiment.end()` when finished to ensure all metrics and code are logged before exiting.\n",
      "COMET INFO: Experiment is live on comet.ml https://www.comet.ml/meriembchaaben/ift6758/574d832c9baf4197bb6afa05a7715eb7\n",
      "\n"
     ]
=======
   "execution_count": 35,
   "id": "d81d0ab9-6628-48a5-a9f5-a23f1a46e937",
   "metadata": {},
   "outputs": [
    {
     "data": {
      "text/plain": [
       "True"
      ]
     },
     "execution_count": 35,
     "metadata": {},
     "output_type": "execute_result"
>>>>>>> 40a1f265ba157a7b103411fb7b1ff7fc054c68d8
    }
   ],
   "source": [
    "from dotenv import load_dotenv\n",
    "import warnings\n",
    "\n",
    "warnings.filterwarnings(\"ignore\")\n",
    "load_dotenv('../.env')"
   ]
  },
  {
   "cell_type": "code",
<<<<<<< HEAD
   "execution_count": 1,
=======
   "execution_count": 36,
>>>>>>> 40a1f265ba157a7b103411fb7b1ff7fc054c68d8
   "id": "b9f5be06-b2bf-45f4-89ca-ccc7a602742a",
   "metadata": {},
   "outputs": [],
   "source": [
    "import pandas as pd\n",
    "import numpy as np\n",
    "import random\n",
    "from sklearn.linear_model import LogisticRegression\n",
    "from sklearn.dummy import DummyClassifier\n",
    "from sklearn.calibration import CalibrationDisplay \n",
    "from sklearn.model_selection import train_test_split\n",
    "from sklearn.metrics import roc_curve\n",
    "from sklearn.metrics import roc_auc_score\n",
    "import matplotlib.pyplot as plt"
   ]
  },
  {
   "cell_type": "code",
<<<<<<< HEAD
   "execution_count": 10,
   "id": "4cd90c7d-a74f-48ff-b4d3-50f2690f41ad",
=======
   "execution_count": 37,
   "id": "c97bc866-af1b-4e88-8ef6-e5bab21a717b",
   "metadata": {},
   "outputs": [],
   "source": [
    "pd.set_option('display.max_columns', None)"
   ]
  },
  {
   "cell_type": "code",
   "execution_count": 38,
   "id": "fb05c840-032c-458e-ac73-20f74c91c932",
   "metadata": {},
   "outputs": [
    {
     "data": {
      "text/plain": [
       "(311106, 40)"
      ]
     },
     "metadata": {},
     "output_type": "display_data"
    },
    {
     "data": {
      "text/html": [
       "<div>\n",
       "<style scoped>\n",
       "    .dataframe tbody tr th:only-of-type {\n",
       "        vertical-align: middle;\n",
       "    }\n",
       "\n",
       "    .dataframe tbody tr th {\n",
       "        vertical-align: top;\n",
       "    }\n",
       "\n",
       "    .dataframe thead th {\n",
       "        text-align: right;\n",
       "    }\n",
       "</style>\n",
       "<table border=\"1\" class=\"dataframe\">\n",
       "  <thead>\n",
       "    <tr style=\"text-align: right;\">\n",
       "      <th></th>\n",
       "      <th>index</th>\n",
       "      <th>eventType</th>\n",
       "      <th>period</th>\n",
       "      <th>periodTime</th>\n",
       "      <th>periodType</th>\n",
       "      <th>gameID</th>\n",
       "      <th>teamOfShooter</th>\n",
       "      <th>homeOrAway</th>\n",
       "      <th>xCoord</th>\n",
       "      <th>yCoord</th>\n",
       "      <th>shooter</th>\n",
       "      <th>goalie</th>\n",
       "      <th>shotType</th>\n",
       "      <th>emptyNet</th>\n",
       "      <th>strength</th>\n",
       "      <th>season</th>\n",
       "      <th>rinkSide</th>\n",
       "      <th>gameType</th>\n",
       "      <th>totalPlayTime</th>\n",
       "      <th>lastEventType</th>\n",
       "      <th>lastEventPeriod</th>\n",
       "      <th>lastEventPeriodTime</th>\n",
       "      <th>lastEventXCoord</th>\n",
       "      <th>lastEventYCoord</th>\n",
       "      <th>Goal</th>\n",
       "      <th>EmptyNet</th>\n",
       "      <th>distanceFromNet</th>\n",
       "      <th>angle</th>\n",
       "      <th>gameSeconds</th>\n",
       "      <th>lastEventGameSeconds</th>\n",
       "      <th>timeFromLastEvent</th>\n",
       "      <th>distanceFromLastEvent</th>\n",
       "      <th>rebound</th>\n",
       "      <th>lastEventAngle</th>\n",
       "      <th>changeInAngleShot</th>\n",
       "      <th>speed</th>\n",
       "      <th>timeSincePowerPlayStarted</th>\n",
       "      <th>numFriendlyNonGoalieSkaters</th>\n",
       "      <th>numOpposingNonGoalieSkaters</th>\n",
       "      <th>strength2</th>\n",
       "    </tr>\n",
       "  </thead>\n",
       "  <tbody>\n",
       "    <tr>\n",
       "      <th>0</th>\n",
       "      <td>0</td>\n",
       "      <td>Shot</td>\n",
       "      <td>1</td>\n",
       "      <td>00:51</td>\n",
       "      <td>REGULAR</td>\n",
       "      <td>2015020001</td>\n",
       "      <td>Toronto Maple Leafs</td>\n",
       "      <td>home</td>\n",
       "      <td>-55.0</td>\n",
       "      <td>6.0</td>\n",
       "      <td>Brad Boyes</td>\n",
       "      <td>Carey Price</td>\n",
       "      <td>Wrist Shot</td>\n",
       "      <td>NaN</td>\n",
       "      <td>NaN</td>\n",
       "      <td>2015</td>\n",
       "      <td>right</td>\n",
       "      <td>R</td>\n",
       "      <td>01:00:00</td>\n",
       "      <td>Hit</td>\n",
       "      <td>1</td>\n",
       "      <td>00:40</td>\n",
       "      <td>94.0</td>\n",
       "      <td>-34.0</td>\n",
       "      <td>0.0</td>\n",
       "      <td>0.0</td>\n",
       "      <td>34.525353</td>\n",
       "      <td>79.992020</td>\n",
       "      <td>51.0</td>\n",
       "      <td>40.0</td>\n",
       "      <td>11.0</td>\n",
       "      <td>154.275727</td>\n",
       "      <td>0.0</td>\n",
       "      <td>NaN</td>\n",
       "      <td>NaN</td>\n",
       "      <td>14.025066</td>\n",
       "      <td>0.0</td>\n",
       "      <td>5.0</td>\n",
       "      <td>5.0</td>\n",
       "      <td>Even</td>\n",
       "    </tr>\n",
       "    <tr>\n",
       "      <th>1</th>\n",
       "      <td>1</td>\n",
       "      <td>Shot</td>\n",
       "      <td>1</td>\n",
       "      <td>01:05</td>\n",
       "      <td>REGULAR</td>\n",
       "      <td>2015020001</td>\n",
       "      <td>Toronto Maple Leafs</td>\n",
       "      <td>home</td>\n",
       "      <td>-79.0</td>\n",
       "      <td>0.0</td>\n",
       "      <td>Nazem Kadri</td>\n",
       "      <td>Carey Price</td>\n",
       "      <td>Snap Shot</td>\n",
       "      <td>NaN</td>\n",
       "      <td>NaN</td>\n",
       "      <td>2015</td>\n",
       "      <td>right</td>\n",
       "      <td>R</td>\n",
       "      <td>01:00:00</td>\n",
       "      <td>Giveaway</td>\n",
       "      <td>1</td>\n",
       "      <td>00:58</td>\n",
       "      <td>-37.0</td>\n",
       "      <td>-28.0</td>\n",
       "      <td>0.0</td>\n",
       "      <td>0.0</td>\n",
       "      <td>10.000000</td>\n",
       "      <td>90.000000</td>\n",
       "      <td>65.0</td>\n",
       "      <td>58.0</td>\n",
       "      <td>7.0</td>\n",
       "      <td>50.477718</td>\n",
       "      <td>0.0</td>\n",
       "      <td>NaN</td>\n",
       "      <td>NaN</td>\n",
       "      <td>7.211103</td>\n",
       "      <td>0.0</td>\n",
       "      <td>5.0</td>\n",
       "      <td>5.0</td>\n",
       "      <td>Even</td>\n",
       "    </tr>\n",
       "    <tr>\n",
       "      <th>2</th>\n",
       "      <td>2</td>\n",
       "      <td>Shot</td>\n",
       "      <td>1</td>\n",
       "      <td>01:06</td>\n",
       "      <td>REGULAR</td>\n",
       "      <td>2015020001</td>\n",
       "      <td>Toronto Maple Leafs</td>\n",
       "      <td>home</td>\n",
       "      <td>-75.0</td>\n",
       "      <td>-1.0</td>\n",
       "      <td>Nazem Kadri</td>\n",
       "      <td>Carey Price</td>\n",
       "      <td>Snap Shot</td>\n",
       "      <td>NaN</td>\n",
       "      <td>NaN</td>\n",
       "      <td>2015</td>\n",
       "      <td>right</td>\n",
       "      <td>R</td>\n",
       "      <td>01:00:00</td>\n",
       "      <td>Shot</td>\n",
       "      <td>1</td>\n",
       "      <td>01:05</td>\n",
       "      <td>-79.0</td>\n",
       "      <td>0.0</td>\n",
       "      <td>0.0</td>\n",
       "      <td>0.0</td>\n",
       "      <td>14.035669</td>\n",
       "      <td>94.085617</td>\n",
       "      <td>66.0</td>\n",
       "      <td>65.0</td>\n",
       "      <td>1.0</td>\n",
       "      <td>4.123106</td>\n",
       "      <td>1.0</td>\n",
       "      <td>NaN</td>\n",
       "      <td>NaN</td>\n",
       "      <td>4.123106</td>\n",
       "      <td>0.0</td>\n",
       "      <td>5.0</td>\n",
       "      <td>5.0</td>\n",
       "      <td>Even</td>\n",
       "    </tr>\n",
       "    <tr>\n",
       "      <th>3</th>\n",
       "      <td>3</td>\n",
       "      <td>Shot</td>\n",
       "      <td>1</td>\n",
       "      <td>01:53</td>\n",
       "      <td>REGULAR</td>\n",
       "      <td>2015020001</td>\n",
       "      <td>Toronto Maple Leafs</td>\n",
       "      <td>home</td>\n",
       "      <td>-55.0</td>\n",
       "      <td>-36.0</td>\n",
       "      <td>Daniel Winnik</td>\n",
       "      <td>Carey Price</td>\n",
       "      <td>Wrist Shot</td>\n",
       "      <td>NaN</td>\n",
       "      <td>NaN</td>\n",
       "      <td>2015</td>\n",
       "      <td>right</td>\n",
       "      <td>R</td>\n",
       "      <td>01:00:00</td>\n",
       "      <td>Hit</td>\n",
       "      <td>1</td>\n",
       "      <td>01:35</td>\n",
       "      <td>-91.0</td>\n",
       "      <td>35.0</td>\n",
       "      <td>0.0</td>\n",
       "      <td>0.0</td>\n",
       "      <td>49.517674</td>\n",
       "      <td>136.636577</td>\n",
       "      <td>113.0</td>\n",
       "      <td>95.0</td>\n",
       "      <td>18.0</td>\n",
       "      <td>79.605276</td>\n",
       "      <td>0.0</td>\n",
       "      <td>NaN</td>\n",
       "      <td>NaN</td>\n",
       "      <td>4.422515</td>\n",
       "      <td>0.0</td>\n",
       "      <td>5.0</td>\n",
       "      <td>5.0</td>\n",
       "      <td>Even</td>\n",
       "    </tr>\n",
       "    <tr>\n",
       "      <th>4</th>\n",
       "      <td>4</td>\n",
       "      <td>Shot</td>\n",
       "      <td>1</td>\n",
       "      <td>02:37</td>\n",
       "      <td>REGULAR</td>\n",
       "      <td>2015020001</td>\n",
       "      <td>Toronto Maple Leafs</td>\n",
       "      <td>home</td>\n",
       "      <td>-61.0</td>\n",
       "      <td>-1.0</td>\n",
       "      <td>Joffrey Lupul</td>\n",
       "      <td>Carey Price</td>\n",
       "      <td>Tip-In</td>\n",
       "      <td>NaN</td>\n",
       "      <td>NaN</td>\n",
       "      <td>2015</td>\n",
       "      <td>right</td>\n",
       "      <td>R</td>\n",
       "      <td>01:00:00</td>\n",
       "      <td>Faceoff</td>\n",
       "      <td>1</td>\n",
       "      <td>02:32</td>\n",
       "      <td>-69.0</td>\n",
       "      <td>-22.0</td>\n",
       "      <td>0.0</td>\n",
       "      <td>0.0</td>\n",
       "      <td>28.017851</td>\n",
       "      <td>92.045408</td>\n",
       "      <td>157.0</td>\n",
       "      <td>152.0</td>\n",
       "      <td>5.0</td>\n",
       "      <td>22.472205</td>\n",
       "      <td>0.0</td>\n",
       "      <td>NaN</td>\n",
       "      <td>NaN</td>\n",
       "      <td>4.494441</td>\n",
       "      <td>0.0</td>\n",
       "      <td>5.0</td>\n",
       "      <td>5.0</td>\n",
       "      <td>Even</td>\n",
       "    </tr>\n",
       "  </tbody>\n",
       "</table>\n",
       "</div>"
      ],
      "text/plain": [
       "   index eventType  period periodTime periodType      gameID  \\\n",
       "0      0      Shot       1      00:51    REGULAR  2015020001   \n",
       "1      1      Shot       1      01:05    REGULAR  2015020001   \n",
       "2      2      Shot       1      01:06    REGULAR  2015020001   \n",
       "3      3      Shot       1      01:53    REGULAR  2015020001   \n",
       "4      4      Shot       1      02:37    REGULAR  2015020001   \n",
       "\n",
       "         teamOfShooter homeOrAway  xCoord  yCoord        shooter       goalie  \\\n",
       "0  Toronto Maple Leafs       home   -55.0     6.0     Brad Boyes  Carey Price   \n",
       "1  Toronto Maple Leafs       home   -79.0     0.0    Nazem Kadri  Carey Price   \n",
       "2  Toronto Maple Leafs       home   -75.0    -1.0    Nazem Kadri  Carey Price   \n",
       "3  Toronto Maple Leafs       home   -55.0   -36.0  Daniel Winnik  Carey Price   \n",
       "4  Toronto Maple Leafs       home   -61.0    -1.0  Joffrey Lupul  Carey Price   \n",
       "\n",
       "     shotType emptyNet strength  season rinkSide gameType totalPlayTime  \\\n",
       "0  Wrist Shot      NaN      NaN    2015    right        R      01:00:00   \n",
       "1   Snap Shot      NaN      NaN    2015    right        R      01:00:00   \n",
       "2   Snap Shot      NaN      NaN    2015    right        R      01:00:00   \n",
       "3  Wrist Shot      NaN      NaN    2015    right        R      01:00:00   \n",
       "4      Tip-In      NaN      NaN    2015    right        R      01:00:00   \n",
       "\n",
       "  lastEventType  lastEventPeriod lastEventPeriodTime  lastEventXCoord  \\\n",
       "0           Hit                1               00:40             94.0   \n",
       "1      Giveaway                1               00:58            -37.0   \n",
       "2          Shot                1               01:05            -79.0   \n",
       "3           Hit                1               01:35            -91.0   \n",
       "4       Faceoff                1               02:32            -69.0   \n",
       "\n",
       "   lastEventYCoord  Goal  EmptyNet  distanceFromNet       angle  gameSeconds  \\\n",
       "0            -34.0   0.0       0.0        34.525353   79.992020         51.0   \n",
       "1            -28.0   0.0       0.0        10.000000   90.000000         65.0   \n",
       "2              0.0   0.0       0.0        14.035669   94.085617         66.0   \n",
       "3             35.0   0.0       0.0        49.517674  136.636577        113.0   \n",
       "4            -22.0   0.0       0.0        28.017851   92.045408        157.0   \n",
       "\n",
       "   lastEventGameSeconds  timeFromLastEvent  distanceFromLastEvent  rebound  \\\n",
       "0                  40.0               11.0             154.275727      0.0   \n",
       "1                  58.0                7.0              50.477718      0.0   \n",
       "2                  65.0                1.0               4.123106      1.0   \n",
       "3                  95.0               18.0              79.605276      0.0   \n",
       "4                 152.0                5.0              22.472205      0.0   \n",
       "\n",
       "   lastEventAngle  changeInAngleShot      speed  timeSincePowerPlayStarted  \\\n",
       "0             NaN                NaN  14.025066                        0.0   \n",
       "1             NaN                NaN   7.211103                        0.0   \n",
       "2             NaN                NaN   4.123106                        0.0   \n",
       "3             NaN                NaN   4.422515                        0.0   \n",
       "4             NaN                NaN   4.494441                        0.0   \n",
       "\n",
       "   numFriendlyNonGoalieSkaters  numOpposingNonGoalieSkaters strength2  \n",
       "0                          5.0                          5.0      Even  \n",
       "1                          5.0                          5.0      Even  \n",
       "2                          5.0                          5.0      Even  \n",
       "3                          5.0                          5.0      Even  \n",
       "4                          5.0                          5.0      Even  "
      ]
     },
     "execution_count": 38,
     "metadata": {},
     "output_type": "execute_result"
    }
   ],
   "source": [
    "df = pd.read_csv('../data/trainingSet.csv')\n",
    "display(df.shape)\n",
    "df.head()"
   ]
  },
  {
   "cell_type": "code",
   "execution_count": 39,
   "id": "0e6bca86-49e1-45f5-8ade-7f2a903fd824",
>>>>>>> 40a1f265ba157a7b103411fb7b1ff7fc054c68d8
   "metadata": {},
   "outputs": [
    {
     "data": {
      "text/plain": [
       "(311086, 3)"
      ]
     },
     "metadata": {},
     "output_type": "display_data"
    },
    {
     "data": {
      "text/html": [
       "<div>\n",
       "<style scoped>\n",
       "    .dataframe tbody tr th:only-of-type {\n",
       "        vertical-align: middle;\n",
       "    }\n",
       "\n",
       "    .dataframe tbody tr th {\n",
       "        vertical-align: top;\n",
       "    }\n",
       "\n",
       "    .dataframe thead th {\n",
       "        text-align: right;\n",
       "    }\n",
       "</style>\n",
       "<table border=\"1\" class=\"dataframe\">\n",
       "  <thead>\n",
       "    <tr style=\"text-align: right;\">\n",
       "      <th></th>\n",
       "      <th>distance</th>\n",
       "      <th>angle</th>\n",
       "      <th>is_goal</th>\n",
       "    </tr>\n",
       "  </thead>\n",
       "  <tbody>\n",
       "    <tr>\n",
       "      <th>0</th>\n",
       "      <td>34.525353</td>\n",
       "      <td>79.992020</td>\n",
       "      <td>0</td>\n",
       "    </tr>\n",
       "    <tr>\n",
       "      <th>1</th>\n",
       "      <td>10.000000</td>\n",
       "      <td>90.000000</td>\n",
       "      <td>0</td>\n",
       "    </tr>\n",
       "    <tr>\n",
       "      <th>2</th>\n",
       "      <td>14.035669</td>\n",
       "      <td>94.085617</td>\n",
       "      <td>0</td>\n",
       "    </tr>\n",
       "    <tr>\n",
       "      <th>3</th>\n",
       "      <td>49.517674</td>\n",
       "      <td>136.636577</td>\n",
       "      <td>0</td>\n",
       "    </tr>\n",
       "    <tr>\n",
       "      <th>4</th>\n",
       "      <td>28.017851</td>\n",
       "      <td>92.045408</td>\n",
       "      <td>0</td>\n",
       "    </tr>\n",
       "  </tbody>\n",
       "</table>\n",
       "</div>"
      ],
      "text/plain": [
       "    distance       angle  is_goal\n",
       "0  34.525353   79.992020        0\n",
       "1  10.000000   90.000000        0\n",
       "2  14.035669   94.085617        0\n",
       "3  49.517674  136.636577        0\n",
       "4  28.017851   92.045408        0"
      ]
     },
<<<<<<< HEAD
     "execution_count": 10,
=======
     "execution_count": 39,
>>>>>>> 40a1f265ba157a7b103411fb7b1ff7fc054c68d8
     "metadata": {},
     "output_type": "execute_result"
    }
   ],
   "source": [
    "# Read and preprocess data\n",
    "df = df[['distanceFromNet', 'angle', 'Goal']]\n",
    "df = df.rename({'Goal': 'is_goal', 'distanceFromNet': 'distance'}, axis=1)\n",
    "df = df.dropna().reset_index(drop=True)\n",
    "df['is_goal'] = df['is_goal'].astype(np.int64)\n",
    "display(df.shape)\n",
    "df.head()"
   ]
  },
  {
   "cell_type": "code",
   "execution_count": 40,
   "id": "d79b4202-5aa0-414b-864f-f4fbd45a3f78",
   "metadata": {},
   "outputs": [],
   "source": [
    "X = df[['distance', 'angle']]\n",
    "y = df['is_goal'].to_numpy()\n",
    "X_train, X_val, y_train, y_val = train_test_split(X, y, test_size=0.2, random_state=123)"
   ]
  },
  {
   "cell_type": "code",
   "execution_count": 41,
   "id": "a1b0abe0-fe03-4ebe-9bb5-552a42b02bb1",
   "metadata": {},
   "outputs": [
    {
     "name": "stdout",
     "output_type": "stream",
     "text": [
      "Dataset size: 311086\n",
      "Training dataset size: 248868\n",
      "Validation dataset size: 62218\n"
     ]
    }
   ],
   "source": [
    "print(f'Dataset size: {len(X)}')\n",
    "print(f'Training dataset size: {len(X_train)}')\n",
    "print(f'Validation dataset size: {len(X_val)}')"
   ]
  },
  {
   "cell_type": "code",
   "execution_count": 42,
   "id": "c6727c92-86f7-422f-890b-f85f19509e94",
   "metadata": {},
   "outputs": [
    {
     "name": "stdout",
     "output_type": "stream",
     "text": [
      "** ALL ** Goals rate: 0.09378756999672117 - Non-goals rate: 0.9062124300032788\n",
      "** Training ** Goals rate: 0.09368822026134337 - Non-goals rate: 0.9063117797386566\n",
      "** Validation ** Goals rate: 0.09418496255103025 - Non-goals rate: 0.9058150374489697\n"
     ]
    }
   ],
   "source": [
    "# goals rate\n",
    "def goals_rate(df):\n",
    "    nb_goals = len(df[df==1])\n",
    "    nb_non_goals = len(df[df==0])\n",
    "    goals_rate = nb_goals / (nb_goals+nb_non_goals)\n",
    "    return goals_rate\n",
    "\n",
    "gr1 = goals_rate(y)\n",
    "gr2 = goals_rate(y_train)\n",
    "gr3 = goals_rate(y_val)\n",
    "\n",
    "print(f'** ALL ** Goals rate: {gr1} - Non-goals rate: {1-gr1}')\n",
    "print(f'** Training ** Goals rate: {gr2} - Non-goals rate: {1-gr2}')\n",
    "print(f'** Validation ** Goals rate: {gr3} - Non-goals rate: {1-gr3}')"
   ]
  },
  {
   "cell_type": "code",
   "execution_count": 43,
   "id": "81e24a6d-eec0-429a-a589-ac7f678f9dbc",
   "metadata": {},
   "outputs": [
    {
     "name": "stdout",
     "output_type": "stream",
     "text": [
      "***** Logistic regression (distance) *****\n",
      "Training accuracy: 0.9063117797386566\n",
      "Test accuracy: 0.9058150374489697\n"
     ]
    }
   ],
   "source": [
    "### Logistic regression on distance ###\n",
    "\n",
    "X_train1 = X_train['distance'].to_numpy().reshape(-1, 1)\n",
    "X_val1 = X_val['distance'].to_numpy().reshape(-1, 1)\n",
    "\n",
    "lr_clf1 = LogisticRegression().fit(X_train1, y_train)\n",
    "\n",
    "train_score1 = lr_clf1.score(X_train1, y_train)\n",
    "val_score1 = lr_clf1.score(X_val1, y_val)\n",
    "\n",
    "print('***** Logistic regression (distance) *****')\n",
    "print(f'Training accuracy: {train_score1}')\n",
    "print(f'Test accuracy: {val_score1}')"
   ]
  },
  {
   "cell_type": "code",
   "execution_count": 44,
   "id": "ddcbc6a1-37a9-43d4-96c8-c8e65b138545",
   "metadata": {
    "tags": []
   },
   "outputs": [
    {
     "name": "stdout",
     "output_type": "stream",
     "text": [
      "***** Logistic regression (angle) *****\n",
      "Training accuracy: 0.9063117797386566\n",
      "Test accuracy: 0.9058150374489697\n"
     ]
    }
   ],
   "source": [
    "### Logistic regression on angle ###\n",
    "\n",
    "X_train2 = X_train['angle'].to_numpy().reshape(-1, 1)\n",
    "X_val2 = X_val['angle'].to_numpy().reshape(-1, 1)\n",
    "\n",
    "lr_clf2 = LogisticRegression().fit(X_train2, y_train)\n",
    "\n",
    "train_score2 = lr_clf2.score(X_train2, y_train)\n",
    "val_score2 = lr_clf2.score(X_val2, y_val)\n",
    "\n",
    "print('***** Logistic regression (angle) *****')\n",
    "print(f'Training accuracy: {train_score2}')\n",
    "print(f'Test accuracy: {val_score2}')"
   ]
  },
  {
   "cell_type": "code",
   "execution_count": 45,
   "id": "5ec0ed06-c198-4a10-b037-4de089ac7353",
   "metadata": {},
   "outputs": [
    {
     "name": "stdout",
     "output_type": "stream",
     "text": [
      "***** Logistic regression (distance+angle) *****\n",
      "Training accuracy: 0.9063117797386566\n",
      "Test accuracy: 0.9058150374489697\n"
     ]
    }
   ],
   "source": [
    "### Logistic regression on distance + angle ###\n",
    "\n",
    "X_train3 = X_train.to_numpy().reshape(-1, 2)\n",
    "X_val3 = X_val.to_numpy().reshape(-1, 2)\n",
    "\n",
    "lr_clf3 = LogisticRegression().fit(X_train3, y_train)\n",
    "\n",
    "train_score3 = lr_clf3.score(X_train3, y_train)\n",
    "val_score3 = lr_clf3.score(X_val3, y_val)\n",
    "\n",
    "print('***** Logistic regression (distance+angle) *****')\n",
    "print(f'Training accuracy: {train_score3}')\n",
    "print(f'Test accuracy: {val_score3}')"
   ]
  },
  {
   "cell_type": "code",
   "execution_count": 46,
   "id": "17d2f79d-da41-41b0-a643-848957bff7a5",
   "metadata": {},
   "outputs": [
    {
     "name": "stdout",
     "output_type": "stream",
     "text": [
      "***** Random regression *****\n",
      "Training accuracy: 0.49923252487262326\n",
      "Test accuracy: 0.5003857404609598\n"
     ]
    }
   ],
   "source": [
    "### Random baseline ###\n",
    "random_clf = DummyClassifier(strategy=\"uniform\").fit(X_train3, y_train)\n",
    "\n",
    "train_score4 = random_clf.score(X_train3, y_train)\n",
    "val_score4 = random_clf.score(X_val3, y_val)\n",
    "\n",
    "print('***** Random regression *****')\n",
    "print(f'Training accuracy: {train_score4}')\n",
    "print(f'Test accuracy: {val_score4}')"
   ]
  },
  {
   "cell_type": "code",
   "execution_count": 47,
   "id": "b5ccec96-e8ca-4414-af0b-b01f2c5cf5cf",
   "metadata": {},
   "outputs": [
    {
     "name": "stdout",
     "output_type": "stream",
     "text": [
      "Logistic Regression (trained on distance only): ROC AUC=0.685\n",
      "Logistic Regression (trained on angle only): ROC AUC=0.507\n",
      "Logistic Regression (trained on both distance and angle): ROC AUC=0.685\n",
      "Random: ROC AUC=0.500\n"
     ]
    },
    {
     "data": {
      "image/png": "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\n",
      "text/plain": [
       "<Figure size 432x432 with 1 Axes>"
      ]
     },
     "metadata": {
      "needs_background": "light"
     },
     "output_type": "display_data"
    }
   ],
   "source": [
    "### ROC curve - AUC metric ###\n",
    "\n",
    "lr_probs1 = lr_clf1.predict_proba(X_val1[:, :])[:,1]\n",
    "lr_probs2 = lr_clf2.predict_proba(X_val2[:, :])[:,1]\n",
    "lr_probs3 = lr_clf3.predict_proba(X_val3[:, :])[:,1]\n",
    "random_probs = random_clf.predict_proba(X_val3[:, :])[:,1]\n",
    "\n",
    "\n",
    "lr_auc1 = roc_auc_score(y_val, lr_probs1)\n",
    "lr_auc2 = roc_auc_score(y_val, lr_probs2)\n",
    "lr_auc3 = roc_auc_score(y_val, lr_probs3)\n",
    "random_auc = roc_auc_score(y_val, random_probs)\n",
    "\n",
    "print('Logistic Regression (trained on distance only): ROC AUC=%.3f' % (lr_auc1))\n",
    "print('Logistic Regression (trained on angle only): ROC AUC=%.3f' % (lr_auc2))\n",
    "print('Logistic Regression (trained on both distance and angle): ROC AUC=%.3f' % (lr_auc3))\n",
    "print('Random: ROC AUC=%.3f' % (random_auc))\n",
    "\n",
    "lr_fpr1, lr_tpr1, _ = roc_curve(y_val, lr_probs1)\n",
    "lr_fpr2, lr_tpr2, _ = roc_curve(y_val, lr_probs2)\n",
    "lr_fpr3, lr_tpr3, _ = roc_curve(y_val, lr_probs3)\n",
    "random_fpr, random_tpr, _ = roc_curve(y_val, random_probs)\n",
    "\n",
    "plt.figure(figsize=(6, 6))\n",
    "\n",
    "plt.plot(lr_fpr1, lr_tpr1, linestyle='-.', label='Logistic Regression (distance)')\n",
    "plt.plot(lr_fpr2, lr_tpr2, linestyle='-', label='Logistic Regression (angle)')\n",
    "plt.plot(lr_fpr3, lr_tpr3, linestyle=':', label='Logistic Regression (distance + angle)')\n",
    "plt.plot(random_fpr, random_tpr, linestyle='--', marker='.', label='Random')\n",
    "\n",
    "\n",
    "plt.xlabel('False Positive Rate')\n",
    "plt.ylabel('True Positive Rate')\n",
    "plt.legend()\n",
    "\n",
    "plt.savefig('../figures/3-roc.png')\n",
    "\n",
    "plt.show()"
   ]
  },
  {
   "cell_type": "code",
   "execution_count": 74,
   "id": "9f3f168e-7a54-44d1-b784-3a706123b8e4",
   "metadata": {
    "tags": []
   },
   "outputs": [
    {
     "data": {
      "image/png": "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\n",
      "text/plain": [
       "<Figure size 432x432 with 1 Axes>"
      ]
     },
     "metadata": {
      "needs_background": "light"
     },
     "output_type": "display_data"
    }
   ],
   "source": [
    "### goal_rate = F(shot probability model percentile) ###\n",
    "def compute_goal_rate_per_percentile(probs, y):\n",
    "    percentiles = []\n",
    "    rates = []\n",
    "\n",
    "    for i in range(0, 101):\n",
    "        percentile = np.percentile(probs, i)\n",
    "        r_percentile = round(percentile, 2)\n",
    "        goals = 0\n",
    "        no_goals = 0\n",
    "        for idx, p in enumerate(probs):\n",
    "#             if p<=percentile:\n",
    "            if round(p, 2)==r_percentile:\n",
    "                if y[idx]==1:\n",
    "                    goals+=1\n",
    "                else:\n",
    "                    no_goals+=1\n",
    "        rate = goals *100 / (goals + no_goals)\n",
    "        percentiles.append(percentile)\n",
    "        rates.append(rate)\n",
    "    return percentiles, rates\n",
    "\n",
    "\n",
    "percentiles1, rates1 = compute_goal_rate_per_percentile(lr_probs1, y_val)\n",
    "percentiles2, rates2 = compute_goal_rate_per_percentile(lr_probs2, y_val)\n",
    "percentiles3, rates3 = compute_goal_rate_per_percentile(lr_probs3, y_val)\n",
    "percentiles4, rates4 = compute_goal_rate_per_percentile(random_probs, y_val)\n",
    "\n",
    "plt.figure(figsize=(6, 6))\n",
    "\n",
    "plt.plot(percentiles1, rates1, linestyle='-.', label='Logistic Regression (distance)')\n",
    "plt.plot(percentiles2, rates2, linestyle='-', label='Logistic Regression (angle)')\n",
    "plt.plot(percentiles3, rates3, linestyle=':', label='Logistic Regression (distance+angle)')\n",
    "plt.plot(percentiles4, rates4, linestyle='--', label='Random')\n",
    "\n",
    "plt.xlabel('Shot probability model percentile')\n",
    "plt.ylabel('Goal rate')\n",
    "plt.legend()\n",
    "plt.ylim([0, 100])\n",
    "plt.xlim([0, 1])\n",
    "plt.title('Goal rate')\n",
    "\n",
    "plt.savefig('../figures/3-goal_rate_percentile_1.png')\n",
    "\n",
    "plt.show()"
   ]
  },
  {
   "cell_type": "code",
   "execution_count": 75,
   "id": "6aea6515-c396-414f-87d8-8a3786a05a91",
   "metadata": {},
   "outputs": [
    {
     "data": {
      "image/png": "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\n",
      "text/plain": [
       "<Figure size 432x432 with 1 Axes>"
      ]
     },
     "metadata": {
      "needs_background": "light"
     },
     "output_type": "display_data"
    }
   ],
   "source": [
    "### cumulative portion of goals = F(shot probability model percentile) ###\n",
    "\n",
    "def compute_cumulative_propotion_of_goals_per_percentile(probs, y):\n",
    "    percentiles = []\n",
    "    cum_rates = []\n",
    "    cum_rate = 0\n",
    "    total_goals = sum(y)\n",
    "    cum_goals = 0\n",
    "    for i in range(0, 101):\n",
    "        percentile = np.percentile(probs, i)\n",
    "        for idx, p in enumerate(probs):\n",
    "            if p<=percentile:\n",
    "                if y[idx]==1:\n",
    "                    cum_goals+=1 \n",
    "        cum_rate = cum_goals * 100 / total_goals\n",
    "        percentiles.append(percentile)\n",
    "        cum_rates.append(cum_rate)\n",
    "    return percentiles, cum_rates\n",
    "\n",
    "\n",
    "percentiles1, rates1 = compute_cumulative_propotion_of_goals_per_percentile(lr_probs1, y_val)\n",
    "percentiles2, rates2 = compute_cumulative_propotion_of_goals_per_percentile(lr_probs2, y_val)\n",
    "percentiles3, rates3 = compute_cumulative_propotion_of_goals_per_percentile(lr_probs3, y_val)\n",
    "percentiles4, rates4 = compute_cumulative_propotion_of_goals_per_percentile(random_probs, y_val)\n",
    "\n",
    "plt.figure(figsize=(6, 6))\n",
    "\n",
    "plt.plot(percentiles1, rates1, linestyle='-.', label='Logistic Regression (distance)')\n",
    "plt.plot(percentiles2, rates2, linestyle='-', label='Logistic Regression (angle)')\n",
    "plt.plot(percentiles3, rates3, linestyle=':', label='Logistic Regression (distance+angle)')\n",
    "plt.plot(percentiles4, rates4, linestyle='--', label='Random')\n",
    "\n",
    "plt.xlabel('Shot probability model percentile')\n",
    "plt.ylabel('Cumulative proportion of goals')\n",
    "plt.legend(loc='lower right')\n",
    "plt.ylim([0, 100])\n",
    "plt.xlim([0, 1])\n",
    "plt.title('Cumulative proportion of goals')\n",
    "\n",
    "plt.savefig('../figures/3-goal_rate_percentile_2.png')\n",
    "\n",
    "plt.show()"
   ]
  },
  {
   "cell_type": "code",
   "execution_count": null,
   "id": "7dd2703c-24cb-483a-a2ac-df1b162a5ff1",
   "metadata": {},
   "outputs": [],
   "source": []
  },
  {
   "cell_type": "code",
   "execution_count": 58,
   "id": "8b756c6c-a0f9-4c8b-8b5c-f14b4eb29b0c",
   "metadata": {},
   "outputs": [
    {
     "data": {
      "image/png": "iVBORw0KGgoAAAANSUhEUgAAAYIAAAFzCAYAAAAzNA41AAAAOXRFWHRTb2Z0d2FyZQBNYXRwbG90bGliIHZlcnNpb24zLjMuNCwgaHR0cHM6Ly9tYXRwbG90bGliLm9yZy8QVMy6AAAACXBIWXMAAAsTAAALEwEAmpwYAABLe0lEQVR4nO3deZzN9f7A8dd7xjB2imQpy/1ZmjGDDCKyZKmsJZXcLN2SrN26kRtS6kapUMqtLkpulFSSm1Ik0tVYm4hkiyTrMMaY7f3745w59wxnZs4wZ74zc97Px+M85nz39/fMzHl/P9/l/RFVxRhjTPAKcToAY4wxzrJEYIwxQc4SgTHGBDlLBMYYE+QsERhjTJCzRGCMMUGumNMB5FalSpW0Vq1aTodhjDGFyoYNG46qamVf0wpdIqhVqxaxsbFOh2GMMYWKiOzLapqdGjLGmCBnicAYY4KcJQJjjAlyhe4agS8pKSkcOHCApKQkp0MxJiiEh4dTo0YNwsLCnA7F5IEikQgOHDhA2bJlqVWrFiLidDjGFGmqyrFjxzhw4AC1a9d2OhyTB4rEqaGkpCQuv/xySwLG5AMR4fLLL7cWeBFSJBIBYEnAmHxk/29FS5FJBE4LDQ2lcePGNGzYkD59+pCYmJir5R999FEiIyN59NFHc73tf/zjH5mGy5Qpk+t1+GvixIlMnToVgAkTJrBixQrA9XzH0aNHL3q9mzdvZtmyZblerl27dvZciTGXyBJBHilZsiSbN28mLi6O4sWLM2vWLL+WS01NBeCf//wnGzdu5Pnnn8/1ts9PBPnlqaeeomPHjn7Pn7GvvlxsIjDGXLqAJQIRmS0if4hIXBbTRURmiMguEdkqItcGKpb81qZNG3bt2sWZM2e49957adasGU2aNOHjjz8GYO7cufTp04fu3bvTuXNnevTowZkzZ2jRogULFy7kyJEj9O7dm2bNmtGsWTPWrl0LQEJCAoMGDSIqKoro6Gg++OADHnvsMc6ePUvjxo3p169fpjjuuecezzYB+vXrx5IlSy6I97nnniMqKopGjRrx2GOPAfDGG2/QrFkzGjVqRO/evX22cAYOHMiiRYs8w88//zzNmzenefPm7Nq1yzPPww8/TPv27RkzZgzr16+nVatWNGnShFatWrFjxw6Sk5OZMGECCxcupHHjxixcuDDLz+7s2bPcddddREdHc+edd3L27NlL+VUZY8B1B0AgXsANwLVAXBbTbwH+AwhwHfBff9bbtGlTPd+2bdsyDbdt21bnzJmjqqrJycnatm1bnTdvnqqqnjlzRtu2basLFixQVdWTJ09q27Zt9YMPPlBV1SNHjmjbtm11yZIlqqp66NChC7bnS+nSpVVVNSUlRXv06KGvvvqqjh071rPdEydOaN26dTUhIUHnzJmj1atX12PHjl2wvKpq37599ZtvvlFV1X379mmDBg1UVXX06NE6atQoz3zHjx+/YFnv4VWrVmnPnj09+1mrVi1NSUnJNO+yZcu0ZcuWeubMGVVVT0xHjx71zPP444/rjBkzVFX1iSee0Oeff15VVQcMGKDvv/++qqrWrFlTn376aVVVfeutt7Rr166eebp27aqpqamqqhofH++J4YsvvtDbbrtNVVXnzJmjw4YN82wzq8/uhRde0EGDBqmq6pYtWzQ0NFS///57Nfnv/P87U7ABsZrF92rAbh9V1dUiUiubWXoCb7sD/E5EKohIVVU9FKiYAinjqBxcLYK//OUvtGrViiVLlnjOqSclJbF//34AOnXqxGWXXeZzXStWrGDbtm2e4VOnTnH69GlWrFjBggULPOMrVqyYbUxt27Zl2LBh/PHHHyxevJjevXtTrFjmX/mKFSsYNGgQpUqVAvDEFBcXx7hx4zh58iQJCQl06dIlx8+gb9++np9//etfPeP79OlDaGgoAPHx8QwYMICff/4ZESElJcXnuj7//HOfn93q1asZOXIkANHR0URHR+cYlzEme04+R1Ad+NVr+IB73AWJQEQGA4MBrr766hxXvGrVKs/7sLCwTMOlSpXKNFy+fPlMw5UqVco0fOWVV+a4PfjfNQJvqsoHH3xA/fr1M43/73//S+nSpbNcV3p6OuvWraNkyZIXrC+3d2vcc889zJ8/nwULFjB79uwLpme1zoEDB/LRRx/RqFEj5s6dm+kzyYr3erzfe+/r+PHjad++PR9++CF79+6lXbt2PteV1Wd3/rqNMZfOyYvFvv6b1deMqvq6qsaoakzlyj6rqBZIXbp04eWXX844FcamTZv8Wq5z58688sornuGMBHP++BMnTgCuZJfVkfXAgQOZNm0aAJGRkT63NXv2bM81gOPHjwNw+vRpqlatSkpKCvPnz/cr7oULF3p+tmzZ0uc88fHxVK9eHXBdK8lQtmxZTp8+7RnO6rO74YYbPPHExcWxdetWv2IzprBavHjxJd2R5w8nE8EB4Cqv4RrAbw7FEhDjx48nJSWF6OhoGjZsyPjx4/1absaMGcTGxhIdHU1ERITnDqRx48Zx4sQJGjZsSKNGjVi5ciUAgwcPJjo6+oKLxQBVqlThmmuuYdCgQT63ddNNN9GjRw9iYmJo3Lix51TMpEmTaNGiBZ06daJBgwZ+xX3u3DlatGjB9OnTeemll3zOM3r0aMaOHcv1119PWlqaZ3z79u3Ztm2b52JxVp/dgw8+SEJCAtHR0Tz33HM0b97cr9iMKYwOHz7MPffcw1NPPRXQ7UjGEVdAVu66RrBUVRv6mNYVGI7ronELYIaq5vhfHRMTo+ffN759+3auueaaPIm5qElMTCQqKoqNGzdSvnx5p8MxRYj93+WP9evXEx0dTXh4+CWtR0Q2qGqMr2mBvH30XWAdUF9EDojIX0RkiIgMcc+yDNgN7ALeAIYGKpZgtWLFCho0aMCIESMsCRhTiEybNo1PPvkEgObNm19yEshJIO8a6pvDdAWGBWr7Bjp27Oi5S8kYUzgkJyfz73//m3r16tG9e/d82WaRqD5qjDGFXcY9/cWLF+eLL77I9s7CvGYlJowxpgAYP348/fv3Jy0tjfLly1/wzE8gWSIwxpgCoHTp0pQqVcqR52Ts1JAxxjhEVTl8+DBXXnklY8eOvaiHRvOCtQjySF6Ufo6NjfWUT/Bl7969/Pvf//Z7/vO1a9eO+vXr06hRI5o1a3bBk9BOWrJkCZMnT86TdZ09e5a2bdtmek4hg3ehvPvuuy9TKY/zzZ07l99+y79HW/72t7/x1Vdf5dv2jPPGjh1LTEwMR44cAZx7aj5oWwQxT3/B0YRkKpUpTuy4Tk6HA0BMTAwxMT5v8wX+lwjuvvtuv+b3Zf78+cTExDBnzhweffRRvvjii0uKGSAtLc1TS+hi9ejRgx49elxyLACzZ8/mtttuyzGmN998M9vpc+fOpWHDhlSrVi1P4srJiBEjuP/+++nQoUO+bM84r1+/fpQpU4ZKlSo5GkfQtgiOJiRn+hkImzdv5rrrriM6Oppbb73VUxLi+++/Jzo6mpYtW/Loo4/SsKHrebtVq1bRrVs3AL7++msaN25M48aNadKkCadPn+axxx7jm2++oXHjxrz00kuZ5vdVojo7LVu25ODBgwBZlnxOTEzkjjvu8JR8btGihacTmDJlyjBhwgRatGjBunXreOedd2jevDmNGzfmgQceIC0tjbS0NAYOHEjDhg2JioryPG08Y8YMIiIiiI6O5q677gJcX7rDhw8HYN++fdx4441ER0dz4403em6BHThwICNHjqRVq1bUqVMnUwlsb/Pnz6dnz56Aq+k9fPhwIiIi6Nq1K3/88YdnvoxObXzFuWjRImJjY+nXrx+NGzfm7NmzPPXUUzRr1oyGDRsyePBgT/mLdu3aMWbMGJo3b069evX45ptvAFeC/Nvf/ub5nbz88ssAbNiwgbZt29K0aVO6dOnCoUOu8lo1a9bk2LFj/P7779n+7kzhlpqayvLlywGIiopi3LhxjtfPKnItgic/+ZFtv53KcvrGfSdISVcEV2EjAWo99ilhIcK1NX1X84yoVo4nul9Ypycn/fv35+WXX6Zt27ZMmDCBJ598kmnTpjFo0CBef/11WrVq5an/f76pU6cyc+ZMrr/+ehISEggPD2fy5MlMnTqVpUuXApmL602aNIny5cvzww8/AP+rQ5SVzz77jF69egHwzDPP0KFDB2bPns3Jkydp3rw5HTt25LXXXqNixYps3bqVuLg4T3VVcCWPhg0b8tRTT7F9+3amTJnC2rVrCQsLY+jQocyfP5/IyEgOHjxIXJyrS4qTJ08CMHnyZPbs2UOJEiU847wNHz6c/v37M2DAAGbPns3IkSP56KOPADh06BBr1qzhp59+okePHtx+++2Zlk1OTmb37t3UqlULgA8//JAdO3bwww8/cPjwYSIiIrj33nszLbN58+YL4qxQoQKvvPIKU6dO9bS6hg8fzoQJEwBXMb+lS5d67vNOTU1l/fr1LFu2jCeffJIVK1bw+uuvs2fPHjZt2kSxYsU4fvw4KSkpjBgxgo8//pjKlSuzcOFCHn/8cU9BwGuvvZa1a9fSu3fvbH9/pvB6+eWXefjhh9m0aVOm/yknFblEkJOUdNdRXEZhDT1vfF6Jj4/n5MmTtG3bFoABAwbQp08fTp48yenTp2nVqhUAd999t+eL3dv111/Pww8/TL9+/bjtttuoUaNGttvzt0R1v379OHPmDGlpaWzcuBHIuuTzmjVrGDVqFAANGzbMVPI5NDTU82X15ZdfsmHDBpo1awa4ztFfccUVdO/end27dzNixAi6du1K586dATx1kXr16uVJRt7WrVvH4sWLAdcX7ujRoz3TevXqRUhICBERERw+fPiCZY8ePUqFChU8w6tXr6Zv376EhoZSrVo1n6dd6tSp4zPO861cuZLnnnuOxMREjh8/TmRkpCcR3HbbbQA0bdqUvXv3Aq7fyZAhQzy3AV522WXExcURFxdHp06u05FpaWlUrVrVs40rrrgiX69LmPw3dOhQatasWWCSABTBRJDTkXvGtYHixUJITk33/KxUpjgLH/BdMTMv+Vvb6bHHHqNr164sW7aM6667ztM3cHbr9ad5OX/+fE9PZMOGDWPx4sVZlnzOLtbw8HDPOXhVZcCAATz77LMXzLdlyxaWL1/OzJkzee+995g9ezaffvopq1evZsmSJUyaNIkff/wx25i996tEiRLZxleyZEmSkpKyXN6XihUr+ozTW1JSEkOHDiU2NparrrqKiRMnZtpORlyhoaGeLjl9/U5UlcjISNatW+czlqSkpAvKj5vCLykpiaeffpqxY8dSunRpz4FDQRF01whix3Vi7+SuJKemA5Ccms7eyV3z/IJx+fLlqVixoud88bx582jbti0VK1akbNmyfPfddwCZjuK9/fLLL0RFRTFmzBhiYmL46aefLijV7C2rEtW+hIWF8fTTT/Pdd9+xffv2LEs+t27dmvfeew+Abdu2eU47ne/GG29k0aJFnvPvx48fZ9++fRw9epT09HR69+7NpEmT2LhxI+np6fz666+0b9+e5557ztPxjbdWrVp5Ppf58+fTunXrLPflfBUrViQtLc3zJX3DDTewYMEC0tLSOHTokKdiqzdfcULm0tgZ66tUqRIJCQlZXp/w1rlzZ2bNmuVJDMePH6d+/focOXLEkwhSUlIyJcKdO3d6rhmZouPbb79lypQpOR7QOaXItQj8ValMcc9dQ3khMTEx0+mbhx9+mLfeeoshQ4aQmJhInTp1mDNnDgD/+te/uP/++yldujTt2rXzWRBu2rRprFy5ktDQUCIiIrj55psJCQmhWLFiNGrUiIEDB9KkSRPP/OPGjWPYsGE0bNiQ0NBQnnjiiWyPOkqWLMkjjzzC1KlTeeWVV3jooYeIjo5GValVqxZLly5l6NChDBgwgOjoaJo0aUJ0dLTPWCMiInj66afp3Lkz6enphIWFMXPmTEqWLMmgQYNIT3cl3WeffZa0tDT+/Oc/Ex8fj6ry17/+NdOpHHBdTL733nt5/vnnqVy5sudz81fnzp1Zs2YNHTt25NZbb+Wrr74iKiqKevXqeU7VeTt48OAFcYLr4vSQIUMoWbIk69at4/777ycqKopatWp5ToNl57777mPnzp1ER0cTFhbG/fffz/Dhw1m0aBEjR44kPj6e1NRUHnroISIjI0lJSWHXrl25vhPMFHwdOnRgx44d1KlTx+lQfMuqD8uC+vKnz+KC7vTp0573zz77rI4cOdLBaLKWmpqqZ8+eVVXVXbt2ac2aNfXcuXMOR5WzjRs36p///Genw8i1xYsX67hx45wOw2+F7f8uv506dUpvueUW/fbbb50ORVUd6rPYZO3TTz/l2WefJTU1lZo1a2bqqasgSUxMpH379qSkpKCqvPbaaxQvnjctqEBq0qQJ7du3z5PnG/JTamoqjzzyiNNhmDxy5swZ9uzZw4EDB5wOJUcB7ZgmEKxjGmMKBvu/8y0hIYHSpUsjIqSkpBAWFuZ0SIBDHdMYY0ywOX36NG3atOHxxx8HKDBJICeWCIwxJo+UKVOGDh06+LwpoSCzawTGGHOJfvvtN0JCQrjyyit54YUXnA4n1ywRGGPMJUhPT6dbt24UL16cdevWOV436GLYqaE8YmWoL01+laG+FN5F/rLyww8/MHDgwDzdrinYQkJCePHFF3nppZcKZRKAYE4Ep3+HOTfD6Qvr1TglJiaGGTNmZDn9/ESQ0/y+zJ8/ny1btjB06FAeffTRi47VW1584fbo0SPLAny55W8Z6kCIioriwIEDnoqppujatWsXS5YsAVwHWS1bBr5ETaAEbyL4+jnY/x18PSVgm7Ay1M6XoU5ISODGG2/k2muvJSoqyrNve/fu5ZprruH+++8nMjKSzp07c/bs2Wx/P96y+swAunfvnmXpEFN0/P3vf2fIkCGcOXPG6VAuXVZPmhXUV45PFi8bozr7lqxfE8urPlHuwtfE8lkvs2xMjk/tlS5d+oJxUVFRumrVKlVVHT9+vI4aNUpVVSMjI3Xt2rWqqjpmzBiNjIxUVdWVK1dq165dVVW1W7duumbNGlV1PYmckpKSafr5848ePdqzflXV48ePXxBP27Zt9fvvv1dV1ZdeeknHjh2rqqpjx47VefPmqarqiRMntG7dupqQkKDPP/+8Dh48WFVVf/jhBw0NDfUsD+jChQs9n3+3bt00OTlZVVUffPBBfeuttzQ2NlY7duzo2f6JEydUVbVq1aqalJSUadycOXN02LBhnn2fO3euqqr+61//0p49e6qq6oABA/T222/XtLQ0/fHHH/VPf/rTBft47tw5rVKlimc4JSVF4+PjVVX1yJEj+qc//UnT09N1z549Ghoaqps2bVJV1T59+ng+A39+P1l9Zqqqa9as0W7dul0QW1ET7E8Wx8fH6/bt250Ow29k82Rx8LUIqjWDUpVB3LsuIVC6MlTPuXZMbvgqQ7169WqfZah9yShDPWPGDE6ePOkpZZyVFStWMGzYMM9wdmWoa9SowZQpUxgxYgTgKkM9efJkGjduTLt27TKVoc44Yve3DHXjxo358ssv2b17d6byzp999hnlypUD/leG+p133vG5X+vWrfN8Lvfccw9r1qzxTMttGWpV5e9//zvR0dF07NiRgwcPeparXbu2pxRwRvlof38/WX1mYKWki7ItW7YwePBgUlNTKVeuHA0aNHA6pDxR9O4autmPC46f/BU2zoVi4ZCWDNf0gG4vBjw0sDLU+V2Gev78+Rw5coQNGzYQFhZGrVq1PNO91xUaGsrZs2f9/v1k9ZmBlZIuytauXctnn33G77//nmMfIYVJ8LUIAM78AU0HwX0rXD8T8v6CsZWhLhhlqOPj47niiisICwtj5cqV7Nu3L8fl/fn9ZPWZgZWSLooySokPHTqUuLi4IpUEoCi2CPxx1/z/vc+jloCVoS6YZaj79etH9+7diYmJoXHjxn415f35/YwfP97nZwaunsy6du2aq5hNwbV27VoGDRrEJ598Qv369T2nOIuUrC4eFNSXlaHOP8FahvpSfj9JSUnaokULTUlJuejtFxaF7f/uYm3fvl3btm2rBw4ccDqUS4KVoS5YrAx1YF1qGepL+f3s37+fyZMn53hx3xR8+/bto2bNmjRo0ICVK1cW2ofF/GFlqI0xF6Uo/9/FxsbSunVr3njjDe655x6nw8kTVobaGGNyoVGjRjzyyCNBc63HEoExxrgtX76cU6dOERYWxjPPPMNll13mdEj5whKBMcbgKiXds2dPnnjiCadDyXd2RcsYY4Bq1arx6aefct111zkdSr6zFkEesTLUlya/ylAPHDjQU6zuvvvuY9u2bVmuZ+7cuUW2VIR3kb+sLF26NCiOjt98801WrVoFuB6OLF26tLMBOSAoE0FiSiLTN06n1butmLFxBmdTzzodEmBlqPO7DPWbb75JREREltOdTAS1atVyZLveunbtypIlS0hMTHQ6lIA5d+4cL730ErNmzXI6FEcFXSKI/T2Wzh905p1t73A6+TTzts2j06JOxP4em/PCuWRlqJ0vQ62qDB8+nIiICLp27eopgwGuFlJsbKzPOBctWkRsbCz9+vWjcePGnD17lqeeeopmzZrRsGFDBg8e7Ckv0a5dO8aMGUPz5s2pV6+ep6xIWloaf/vb3zy/k5dffhmADRs20LZtW5o2bUqXLl04dOhQTn9KgOtAoE2bNlx77bVce+21fPvtt4Dr76Zdu3bcfvvtNGjQgH79+nliW7ZsGQ0aNKB169aMHDnSZ8c6R44coXfv3jRr1oxmzZqxdu1awFXjqV27dp4nposaVaVEiRKsWrWKt99+2+lwHFXkrhFMWT+Fn47/lOX03fG7iT8X7xlOSksiKS2JR75+hDrl6/hcpsFlDRjTfEyuY+nfvz8vv/wybdu2ZcKECTz55JNMmzaNQYMG8frrr9OqVassj4KnTp3KzJkzuf7660lISCA8PJzJkyczdepUzz9mRnMWYNKkSZQvX95TDyi7WkMAn332Gb169QLgmWeeoUOHDsyePZuTJ0/SvHlzOnbsyGuvvUbFihXZunUrcXFxnkqd4EoeDRs25KmnnmL79u1MmTKFtWvXEhYWxtChQ5k/fz6RkZEcPHiQuLg4AE6ePAnA5MmT2bNnDyVKlPCM8zZ8+HD69+/PgAEDmD17NiNHjuSjjz4C4NChQ6xZs4affvqJHj16cPvtt2daNjk5md27d3uOqD/88EN27NjBDz/8wOHDh4mIiODee+/NtMzmzZsviLNChQq88sorTJ06lZiYGE9cEyZMAFxVUZcuXUr37t0BVy2a9evXs2zZMp588klWrFjB66+/zp49e9i0aRPFihXj+PHjpKSkMGLECD7++GMqV67MwoULefzxx5k9e3a2vy9wVTX94osvCA8P5+eff6Zv376exLxp0yZ+/PFHqlWrxvXXX8/atWuJiYnhgQceYPXq1dSuXZu+ffv6XO+oUaP461//SuvWrdm/fz9dunRh+/btgKvV+c0333DHHXfkGF9h8uyzz3Lw4EFefvllKleu7HQ4jityiaCg8FWGuk+fPj7LHPs64sooQ92vXz9uu+22HItcrVixIlOBtOzKUJ85c4a0tDQ2btwIuEoqL1myhKlTpwJkKkM9atQowP8y1OA6R3/FFVfQvXt3Txnqrl270rlzZ+B/Zah79erlSUbe1q1bx+LFiwHXF+7o0aM903Jbhnr16tX07duX0NBQqlWrRocOHS5Yxrtctnec51u5ciXPPfcciYmJHD9+nMjISE8iyKjrlFHOGly/kyFDhnieMr7sssuIi4sjLi6OTp06Aa5WQ9WqVQFXQn7//fcB1x0sGYn3+uuvZ+bMmaSkpDB8+HA2b95MaGgoO3fu9MTWvHlzz99I48aN2bt3L2XKlKFOnTrUrl0bgL59+/L6669fsF8rVqzIdK3k1KlTnD59mrJlyxbJktqqyvHjxzlx4gTp6emO9GRX0BS5RJDTkfvYb8aydPeFX7ytqrXi2TYXllHOa/4+yW1lqP/nUspQn7+8LxUrVvQZp7ekpCSGDh1KbGwsV111FRMnTsy0nYy4QkNDPZUqff1OVJXIyEjWrVt3QRyPP/44jz/+OOC6RnD+xfyXXnqJKlWqsGXLFtLT0wkPD79g+94x+Pu3lp6ezrp163yWzi5KJbVVlfj4eCpUqMBzzz1nScBL0F0j6F23NxVKVCA81PVPFB4aToUSFehdt3eebsfKUBeMMtQ33HADCxYsIC0tjUOHDrFy5coLlvEVJ5Dp885YX6VKlUhISMjy+oS3zp07M2vWLE9iOH78OPXr1+fIkSOeRJCSkpJjIswQHx9P1apVCQkJYd68eTlepG/QoAG7d+/2tFAWLlyYZZzefzveCagoldR+4oknaNasGcePH0dELAl4KXItgpzEXBnD57d/zhtb32DBjgX0rd+X+6Lvo2SxSzvqsTLUBbMM9a233spXX31FVFQU9erV85yq83bw4MEL4gTXxekhQ4ZQsmRJ1q1bx/33309UVBS1atXynAbLzn333cfOnTuJjo4mLCyM+++/n+HDh7No0SJGjhxJfHw8qampPPTQQ0RGRua4vqFDh9K7d2/ef/992rdvn+NtjiVLluTVV1/lpptuolKlSjRv3tznfDNmzGDYsGFER0eTmprKDTfc4LmLZuXKlT5beoXRzTffzLlz57I8bRrUsipLWlBfVoY6/wRrGeqiJONvLT09XR988EF98cUX/V72999/1w4dOmQ5vTD836Wlpem3337rdBgFAtZnccHy6aef0rhxYxo2bMg333zDuHHjnA7Jp8TERFq3bk2jRo249dZbC2UZ6mD3xhtv0LhxYyIjI4mPj+eBBx7we9n9+/fzwgsvBDC6wJs2bRqtW7dm69atTodSoFkZamPMRSkM/3dnzpzh/fffZ8CAAUW6PwF/WBlqY0zQSElJYerUqSQnJ1O6dGkGDhwY9EkgJ5YIjDFFyooVK3j00Uf5z3/+43QohUbQ3TVkjCnabr75ZrZs2ZLpAUiTPWsRGGMKvcTERPr27et51sWSQO5YIsgjoaGhnjuBunfv7rOGzsXwp1ywMcHuyJEjrF271u4OukgBPTUkIjcB04FQ4E1VnXze9PLAO8DV7limqmrunh7KpZ2t25B29OgF40MrVaLemm8uer0lS5b0PJE5YMAAZs6c6SkXYIwJjHPnzlGiRAlq1qzJTz/9RKlSpZwOqVAKWItAREKBmcDNQATQV0TOL/4+DNimqo2AdsALIhLQG9V9JYHsxl8M7xLP69evp1WrVjRp0oRWrVqxY8cOwHWkf9ttt3HTTTdRt27dTIXV5syZ43kKNqMkMGRfnvnBBx+kffv21KlTh6+//pp7772Xa665hoEDB+bZfhlTkJw+fZq2bdsyZcoUAEsClyCQLYLmwC5V3Q0gIguAnoB3l1AKlBXXvV1lgONA6qVs9Pd//INz27MuQ52dfff09zm+xDUNuPLvf/drHWlpaXz55Zf85S9/AVz1XlavXk2xYsVYsWIFf//73z19BWzevJlNmzZRokQJ6tevz4gRIyhWrBhPPPEEGzZsoHz58rRv395TSiK78swnTpzgq6++YsmSJXTv3p21a9fy5ptvenoi8y4hbUxRUKpUKSIiIi4olmhyL5CJoDrwq9fwAaDFefO8AiwBfgPKAneqanoAYwqYs2fPesr/Nm3a1FNmOD4+ngEDBvDzzz8jIqSkpHiWufHGGz21eyIiIjyF2tq1a+epkX7nnXd6yg1nV565e/fuiAhRUVFUqVKFqKgoACIjI9m7d68lAlNkHDlyhGLFilGxYkW/+nEwOQtkIvD1BMf5jzF3ATYDHYA/AV+IyDeqeirTikQGA4MBrr766mw3mtOR+/YGWT8JWXPexfdSlHGNID4+nm7dujFz5kxGjhzJ+PHjad++PR9++CF79+6lXbt2nmV8lQ6GnMsmZ/BVnjkkJCTTekNCQjzrNaawS0tL46abbqJs2bKsXLnSHhTLI4G8a+gAcJXXcA1cR/7eBgGL3TWRdgF7gAbnr0hVX1fVGFWNKei9CZUvX54ZM2YwdepUUlJSiI+Pp3r16oDrukBOWrRowapVqzh27BgpKSmejkrg0sozG1MUhIaGMnHiRCZOnGhJIA8FMhF8D9QVkdruC8B34ToN5G0/cCOAiFQB6gO7AxgToZUq5Wr8xWjSpAmNGjViwYIFjB49mrFjx3L99df7VQStatWqTJw4kZYtW9KxY0euvfZaz7QZM2YwZ84coqOjmTdvHtOnT8+zmI0pyPbv3+/pS6J79+6ZWtbm0gW06JyI3AJMw3X76GxVfUZEhgCo6iwRqQbMBariOpU0WVXfyW6dVnTOmIIhP//vevXqxfr16/nll1+KTI9p+S27onMBfY5AVZcBy84bN8vr/W+A7w5ijTHG7Y033uDgwYOWBALEniw2xhRI27dvZ8yYMaSnp1O5cmW78y2ALBEYYwqkJUuW8NZbb/Hbb+ffY2LyWpFJBIWtgx1jCrNA/r9lrHv06NFs3bo1U1/gJjCKRCIIDw/n2LFjlgyMyQeqyrFjxwgPD8/zdcfGxtK0aVP279+PiHDFFVfk+TbMhYpEfwQ1atTgwIEDHDlyxOlQjAkK4eHhATlSz3g2ID29UBYYKLSKRCIICwujdu3aTodhjLlIR44coXLlyjRt2pQNGzbYw2L5rEicGjLGFF4bNmygTp06LFq0CPC/xIrJO5YIjDGOioyMpH///rRp08bpUIKWJQJjjCPWrFlDUlIS4eHhzJw5kypVqjgdUtCyRGCMyXcHDhygY8eOjBs3zulQDEXkYrExpnCpUaMG7777Lh06dHA6FIO1CIwx+ejdd99lw4YNANx6662ejpmMsywRGGPyRVJSEuPGjWPy5MlOh2LOY6eGjDH5Ijw8nFWrVlEpD/v+MHnDWgTGmICaMWMGTzzxBABXXXWVlZIugKxFYIwJGFXlhx9+4NixY6SlpREaGup0SMYHSwTGmIBITEykVKlS/POf/7QkUMDZqSFjTJ6bNGkSrVq1Ij4+npCQEMLCwpwOyWTDWgTGmDzXokULDh06RJkyZZwOxfjBWgTGmDyhqsTFxQHQuXNnXn31VTsdVEhYIjDG5IkXX3yRpk2bsm3bNqdDMblkp4aMMXni3nvvpVixYlxzzTVOh2JyyVoExpiLlpaWxhtvvEFaWhoVK1Zk1KhR1p9AIWSJwBhz0ZYuXcrgwYP59NNPnQ7FXAI7NWSMuWg9e/bkm2++oXXr1k6HYi6BtQiMMbly7tw5HnjgAX755RcASwJFgCUCY0yu7N+/n8WLF7NmzRqnQzF5xE4NGWP8klEmom7duuzcuZOKFSs6HZLJI9YiMMbkKCEhgY4dO/LPf/4TwJJAEWOJwBiTo7CwMMqXL0+5cuWcDsUEgJ0aMsZk6eTJk4SFhVG6dGk+/PBDe0agiLIWgTHGp7S0NDp37kyfPn1QVUsCRZi1CIwxPoWGhjJq1CgqVqxoSaCIs0RgjMnk999/59dff6VZs2b069fP6XBMPrBTQ8aYTO677z569epFUlKS06GYfJJji0BErgc2q+oZEfkzcC0wXVX3BTw6Y0y+e+211zhw4ADh4eFOh2LyiT8tgteARBFpBIwG9gFvBzQqY0y+2r17N5MnT0ZVueqqq2jZsqXTIZl85E8iSFVVBXriaglMB8oGNixjTH566623eP755/ntt9+cDsU4wJ9EcFpExgL3AJ+KSChgPVEbU4Q88cQTbNq0ierVqzsdinGAP4ngTuAccK+q/g5UB54PaFTGmID74YcfaN++PX/88QchISFcffXVTodkHJJjInB/+X8AlHCPOgp8GMigjDGBd+LECQ4ePEh8fLzToRiH5ZgIROR+YBHwT/eo6sBHAYzJGBNAp06dAuCGG25g27Zt1K1b1+GIjNP8OTU0DLgeOAWgqj8DVwQyKGNMYGzcuJE6deqwbNkyAIoVs2dKjX+J4JyqJmcMiEgxQAMXkjEmUP7v//6Pm266iejoaKdDMQWIP4ngaxH5O1BSRDoB7wOfBDYsY0xe2rRpEykpKZQrV4533nmHGjVqOB2SKUD8SQSPAUeAH4AHgGXAuEAGZYzJO/v376dVq1ZMnDjR6VBMAeXPCcKewNuq+kaggzHG5L2rr76a1157je7duzsdiimg/GkR9AB2isg8EenqvkZgjCngPv74Y3766ScABg4cyOWXX+5wRKag8uc5gkHA/+G6NnA38IuIvBnowIwxF+/s2bMMGzaMcePsLK7JmV9H96qaIiL/wXW3UElcp4vuC2RgxpiLV7JkSb766iuqVavmdCimEPDngbKbRGQusAu4HXgTqBrguIwxF+HNN99k+vTpANSrV48yZco4HJEpDPy5RjAQ15PE9VR1gKouU9VUf1buTiI7RGSXiDyWxTztRGSziPwoIl/7HbkxJhNVZfny5Sxfvpz09HSnwzGFSI6nhlT1rotZsbtK6UygE3AA+F5ElqjqNq95KgCvAjep6n4RsSeWjbkIKSkphIWFMX/+fFSVkBDrfND4L8u/FhFZ4/55WkROeb1Oi8gpP9bdHNilqrvdTyYvwHVtwdvdwGJV3Q+gqn9c3G4YE7ymTp1Khw4dOHPmDMWLF6dEiRI5L2SMlywTgaq2dv8sq6rlvF5lVbWcH+uuDvzqNXzAPc5bPaCiiKwSkQ0i0t/XikRksIjEikjskSNH/Ni0McGjZs2a1KpVyxKAuWj+XCye5884X4v6GHd+jaJiQFOgK9AFGC8i9S5YSPV1VY1R1ZjKlSv7sWljijZVZc+ePQD06dOHefPmWQE5c9H8OZEY6T3gfqCsqR/LHQCu8hquAZzfD94B4DNVPaOqR4HVQCM/1m1MUJs2bRpRUVHs2LHD6VBMEZDlIYS7e8qMYnMZ1wQESAZe92Pd3wN1RaQ2cBC4C9c1AW8fA6+4k0txoAXwUq72wJggdNddd5GQkGB9CZg8kd01gmdVtSzw/HnXBy5X1bE5rdh9i+lwYDmwHXhPVX8UkSEiMsQ9z3bgM2ArsB54U1Xj8mC/jCly0tPTee+991BVqlatyvjx4+3uIJMnsmsRNFDVn4D3ReTa86er6sacVq6qy3BVK/UeN+u84eexPpCNydHixYu58847KVWqFN26dXM6HFOEZHd16WFgMPCCj2kKdAhIRMYYn3r37s2nn37KzTff7HQopojJ7tTQYPfP9j5elgSMyQcpKSk8+uij/Pbbb4gIt9xyCyK+bsgz5uL5c/toHxEp634/TkQWi0iTwIdmjPn555+ZNWuWp49hYwLBnxuPx6vq+yLSGte9/lOBWbju8DHGBICqIiJERESwc+dOqla1Oo8mcPy55SDN/bMr8JqqfozrVk9jTACcPXuW7t27s3DhQgBLAibg/EkEB0Xkn8AdwDIRKeHncsaYi5Cens6ZM2dISEhwOhQTJPw5NXQHcBMwVVVPikhV4NHAhmVM8ElISKB48eKULl2aL7/80p4RMPnGn64qE4FfgC4iMhy4QlU/D3hkxgSR1NRUunTpQr9+/ayMtMl3ObYIRGQUcD+w2D3qHRF5XVVfDmhkxgSRYsWK0bdvX6pVq2a3h5p8J6rnFwQ9bwaRrUBLVT3jHi4NrFPV6HyI7wIxMTEaGxvrxKaNyXNHjx7ljz/+ICIiwulQTBEnIhtUNcbXNH/an8L/7hzC/d4OWYzJA/379+fmm2/m3LlzTodigpg/F4vnAP8VkQ9xJYCewL8CGpUxQWLatGkcPHjQOpUxjvLnYvGLwCDgOHAMGKSq0wIclzFF1oEDB5g1y1V7sV69erRv397hiEywy82tCYKr2JydFjLmEkyfPp0xY8Zw6NAhp0MxBvCv1tAE4C2gIlAJmCMi4wIdmDFF1bPPPsv69evtiWFTYPjTIugLNFPViar6BHAd0C+wYRlTtOzYsYNbb72V+Ph4ihUrRv369Z0OyRgPfxLBXiDca7gErgfMjDF++uWXX4iNjbXTQaZA8ueuoXPAjyLyBa5rBJ2ANSIyA0BVRwYwPmMKtaSkJMLDw7nlllvYuXMnJUuWdDokYy7gTyL40P3KsCowoRhTtGzZsoWuXbsyf/582rZta0nAFFg5JgJVfSs/AjGmqKlevTpNmjTh6quvdjoUY7Jlla2MyWM7duwgPT2dSpUq8cknn1C7dm2nQzImW5YIjMlDe/bsoWnTpjzzzDNOh2KM37JMBCIyz/1zVP6FY0zhVqtWLZ5++mnuv/9+p0Mxxm/ZtQiaikhN4F4RqSgil3m/8itAYwqDL774gn379iEiPPTQQ1x55ZVOh2SM37K7WDwL+AyoA2wgc2kJdY83JuidOXOGP//5z9xwww28//77TodjTK5lmQhUdQYwQ0ReU9UH8zEmYwqV0qVL89lnn9lFYVNo+XP76IMi0gho4x61WlW3BjYsYwq+d999l+TkZAYMGECTJk2cDseYi+ZP0bmRwHzgCvdrvoiMCHRgxhRkqspbb73F22+/TXp6utPhGHNJ/Hmy+D6ghVdXlVOAdYD1WWyCUnp6OiEhISxe7OrG2zqaN4WddVVpTC68+uqrdO/enXPnzlGqVClKlSrldEjGXLLcdlUJ0AvrqtIEqbCwMMLCwpwOw5g8Jaqa80wi1wKtcbUEVqvqpkAHlpWYmBiNjY11avMmSB0+fJgqVaoArusDItYoNoWLiGxQ1Rhf0/w6uamqG1V1hqpOdzIJGOOEl19+mWuuuYbdu3cDWBIwRY4/p4aMCWrdunVj//791KxZ0+lQjAkIu93BGB9Ulc8//xyA2rVr8/zzzxMaGupwVMYEhiUCY3xYuHAhXbp04bPPPnM6FGMCLsdTQyJyGzAF18Nk4n6pqpYLcGzGOKZPnz6oKl26dHE6FGMCzp8WwXNAD1Utr6rlVLWsJQFTFKWlpTFp0iSOHz9OaGgoffv2tQvDJij4kwgOq+r2gEdijMPi4uJ45plnWLRokdOhGJOv/LlrKFZEFgIfAecyRqrq4kAFZYwTGjVqRFxcHP/3f//ndCjG5Ct/WgTlgESgM9Dd/eoWyKCMyS/Jycn07dvXc1HYkoAJRv6UoR6UH4EY44TExER27tzJL7/84nQoxjjGn7uGauCqNHo9rp7J1gCjVPVAgGMzJmDOnj1L8eLFqVChAuvWraN48eJOh2SMY/w5NTQHWAJUA6oDn7jHGVMopaSk0LVrVx544AEASwIm6Plzsbiyqnp/8c8VkYcCFI8xARcWFkb79u2ta0lj3PxJBEdF5M/Au+7hvsCxwIVkTGCcPHmSEydOULt2bcaPH+90OMYUGP6cGroXuAP4HTgE3O4eZ0yh0rdvXzp37kxKSorToRhToPhz19B+oEc+xGJMQP3jH//g0KFD1rGMMefJMhGIyGhVfU5EXsZ1t1AmqjoyoJEZkwcOHz7MypUrueuuu2jSpAlNmjRxOiRjCpzsWgQZZSWsOzBTaD3zzDPMmTOH9u3be3oYM8ZkluU1AlX9xP02UVXf8n7hetI4RyJyk4jsEJFdIvJYNvM1E5E0Ebk9d+Ebk73nnnuO1atXWxIwJhv+XCwe6+e4TEQkFJgJ3AxEAH1FJCKL+aYAy/2IxZgc7d27l0GDBpGYmEh4eLidDjImB1kmAhG52X19oLqIzPB6zQVS/Vh3c2CXqu5W1WRgAdDTx3wjgA+AP3IfvjEXio2NZenSpezZs8fpUIwpFLJrEfyG6/pAErDB67UE8Ke3jurAr17DB9zjPESkOnArMCu7FYnIYBGJFZHYI0eO+LFpE4xSU13HJ7fffju7du0iMjLS4YiMKRyyu0awxX09IAp4x+v6wMd4laPOhq8ePc6/+2gaMEZV07Jbkaq+rqoxqhpTuXJlPzZtgs22bduIjIzk+++/B6B8+fIOR2RM4eHPNYLPgZJewyWBFX4sdwC4ymu4Bq5WhrcYYIGI7MX1oNqrItLLj3Ubk0m5cuW44oorKFu2rNOhGFPo+FNiIlxVEzIGVDVBREr5sdz3QF0RqQ0cBO4C7vaeQVU9xV7c1x6WqupHfqzbGAB+/fVXatSoQY0aNVi9erV1LWnMRfCnRXBGRK7NGBCRpsDZnBZS1VRgOK67gbYD76nqjyIyRESGXGzAxmTYvXs3UVFRvPDCCwCWBIy5SP60CB4C3heRjNM6VYE7/Vm5qi4Dlp03zueFYVUd6M86jclQq1YtRo0axR133OF0KMYUaqJ6QfWIC2cSCQPq47oA/JOqOla1KyYmRmNj7WHnYLZ27Vrq1q3LFVdc4XQoxhQaIrJBVWN8TfPn1BC4kkAE0ATXg2H98yo4Y3IjISGBnj17MnKklboyJq/401XlE0A7XIlgGa4nhdcAbwc0MmN8KFOmDB9++CENGjRwOhRjigx/WgS3AzcCv7s7sm8ElAhoVMac56OPPuLjjz8GoE2bNtjzJMbkHX8uFp9V1XQRSRWRcrhKQdQJcFzGeKgqL7zwAiEhIfTo0cPuDjImj/mTCGJFpALwBq4SEwnA+kAGZUwGVUVE+OSTTwgJCbEkYEwAZHtqSFz/dc+q6kn3bZ+dgAHuU0TGBNTcuXO55557SEtLo0KFCpQrV87pkIwpkrJNBOq6t/Qjr+G9qro10EEZA3DkyBH++OMPkpOTnQ7FmCLNn4vF34lIs4BHYoxbfHw8AI8++ijLli2jZMmSOSxhjLkU/iSC9riSwS8islVEfhARaxWYgHjttdeIiIhg//79ABQr5s9lLGPMpciu8/qrVXU/rucGjMkXbdq0oXv37lStWtXpUIwJGtm1CD4CUNV9wIuqus/7lS/RmaCgqnz33XcANGzYkFmzZhEWFuZwVMYEj+wSgfd9evbcgAmYd999l5YtW/Lll186HYoxQSm7E7CaxXtj8tTtt9/OqVOnaN++vdOhGBOUsmsRNBKRUyJyGoh2vz8lIqdF5FR+BWiKpvT0dKZPn05CQgLFixdnyJAhhIT4WwPRGJOXsmwRqGpofgZigsvGjRt5+OGHCQ8P54EHHnA6HGOCmt2bZxwRExPDxo0biY6OdjoUY4KetcVNvklNTWXw4MGsWbMGgEaNGlntIGMKAEsEJt+cPHmSr7/+mvXrrWahMQWJnRoyAZeSkkKxYsWoVKkSGzdupHTp0k6HZIzxYi0CE1DJycn06tWLRx55BMCSgDEFkCUCE1BhYWHUr1/fupY0pgCzU0MmIBISEjh9+jRVq1blxRdfdDocY0w2rEVgAuKOO+6gU6dOpKSkOB2KMSYH1iIwATF27FgOHz5sxeOMKQQsEZg8c/z4cb777jtuueUW2rRp43Q4xhg/2akhk2cef/xx7rjjDo4cOeJ0KMaYXLBEYPLMc889x+eff07lypWdDsUYkwuWCMwlOXjwIA899BApKSmULVuWVq1aOR2SMSaXLBGYS7JixQrmzJnDjh07nA7FGHORLBGYi6Lq6qtowIAB7Ny5k4YNGzockTHmYlkiMLn2888/06xZM7Zt2wZAlSpVHI7IGHMpLBGYXFNVkpOT7WExY4oIe47A+O3o0aNUqlSJevXqsXnzZuta0pgiwv6TjV9++eUXrrnmGmbNmgVgScCYIsT+m41fatasyd13303Hjh2dDsUYk8fs1JDJ1saNG/nTn/5E+fLlmT59utPhGGMCwFoEJkunTp2iU6dODB8+3OlQjDEBZC0Ck6Vy5coxb948Gjdu7HQoxpgAskRgLrB8+XLCwsLo0KEDt9xyi9PhGGMCzBKBySQ9PZ3HH3+c8PBw2rdvj4g4HZIxJsAsEZhMQkJC+PTTTwkLC7MkYEyQsIvFBoCFCxcyYsQIVJUqVapw2WWXOR2SMSafWCIwAGzZsoUtW7aQlJTkdCjGmHxmp4aC3NmzZylZsiTPPPMMycnJlChRwumQjDH5zFoEQexf//oX0dHRHDp0CBGxJGBMkLJEEMSioqJo1qwZFStWdDoUY4yDLBEEoR9//BGA5s2b8+9//5vw8HCHIzLGOMkSQZB59913iYqKYvXq1U6HYowpICwRBJmePXsyefJk62TeGOMR0EQgIjeJyA4R2SUij/mY3k9Etrpf34pIo0DGE6xUlblz53Lu3DlKlSrF6NGjKVbMbhgzxrgELBGISCgwE7gZiAD6ikjEebPtAdqqajQwCXg9UPEEs//+978MGjSIuXPnOh2KMaYACuRhYXNgl6ruBhCRBUBPYFvGDKr6rdf83wE1AhhP0LruuutYvXo1rVu3djoUY0wBFMhTQ9WBX72GD7jHZeUvwH8CGE9QSU9P55FHHmHz5s0AtGnTxmoHGWN8CmSLwNe3jvqcUaQ9rkTg85BVRAYDgwGuvvrqvIqvSPvjjz94//33qVy5svUnYIzJViATwQHgKq/hGsBv588kItHAm8DNqnrM14pU9XXc1w9iYmJ8JhPjkp6eTkhICFdeeSWbN2+24nHGmBwF8tTQ90BdEaktIsWBu4Al3jOIyNXAYuAeVd0ZwFiCQkpKCnfccQdPP/00gCUBY4xfAtYiUNVUERkOLAdCgdmq+qOIDHFPnwVMAC4HXnWfv05V1ZhAxVTUhYaGUqZMGcqUKeN0KMaYQkRUC9eZlpiYGI2NjXU6jALl7NmzJCUlUbFiRVTVLgobYy4gIhuyOtC2J4sLOVXljjvuoEuXLqSmploSMMbkmj1eWsiJCA8++CBHjx61p4WNMRfFvjkKqfj4eLZu3UqbNm245ZZbnA7HGFOI2amhQuqRRx6ha9euHDvm845bY4zxmyWCQmrKlCl88MEHXH755U6HYowp5CwRFCJ//PEHTz75JOnp6Vx++eV06tTJ6ZCMMUWAJYJCZNGiRUyZMoXt27c7HYoxpgixRFCIPPjgg8TFxREZGel0KMaYIsQSQQG3b98+OnTowL59+xAR6tSp43RIxpgixhJBAXfixAn27t3LkSNHnA7FGFNE2XMEBVRCQgJlypShcePG7Nixg7CwMKdDMsYUUdYiKIB2795N/fr1mTdvHoAlAWNMQFkiKICqVavGjTfeSNOmTZ0OxRgTBOzUUAGyfft2atasSalSpXj77bedDscYEySsRVBAnDx5kjZt2jB8+HCnQzHGBBlrERQQFSpUYObMmbRo0cLpUIwxQcYSgcNWr15NyZIladasGXfeeafT4RhjgpAlAgelpaUxbNgwypUrx5o1a6xTGWOMIywROCg0NJSlS5cSHh5uScAY4xi7WOyATz75hAkTJqCq1KxZkypVqjgdkjEmiFkicMDy5cv57LPPSEpKcjoUY4yxU0P5KTU1lWLFijFjxgwSExMpWbKk0yEZY4y1CPLLO++8Q7NmzTh27BghISGUKVPG6ZCMMQawFkHAJKYk0uG1h9EyawlJuJ4J1/SkRo0ahIeHOx2ayWM7W7ch7ejRC8aHVqpEvTXfOBCRMbljiSAAYn+P5aFVD3Gu7ClSQ6BY2W955lgc096YRunSpZ0Oz+QxX0kgu/HGFDR2aigA3lt0J/Hn4kkNUQBSQ5T4c/G8t8geGDPGFDyWCAJgeXpMFuOb5XMkxhiTM0sEAZAuxX1PKGbXB4wxBY8lgjy2Zs0adr+ymLLpQrF019PCxdKFCoTyr9ussqgxpuCxRJDHWrduzXsvvscX/daRntABTQtHT9/I5/3WEXOl71NGpnALrVQpV+ONKWhEVZ2OIVdiYmI0NjbW6TAyUVWefPJJ+vXrR926dZ0OxxhjLiAiG1TV59GotQjywG+//cbMmTNZsGCB06EYY0yu2XMEl0BVERGqV6/Oli1bqFq1qtMhGWNMrlmL4CKlpqYyYMAAZs6cCbg6nLdS0saYwsgSwUVSVeLj4zl58qTToRhjzCWxU0O5lJycTHJyMmXKlGHx4sWEhoY6HZIxxlwSaxHkgqpy11130b17d9LS0iwJGGOKBGsR5IKI0KdPH+Lj4y0JGGOKDEsEfjhz5gw7d+6kSZMm9O3b1+lwjDEmT9mpIT+MHDmSDh06cOLECadDMcaYPGctAj889dRTdO/enYoVKzodijHG5DlrEWThxIkTTJ8+HVWlevXq9OrVy+mQjDEmICwRZGH27NmMHj2a7du3Ox2KMcYElCWCLDz88MNs2LCBiIgIp0MxxpiAskTg5dChQ9x6660cPnwYEaFhw4ZOh2SMMQFnicDL3r17WbduHbt373Y6FGOMyTd21xBw7tw5SpQoQcuWLdm9ezelSpVyOiRjjMk3Qd8i2Lt3LxEREXz44YcAlgSMMUEn6BPB5ZdfTsOGDalVq5bToRhjjCOC9tTQnj17qFGjBmXLluXjjz92OhxjjHFMULYIjh8/TosWLXjooYecDsUYYxwX0EQgIjeJyA4R2SUij/mYLiIywz19q4hcG8h4Mlx22WVMmjTJEoExxhDAU0MiEgrMBDoBB4DvRWSJqm7zmu1moK771QJ4zf0zINavX0+ZMmWIiIjggQceCNRmjDGmUAlki6A5sEtVd6tqMrAA6HnePD2Bt9XlO6CCiASkB/i0tDT69+/P4MGDUdVAbMIYYwqlQF4srg786jV8gAuP9n3NUx045D2TiAwGBgNcffXVFxVMaGgoH330EWXLlrVO5o0xxksgWwS+vm3PPxT3Zx5U9XVVjVHVmMqVK190QA0aNKB69eoXvbwxxhRFgUwEB4CrvIZrAL9dxDzGGGMCKJCJ4HugrojUFpHiwF3AkvPmWQL0d989dB0Qr6qHzl+RMcaYwAnYNQJVTRWR4cByIBSYrao/isgQ9/RZwDLgFmAXkAgMClQ8xhhjfAvok8WqugzXl733uFle7xUYFsgYjDHGZC8onyw2xhjzP5YIjDEmyFkiMMaYIGeJwBhjgpwlAmOMCXKWCIwxJshZIjDGmCBnicAYY4KcJQJjjAlyUthq84vIEWDfRS5eCTiah+EUBrbPwcH2OThcyj7XVFWf5ZsLXSK4FCISq6oxTseRn2yfg4Ptc3AI1D7bqSFjjAlylgiMMSbIBVsieN3pABxg+xwcbJ+DQ0D2OaiuERhjjLlQsLUIjDHGnKdIJgIRuUlEdojILhF5zMd0EZEZ7ulbReRaJ+LMS37scz/3vm4VkW9FpJETcealnPbZa75mIpImIrfnZ3yB4M8+i0g7EdksIj+KyNf5HWNe8+Nvu7yIfCIiW9z7XKh7OhSR2SLyh4jEZTE977+/VLVIvXB1i/kLUAcoDmwBIs6b5xbgP4AA1wH/dTrufNjnVkBF9/ubg2Gfveb7CldPebc7HXc+/J4rANuAq93DVzgddz7s89+BKe73lYHjQHGnY7+Efb4BuBaIy2J6nn9/FcUWQXNgl6ruVtVkYAHQ87x5egJvq8t3QAURqZrfgeahHPdZVb9V1RPuwe+AGvkcY17z5/cMMAL4APgjP4MLEH/2+W5gsaruB1DVwr7f/uyzAmVFRIAyuBJBav6GmXdUdTWufchKnn9/FcVEUB341Wv4gHtcbucpTHK7P3/BdURRmOW4zyJSHbgVmEXR4M/vuR5QUURWicgGEemfb9EFhj/7/ApwDfAb8AMwSlXT8yc8R+T591dAO693iPgYd/6tUf7MU5j4vT8i0h5XImgd0IgCz599ngaMUdU018FioefPPhcDmgI3AiWBdSLynaruDHRwAeLPPncBNgMdgD8BX4jIN6p6KsCxOSXPv7+KYiI4AFzlNVwD15FCbucpTPzaHxGJBt4EblbVY/kUW6D4s88xwAJ3EqgE3CIiqar6Ub5EmPf8/ds+qqpngDMishpoBBTWRODPPg8CJqvrBPouEdkDNADW50+I+S7Pv7+K4qmh74G6IlJbRIoDdwFLzptnCdDfffX9OiBeVQ/ld6B5KMd9FpGrgcXAPYX46NBbjvusqrVVtZaq1gIWAUMLcRIA//62PwbaiEgxESkFtAC253Ocecmffd6PqwWEiFQB6gO78zXK/JXn319FrkWgqqkiMhxYjuuOg9mq+qOIDHFPn4XrDpJbgF1AIq4jikLLz32eAFwOvOo+Qk7VQlywy899LlL82WdV3S4inwFbgXTgTVX1eRtiYeDn73kSMFdEfsB12mSMqhbaqqQi8i7QDqgkIgeAJ4AwCNz3lz1ZbIwxQa4onhoyxhiTC5YIjDEmyFkiMMaYIGeJwBhjgpwlAmOMCXKWCEyeEBEVkXlew8VE5IiILHUyrtwSkb0iUsn9/tsc5h0oItVyuf5aWVWVvBQXs153GYoLbiEWkR4ZVT5FZKKI/M39/ikR6eh+/5D7OQVTBFgiMHnlDNBQREq6hzsBBx2Mx0NELup5GVVtlcMsA4FcJYJLJSKhgd6Gqi5R1ck+xk9Q1RXuwYcASwRFhCUCk5f+A3R1v+8LvJsxQURKu+usfy8im0Skp3t8LRH5RkQ2ul+t3OPbuY9YF4nITyIyX3wUDHLPM01cfSzEiUhz9/iJIvK6iHwOvC0ilUXkA/f2vxeR693zXS4in7tj+idedVxEJMHr/WgR+UFcNe8ni6tvgxhgvrhq/5cUkaYi8rW72NtycVeEdI/fIiLrgGG+Pjj3/q4WkQ9FZJuIzBKRkIw43Efj/wVaisjD7n2NE5GHvFZTTETeEleN+kUZR+wiMsG9z3Huz8T7c/yzj89uoIi84iPGuSJyu4iMxJUAV4rIShH5i4i85DXf/SLyoq/9NAWU07W37VU0XkACEI2rlEM4riJg7YCl7un/AP7sfl8BV+2b0riOKsPd4+sCse737YB4XHVUQoB1QGsf210FvOF+fwPuGu7ARGADUNI9/O+M5YGrge3u9zOACe73XXEV76qUsU/unzcD3wKl3MOXeW07xv0+zD1PZffwnbieggXXU75t3e+fx0edeff+JuGqux8KfIG7/wR3THe43zfFVWGzNK6Syz8CTYBa7vmud883G/ibd7zu9/OA7jl8dgOBV7w+x4z1zPWKaa/X51QaV58BYe7hb4Eop/8m7eX/y1oEJs+o6lZcX0h9cT0G760z8JiIbMb1BRSO6ws5DHjDXR7gfSDCa5n1qnpAXSWFN7vX7cu77u2vBsqJSAX3+CWqetb9viPwinv7S9zzlcX1BfiOe/lPgRNcqCMwR1UT3fP5qhVfH2iIq/LlZmAcUENEygMVVDWjp7B5Ppb13t/dqprm3qeMCrFpuPpUwD3uQ1U9o6oJuOpHtXFP+1VV17rfv+O1fHsR+a/7M+4ARHptM6vPzm/qKnD3FdBNRBrgSgg/5HY9xjlFrtaQcdwSYCquI9zLvcYL0FtVd3jPLCITgcO4KmSG4DoqznDO630aWf+9nl8nJWP4jNe4EKClV2LI2L6v5c8nfs7zo6q2PG/9FfxYNkNW+5HkTg4Z2/F7eREJB17F1XL51f15h/uxzdx6E1dPYT8Bcy5yHcYh1iIweW028JSPI8LlwIiM89Mi0sQ9vjxwyH3Ufw+u0yK5dad7na1xVWKM9zHP58DwjAERaex+uxro5x53M1Axi2Xv9Trnfpl7/GmgrPv9DqCyiLR0zxMmIpGqehKId8dGxray0FxcVTZD3Pu0xsc8q4FeIlJKRErj6njnG/e0qzO2j6tVtob/fekfFZEywPn9Nvvz2fnive+o6n9xlUa+G69rQ6ZwsERg8pT7VM50H5Mm4ToNtFVctzlOco9/FRggIt/h6l3rjI9lc3JCXLd6zsLV6Y4vI4EY94XUbcAQ9/gngRtEZCOu01f7fezTZ7haOrHu0z5/c0+aC8xyjwvF9SU7RUS24DqVlXHX0SBgpvticaYWyXnWAZOBOGAP8KGPWDa6t7se+C+u6qKb3JO34/ostwKXAa+5E9EbuK4rfISrrLM3fz47X14H/iMiK73GvQes1f91iWoKCas+ago1EVmF62JmrNOxXAoRaYdrP7o5HMpFE9czIy+p6pdOx2Jyx1oExphLIiIVRGQncNaSQOFkLQJjjAly1iIwxpggZ4nAGGOCnCUCY4wJcpYIjDEmyFkiMMaYIGeJwBhjgtz/AxxPhK3P/FExAAAAAElFTkSuQmCC\n",
      "text/plain": [
       "<Figure size 432x432 with 1 Axes>"
      ]
     },
     "metadata": {
      "needs_background": "light"
     },
     "output_type": "display_data"
    }
   ],
   "source": [
    "fig, ax = plt.subplots(figsize=(6, 6))\n",
    "\n",
    "\n",
    "disp1 = CalibrationDisplay.from_estimator(lr_clf1, X_val1, y_val, label='Logistic Regression (distance)', marker=\"P\", ax=ax)\n",
    "disp2 = CalibrationDisplay.from_estimator(lr_clf2, X_val2, y_val, label='Logistic Regression (angle)', marker=\"*\", ax=ax)\n",
    "disp3 = CalibrationDisplay.from_estimator(lr_clf3, X_val3, y_val, label='Logistic Regression (distance+angle)', marker=\"h\", ax=ax)\n",
    "disp4 = CalibrationDisplay.from_estimator(random_clf, X_val3, y_val, label='Random', marker=\"s\", ax=ax)\n",
    "\n",
    "ax.legend(loc='upper left')\n",
    "\n",
    "plt.savefig('../figures/3-calibration_diagram2.png')\n",
    "\n",
    "plt.show()"
   ]
  },
  {
   "cell_type": "markdown",
   "id": "bf69438f-c0a4-463c-8558-34993cc3a729",
   "metadata": {},
   "source": [
    "#### Do all the 3 logistic regression models always predict 0 as it is the dominating label ?! \n",
    "YES!"
   ]
  },
  {
   "cell_type": "code",
   "execution_count": 59,
   "id": "1c4717b3-0552-48eb-9436-c725a809aded",
   "metadata": {},
   "outputs": [
    {
     "data": {
      "text/plain": [
       "(0, 0, 0)"
      ]
     },
     "execution_count": 59,
     "metadata": {},
     "output_type": "execute_result"
    }
   ],
   "source": [
    "np.sum([round(p) for p in lr_probs1]), np.sum([round(p) for p in lr_probs2]), np.sum([round(p) for p in lr_probs3]),"
   ]
  },
  {
   "cell_type": "code",
   "execution_count": 60,
   "id": "6c660898-68bd-4c21-bd48-d974c63568f0",
   "metadata": {},
   "outputs": [
    {
     "data": {
      "text/plain": [
       "(0, 0, 0)"
      ]
     },
     "execution_count": 60,
     "metadata": {},
     "output_type": "execute_result"
    }
   ],
   "source": [
    "# sum of all predictions for the different models is 0 ==>  the models are always predicting non-goals for all the inputs/events\n",
    "sum(lr_clf1.predict(X_train1)), sum(lr_clf2.predict(X_train2)), sum(lr_clf3.predict(X_train3))"
   ]
  },
  {
   "cell_type": "markdown",
   "id": "e013b7d1-dc49-4ff3-b2ab-850061d018f5",
   "metadata": {},
   "source": [
    "#### ROC: optimal cutoff point for the different LR classifiers"
   ]
  },
  {
   "cell_type": "code",
   "execution_count": 61,
   "id": "0aa11236-a3c8-4a4b-980c-45b461d37e3b",
   "metadata": {},
   "outputs": [
    {
     "name": "stdout",
     "output_type": "stream",
     "text": [
      "Threshold value is: 0.09618218178300042\n"
     ]
    }
   ],
   "source": [
    "# Optimal cut-off point in ROC for LR(distance)\n",
    "fpr1, tpr1, thresholds1 = roc_curve(y_val, lr_probs1)\n",
    "best_cutoff1 = thresholds1[np.argmax(tpr1 - fpr1)]\n",
    "print(\"Threshold value is:\", best_cutoff1)"
   ]
  },
  {
   "cell_type": "code",
   "execution_count": 62,
   "id": "c706c847-b511-478e-88bc-eded8a55a2a4",
   "metadata": {},
   "outputs": [
    {
     "name": "stdout",
     "output_type": "stream",
     "text": [
      "Threshold value is: 0.09333081860069747\n"
     ]
    }
   ],
   "source": [
    "# Optimal cut-off point in ROC for LR(distance)\n",
    "fpr2, tpr2, thresholds2 = roc_curve(y_val, lr_probs2)\n",
    "best_cutoff2 = thresholds2[np.argmax(tpr2 - fpr2)]\n",
    "print(\"Threshold value is:\", best_cutoff2)"
   ]
  },
  {
   "cell_type": "code",
   "execution_count": 63,
   "id": "2edc2c39-6f9e-498c-a610-5a1562a697ed",
   "metadata": {},
   "outputs": [
    {
     "name": "stdout",
     "output_type": "stream",
     "text": [
      "Threshold value is: 0.0963392832806931\n"
     ]
    }
   ],
   "source": [
    "# Optimal cut-off point in ROC for LR(distance)\n",
    "fpr3, tpr3, thresholds3 = roc_curve(y_val, lr_probs3)\n",
    "best_cutoff3 = thresholds3[np.argmax(tpr3 - fpr3)]\n",
    "print(\"Threshold value is:\", best_cutoff3)"
   ]
  },
  {
   "cell_type": "markdown",
   "id": "c51cd084-ee99-4055-b24b-91aceb9cd377",
   "metadata": {},
   "source": [
    "Now we have a better performance of our model since it is predicting expected goals instead of always predicting non-goal as before.   "
   ]
  },
  {
   "cell_type": "code",
   "execution_count": 64,
   "id": "ad05e9a3-b367-4ab3-b15a-eafd47863843",
   "metadata": {},
   "outputs": [
    {
     "data": {
      "text/plain": [
       "28466"
      ]
     },
     "execution_count": 64,
     "metadata": {},
     "output_type": "execute_result"
    }
   ],
   "source": [
    "sum((lr_probs1 >= best_cutoff1).astype(int))"
   ]
  },
  {
   "cell_type": "code",
   "execution_count": null,
   "id": "2a3ba050-f94e-4789-8873-195cae92237b",
   "metadata": {},
   "outputs": [],
   "source": []
  }
 ],
 "metadata": {
  "kernelspec": {
   "display_name": "Python 3",
   "language": "python",
   "name": "python3"
  },
  "language_info": {
   "codemirror_mode": {
    "name": "ipython",
    "version": 3
   },
   "file_extension": ".py",
   "mimetype": "text/x-python",
   "name": "python",
   "nbconvert_exporter": "python",
   "pygments_lexer": "ipython3",
   "version": "3.8.8"
  }
 },
 "nbformat": 4,
 "nbformat_minor": 5
}
