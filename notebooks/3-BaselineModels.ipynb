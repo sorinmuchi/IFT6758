{
 "cells": [
  {
   "cell_type": "code",
   "execution_count": 207,
   "id": "d81d0ab9-6628-48a5-a9f5-a23f1a46e937",
   "metadata": {},
   "outputs": [
    {
     "data": {
      "text/plain": [
       "True"
      ]
     },
     "execution_count": 207,
     "metadata": {},
     "output_type": "execute_result"
    }
   ],
   "source": [
    "from dotenv import load_dotenv\n",
    "import warnings\n",
    "\n",
    "warnings.filterwarnings(\"ignore\")\n",
    "load_dotenv('../.env')"
   ]
  },
  {
   "cell_type": "code",
   "execution_count": 208,
   "id": "b9f5be06-b2bf-45f4-89ca-ccc7a602742a",
   "metadata": {},
   "outputs": [],
   "source": [
    "import pandas as pd\n",
    "import numpy as np\n",
    "import random\n",
    "from sklearn.linear_model import LogisticRegression\n",
    "from sklearn.dummy import DummyClassifier\n",
    "from sklearn.calibration import CalibrationDisplay\n",
    "from sklearn.model_selection import train_test_split\n",
    "from sklearn.metrics import roc_curve\n",
    "from sklearn.metrics import roc_auc_score\n",
    "import matplotlib.pyplot as plt"
   ]
  },
  {
   "cell_type": "code",
   "execution_count": 209,
   "id": "c97bc866-af1b-4e88-8ef6-e5bab21a717b",
   "metadata": {},
   "outputs": [],
   "source": [
    "pd.set_option('display.max_columns', None)"
   ]
  },
  {
   "cell_type": "code",
   "execution_count": 210,
   "id": "fb05c840-032c-458e-ac73-20f74c91c932",
   "metadata": {},
   "outputs": [
    {
     "data": {
      "text/plain": [
       "(311106, 40)"
      ]
     },
     "metadata": {},
     "output_type": "display_data"
    },
    {
     "data": {
      "text/html": [
       "<div>\n",
       "<style scoped>\n",
       "    .dataframe tbody tr th:only-of-type {\n",
       "        vertical-align: middle;\n",
       "    }\n",
       "\n",
       "    .dataframe tbody tr th {\n",
       "        vertical-align: top;\n",
       "    }\n",
       "\n",
       "    .dataframe thead th {\n",
       "        text-align: right;\n",
       "    }\n",
       "</style>\n",
       "<table border=\"1\" class=\"dataframe\">\n",
       "  <thead>\n",
       "    <tr style=\"text-align: right;\">\n",
       "      <th></th>\n",
       "      <th>index</th>\n",
       "      <th>eventType</th>\n",
       "      <th>period</th>\n",
       "      <th>periodTime</th>\n",
       "      <th>periodType</th>\n",
       "      <th>gameID</th>\n",
       "      <th>teamOfShooter</th>\n",
       "      <th>homeOrAway</th>\n",
       "      <th>xCoord</th>\n",
       "      <th>yCoord</th>\n",
       "      <th>shooter</th>\n",
       "      <th>goalie</th>\n",
       "      <th>shotType</th>\n",
       "      <th>emptyNet</th>\n",
       "      <th>strength</th>\n",
       "      <th>season</th>\n",
       "      <th>rinkSide</th>\n",
       "      <th>gameType</th>\n",
       "      <th>totalPlayTime</th>\n",
       "      <th>lastEventType</th>\n",
       "      <th>lastEventPeriod</th>\n",
       "      <th>lastEventPeriodTime</th>\n",
       "      <th>lastEventXCoord</th>\n",
       "      <th>lastEventYCoord</th>\n",
       "      <th>Goal</th>\n",
       "      <th>EmptyNet</th>\n",
       "      <th>distanceFromNet</th>\n",
       "      <th>angle</th>\n",
       "      <th>gameSeconds</th>\n",
       "      <th>lastEventGameSeconds</th>\n",
       "      <th>timeFromLastEvent</th>\n",
       "      <th>distanceFromLastEvent</th>\n",
       "      <th>rebound</th>\n",
       "      <th>lastEventAngle</th>\n",
       "      <th>changeInAngleShot</th>\n",
       "      <th>speed</th>\n",
       "      <th>timeSincePowerPlayStarted</th>\n",
       "      <th>numFriendlyNonGoalieSkaters</th>\n",
       "      <th>numOpposingNonGoalieSkaters</th>\n",
       "      <th>strength2</th>\n",
       "    </tr>\n",
       "  </thead>\n",
       "  <tbody>\n",
       "    <tr>\n",
       "      <th>0</th>\n",
       "      <td>0</td>\n",
       "      <td>Shot</td>\n",
       "      <td>1</td>\n",
       "      <td>00:51</td>\n",
       "      <td>REGULAR</td>\n",
       "      <td>2015020001</td>\n",
       "      <td>Toronto Maple Leafs</td>\n",
       "      <td>home</td>\n",
       "      <td>-55.0</td>\n",
       "      <td>6.0</td>\n",
       "      <td>Brad Boyes</td>\n",
       "      <td>Carey Price</td>\n",
       "      <td>Wrist Shot</td>\n",
       "      <td>NaN</td>\n",
       "      <td>NaN</td>\n",
       "      <td>2015</td>\n",
       "      <td>right</td>\n",
       "      <td>R</td>\n",
       "      <td>01:00:00</td>\n",
       "      <td>Hit</td>\n",
       "      <td>1</td>\n",
       "      <td>00:40</td>\n",
       "      <td>94.0</td>\n",
       "      <td>-34.0</td>\n",
       "      <td>0.0</td>\n",
       "      <td>0.0</td>\n",
       "      <td>34.525353</td>\n",
       "      <td>79.992020</td>\n",
       "      <td>51.0</td>\n",
       "      <td>40.0</td>\n",
       "      <td>11.0</td>\n",
       "      <td>154.275727</td>\n",
       "      <td>0.0</td>\n",
       "      <td>NaN</td>\n",
       "      <td>NaN</td>\n",
       "      <td>14.025066</td>\n",
       "      <td>0.0</td>\n",
       "      <td>5.0</td>\n",
       "      <td>5.0</td>\n",
       "      <td>Even</td>\n",
       "    </tr>\n",
       "    <tr>\n",
       "      <th>1</th>\n",
       "      <td>1</td>\n",
       "      <td>Shot</td>\n",
       "      <td>1</td>\n",
       "      <td>01:05</td>\n",
       "      <td>REGULAR</td>\n",
       "      <td>2015020001</td>\n",
       "      <td>Toronto Maple Leafs</td>\n",
       "      <td>home</td>\n",
       "      <td>-79.0</td>\n",
       "      <td>0.0</td>\n",
       "      <td>Nazem Kadri</td>\n",
       "      <td>Carey Price</td>\n",
       "      <td>Snap Shot</td>\n",
       "      <td>NaN</td>\n",
       "      <td>NaN</td>\n",
       "      <td>2015</td>\n",
       "      <td>right</td>\n",
       "      <td>R</td>\n",
       "      <td>01:00:00</td>\n",
       "      <td>Giveaway</td>\n",
       "      <td>1</td>\n",
       "      <td>00:58</td>\n",
       "      <td>-37.0</td>\n",
       "      <td>-28.0</td>\n",
       "      <td>0.0</td>\n",
       "      <td>0.0</td>\n",
       "      <td>10.000000</td>\n",
       "      <td>90.000000</td>\n",
       "      <td>65.0</td>\n",
       "      <td>58.0</td>\n",
       "      <td>7.0</td>\n",
       "      <td>50.477718</td>\n",
       "      <td>0.0</td>\n",
       "      <td>NaN</td>\n",
       "      <td>NaN</td>\n",
       "      <td>7.211103</td>\n",
       "      <td>0.0</td>\n",
       "      <td>5.0</td>\n",
       "      <td>5.0</td>\n",
       "      <td>Even</td>\n",
       "    </tr>\n",
       "    <tr>\n",
       "      <th>2</th>\n",
       "      <td>2</td>\n",
       "      <td>Shot</td>\n",
       "      <td>1</td>\n",
       "      <td>01:06</td>\n",
       "      <td>REGULAR</td>\n",
       "      <td>2015020001</td>\n",
       "      <td>Toronto Maple Leafs</td>\n",
       "      <td>home</td>\n",
       "      <td>-75.0</td>\n",
       "      <td>-1.0</td>\n",
       "      <td>Nazem Kadri</td>\n",
       "      <td>Carey Price</td>\n",
       "      <td>Snap Shot</td>\n",
       "      <td>NaN</td>\n",
       "      <td>NaN</td>\n",
       "      <td>2015</td>\n",
       "      <td>right</td>\n",
       "      <td>R</td>\n",
       "      <td>01:00:00</td>\n",
       "      <td>Shot</td>\n",
       "      <td>1</td>\n",
       "      <td>01:05</td>\n",
       "      <td>-79.0</td>\n",
       "      <td>0.0</td>\n",
       "      <td>0.0</td>\n",
       "      <td>0.0</td>\n",
       "      <td>14.035669</td>\n",
       "      <td>94.085617</td>\n",
       "      <td>66.0</td>\n",
       "      <td>65.0</td>\n",
       "      <td>1.0</td>\n",
       "      <td>4.123106</td>\n",
       "      <td>1.0</td>\n",
       "      <td>NaN</td>\n",
       "      <td>NaN</td>\n",
       "      <td>4.123106</td>\n",
       "      <td>0.0</td>\n",
       "      <td>5.0</td>\n",
       "      <td>5.0</td>\n",
       "      <td>Even</td>\n",
       "    </tr>\n",
       "    <tr>\n",
       "      <th>3</th>\n",
       "      <td>3</td>\n",
       "      <td>Shot</td>\n",
       "      <td>1</td>\n",
       "      <td>01:53</td>\n",
       "      <td>REGULAR</td>\n",
       "      <td>2015020001</td>\n",
       "      <td>Toronto Maple Leafs</td>\n",
       "      <td>home</td>\n",
       "      <td>-55.0</td>\n",
       "      <td>-36.0</td>\n",
       "      <td>Daniel Winnik</td>\n",
       "      <td>Carey Price</td>\n",
       "      <td>Wrist Shot</td>\n",
       "      <td>NaN</td>\n",
       "      <td>NaN</td>\n",
       "      <td>2015</td>\n",
       "      <td>right</td>\n",
       "      <td>R</td>\n",
       "      <td>01:00:00</td>\n",
       "      <td>Hit</td>\n",
       "      <td>1</td>\n",
       "      <td>01:35</td>\n",
       "      <td>-91.0</td>\n",
       "      <td>35.0</td>\n",
       "      <td>0.0</td>\n",
       "      <td>0.0</td>\n",
       "      <td>49.517674</td>\n",
       "      <td>136.636577</td>\n",
       "      <td>113.0</td>\n",
       "      <td>95.0</td>\n",
       "      <td>18.0</td>\n",
       "      <td>79.605276</td>\n",
       "      <td>0.0</td>\n",
       "      <td>NaN</td>\n",
       "      <td>NaN</td>\n",
       "      <td>4.422515</td>\n",
       "      <td>0.0</td>\n",
       "      <td>5.0</td>\n",
       "      <td>5.0</td>\n",
       "      <td>Even</td>\n",
       "    </tr>\n",
       "    <tr>\n",
       "      <th>4</th>\n",
       "      <td>4</td>\n",
       "      <td>Shot</td>\n",
       "      <td>1</td>\n",
       "      <td>02:37</td>\n",
       "      <td>REGULAR</td>\n",
       "      <td>2015020001</td>\n",
       "      <td>Toronto Maple Leafs</td>\n",
       "      <td>home</td>\n",
       "      <td>-61.0</td>\n",
       "      <td>-1.0</td>\n",
       "      <td>Joffrey Lupul</td>\n",
       "      <td>Carey Price</td>\n",
       "      <td>Tip-In</td>\n",
       "      <td>NaN</td>\n",
       "      <td>NaN</td>\n",
       "      <td>2015</td>\n",
       "      <td>right</td>\n",
       "      <td>R</td>\n",
       "      <td>01:00:00</td>\n",
       "      <td>Faceoff</td>\n",
       "      <td>1</td>\n",
       "      <td>02:32</td>\n",
       "      <td>-69.0</td>\n",
       "      <td>-22.0</td>\n",
       "      <td>0.0</td>\n",
       "      <td>0.0</td>\n",
       "      <td>28.017851</td>\n",
       "      <td>92.045408</td>\n",
       "      <td>157.0</td>\n",
       "      <td>152.0</td>\n",
       "      <td>5.0</td>\n",
       "      <td>22.472205</td>\n",
       "      <td>0.0</td>\n",
       "      <td>NaN</td>\n",
       "      <td>NaN</td>\n",
       "      <td>4.494441</td>\n",
       "      <td>0.0</td>\n",
       "      <td>5.0</td>\n",
       "      <td>5.0</td>\n",
       "      <td>Even</td>\n",
       "    </tr>\n",
       "  </tbody>\n",
       "</table>\n",
       "</div>"
      ],
      "text/plain": [
       "   index eventType  period periodTime periodType      gameID  \\\n",
       "0      0      Shot       1      00:51    REGULAR  2015020001   \n",
       "1      1      Shot       1      01:05    REGULAR  2015020001   \n",
       "2      2      Shot       1      01:06    REGULAR  2015020001   \n",
       "3      3      Shot       1      01:53    REGULAR  2015020001   \n",
       "4      4      Shot       1      02:37    REGULAR  2015020001   \n",
       "\n",
       "         teamOfShooter homeOrAway  xCoord  yCoord        shooter       goalie  \\\n",
       "0  Toronto Maple Leafs       home   -55.0     6.0     Brad Boyes  Carey Price   \n",
       "1  Toronto Maple Leafs       home   -79.0     0.0    Nazem Kadri  Carey Price   \n",
       "2  Toronto Maple Leafs       home   -75.0    -1.0    Nazem Kadri  Carey Price   \n",
       "3  Toronto Maple Leafs       home   -55.0   -36.0  Daniel Winnik  Carey Price   \n",
       "4  Toronto Maple Leafs       home   -61.0    -1.0  Joffrey Lupul  Carey Price   \n",
       "\n",
       "     shotType emptyNet strength  season rinkSide gameType totalPlayTime  \\\n",
       "0  Wrist Shot      NaN      NaN    2015    right        R      01:00:00   \n",
       "1   Snap Shot      NaN      NaN    2015    right        R      01:00:00   \n",
       "2   Snap Shot      NaN      NaN    2015    right        R      01:00:00   \n",
       "3  Wrist Shot      NaN      NaN    2015    right        R      01:00:00   \n",
       "4      Tip-In      NaN      NaN    2015    right        R      01:00:00   \n",
       "\n",
       "  lastEventType  lastEventPeriod lastEventPeriodTime  lastEventXCoord  \\\n",
       "0           Hit                1               00:40             94.0   \n",
       "1      Giveaway                1               00:58            -37.0   \n",
       "2          Shot                1               01:05            -79.0   \n",
       "3           Hit                1               01:35            -91.0   \n",
       "4       Faceoff                1               02:32            -69.0   \n",
       "\n",
       "   lastEventYCoord  Goal  EmptyNet  distanceFromNet       angle  gameSeconds  \\\n",
       "0            -34.0   0.0       0.0        34.525353   79.992020         51.0   \n",
       "1            -28.0   0.0       0.0        10.000000   90.000000         65.0   \n",
       "2              0.0   0.0       0.0        14.035669   94.085617         66.0   \n",
       "3             35.0   0.0       0.0        49.517674  136.636577        113.0   \n",
       "4            -22.0   0.0       0.0        28.017851   92.045408        157.0   \n",
       "\n",
       "   lastEventGameSeconds  timeFromLastEvent  distanceFromLastEvent  rebound  \\\n",
       "0                  40.0               11.0             154.275727      0.0   \n",
       "1                  58.0                7.0              50.477718      0.0   \n",
       "2                  65.0                1.0               4.123106      1.0   \n",
       "3                  95.0               18.0              79.605276      0.0   \n",
       "4                 152.0                5.0              22.472205      0.0   \n",
       "\n",
       "   lastEventAngle  changeInAngleShot      speed  timeSincePowerPlayStarted  \\\n",
       "0             NaN                NaN  14.025066                        0.0   \n",
       "1             NaN                NaN   7.211103                        0.0   \n",
       "2             NaN                NaN   4.123106                        0.0   \n",
       "3             NaN                NaN   4.422515                        0.0   \n",
       "4             NaN                NaN   4.494441                        0.0   \n",
       "\n",
       "   numFriendlyNonGoalieSkaters  numOpposingNonGoalieSkaters strength2  \n",
       "0                          5.0                          5.0      Even  \n",
       "1                          5.0                          5.0      Even  \n",
       "2                          5.0                          5.0      Even  \n",
       "3                          5.0                          5.0      Even  \n",
       "4                          5.0                          5.0      Even  "
      ]
     },
     "execution_count": 210,
     "metadata": {},
     "output_type": "execute_result"
    }
   ],
   "source": [
    "df = pd.read_csv('../data/trainingSet.csv')\n",
    "display(df.shape)\n",
    "df.head()"
   ]
  },
  {
   "cell_type": "code",
   "execution_count": 211,
   "id": "0e6bca86-49e1-45f5-8ade-7f2a903fd824",
   "metadata": {},
   "outputs": [
    {
     "data": {
      "text/plain": [
       "(311086, 3)"
      ]
     },
     "metadata": {},
     "output_type": "display_data"
    },
    {
     "data": {
      "text/html": [
       "<div>\n",
       "<style scoped>\n",
       "    .dataframe tbody tr th:only-of-type {\n",
       "        vertical-align: middle;\n",
       "    }\n",
       "\n",
       "    .dataframe tbody tr th {\n",
       "        vertical-align: top;\n",
       "    }\n",
       "\n",
       "    .dataframe thead th {\n",
       "        text-align: right;\n",
       "    }\n",
       "</style>\n",
       "<table border=\"1\" class=\"dataframe\">\n",
       "  <thead>\n",
       "    <tr style=\"text-align: right;\">\n",
       "      <th></th>\n",
       "      <th>distance</th>\n",
       "      <th>angle</th>\n",
       "      <th>is_goal</th>\n",
       "    </tr>\n",
       "  </thead>\n",
       "  <tbody>\n",
       "    <tr>\n",
       "      <th>0</th>\n",
       "      <td>34.525353</td>\n",
       "      <td>79.992020</td>\n",
       "      <td>0</td>\n",
       "    </tr>\n",
       "    <tr>\n",
       "      <th>1</th>\n",
       "      <td>10.000000</td>\n",
       "      <td>90.000000</td>\n",
       "      <td>0</td>\n",
       "    </tr>\n",
       "    <tr>\n",
       "      <th>2</th>\n",
       "      <td>14.035669</td>\n",
       "      <td>94.085617</td>\n",
       "      <td>0</td>\n",
       "    </tr>\n",
       "    <tr>\n",
       "      <th>3</th>\n",
       "      <td>49.517674</td>\n",
       "      <td>136.636577</td>\n",
       "      <td>0</td>\n",
       "    </tr>\n",
       "    <tr>\n",
       "      <th>4</th>\n",
       "      <td>28.017851</td>\n",
       "      <td>92.045408</td>\n",
       "      <td>0</td>\n",
       "    </tr>\n",
       "  </tbody>\n",
       "</table>\n",
       "</div>"
      ],
      "text/plain": [
       "    distance       angle  is_goal\n",
       "0  34.525353   79.992020        0\n",
       "1  10.000000   90.000000        0\n",
       "2  14.035669   94.085617        0\n",
       "3  49.517674  136.636577        0\n",
       "4  28.017851   92.045408        0"
      ]
     },
     "execution_count": 211,
     "metadata": {},
     "output_type": "execute_result"
    }
   ],
   "source": [
    "# Read and preprocess data\n",
    "df = df[['distanceFromNet', 'angle', 'Goal']]\n",
    "df = df.rename({'Goal': 'is_goal', 'distanceFromNet': 'distance'}, axis=1)\n",
    "df = df.dropna().reset_index(drop=True)\n",
    "df['is_goal'] = df['is_goal'].astype(np.int64)\n",
    "display(df.shape)\n",
    "df.head()"
   ]
  },
  {
   "cell_type": "code",
   "execution_count": 212,
   "id": "d79b4202-5aa0-414b-864f-f4fbd45a3f78",
   "metadata": {},
   "outputs": [],
   "source": [
    "X = df[['distance', 'angle']]\n",
    "y = df['is_goal'].to_numpy()\n",
    "X_train, X_val, y_train, y_val = train_test_split(X, y, test_size=0.2, random_state=123)"
   ]
  },
  {
   "cell_type": "code",
   "execution_count": 213,
   "id": "a1b0abe0-fe03-4ebe-9bb5-552a42b02bb1",
   "metadata": {},
   "outputs": [
    {
     "name": "stdout",
     "output_type": "stream",
     "text": [
      "Dataset size: 311086\n",
      "Training dataset size: 248868\n",
      "Validation dataset size: 62218\n"
     ]
    }
   ],
   "source": [
    "print(f'Dataset size: {len(X)}')\n",
    "print(f'Training dataset size: {len(X_train)}')\n",
    "print(f'Validation dataset size: {len(X_val)}')"
   ]
  },
  {
   "cell_type": "code",
   "execution_count": 214,
   "id": "c6727c92-86f7-422f-890b-f85f19509e94",
   "metadata": {},
   "outputs": [
    {
     "name": "stdout",
     "output_type": "stream",
     "text": [
      "** ALL ** Goals rate: 0.09378756999672117 - Non-goals rate: 0.9062124300032788\n",
      "** Training ** Goals rate: 0.09368822026134337 - Non-goals rate: 0.9063117797386566\n",
      "** Validation ** Goals rate: 0.09418496255103025 - Non-goals rate: 0.9058150374489697\n"
     ]
    }
   ],
   "source": [
    "# goals rate\n",
    "def goals_rate(df):\n",
    "    nb_goals = len(df[df==1])\n",
    "    nb_non_goals = len(df[df==0])\n",
    "    goals_rate = nb_goals / (nb_goals+nb_non_goals)\n",
    "    return goals_rate\n",
    "\n",
    "gr1 = goals_rate(y)\n",
    "gr2 = goals_rate(y_train)\n",
    "gr3 = goals_rate(y_val)\n",
    "\n",
    "print(f'** ALL ** Goals rate: {gr1} - Non-goals rate: {1-gr1}')\n",
    "print(f'** Training ** Goals rate: {gr2} - Non-goals rate: {1-gr2}')\n",
    "print(f'** Validation ** Goals rate: {gr3} - Non-goals rate: {1-gr3}')"
   ]
  },
  {
   "cell_type": "code",
   "execution_count": 215,
   "id": "81e24a6d-eec0-429a-a589-ac7f678f9dbc",
   "metadata": {},
   "outputs": [
    {
     "name": "stdout",
     "output_type": "stream",
     "text": [
      "***** Logistic regression (distance) *****\n",
      "Training accuracy: 0.9063117797386566\n",
      "Test accuracy: 0.9058150374489697\n"
     ]
    }
   ],
   "source": [
    "### Logistic regression on distance ###\n",
    "\n",
    "X_train1 = X_train['distance'].to_numpy().reshape(-1, 1)\n",
    "X_val1 = X_val['distance'].to_numpy().reshape(-1, 1)\n",
    "\n",
    "lr_clf1 = LogisticRegression().fit(X_train1, y_train)\n",
    "\n",
    "train_score1 = lr_clf1.score(X_train1, y_train)\n",
    "val_score1 = lr_clf1.score(X_val1, y_val)\n",
    "\n",
    "print('***** Logistic regression (distance) *****')\n",
    "print(f'Training accuracy: {train_score1}')\n",
    "print(f'Test accuracy: {val_score1}')"
   ]
  },
  {
   "cell_type": "code",
   "execution_count": 216,
   "id": "ddcbc6a1-37a9-43d4-96c8-c8e65b138545",
   "metadata": {
    "tags": []
   },
   "outputs": [
    {
     "name": "stdout",
     "output_type": "stream",
     "text": [
      "***** Logistic regression (angle) *****\n",
      "Training accuracy: 0.9063117797386566\n",
      "Test accuracy: 0.9058150374489697\n"
     ]
    }
   ],
   "source": [
    "### Logistic regression on angle ###\n",
    "\n",
    "X_train2 = X_train['angle'].to_numpy().reshape(-1, 1)\n",
    "X_val2 = X_val['angle'].to_numpy().reshape(-1, 1)\n",
    "\n",
    "lr_clf2 = LogisticRegression().fit(X_train2, y_train)\n",
    "\n",
    "train_score2 = lr_clf2.score(X_train2, y_train)\n",
    "val_score2 = lr_clf2.score(X_val2, y_val)\n",
    "\n",
    "print('***** Logistic regression (angle) *****')\n",
    "print(f'Training accuracy: {train_score2}')\n",
    "print(f'Test accuracy: {val_score2}')"
   ]
  },
  {
   "cell_type": "code",
   "execution_count": 217,
   "id": "5ec0ed06-c198-4a10-b037-4de089ac7353",
   "metadata": {},
   "outputs": [
    {
     "name": "stdout",
     "output_type": "stream",
     "text": [
      "***** Logistic regression (distance+angle) *****\n",
      "Training accuracy: 0.9063117797386566\n",
      "Test accuracy: 0.9058150374489697\n"
     ]
    }
   ],
   "source": [
    "### Logistic regression on distance + angle ###\n",
    "\n",
    "X_train3 = X_train.to_numpy().reshape(-1, 2)\n",
    "X_val3 = X_val.to_numpy().reshape(-1, 2)\n",
    "\n",
    "lr_clf3 = LogisticRegression().fit(X_train3, y_train)\n",
    "\n",
    "train_score3 = lr_clf3.score(X_train3, y_train)\n",
    "val_score3 = lr_clf3.score(X_val3, y_val)\n",
    "\n",
    "print('***** Logistic regression (distance+angle) *****')\n",
    "print(f'Training accuracy: {train_score3}')\n",
    "print(f'Test accuracy: {val_score3}')"
   ]
  },
  {
   "cell_type": "code",
   "execution_count": 218,
   "id": "17d2f79d-da41-41b0-a643-848957bff7a5",
   "metadata": {},
   "outputs": [
    {
     "name": "stdout",
     "output_type": "stream",
     "text": [
      "***** Random regression *****\n",
      "Training accuracy: 0.5005545108250157\n",
      "Test accuracy: 0.49689800379311455\n"
     ]
    }
   ],
   "source": [
    "### Random baseline ###\n",
    "random_clf = DummyClassifier(strategy=\"uniform\").fit(X_train3, y_train)\n",
    "\n",
    "train_score4 = random_clf.score(X_train3, y_train)\n",
    "val_score4 = random_clf.score(X_val3, y_val)\n",
    "\n",
    "print('***** Random regression *****')\n",
    "print(f'Training accuracy: {train_score4}')\n",
    "print(f'Test accuracy: {val_score4}')"
   ]
  },
  {
   "cell_type": "markdown",
   "id": "3bfb195b-8836-46ba-9e93-583f6ea76b51",
   "metadata": {},
   "source": []
  },
  {
   "cell_type": "code",
   "execution_count": 219,
   "id": "b5ccec96-e8ca-4414-af0b-b01f2c5cf5cf",
   "metadata": {},
   "outputs": [
    {
     "name": "stdout",
     "output_type": "stream",
     "text": [
      "Logistic Regression (trained on distance only): ROC AUC=0.685\n",
      "Logistic Regression (trained on angle only): ROC AUC=0.507\n",
      "Logistic Regression (trained on both distance and angle): ROC AUC=0.685\n",
      "Random: ROC AUC=0.500\n"
     ]
    },
    {
     "data": {
      "image/png": "[encoded data removed]",
      "text/plain": [
       "<Figure size 432x432 with 1 Axes>"
      ]
     },
     "metadata": {
      "needs_background": "light"
     },
     "output_type": "display_data"
    }
   ],
   "source": [
    "### ROC curve - AUC metric ###\n",
    "\n",
    "lr_probs1 = lr_clf1.predict_proba(X_val1[:, :])[:,1]\n",
    "lr_probs2 = lr_clf2.predict_proba(X_val2[:, :])[:,1]\n",
    "lr_probs3 = lr_clf3.predict_proba(X_val3[:, :])[:,1]\n",
    "random_probs = random_clf.predict_proba(X_val3[:, :])[:,1]\n",
    "\n",
    "\n",
    "lr_auc1 = roc_auc_score(y_val, lr_probs1)\n",
    "lr_auc2 = roc_auc_score(y_val, lr_probs2)\n",
    "lr_auc3 = roc_auc_score(y_val, lr_probs3)\n",
    "random_auc = roc_auc_score(y_val, random_probs)\n",
    "\n",
    "print('Logistic Regression (trained on distance only): ROC AUC=%.3f' % (lr_auc1))\n",
    "print('Logistic Regression (trained on angle only): ROC AUC=%.3f' % (lr_auc2))\n",
    "print('Logistic Regression (trained on both distance and angle): ROC AUC=%.3f' % (lr_auc3))\n",
    "print('Random: ROC AUC=%.3f' % (random_auc))\n",
    "\n",
    "lr_fpr1, lr_tpr1, _ = roc_curve(y_val, lr_probs1)\n",
    "lr_fpr2, lr_tpr2, _ = roc_curve(y_val, lr_probs2)\n",
    "lr_fpr3, lr_tpr3, _ = roc_curve(y_val, lr_probs3)\n",
    "random_fpr, random_tpr, _ = roc_curve(y_val, random_probs)\n",
    "\n",
    "plt.figure(figsize=(6, 6))\n",
    "\n",
    "plt.plot(lr_fpr1, lr_tpr1, marker='.', label='Logistic Regression (distance)')\n",
    "plt.plot(lr_fpr2, lr_tpr2, marker='.', label='Logistic Regression (angle)')\n",
    "plt.plot(lr_fpr3, lr_tpr3, marker='.', label='Logistic Regression (distance + angle)')\n",
    "plt.plot(random_fpr, random_tpr, linestyle='--', marker='.', label='Random')\n",
    "\n",
    "\n",
    "plt.xlabel('False Positive Rate')\n",
    "plt.ylabel('True Positive Rate')\n",
    "plt.legend()\n",
    "\n",
    "plt.savefig('../figures/roc.png')\n",
    "\n",
    "plt.show()"
   ]
  },
  {
   "cell_type": "code",
   "execution_count": 220,
   "id": "9f3f168e-7a54-44d1-b784-3a706123b8e4",
   "metadata": {},
   "outputs": [
    {
     "data": {
      "image/png": "[encoded data removed]",
      "text/plain": [
       "<Figure size 432x432 with 1 Axes>"
      ]
     },
     "metadata": {
      "needs_background": "light"
     },
     "output_type": "display_data"
    }
   ],
   "source": [
    "### goal_rate = F(shot probability model percentile) ###\n",
    "def compute_goal_rate_per_percentile(probs, y):\n",
    "    percentiles = []\n",
    "    rates = []\n",
    "\n",
    "    for i in range(0, 101):\n",
    "        percentile = np.percentile(probs, i)\n",
    "        goals = 0\n",
    "        no_goals = 0\n",
    "        for idx, p in enumerate(probs):\n",
    "            if p<=percentile:\n",
    "                if y[idx]==1:\n",
    "                    goals+=1\n",
    "                else:\n",
    "                    no_goals+=1\n",
    "        rate = goals / (goals + no_goals)\n",
    "        percentiles.append(percentile)\n",
    "        rates.append(rate)\n",
    "    return percentiles, rates\n",
    "\n",
    "\n",
    "percentiles1, rates1 = compute_goal_rate_per_percentile(lr_probs1, y_val)\n",
    "percentiles2, rates2 = compute_goal_rate_per_percentile(lr_probs2, y_val)\n",
    "percentiles3, rates3 = compute_goal_rate_per_percentile(lr_probs3, y_val)\n",
    "percentiles4, rates4 = compute_goal_rate_per_percentile(random_probs, y_val)\n",
    "\n",
    "plt.figure(figsize=(6, 6))\n",
    "\n",
    "plt.plot(percentiles1, rates1, marker='.', label='Logistic Regression (distance)')\n",
    "plt.plot(percentiles2, rates2, marker='.', label='Logistic Regression (angle)')\n",
    "plt.plot(percentiles3, rates3, marker='.', label='Logistic Regression (distance+angle)')\n",
    "plt.plot(percentiles4, rates4, marker='.', label='Random')\n",
    "\n",
    "plt.xlabel('Shot probability model percentile')\n",
    "plt.ylabel('Goal rate')\n",
    "plt.legend()\n",
    "\n",
    "plt.savefig('../figures/goal_rate_percentile_1.png')\n",
    "\n",
    "plt.show()"
   ]
  },
  {
   "cell_type": "code",
   "execution_count": 221,
   "id": "6aea6515-c396-414f-87d8-8a3786a05a91",
   "metadata": {},
   "outputs": [
    {
     "data": {
      "image/png": "[encoded data removed]",
      "text/plain": [
       "<Figure size 432x432 with 1 Axes>"
      ]
     },
     "metadata": {
      "needs_background": "light"
     },
     "output_type": "display_data"
    }
   ],
   "source": [
    "### cumulative portion of goals = F(shot probability model percentile) ###\n",
    "\n",
    "def compute_cumulative_goal_rate_per_percentile(probs, y):\n",
    "    percentiles = []\n",
    "    rates = []\n",
    "    cum_rate = 0\n",
    "\n",
    "    for i in range(0, 101):\n",
    "        percentile = np.percentile(probs, i)\n",
    "        goals = 0\n",
    "        no_goals = 0\n",
    "        for idx, p in enumerate(probs):\n",
    "            if p<=percentile:\n",
    "                if y[idx]==1:\n",
    "                    goals+=1\n",
    "                else:\n",
    "                    no_goals+=1\n",
    "        cum_rate += goals / (goals + no_goals)\n",
    "        percentiles.append(percentile)\n",
    "        rates.append(cum_rate)\n",
    "    return percentiles, rates\n",
    "\n",
    "\n",
    "percentiles1, rates1 = compute_cumulative_goal_rate_per_percentile(lr_probs1, y_val)\n",
    "percentiles2, rates2 = compute_cumulative_goal_rate_per_percentile(lr_probs2, y_val)\n",
    "percentiles3, rates3 = compute_cumulative_goal_rate_per_percentile(lr_probs3, y_val)\n",
    "percentiles4, rates4 = compute_cumulative_goal_rate_per_percentile(random_probs, y_val)\n",
    "\n",
    "plt.figure(figsize=(6, 6))\n",
    "\n",
    "plt.plot(percentiles1, rates1, marker='.', label='Logistic Regression (distance)')\n",
    "plt.plot(percentiles2, rates2, marker='.', label='Logistic Regression (angle)')\n",
    "plt.plot(percentiles3, rates3, marker='.', label='Logistic Regression (distance+angle)')\n",
    "plt.plot(percentiles4, rates4, marker='.', label='Random')\n",
    "\n",
    "plt.xlabel('Shot probability model percentile')\n",
    "plt.ylabel('Goal rate')\n",
    "plt.legend()\n",
    "\n",
    "plt.savefig('../figures/goal_rate_percentile_2.png')\n",
    "\n",
    "plt.show()"
   ]
  },
  {
   "cell_type": "code",
   "execution_count": 222,
   "id": "8b756c6c-a0f9-4c8b-8b5c-f14b4eb29b0c",
   "metadata": {},
   "outputs": [
    {
     "data": {
      "image/png": "[encoded data removed]",
      "text/plain": [
       "<Figure size 432x432 with 1 Axes>"
      ]
     },
     "metadata": {
      "needs_background": "light"
     },
     "output_type": "display_data"
    }
   ],
   "source": [
    "fig, ax = plt.subplots(figsize=(6, 6))\n",
    "\n",
    "\n",
    "disp1 = CalibrationDisplay.from_estimator(lr_clf1, X_val1, y_val, label='Logistic Regression (distance)', marker=\"P\", ax=ax)\n",
    "disp2 = CalibrationDisplay.from_estimator(lr_clf2, X_val2, y_val, label='Logistic Regression (angle)', marker=\"*\", ax=ax)\n",
    "disp3 = CalibrationDisplay.from_estimator(lr_clf3, X_val3, y_val, label='Logistic Regression (distance+angle)', marker=\"h\", ax=ax)\n",
    "disp4 = CalibrationDisplay.from_estimator(random_clf, X_val3, y_val, label='Random', marker=\"s\", ax=ax)\n",
    "\n",
    "ax.legend(loc='upper left')\n",
    "\n",
    "plt.savefig('../figures/calibration_diagram.png')\n",
    "\n",
    "plt.show()"
   ]
  },
  {
   "cell_type": "code",
   "execution_count": 223,
   "id": "1c4717b3-0552-48eb-9436-c725a809aded",
   "metadata": {},
   "outputs": [
    {
     "data": {
      "text/plain": [
       "(0, 0, 0)"
      ]
     },
     "execution_count": 223,
     "metadata": {},
     "output_type": "execute_result"
    }
   ],
   "source": [
    "# Do all the 3 logistic regression models always predict 0 as it is the dominating label ?! YES!\n",
    "np.sum([round(p) for p in lr_probs1]), np.sum([round(p) for p in lr_probs2]), np.sum([round(p) for p in lr_probs3])"
   ]
  },
  {
   "cell_type": "code",
   "execution_count": null,
   "id": "6c660898-68bd-4c21-bd48-d974c63568f0",
   "metadata": {},
   "outputs": [],
   "source": []
  },
  {
   "cell_type": "code",
   "execution_count": null,
   "id": "d7a3ba3f-2713-45ae-b970-df8e13b84c8d",
   "metadata": {},
   "outputs": [],
   "source": []
  },
  {
   "cell_type": "code",
   "execution_count": null,
   "id": "0aa11236-a3c8-4a4b-980c-45b461d37e3b",
   "metadata": {},
   "outputs": [],
   "source": []
  },
  {
   "cell_type": "code",
   "execution_count": null,
   "id": "c706c847-b511-478e-88bc-eded8a55a2a4",
   "metadata": {},
   "outputs": [],
   "source": []
  },
  {
   "cell_type": "code",
   "execution_count": null,
   "id": "2edc2c39-6f9e-498c-a610-5a1562a697ed",
   "metadata": {},
   "outputs": [],
   "source": []
  }
 ],
 "metadata": {
  "kernelspec": {
   "display_name": "Python 3",
   "language": "python",
   "name": "python3"
  },
  "language_info": {
   "codemirror_mode": {
    "name": "ipython",
    "version": 3
   },
   "file_extension": ".py",
   "mimetype": "text/x-python",
   "name": "python",
   "nbconvert_exporter": "python",
   "pygments_lexer": "ipython3",
   "version": "3.8.8"
  }
 },
 "nbformat": 4,
 "nbformat_minor": 5
}
