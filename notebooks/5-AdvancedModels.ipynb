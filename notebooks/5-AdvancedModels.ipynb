{
 "cells": [
  {
   "cell_type": "code",
   "execution_count": 135,
   "id": "b9f5be06-b2bf-45f4-89ca-ccc7a602742a",
   "metadata": {},
   "outputs": [
    {
     "ename": "ImportError",
     "evalue": "cannot import name 'CalibrationDisplay' from 'sklearn.calibration' (C:\\Users\\merie\\anaconda3\\lib\\site-packages\\sklearn\\calibration.py)",
     "output_type": "error",
     "traceback": [
      "\u001b[1;31m---------------------------------------------------------------------------\u001b[0m",
      "\u001b[1;31mImportError\u001b[0m                               Traceback (most recent call last)",
      "\u001b[1;32m<ipython-input-135-65d1c0f79c3e>\u001b[0m in \u001b[0;36m<module>\u001b[1;34m\u001b[0m\n\u001b[0;32m      9\u001b[0m \u001b[1;32mfrom\u001b[0m \u001b[0msklearn\u001b[0m\u001b[1;33m.\u001b[0m\u001b[0mmetrics\u001b[0m \u001b[1;32mimport\u001b[0m \u001b[0mroc_auc_score\u001b[0m\u001b[1;33m\u001b[0m\u001b[1;33m\u001b[0m\u001b[0m\n\u001b[0;32m     10\u001b[0m \u001b[1;32mimport\u001b[0m \u001b[0mmatplotlib\u001b[0m\u001b[1;33m.\u001b[0m\u001b[0mpyplot\u001b[0m \u001b[1;32mas\u001b[0m \u001b[0mplt\u001b[0m\u001b[1;33m\u001b[0m\u001b[1;33m\u001b[0m\u001b[0m\n\u001b[1;32m---> 11\u001b[1;33m \u001b[1;32mfrom\u001b[0m \u001b[0msklearn\u001b[0m\u001b[1;33m.\u001b[0m\u001b[0mcalibration\u001b[0m \u001b[1;32mimport\u001b[0m \u001b[0mCalibrationDisplay\u001b[0m\u001b[1;33m\u001b[0m\u001b[1;33m\u001b[0m\u001b[0m\n\u001b[0m\u001b[0;32m     12\u001b[0m \u001b[1;33m\u001b[0m\u001b[0m\n\u001b[0;32m     13\u001b[0m \u001b[1;32mimport\u001b[0m \u001b[0mwarnings\u001b[0m\u001b[1;33m\u001b[0m\u001b[1;33m\u001b[0m\u001b[0m\n",
      "\u001b[1;31mImportError\u001b[0m: cannot import name 'CalibrationDisplay' from 'sklearn.calibration' (C:\\Users\\merie\\anaconda3\\lib\\site-packages\\sklearn\\calibration.py)"
     ]
    }
   ],
   "source": [
    "import pandas as pd\n",
    "import numpy as np\n",
    "import random\n",
    "from xgboost import XGBClassifier\n",
    "from sklearn.dummy import DummyClassifier\n",
    "from sklearn import preprocessing\n",
    "from sklearn.model_selection import train_test_split\n",
    "from sklearn.metrics import roc_curve\n",
    "from sklearn.metrics import roc_auc_score\n",
    "import matplotlib.pyplot as plt\n",
    "from sklearn.calibration import CalibrationDisplay\n",
    "\n",
    "import warnings\n",
    "warnings.filterwarnings(\"ignore\")"
   ]
  },
  {
   "cell_type": "code",
   "execution_count": 52,
   "id": "6f977f1d-4bf0-452f-951b-7c7c96ffcc21",
   "metadata": {},
   "outputs": [
    {
     "data": {
      "text/html": [
       "<div>\n",
       "<style scoped>\n",
       "    .dataframe tbody tr th:only-of-type {\n",
       "        vertical-align: middle;\n",
       "    }\n",
       "\n",
       "    .dataframe tbody tr th {\n",
       "        vertical-align: top;\n",
       "    }\n",
       "\n",
       "    .dataframe thead th {\n",
       "        text-align: right;\n",
       "    }\n",
       "</style>\n",
       "<table border=\"1\" class=\"dataframe\">\n",
       "  <thead>\n",
       "    <tr style=\"text-align: right;\">\n",
       "      <th></th>\n",
       "      <th>distance</th>\n",
       "      <th>angle</th>\n",
       "      <th>is_goal</th>\n",
       "    </tr>\n",
       "  </thead>\n",
       "  <tbody>\n",
       "    <tr>\n",
       "      <th>0</th>\n",
       "      <td>13.000000</td>\n",
       "      <td>67.380135</td>\n",
       "      <td>0</td>\n",
       "    </tr>\n",
       "    <tr>\n",
       "      <th>1</th>\n",
       "      <td>13.341664</td>\n",
       "      <td>167.005383</td>\n",
       "      <td>0</td>\n",
       "    </tr>\n",
       "    <tr>\n",
       "      <th>2</th>\n",
       "      <td>76.157731</td>\n",
       "      <td>60.068488</td>\n",
       "      <td>0</td>\n",
       "    </tr>\n",
       "    <tr>\n",
       "      <th>3</th>\n",
       "      <td>57.974132</td>\n",
       "      <td>75.004921</td>\n",
       "      <td>0</td>\n",
       "    </tr>\n",
       "    <tr>\n",
       "      <th>4</th>\n",
       "      <td>61.717096</td>\n",
       "      <td>63.019769</td>\n",
       "      <td>0</td>\n",
       "    </tr>\n",
       "  </tbody>\n",
       "</table>\n",
       "</div>"
      ],
      "text/plain": [
       "    distance       angle  is_goal\n",
       "0  13.000000   67.380135        0\n",
       "1  13.341664  167.005383        0\n",
       "2  76.157731   60.068488        0\n",
       "3  57.974132   75.004921        0\n",
       "4  61.717096   63.019769        0"
      ]
     },
     "execution_count": 52,
     "metadata": {},
     "output_type": "execute_result"
    }
   ],
   "source": [
    "# Read and preprocess data\n",
    "df = pd.read_csv('../data/AllSeasonsM2Q2.csv')\n",
    "\n",
    "df = df.drop('Unnamed: 0', 1)\n",
    "df = df[['distance', 'angle', 'Goal']]\n",
    "df = df.rename({'Goal': 'is_goal'}, axis=1)\n",
    "df = df[~(df['is_goal'].isnull() | df['distance'].isnull() | df['angle'].isnull())] #remove after fix\n",
    "df['is_goal'] = df['is_goal'].astype(np.int64)\n",
    "df.head()"
   ]
  },
  {
   "cell_type": "code",
   "execution_count": 15,
   "id": "54140614-b451-4090-a4ea-8f2681c7be7f",
   "metadata": {},
   "outputs": [
    {
     "data": {
      "text/plain": [
       "Index(['index', 'eventType', 'period', 'periodTime', 'periodType', 'gameID',\n",
       "       'teamOfShooter', 'homeOrAway', 'xCoord', 'yCoord', 'shooter', 'goalie',\n",
       "       'shotType', 'emptyNet', 'strength', 'season', 'rinkSide', 'gameType',\n",
       "       'totalPlayTime', 'lastEventType', 'lastEventPeriod',\n",
       "       'lastEventPeriodTime', 'lastEventXCoord', 'lastEventYCoord', 'Goal',\n",
       "       'EmptyNet', 'distanceFromNet', 'angle', 'gameSeconds',\n",
       "       'lastEventGameSeconds', 'timeFromLastEvent', 'distanceFromLastEvent',\n",
       "       'rebound', 'lastEventAngle', 'changeInAngleShot', 'speed'],\n",
       "      dtype='object')"
      ]
     },
     "execution_count": 15,
     "metadata": {},
     "output_type": "execute_result"
    }
   ],
   "source": [
    "df.columns"
   ]
  },
  {
   "cell_type": "code",
   "execution_count": 54,
   "id": "d79b4202-5aa0-414b-864f-f4fbd45a3f78",
   "metadata": {},
   "outputs": [
    {
     "data": {
      "text/html": [
       "<div>\n",
       "<style scoped>\n",
       "    .dataframe tbody tr th:only-of-type {\n",
       "        vertical-align: middle;\n",
       "    }\n",
       "\n",
       "    .dataframe tbody tr th {\n",
       "        vertical-align: top;\n",
       "    }\n",
       "\n",
       "    .dataframe thead th {\n",
       "        text-align: right;\n",
       "    }\n",
       "</style>\n",
       "<table border=\"1\" class=\"dataframe\">\n",
       "  <thead>\n",
       "    <tr style=\"text-align: right;\">\n",
       "      <th></th>\n",
       "      <th>distance</th>\n",
       "      <th>angle</th>\n",
       "    </tr>\n",
       "  </thead>\n",
       "  <tbody>\n",
       "    <tr>\n",
       "      <th>143124</th>\n",
       "      <td>52.497619</td>\n",
       "      <td>72.255328</td>\n",
       "    </tr>\n",
       "    <tr>\n",
       "      <th>9667</th>\n",
       "      <td>29.427878</td>\n",
       "      <td>9.782407</td>\n",
       "    </tr>\n",
       "    <tr>\n",
       "      <th>285044</th>\n",
       "      <td>37.121422</td>\n",
       "      <td>94.635463</td>\n",
       "    </tr>\n",
       "    <tr>\n",
       "      <th>50783</th>\n",
       "      <td>49.000000</td>\n",
       "      <td>90.000000</td>\n",
       "    </tr>\n",
       "    <tr>\n",
       "      <th>241011</th>\n",
       "      <td>10.049876</td>\n",
       "      <td>95.710593</td>\n",
       "    </tr>\n",
       "    <tr>\n",
       "      <th>...</th>\n",
       "      <td>...</td>\n",
       "      <td>...</td>\n",
       "    </tr>\n",
       "    <tr>\n",
       "      <th>122591</th>\n",
       "      <td>35.805028</td>\n",
       "      <td>125.909723</td>\n",
       "    </tr>\n",
       "    <tr>\n",
       "      <th>304154</th>\n",
       "      <td>58.051701</td>\n",
       "      <td>79.077195</td>\n",
       "    </tr>\n",
       "    <tr>\n",
       "      <th>152327</th>\n",
       "      <td>9.433981</td>\n",
       "      <td>57.994617</td>\n",
       "    </tr>\n",
       "    <tr>\n",
       "      <th>117964</th>\n",
       "      <td>57.271284</td>\n",
       "      <td>65.224859</td>\n",
       "    </tr>\n",
       "    <tr>\n",
       "      <th>305728</th>\n",
       "      <td>10.440307</td>\n",
       "      <td>16.699244</td>\n",
       "    </tr>\n",
       "  </tbody>\n",
       "</table>\n",
       "<p>244637 rows × 2 columns</p>\n",
       "</div>"
      ],
      "text/plain": [
       "         distance       angle\n",
       "143124  52.497619   72.255328\n",
       "9667    29.427878    9.782407\n",
       "285044  37.121422   94.635463\n",
       "50783   49.000000   90.000000\n",
       "241011  10.049876   95.710593\n",
       "...           ...         ...\n",
       "122591  35.805028  125.909723\n",
       "304154  58.051701   79.077195\n",
       "152327   9.433981   57.994617\n",
       "117964  57.271284   65.224859\n",
       "305728  10.440307   16.699244\n",
       "\n",
       "[244637 rows x 2 columns]"
      ]
     },
     "execution_count": 54,
     "metadata": {},
     "output_type": "execute_result"
    }
   ],
   "source": [
    "X = df.drop('is_goal', 1)\n",
    "y = df['is_goal'].to_numpy()\n",
    "X_train, X_val, y_train, y_val = train_test_split(X, y, test_size=0.2, random_state=0)\n",
    "X_train[['distance', 'angle']]"
   ]
  },
  {
   "cell_type": "markdown",
   "id": "6ce68211-99f2-4ce9-9093-0c4ef415ed3f",
   "metadata": {},
   "source": [
    "### Question-1:"
   ]
  },
  {
   "cell_type": "code",
   "execution_count": 4,
   "id": "d806633b-db3c-4c87-b631-ceafdecc2885",
   "metadata": {},
   "outputs": [
    {
     "name": "stdout",
     "output_type": "stream",
     "text": [
      "[17:19:23] WARNING: C:/Users/Administrator/workspace/xgboost-win64_release_1.5.0/src/learner.cc:1115: Starting in XGBoost 1.3.0, the default evaluation metric used with the objective 'binary:logistic' was changed from 'error' to 'logloss'. Explicitly set eval_metric if you'd like to restore the old behavior.\n",
      "Training accuracy: 0.9050266312945303\n",
      "Validation accuracy: 0.9063113145846958\n"
     ]
    }
   ],
   "source": [
    "### XGBoost on distance+angle ###\n",
    "\n",
    "X_train1 = X_train[['distance', 'angle']].to_numpy().reshape(-1, 2)\n",
    "X_val1 = X_val[['distance', 'angle']].to_numpy().reshape(-1, 2)\n",
    "\n",
    "xgb_clf1 = XGBClassifier().fit(X_train1, y_train)\n",
    "\n",
    "\n",
    "train_score1 = xgb_clf1.score(X_train1, y_train)\n",
    "val_score1 = xgb_clf1.score(X_val1, y_val)\n",
    "\n",
    "print(f'Training accuracy: {train_score1}')\n",
    "print(f'Validation accuracy: {val_score1}')"
   ]
  },
  {
   "cell_type": "code",
   "execution_count": 5,
   "id": "60ca1956-1bfb-4101-a697-5fd30072a7ba",
   "metadata": {},
   "outputs": [
    {
     "name": "stdout",
     "output_type": "stream",
     "text": [
      "Training accuracy: 0.4999611669534862\n",
      "Validation accuracy: 0.4988227599738391\n"
     ]
    }
   ],
   "source": [
    "### Random baseline ###\n",
    "random_clf = DummyClassifier(strategy=\"uniform\").fit(X_train1, y_train)\n",
    "\n",
    "train_score0 = random_clf.score(X_train1, y_train)\n",
    "val_score0 = random_clf.score(X_val1, y_val)\n",
    "\n",
    "print(f'Training accuracy: {train_score0}')\n",
    "print(f'Validation accuracy: {val_score0}')"
   ]
  },
  {
   "cell_type": "code",
   "execution_count": 6,
   "id": "c152aedf-665a-44b3-9259-2e7ba73ff798",
   "metadata": {},
   "outputs": [
    {
     "name": "stdout",
     "output_type": "stream",
     "text": [
      "XGBoost (trained on distance+angle): ROC AUC=0.712\n",
      "Random: ROC AUC=0.500\n"
     ]
    },
    {
     "data": {
      "image/png": "[encoded data removed]",
      "text/plain": [
       "<Figure size 432x432 with 1 Axes>"
      ]
     },
     "metadata": {
      "needs_background": "light"
     },
     "output_type": "display_data"
    }
   ],
   "source": [
    "### ROC curve - AUC metric ###\n",
    "\n",
    "xgb_probs1 = xgb_clf1.predict_proba(X_val1[:, :])[:,1]\n",
    "random_probs = random_clf.predict_proba(X_val1[:, :])[:,1]\n",
    "\n",
    "\n",
    "xgb_auc1 = roc_auc_score(y_val, xgb_probs1)\n",
    "random_auc = roc_auc_score(y_val, random_probs)\n",
    "\n",
    "print('XGBoost (trained on distance+angle): ROC AUC=%.3f' % (xgb_auc1))\n",
    "print('Random: ROC AUC=%.3f' % (random_auc))\n",
    "\n",
    "xgb_fpr1, xgb_tpr1, _ = roc_curve(y_val, xgb_probs1)\n",
    "random_fpr, random_tpr, _ = roc_curve(y_val, random_probs)\n",
    "\n",
    "plt.figure(figsize=(6, 6))\n",
    "\n",
    "plt.plot(xgb_fpr1, xgb_tpr1, marker='.', label='XGBoost (distance+angle)')\n",
    "plt.plot(random_fpr, random_tpr, linestyle='--', marker='.', label='Random')\n",
    "\n",
    "\n",
    "plt.xlabel('False Positive Rate')\n",
    "plt.ylabel('True Positive Rate')\n",
    "plt.legend()\n",
    "\n",
    "# plt.savefig('../figures/roc.png')\n",
    "\n",
    "plt.show()"
   ]
  },
  {
   "cell_type": "code",
   "execution_count": 125,
   "id": "fe7d5d64-2e95-49a9-a6bb-61156419ccc4",
   "metadata": {},
   "outputs": [],
   "source": [
    "def compute_goal_rate_per_percentile(probs, y):\n",
    "    percentiles = []\n",
    "    rates = []\n",
    "\n",
    "    for i in range(0, 101):\n",
    "        percentile = np.percentile(probs, i)\n",
    "        goals = 0\n",
    "        no_goals = 0\n",
    "        for idx, p in enumerate(probs):\n",
    "            if p<=percentile:\n",
    "                if y[idx]==1:\n",
    "                    goals+=1\n",
    "                else:\n",
    "                    no_goals+=1\n",
    "        rate = goals / (goals + no_goals)\n",
    "        percentiles.append(percentile)\n",
    "        rates.append(rate)\n",
    "    return percentiles, rates"
   ]
  },
  {
   "cell_type": "code",
   "execution_count": 7,
   "id": "75d871d8-d69a-4489-ada5-8d3559043caa",
   "metadata": {},
   "outputs": [
    {
     "data": {
      "image/png": "[encoded data removed]",
      "text/plain": [
       "<Figure size 432x432 with 1 Axes>"
      ]
     },
     "metadata": {
      "needs_background": "light"
     },
     "output_type": "display_data"
    }
   ],
   "source": [
    "### goal_rate = F(shot probability model percentile) ###\n",
    "\n",
    "\n",
    "\n",
    "percentiles1, rates1 = compute_goal_rate_per_percentile(xgb_probs1, y_val)\n",
    "percentiles2, rates2 = compute_goal_rate_per_percentile(random_probs, y_val)\n",
    "\n",
    "plt.figure(figsize=(6, 6))\n",
    "\n",
    "plt.plot(percentiles1, rates1, marker='.', label='XGBoost (distance)')\n",
    "plt.plot(percentiles2, rates2, marker='.', label='Random')\n",
    "\n",
    "plt.xlabel('Shot probability model percentile')\n",
    "plt.ylabel('Goal rate')\n",
    "plt.legend()\n",
    "\n",
    "# plt.savefig('../figures/goal_rate_percentile_1.png')\n",
    "\n",
    "plt.show()"
   ]
  },
  {
   "cell_type": "code",
   "execution_count": 126,
   "id": "18694971-792d-439c-9720-e0a2001ebb5c",
   "metadata": {},
   "outputs": [],
   "source": [
    "\n",
    "def compute_cumulative_goal_rate_per_percentile(probs, y):\n",
    "    percentiles = []\n",
    "    rates = []\n",
    "    cum_rate = 0\n",
    "\n",
    "    for i in range(0, 101):\n",
    "        percentile = np.percentile(probs, i)\n",
    "        goals = 0\n",
    "        no_goals = 0\n",
    "        for idx, p in enumerate(probs):\n",
    "            if p<=percentile:\n",
    "                if y[idx]==1:\n",
    "                    goals+=1\n",
    "                else:\n",
    "                    no_goals+=1\n",
    "        cum_rate += goals / (goals + no_goals)\n",
    "        percentiles.append(percentile)\n",
    "        rates.append(cum_rate)\n",
    "    return percentiles, rates\n",
    "\n"
   ]
  },
  {
   "cell_type": "code",
   "execution_count": 8,
   "id": "f34743ed-2d3b-4600-aeaa-be198d09ef0b",
   "metadata": {},
   "outputs": [
    {
     "data": {
      "image/png": "[encoded data removed]",
      "text/plain": [
       "<Figure size 432x432 with 1 Axes>"
      ]
     },
     "metadata": {
      "needs_background": "light"
     },
     "output_type": "display_data"
    }
   ],
   "source": [
    "### cumulative portion of goals = F(shot probability model percentile) ###\n",
    "\n",
    "percentiles1, rates1 = compute_cumulative_goal_rate_per_percentile(xgb_probs1, y_val)\n",
    "percentiles2, rates2 = compute_cumulative_goal_rate_per_percentile(random_probs, y_val)\n",
    "\n",
    "plt.figure(figsize=(6, 6))\n",
    "\n",
    "plt.plot(percentiles1, rates1, marker='.', label='XGBoost (distance+angle)')\n",
    "plt.plot(percentiles2, rates2, marker='.', label='Random')\n",
    "\n",
    "plt.xlabel('Shot probability model percentile')\n",
    "plt.ylabel('Goal rate')\n",
    "plt.legend()\n",
    "\n",
    "# plt.savefig('../figures/goal_rate_percentile_2.png')\n",
    "\n",
    "plt.show()"
   ]
  },
  {
   "cell_type": "code",
   "execution_count": 9,
   "id": "9902355f-f0b4-4aab-8418-ac3c5a2b07c5",
   "metadata": {},
   "outputs": [
    {
     "data": {
      "image/png": "[encoded data removed]",
      "text/plain": [
       "<Figure size 432x432 with 1 Axes>"
      ]
     },
     "metadata": {
      "needs_background": "light"
     },
     "output_type": "display_data"
    }
   ],
   "source": [
    "fig, ax = plt.subplots(figsize=(6, 6))\n",
    "\n",
    "disp1 = CalibrationDisplay.from_estimator(xgb_clf1, X_val1, y_val, label='XGBoost (distance+angle)', ax=ax)\n",
    "disp4 = CalibrationDisplay.from_estimator(random_clf, X_val1, y_val, label='Random', ax=ax)\n",
    "\n",
    "# plt.savefig('../figures/calibration_diagram.png')\n",
    "\n",
    "plt.show()"
   ]
  },
  {
   "cell_type": "code",
   "execution_count": 70,
   "id": "6fd15cd5-8216-46a8-849b-41058d5ccea1",
   "metadata": {},
   "outputs": [
    {
     "data": {
      "text/plain": [
       "Index(['Unnamed: 0', 'index', 'eventType', 'period', 'periodTime',\n",
       "       'periodType', 'gameID', 'teamOfShooter', 'homeOrAway', 'xCoord',\n",
       "       'yCoord', 'shooter', 'goalie', 'shotType', 'emptyNet', 'strength',\n",
       "       'season', 'rinkSide', 'gameType', 'totalPlayTime', 'lastEventType',\n",
       "       'lastEventPeriod', 'lastEventPeriodTime', 'lastEventXCoord',\n",
       "       'lastEventYCoord', 'Goal', 'EmptyNet', 'distanceFromNet', 'angle',\n",
       "       'gameSeconds', 'lastEventGameSeconds', 'timeFromLastEvent',\n",
       "       'distanceFromLastEvent', 'rebound', 'lastEventAngle',\n",
       "       'changeInAngleShot', 'speed'],\n",
       "      dtype='object')"
      ]
     },
     "execution_count": 70,
     "metadata": {},
     "output_type": "execute_result"
    }
   ],
   "source": [
    "df.columns"
   ]
  },
  {
   "cell_type": "code",
   "execution_count": 73,
   "id": "d1204c47-d324-4761-b0bc-310838fa2e15",
   "metadata": {},
   "outputs": [
    {
     "data": {
      "text/html": [
       "<div>\n",
       "<style scoped>\n",
       "    .dataframe tbody tr th:only-of-type {\n",
       "        vertical-align: middle;\n",
       "    }\n",
       "\n",
       "    .dataframe tbody tr th {\n",
       "        vertical-align: top;\n",
       "    }\n",
       "\n",
       "    .dataframe thead th {\n",
       "        text-align: right;\n",
       "    }\n",
       "</style>\n",
       "<table border=\"1\" class=\"dataframe\">\n",
       "  <thead>\n",
       "    <tr style=\"text-align: right;\">\n",
       "      <th></th>\n",
       "      <th>gameSeconds</th>\n",
       "      <th>totalPlayTime</th>\n",
       "    </tr>\n",
       "  </thead>\n",
       "  <tbody>\n",
       "    <tr>\n",
       "      <th>0</th>\n",
       "      <td>71</td>\n",
       "      <td>01:00:37</td>\n",
       "    </tr>\n",
       "    <tr>\n",
       "      <th>1</th>\n",
       "      <td>173</td>\n",
       "      <td>01:00:37</td>\n",
       "    </tr>\n",
       "    <tr>\n",
       "      <th>2</th>\n",
       "      <td>241</td>\n",
       "      <td>01:00:37</td>\n",
       "    </tr>\n",
       "    <tr>\n",
       "      <th>3</th>\n",
       "      <td>286</td>\n",
       "      <td>01:00:37</td>\n",
       "    </tr>\n",
       "    <tr>\n",
       "      <th>4</th>\n",
       "      <td>406</td>\n",
       "      <td>01:00:37</td>\n",
       "    </tr>\n",
       "    <tr>\n",
       "      <th>...</th>\n",
       "      <td>...</td>\n",
       "      <td>...</td>\n",
       "    </tr>\n",
       "    <tr>\n",
       "      <th>305809</th>\n",
       "      <td>3405</td>\n",
       "      <td>01:00:00</td>\n",
       "    </tr>\n",
       "    <tr>\n",
       "      <th>305810</th>\n",
       "      <td>3440</td>\n",
       "      <td>01:00:00</td>\n",
       "    </tr>\n",
       "    <tr>\n",
       "      <th>305811</th>\n",
       "      <td>3442</td>\n",
       "      <td>01:00:00</td>\n",
       "    </tr>\n",
       "    <tr>\n",
       "      <th>305812</th>\n",
       "      <td>3530</td>\n",
       "      <td>01:00:00</td>\n",
       "    </tr>\n",
       "    <tr>\n",
       "      <th>305813</th>\n",
       "      <td>3579</td>\n",
       "      <td>01:00:00</td>\n",
       "    </tr>\n",
       "  </tbody>\n",
       "</table>\n",
       "<p>305814 rows × 2 columns</p>\n",
       "</div>"
      ],
      "text/plain": [
       "        gameSeconds totalPlayTime\n",
       "0                71      01:00:37\n",
       "1               173      01:00:37\n",
       "2               241      01:00:37\n",
       "3               286      01:00:37\n",
       "4               406      01:00:37\n",
       "...             ...           ...\n",
       "305809         3405      01:00:00\n",
       "305810         3440      01:00:00\n",
       "305811         3442      01:00:00\n",
       "305812         3530      01:00:00\n",
       "305813         3579      01:00:00\n",
       "\n",
       "[305814 rows x 2 columns]"
      ]
     },
     "execution_count": 73,
     "metadata": {},
     "output_type": "execute_result"
    }
   ],
   "source": [
    "df[['gameSeconds','totalPlayTime']]  #difference ? \n",
    "#a problem with last event angle ? "
   ]
  },
  {
   "cell_type": "markdown",
   "id": "b9e7b4ea-6ec0-4593-8a9d-ec2381929067",
   "metadata": {},
   "source": [
    "### Question-2: XGBoost classifier using all of the features:\n",
    "Game seconds-\n",
    "Game period-\n",
    "Coordinates (x,y, separate columns)-\n",
    "Shot distance-\n",
    "Shot angle-\n",
    "Shot type-\n",
    "Empty net-\n",
    "Last event type-\n",
    "Coordinates of the last event (x, y, separate columns)-\n",
    "Time from the last event (seconds)-\n",
    "Distance from the last event-\n",
    "Rebound (bool): -\n",
    "Change in shot angle-\n",
    "“Speed”-"
   ]
  },
  {
   "cell_type": "code",
   "execution_count": 119,
   "id": "91d760bb-3716-47d2-ada8-7c8200c9e9b5",
   "metadata": {},
   "outputs": [],
   "source": [
    "df=  pd.read_csv('../data/AllSeasonsM2Q4.csv')\n",
    "\n",
    "df['rebound']=df['rebound'].astype(int)\n",
    "FinalDf = df[['gameSeconds','periodTime','xCoord','yCoord','distanceFromNet','angle','shotType','EmptyNet','lastEventType', 'lastEventXCoord',\n",
    "       'lastEventYCoord','lastEventGameSeconds','distanceFromLastEvent','rebound', 'lastEventAngle',\n",
    "       'changeInAngleShot', 'speed','Goal']]\n",
    "obj_df=FinalDf.select_dtypes(include=['object']).copy()\n",
    "\n",
    "FinalDf=FinalDf.drop(obj_df.columns, axis=1)\n",
    "\n",
    "obj_df=obj_df.apply(preprocessing.LabelEncoder().fit_transform)\n",
    "Frame=pd.concat([FinalDf,obj_df],axis=1)\n",
    "\n",
    "\n",
    "\n"
   ]
  },
  {
   "cell_type": "code",
   "execution_count": 120,
   "id": "8ee02d5f-b9d1-46fa-9b3a-3958d8e3535d",
   "metadata": {},
   "outputs": [],
   "source": [
    "X = Frame.drop('Goal', 1)\n",
    "y = Frame['Goal'].to_numpy()\n",
    "X_trainXG_All, X_valXG_All, y_trainXG_All, y_valXG_All = train_test_split(X, y, test_size=0.2, random_state=0)\n"
   ]
  },
  {
   "cell_type": "code",
   "execution_count": 122,
   "id": "d5416fbd-9b66-4e9e-9108-1751dab5d697",
   "metadata": {},
   "outputs": [
    {
     "name": "stderr",
     "output_type": "stream",
     "text": [
      "C:\\Users\\merie\\anaconda3\\lib\\site-packages\\xgboost\\sklearn.py:1224: UserWarning: The use of label encoder in XGBClassifier is deprecated and will be removed in a future release. To remove this warning, do the following: 1) Pass option use_label_encoder=False when constructing XGBClassifier object; and 2) Encode your labels (y) as integers starting with 0, i.e. 0, 1, 2, ..., [num_class - 1].\n",
      "  warnings.warn(label_encoder_deprecation_msg, UserWarning)\n"
     ]
    },
    {
     "name": "stdout",
     "output_type": "stream",
     "text": [
      "[11:46:01] WARNING: C:/Users/Administrator/workspace/xgboost-win64_release_1.5.0/src/learner.cc:1115: Starting in XGBoost 1.3.0, the default evaluation metric used with the objective 'binary:logistic' was changed from 'error' to 'logloss'. Explicitly set eval_metric if you'd like to restore the old behavior.\n",
      "Training accuracy: 0.9127818811286281\n",
      "Validation accuracy: 0.9090626686068375\n"
     ]
    }
   ],
   "source": [
    "### XGBoost using all features only encoding  ###\n",
    "\n",
    "X_train1XG_All = X_trainXG_All.to_numpy().reshape(-1, len(X_trainXG_All.columns))\n",
    "X_val1XG_All = X_valXG_All.to_numpy().reshape(-1, len(X_trainXG_All.columns))\n",
    "\n",
    "xgb_clf2 = XGBClassifier().fit(X_train1XG_All, y_trainXG_All)\n",
    "\n",
    "train_score1 = xgb_clf2.score(X_train1XG_All, y_trainXG_All)\n",
    "val_score1 = xgb_clf2.score(X_val1XG_All, y_valXG_All)\n",
    "\n",
    "print(f'Training accuracy: {train_score1}')\n",
    "print(f'Validation accuracy: {val_score1}')"
   ]
  },
  {
   "cell_type": "code",
   "execution_count": 123,
   "id": "2bd638e8-21b7-4b11-8b0a-c50c83addee0",
   "metadata": {},
   "outputs": [
    {
     "name": "stdout",
     "output_type": "stream",
     "text": [
      "Training accuracy: 0.4992499519724015\n",
      "Validation accuracy: 0.4987492438238805\n",
      "XGBoost (trained on all ffeatures): ROC AUC=0.767\n",
      "Random: ROC AUC=0.500\n"
     ]
    },
    {
     "data": {
      "image/png": "[encoded data removed]",
      "text/plain": [
       "<Figure size 432x432 with 1 Axes>"
      ]
     },
     "metadata": {
      "needs_background": "light"
     },
     "output_type": "display_data"
    }
   ],
   "source": [
    "### ROC curve - AUC metric ###\n",
    "random_clf2 = DummyClassifier(strategy=\"uniform\").fit(X_trainXG_All, y_trainXG_All)\n",
    "\n",
    "train_score2 = random_clf2.score(X_trainXG_All, y_trainXG_All)\n",
    "val_score2 = random_clf2.score(X_val1XG_All, y_valXG_All)\n",
    "\n",
    "print(f'Training accuracy: {train_score2}')\n",
    "print(f'Validation accuracy: {val_score2}')\n",
    "\n",
    "xgb_probs2 = xgb_clf2.predict_proba(X_val1XG_All[:, :])[:,1]\n",
    "random_probs2 = random_clf2.predict_proba(X_val1XG_All[:, :])[:,1]\n",
    "\n",
    "\n",
    "xgb_auc2 = roc_auc_score(y_val, xgb_probs2)\n",
    "random_auc2 = roc_auc_score(y_val, random_probs2)\n",
    "\n",
    "print('XGBoost (trained on all ffeatures): ROC AUC=%.3f' % (xgb_auc2))\n",
    "print('Random: ROC AUC=%.3f' % (random_auc2))\n",
    "\n",
    "xgb_fpr1, xgb_tpr1, _ = roc_curve(y_valXG_All, xgb_probs2)\n",
    "random_fpr, random_tpr, _ = roc_curve(y_valXG_All, random_probs2)\n",
    "\n",
    "plt.figure(figsize=(6, 6))\n",
    "\n",
    "plt.plot(xgb_fpr1, xgb_tpr1, marker='.', label='XGBoost (allFeatures)')\n",
    "plt.plot(random_fpr, random_tpr, linestyle='--', marker='.', label='Random')\n",
    "\n",
    "\n",
    "plt.xlabel('False Positive Rate')\n",
    "plt.ylabel('True Positive Rate')\n",
    "plt.legend()\n",
    "\n",
    "# plt.savefig('../figures/roc.png')\n",
    "\n",
    "plt.show()"
   ]
  },
  {
   "cell_type": "code",
   "execution_count": 128,
   "id": "5cb0fb17-ae34-4861-98d6-083cd1cbd0cc",
   "metadata": {},
   "outputs": [
    {
     "data": {
      "image/png": "[encoded data removed]",
      "text/plain": [
       "<Figure size 432x432 with 1 Axes>"
      ]
     },
     "metadata": {
      "needs_background": "light"
     },
     "output_type": "display_data"
    }
   ],
   "source": [
    "### goal_rate = F(shot probability model percentile) ###\n",
    "\n",
    "\n",
    "\n",
    "percentiles1, rates1 = compute_goal_rate_per_percentile(xgb_probs2, y_valXG_All)\n",
    "percentiles2, rates2 = compute_goal_rate_per_percentile(random_probs2, y_valXG_All)\n",
    "\n",
    "plt.figure(figsize=(6, 6))\n",
    "\n",
    "plt.plot(percentiles1, rates1, marker='.', label='XGBoost (all features)')\n",
    "plt.plot(percentiles2, rates2, marker='.', label='Random')\n",
    "\n",
    "plt.xlabel('Shot probability model percentile')\n",
    "plt.ylabel('Goal rate')\n",
    "plt.legend()\n",
    "\n",
    "\n",
    "\n",
    "plt.show()"
   ]
  },
  {
   "cell_type": "code",
   "execution_count": 130,
   "id": "a308903a-c0f0-4480-b5e3-a71451798862",
   "metadata": {},
   "outputs": [
    {
     "data": {
      "image/png": "[encoded data removed]",
      "text/plain": [
       "<Figure size 432x432 with 1 Axes>"
      ]
     },
     "metadata": {
      "needs_background": "light"
     },
     "output_type": "display_data"
    }
   ],
   "source": [
    "percentiles1, rates1 = compute_cumulative_goal_rate_per_percentile(xgb_probs2, y_valXG_All)\n",
    "percentiles2, rates2 = compute_cumulative_goal_rate_per_percentile(random_probs2, y_valXG_All)\n",
    "\n",
    "plt.figure(figsize=(6, 6))\n",
    "\n",
    "plt.plot(percentiles1, rates1, marker='.', label='XGBoost (All features)')\n",
    "plt.plot(percentiles2, rates2, marker='.', label='Random')\n",
    "\n",
    "plt.xlabel('Shot probability model percentile')\n",
    "plt.ylabel('Goal rate')\n",
    "plt.legend()\n",
    "\n",
    "\n",
    "\n",
    "plt.show()"
   ]
  },
  {
   "cell_type": "code",
   "execution_count": 133,
   "id": "87937655-a1be-48c9-9da9-0532f37f4336",
   "metadata": {},
   "outputs": [
    {
     "ename": "NameError",
     "evalue": "name 'CalibrationDisplay' is not defined",
     "output_type": "error",
     "traceback": [
      "\u001b[1;31m---------------------------------------------------------------------------\u001b[0m",
      "\u001b[1;31mNameError\u001b[0m                                 Traceback (most recent call last)",
      "\u001b[1;32m<ipython-input-133-e299bfba68d6>\u001b[0m in \u001b[0;36m<module>\u001b[1;34m\u001b[0m\n\u001b[0;32m      1\u001b[0m \u001b[0mfig\u001b[0m\u001b[1;33m,\u001b[0m \u001b[0max\u001b[0m \u001b[1;33m=\u001b[0m \u001b[0mplt\u001b[0m\u001b[1;33m.\u001b[0m\u001b[0msubplots\u001b[0m\u001b[1;33m(\u001b[0m\u001b[0mfigsize\u001b[0m\u001b[1;33m=\u001b[0m\u001b[1;33m(\u001b[0m\u001b[1;36m6\u001b[0m\u001b[1;33m,\u001b[0m \u001b[1;36m6\u001b[0m\u001b[1;33m)\u001b[0m\u001b[1;33m)\u001b[0m\u001b[1;33m\u001b[0m\u001b[1;33m\u001b[0m\u001b[0m\n\u001b[0;32m      2\u001b[0m \u001b[1;33m\u001b[0m\u001b[0m\n\u001b[1;32m----> 3\u001b[1;33m \u001b[0mdisp1\u001b[0m \u001b[1;33m=\u001b[0m \u001b[0mCalibrationDisplay\u001b[0m\u001b[1;33m.\u001b[0m\u001b[0mfrom_estimator\u001b[0m\u001b[1;33m(\u001b[0m\u001b[0mxgb_clf1\u001b[0m\u001b[1;33m,\u001b[0m \u001b[0mX_valXG_All\u001b[0m\u001b[1;33m,\u001b[0m \u001b[0my_valXG_All\u001b[0m\u001b[1;33m,\u001b[0m \u001b[0mlabel\u001b[0m\u001b[1;33m=\u001b[0m\u001b[1;34m'XGBoost (All)'\u001b[0m\u001b[1;33m,\u001b[0m \u001b[0max\u001b[0m\u001b[1;33m=\u001b[0m\u001b[0max\u001b[0m\u001b[1;33m)\u001b[0m\u001b[1;33m\u001b[0m\u001b[1;33m\u001b[0m\u001b[0m\n\u001b[0m\u001b[0;32m      4\u001b[0m \u001b[0mdisp4\u001b[0m \u001b[1;33m=\u001b[0m \u001b[0mCalibrationDisplay\u001b[0m\u001b[1;33m.\u001b[0m\u001b[0mfrom_estimator\u001b[0m\u001b[1;33m(\u001b[0m\u001b[0mrandom_clf\u001b[0m\u001b[1;33m,\u001b[0m \u001b[0mX_valXG_All\u001b[0m\u001b[1;33m,\u001b[0m \u001b[0my_valXG_All\u001b[0m\u001b[1;33m,\u001b[0m \u001b[0mlabel\u001b[0m\u001b[1;33m=\u001b[0m\u001b[1;34m'Random'\u001b[0m\u001b[1;33m,\u001b[0m \u001b[0max\u001b[0m\u001b[1;33m=\u001b[0m\u001b[0max\u001b[0m\u001b[1;33m)\u001b[0m\u001b[1;33m\u001b[0m\u001b[1;33m\u001b[0m\u001b[0m\n\u001b[0;32m      5\u001b[0m \u001b[1;33m\u001b[0m\u001b[0m\n",
      "\u001b[1;31mNameError\u001b[0m: name 'CalibrationDisplay' is not defined"
     ]
    },
    {
     "data": {
      "image/png": "[encoded data removed]",
      "text/plain": [
       "<Figure size 432x432 with 1 Axes>"
      ]
     },
     "metadata": {
      "needs_background": "light"
     },
     "output_type": "display_data"
    }
   ],
   "source": [
    "fig, ax = plt.subplots(figsize=(6, 6))\n",
    "\n",
    "disp1 = CalibrationDisplay.from_estimator(xgb_clf1, X_valXG_All, y_valXG_All, label='XGBoost (All)', ax=ax)\n",
    "disp4 = CalibrationDisplay.from_estimator(random_clf, X_valXG_All, y_valXG_All, label='Random', ax=ax)\n",
    "\n",
    "# plt.savefig('../figures/calibration_diagram.png')\n",
    "\n",
    "plt.show()"
   ]
  },
  {
   "cell_type": "code",
   "execution_count": null,
   "id": "bea6691b-98b1-4dec-aa57-3dbbb96a7043",
   "metadata": {},
   "outputs": [],
   "source": [
    "### XGBoost using all features encoding + MinMaxScaling for some features ###\n"
   ]
  }
 ],
 "metadata": {
  "kernelspec": {
   "display_name": "Python 3",
   "language": "python",
   "name": "python3"
  },
  "language_info": {
   "codemirror_mode": {
    "name": "ipython",
    "version": 3
   },
   "file_extension": ".py",
   "mimetype": "text/x-python",
   "name": "python",
   "nbconvert_exporter": "python",
   "pygments_lexer": "ipython3",
   "version": "3.8.8"
  }
 },
 "nbformat": 4,
 "nbformat_minor": 5
}
