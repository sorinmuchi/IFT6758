{
 "cells": [
  {
   "cell_type": "code",
   "execution_count": 64,
   "id": "b9f5be06-b2bf-45f4-89ca-ccc7a602742a",
   "metadata": {},
   "outputs": [],
   "source": [
    "import pandas as pd\n",
    "import numpy as np\n",
    "import random\n",
    "from xgboost import XGBClassifier\n",
    "from sklearn.dummy import DummyClassifier\n",
    "from sklearn import preprocessing\n",
    "from sklearn.model_selection import train_test_split\n",
    "from sklearn.metrics import roc_curve\n",
    "from sklearn.metrics import roc_auc_score\n",
    "import matplotlib.pyplot as plt\n",
    "from sklearn.feature_selection import VarianceThreshold\n",
    "from sklearn.calibration import CalibrationDisplay\n",
    "\n",
    "\n",
    "import warnings\n",
    "warnings.filterwarnings(\"ignore\")"
   ]
  },
  {
   "cell_type": "code",
   "execution_count": 52,
   "id": "6f977f1d-4bf0-452f-951b-7c7c96ffcc21",
   "metadata": {},
   "outputs": [
    {
     "data": {
      "text/html": [
       "<div>\n",
       "<style scoped>\n",
       "    .dataframe tbody tr th:only-of-type {\n",
       "        vertical-align: middle;\n",
       "    }\n",
       "\n",
       "    .dataframe tbody tr th {\n",
       "        vertical-align: top;\n",
       "    }\n",
       "\n",
       "    .dataframe thead th {\n",
       "        text-align: right;\n",
       "    }\n",
       "</style>\n",
       "<table border=\"1\" class=\"dataframe\">\n",
       "  <thead>\n",
       "    <tr style=\"text-align: right;\">\n",
       "      <th></th>\n",
       "      <th>distance</th>\n",
       "      <th>angle</th>\n",
       "      <th>is_goal</th>\n",
       "    </tr>\n",
       "  </thead>\n",
       "  <tbody>\n",
       "    <tr>\n",
       "      <th>0</th>\n",
       "      <td>13.000000</td>\n",
       "      <td>67.380135</td>\n",
       "      <td>0</td>\n",
       "    </tr>\n",
       "    <tr>\n",
       "      <th>1</th>\n",
       "      <td>13.341664</td>\n",
       "      <td>167.005383</td>\n",
       "      <td>0</td>\n",
       "    </tr>\n",
       "    <tr>\n",
       "      <th>2</th>\n",
       "      <td>76.157731</td>\n",
       "      <td>60.068488</td>\n",
       "      <td>0</td>\n",
       "    </tr>\n",
       "    <tr>\n",
       "      <th>3</th>\n",
       "      <td>57.974132</td>\n",
       "      <td>75.004921</td>\n",
       "      <td>0</td>\n",
       "    </tr>\n",
       "    <tr>\n",
       "      <th>4</th>\n",
       "      <td>61.717096</td>\n",
       "      <td>63.019769</td>\n",
       "      <td>0</td>\n",
       "    </tr>\n",
       "  </tbody>\n",
       "</table>\n",
       "</div>"
      ],
      "text/plain": [
       "    distance       angle  is_goal\n",
       "0  13.000000   67.380135        0\n",
       "1  13.341664  167.005383        0\n",
       "2  76.157731   60.068488        0\n",
       "3  57.974132   75.004921        0\n",
       "4  61.717096   63.019769        0"
      ]
     },
     "execution_count": 52,
     "metadata": {},
     "output_type": "execute_result"
    }
   ],
   "source": [
    "# Read and preprocess data\n",
    "df = pd.read_csv('../data/AllSeasonsM2Q2.csv')\n",
    "\n",
    "df = df.drop('Unnamed: 0', 1)\n",
    "df = df[['distance', 'angle', 'Goal']]\n",
    "df = df.rename({'Goal': 'is_goal'}, axis=1)\n",
    "df = df[~(df['is_goal'].isnull() | df['distance'].isnull() | df['angle'].isnull())] #remove after fix\n",
    "df['is_goal'] = df['is_goal'].astype(np.int64)\n",
    "df.head()"
   ]
  },
  {
   "cell_type": "code",
   "execution_count": 15,
   "id": "54140614-b451-4090-a4ea-8f2681c7be7f",
   "metadata": {},
   "outputs": [
    {
     "data": {
      "text/plain": [
       "Index(['index', 'eventType', 'period', 'periodTime', 'periodType', 'gameID',\n",
       "       'teamOfShooter', 'homeOrAway', 'xCoord', 'yCoord', 'shooter', 'goalie',\n",
       "       'shotType', 'emptyNet', 'strength', 'season', 'rinkSide', 'gameType',\n",
       "       'totalPlayTime', 'lastEventType', 'lastEventPeriod',\n",
       "       'lastEventPeriodTime', 'lastEventXCoord', 'lastEventYCoord', 'Goal',\n",
       "       'EmptyNet', 'distanceFromNet', 'angle', 'gameSeconds',\n",
       "       'lastEventGameSeconds', 'timeFromLastEvent', 'distanceFromLastEvent',\n",
       "       'rebound', 'lastEventAngle', 'changeInAngleShot', 'speed'],\n",
       "      dtype='object')"
      ]
     },
     "execution_count": 15,
     "metadata": {},
     "output_type": "execute_result"
    }
   ],
   "source": [
    "df.columns"
   ]
  },
  {
   "cell_type": "code",
   "execution_count": 54,
   "id": "d79b4202-5aa0-414b-864f-f4fbd45a3f78",
   "metadata": {},
   "outputs": [
    {
     "data": {
      "text/html": [
       "<div>\n",
       "<style scoped>\n",
       "    .dataframe tbody tr th:only-of-type {\n",
       "        vertical-align: middle;\n",
       "    }\n",
       "\n",
       "    .dataframe tbody tr th {\n",
       "        vertical-align: top;\n",
       "    }\n",
       "\n",
       "    .dataframe thead th {\n",
       "        text-align: right;\n",
       "    }\n",
       "</style>\n",
       "<table border=\"1\" class=\"dataframe\">\n",
       "  <thead>\n",
       "    <tr style=\"text-align: right;\">\n",
       "      <th></th>\n",
       "      <th>distance</th>\n",
       "      <th>angle</th>\n",
       "    </tr>\n",
       "  </thead>\n",
       "  <tbody>\n",
       "    <tr>\n",
       "      <th>143124</th>\n",
       "      <td>52.497619</td>\n",
       "      <td>72.255328</td>\n",
       "    </tr>\n",
       "    <tr>\n",
       "      <th>9667</th>\n",
       "      <td>29.427878</td>\n",
       "      <td>9.782407</td>\n",
       "    </tr>\n",
       "    <tr>\n",
       "      <th>285044</th>\n",
       "      <td>37.121422</td>\n",
       "      <td>94.635463</td>\n",
       "    </tr>\n",
       "    <tr>\n",
       "      <th>50783</th>\n",
       "      <td>49.000000</td>\n",
       "      <td>90.000000</td>\n",
       "    </tr>\n",
       "    <tr>\n",
       "      <th>241011</th>\n",
       "      <td>10.049876</td>\n",
       "      <td>95.710593</td>\n",
       "    </tr>\n",
       "    <tr>\n",
       "      <th>...</th>\n",
       "      <td>...</td>\n",
       "      <td>...</td>\n",
       "    </tr>\n",
       "    <tr>\n",
       "      <th>122591</th>\n",
       "      <td>35.805028</td>\n",
       "      <td>125.909723</td>\n",
       "    </tr>\n",
       "    <tr>\n",
       "      <th>304154</th>\n",
       "      <td>58.051701</td>\n",
       "      <td>79.077195</td>\n",
       "    </tr>\n",
       "    <tr>\n",
       "      <th>152327</th>\n",
       "      <td>9.433981</td>\n",
       "      <td>57.994617</td>\n",
       "    </tr>\n",
       "    <tr>\n",
       "      <th>117964</th>\n",
       "      <td>57.271284</td>\n",
       "      <td>65.224859</td>\n",
       "    </tr>\n",
       "    <tr>\n",
       "      <th>305728</th>\n",
       "      <td>10.440307</td>\n",
       "      <td>16.699244</td>\n",
       "    </tr>\n",
       "  </tbody>\n",
       "</table>\n",
       "<p>244637 rows × 2 columns</p>\n",
       "</div>"
      ],
      "text/plain": [
       "         distance       angle\n",
       "143124  52.497619   72.255328\n",
       "9667    29.427878    9.782407\n",
       "285044  37.121422   94.635463\n",
       "50783   49.000000   90.000000\n",
       "241011  10.049876   95.710593\n",
       "...           ...         ...\n",
       "122591  35.805028  125.909723\n",
       "304154  58.051701   79.077195\n",
       "152327   9.433981   57.994617\n",
       "117964  57.271284   65.224859\n",
       "305728  10.440307   16.699244\n",
       "\n",
       "[244637 rows x 2 columns]"
      ]
     },
     "execution_count": 54,
     "metadata": {},
     "output_type": "execute_result"
    }
   ],
   "source": [
    "X = df.drop('is_goal', 1)\n",
    "y = df['is_goal'].to_numpy()\n",
    "X_train, X_val, y_train, y_val = train_test_split(X, y, test_size=0.2, random_state=0)\n",
    "X_train[['distance', 'angle']]"
   ]
  },
  {
   "cell_type": "markdown",
   "id": "6ce68211-99f2-4ce9-9093-0c4ef415ed3f",
   "metadata": {},
   "source": [
    "### Question-1:"
   ]
  },
  {
   "cell_type": "code",
   "execution_count": 4,
   "id": "d806633b-db3c-4c87-b631-ceafdecc2885",
   "metadata": {},
   "outputs": [
    {
     "name": "stdout",
     "output_type": "stream",
     "text": [
      "[17:19:23] WARNING: C:/Users/Administrator/workspace/xgboost-win64_release_1.5.0/src/learner.cc:1115: Starting in XGBoost 1.3.0, the default evaluation metric used with the objective 'binary:logistic' was changed from 'error' to 'logloss'. Explicitly set eval_metric if you'd like to restore the old behavior.\n",
      "Training accuracy: 0.9050266312945303\n",
      "Validation accuracy: 0.9063113145846958\n"
     ]
    }
   ],
   "source": [
    "### XGBoost on distance+angle ###\n",
    "\n",
    "X_train1 = X_train[['distance', 'angle']].to_numpy().reshape(-1, 2)\n",
    "X_val1 = X_val[['distance', 'angle']].to_numpy().reshape(-1, 2)\n",
    "\n",
    "xgb_clf1 = XGBClassifier().fit(X_train1, y_train)\n",
    "\n",
    "\n",
    "train_score1 = xgb_clf1.score(X_train1, y_train)\n",
    "val_score1 = xgb_clf1.score(X_val1, y_val)\n",
    "\n",
    "print(f'Training accuracy: {train_score1}')\n",
    "print(f'Validation accuracy: {val_score1}')"
   ]
  },
  {
   "cell_type": "code",
   "execution_count": 5,
   "id": "60ca1956-1bfb-4101-a697-5fd30072a7ba",
   "metadata": {},
   "outputs": [
    {
     "name": "stdout",
     "output_type": "stream",
     "text": [
      "Training accuracy: 0.4999611669534862\n",
      "Validation accuracy: 0.4988227599738391\n"
     ]
    }
   ],
   "source": [
    "### Random baseline ###\n",
    "random_clf = DummyClassifier(strategy=\"uniform\").fit(X_train1, y_train)\n",
    "\n",
    "train_score0 = random_clf.score(X_train1, y_train)\n",
    "val_score0 = random_clf.score(X_val1, y_val)\n",
    "\n",
    "print(f'Training accuracy: {train_score0}')\n",
    "print(f'Validation accuracy: {val_score0}')"
   ]
  },
  {
   "cell_type": "code",
   "execution_count": 6,
   "id": "c152aedf-665a-44b3-9259-2e7ba73ff798",
   "metadata": {},
   "outputs": [
    {
     "name": "stdout",
     "output_type": "stream",
     "text": [
      "XGBoost (trained on distance+angle): ROC AUC=0.712\n",
      "Random: ROC AUC=0.500\n"
     ]
    },
    {
     "data": {
      "image/png": "[encoded data removed]",
      "text/plain": [
       "<Figure size 432x432 with 1 Axes>"
      ]
     },
     "metadata": {
      "needs_background": "light"
     },
     "output_type": "display_data"
    }
   ],
   "source": [
    "### ROC curve - AUC metric ###\n",
    "\n",
    "xgb_probs1 = xgb_clf1.predict_proba(X_val1[:, :])[:,1]\n",
    "random_probs = random_clf.predict_proba(X_val1[:, :])[:,1]\n",
    "\n",
    "\n",
    "xgb_auc1 = roc_auc_score(y_val, xgb_probs1)\n",
    "random_auc = roc_auc_score(y_val, random_probs)\n",
    "\n",
    "print('XGBoost (trained on distance+angle): ROC AUC=%.3f' % (xgb_auc1))\n",
    "print('Random: ROC AUC=%.3f' % (random_auc))\n",
    "\n",
    "xgb_fpr1, xgb_tpr1, _ = roc_curve(y_val, xgb_probs1)\n",
    "random_fpr, random_tpr, _ = roc_curve(y_val, random_probs)\n",
    "\n",
    "plt.figure(figsize=(6, 6))\n",
    "\n",
    "plt.plot(xgb_fpr1, xgb_tpr1, marker='.', label='XGBoost (distance+angle)')\n",
    "plt.plot(random_fpr, random_tpr, linestyle='--', marker='.', label='Random')\n",
    "\n",
    "\n",
    "plt.xlabel('False Positive Rate')\n",
    "plt.ylabel('True Positive Rate')\n",
    "plt.legend()\n",
    "\n",
    "# plt.savefig('../figures/roc.png')\n",
    "\n",
    "plt.show()"
   ]
  },
  {
   "cell_type": "code",
   "execution_count": 54,
   "id": "fe7d5d64-2e95-49a9-a6bb-61156419ccc4",
   "metadata": {},
   "outputs": [],
   "source": [
    "def compute_goal_rate_per_percentile(probs, y):\n",
    "    percentiles = []\n",
    "    rates = []\n",
    "\n",
    "    for i in range(0, 101):\n",
    "        percentile = np.percentile(probs, i)\n",
    "        goals = 0\n",
    "        no_goals = 0\n",
    "        for idx, p in enumerate(probs):\n",
    "            if p<=percentile:\n",
    "                if y[idx]==1:\n",
    "                    goals+=1\n",
    "                else:\n",
    "                    no_goals+=1\n",
    "        rate = goals / (goals + no_goals)\n",
    "        percentiles.append(percentile)\n",
    "        rates.append(rate)\n",
    "    return percentiles, rates"
   ]
  },
  {
   "cell_type": "code",
   "execution_count": 7,
   "id": "75d871d8-d69a-4489-ada5-8d3559043caa",
   "metadata": {},
   "outputs": [
    {
     "data": {
      "image/png": "[encoded data removed]",
      "text/plain": [
       "<Figure size 432x432 with 1 Axes>"
      ]
     },
     "metadata": {
      "needs_background": "light"
     },
     "output_type": "display_data"
    }
   ],
   "source": [
    "### goal_rate = F(shot probability model percentile) ###\n",
    "\n",
    "\n",
    "\n",
    "percentiles1, rates1 = compute_goal_rate_per_percentile(xgb_probs1, y_val)\n",
    "percentiles2, rates2 = compute_goal_rate_per_percentile(random_probs, y_val)\n",
    "\n",
    "plt.figure(figsize=(6, 6))\n",
    "\n",
    "plt.plot(percentiles1, rates1, marker='.', label='XGBoost (distance)')\n",
    "plt.plot(percentiles2, rates2, marker='.', label='Random')\n",
    "\n",
    "plt.xlabel('Shot probability model percentile')\n",
    "plt.ylabel('Goal rate')\n",
    "plt.legend()\n",
    "\n",
    "# plt.savefig('../figures/goal_rate_percentile_1.png')\n",
    "\n",
    "plt.show()"
   ]
  },
  {
   "cell_type": "code",
   "execution_count": 55,
   "id": "18694971-792d-439c-9720-e0a2001ebb5c",
   "metadata": {},
   "outputs": [],
   "source": [
    "\n",
    "def compute_cumulative_goal_rate_per_percentile(probs, y):\n",
    "    percentiles = []\n",
    "    rates = []\n",
    "    cum_rate = 0\n",
    "\n",
    "    for i in range(0, 101):\n",
    "        percentile = np.percentile(probs, i)\n",
    "        goals = 0\n",
    "        no_goals = 0\n",
    "        for idx, p in enumerate(probs):\n",
    "            if p<=percentile:\n",
    "                if y[idx]==1:\n",
    "                    goals+=1\n",
    "                else:\n",
    "                    no_goals+=1\n",
    "        cum_rate += goals / (goals + no_goals)\n",
    "        percentiles.append(percentile)\n",
    "        rates.append(cum_rate)\n",
    "    return percentiles, rates\n",
    "\n"
   ]
  },
  {
   "cell_type": "code",
   "execution_count": 8,
   "id": "f34743ed-2d3b-4600-aeaa-be198d09ef0b",
   "metadata": {},
   "outputs": [
    {
     "data": {
      "image/png": "[encoded data removed]",
      "text/plain": [
       "<Figure size 432x432 with 1 Axes>"
      ]
     },
     "metadata": {
      "needs_background": "light"
     },
     "output_type": "display_data"
    }
   ],
   "source": [
    "### cumulative portion of goals = F(shot probability model percentile) ###\n",
    "\n",
    "percentiles1, rates1 = compute_cumulative_goal_rate_per_percentile(xgb_probs1, y_val)\n",
    "percentiles2, rates2 = compute_cumulative_goal_rate_per_percentile(random_probs, y_val)\n",
    "\n",
    "plt.figure(figsize=(6, 6))\n",
    "\n",
    "plt.plot(percentiles1, rates1, marker='.', label='XGBoost (distance+angle)')\n",
    "plt.plot(percentiles2, rates2, marker='.', label='Random')\n",
    "\n",
    "plt.xlabel('Shot probability model percentile')\n",
    "plt.ylabel('Goal rate')\n",
    "plt.legend()\n",
    "\n",
    "# plt.savefig('../figures/goal_rate_percentile_2.png')\n",
    "\n",
    "plt.show()"
   ]
  },
  {
   "cell_type": "code",
   "execution_count": 9,
   "id": "9902355f-f0b4-4aab-8418-ac3c5a2b07c5",
   "metadata": {},
   "outputs": [
    {
     "data": {
      "image/png": "[encoded data removed]",
      "text/plain": [
       "<Figure size 432x432 with 1 Axes>"
      ]
     },
     "metadata": {
      "needs_background": "light"
     },
     "output_type": "display_data"
    }
   ],
   "source": [
    "fig, ax = plt.subplots(figsize=(6, 6))\n",
    "\n",
    "disp1 = CalibrationDisplay.from_estimator(xgb_clf1, X_val1, y_val, label='XGBoost (distance+angle)', ax=ax)\n",
    "disp4 = CalibrationDisplay.from_estimator(random_clf, X_val1, y_val, label='Random', ax=ax)\n",
    "\n",
    "# plt.savefig('../figures/calibration_diagram.png')\n",
    "\n",
    "plt.show()"
   ]
  },
  {
   "cell_type": "code",
   "execution_count": 70,
   "id": "6fd15cd5-8216-46a8-849b-41058d5ccea1",
   "metadata": {},
   "outputs": [
    {
     "data": {
      "text/plain": [
       "Index(['Unnamed: 0', 'index', 'eventType', 'period', 'periodTime',\n",
       "       'periodType', 'gameID', 'teamOfShooter', 'homeOrAway', 'xCoord',\n",
       "       'yCoord', 'shooter', 'goalie', 'shotType', 'emptyNet', 'strength',\n",
       "       'season', 'rinkSide', 'gameType', 'totalPlayTime', 'lastEventType',\n",
       "       'lastEventPeriod', 'lastEventPeriodTime', 'lastEventXCoord',\n",
       "       'lastEventYCoord', 'Goal', 'EmptyNet', 'distanceFromNet', 'angle',\n",
       "       'gameSeconds', 'lastEventGameSeconds', 'timeFromLastEvent',\n",
       "       'distanceFromLastEvent', 'rebound', 'lastEventAngle',\n",
       "       'changeInAngleShot', 'speed'],\n",
       "      dtype='object')"
      ]
     },
     "execution_count": 70,
     "metadata": {},
     "output_type": "execute_result"
    }
   ],
   "source": [
    "df.columns"
   ]
  },
  {
   "cell_type": "markdown",
   "id": "b9e7b4ea-6ec0-4593-8a9d-ec2381929067",
   "metadata": {},
   "source": [
    "### Question-2: XGBoost classifier using all of the features:\n",
    "Game seconds-\n",
    "Game period-\n",
    "Coordinates (x,y, separate columns)-\n",
    "Shot distance-\n",
    "Shot angle-\n",
    "Shot type-\n",
    "Empty net-\n",
    "Last event type-\n",
    "Coordinates of the last event (x, y, separate columns)-\n",
    "Time from the last event (seconds)-\n",
    "Distance from the last event-\n",
    "Rebound (bool): -\n",
    "Change in shot angle-\n",
    "“Speed”-"
   ]
  },
  {
   "cell_type": "code",
   "execution_count": 40,
   "id": "8eed9aa9-8184-4d1e-8912-eb21a010e771",
   "metadata": {},
   "outputs": [
    {
     "data": {
      "text/plain": [
       "Index(['eventType', 'period', 'periodType', 'gameID', 'teamOfShooter',\n",
       "       'homeOrAway', 'xCoord', 'yCoord', 'shooter', 'goalie', 'shotType',\n",
       "       'strength', 'season', 'rinkSide', 'gameType', 'totalPlayTime',\n",
       "       'is_goal', 'EmptyNet', 'distance', 'angle', 'gameTimeSeconds'],\n",
       "      dtype='object')"
      ]
     },
     "execution_count": 40,
     "metadata": {},
     "output_type": "execute_result"
    }
   ],
   "source": [
    "pd.set_option('display.max_columns', None)\n",
    "df1=  pd.read_csv('../data/AllSeasonsM2Q4-Processed.csv')\n",
    "df1.columns"
   ]
  },
  {
   "cell_type": "markdown",
   "id": "f609f9a0-3bd8-4dd5-bb7f-861a090f155a",
   "metadata": {},
   "source": [
    "##### Data preprocessing "
   ]
  },
  {
   "cell_type": "code",
   "execution_count": 48,
   "id": "fe72f91a-45f5-4019-915d-91b653a23971",
   "metadata": {},
   "outputs": [
    {
     "name": "stdout",
     "output_type": "stream",
     "text": [
      "Index(['eventType', 'period', 'periodType', 'gameID', 'teamOfShooter',\n",
      "       'homeOrAway', 'xCoord', 'yCoord', 'shooter', 'goalie', 'shotType',\n",
      "       'strength', 'season', 'rinkSide', 'gameType', 'totalPlayTime',\n",
      "       'is_goal', 'EmptyNet', 'distance', 'angle', 'gameTimeSeconds',\n",
      "       'lastEventType', 'lastEventPeriod', 'lastEventPeriodTime',\n",
      "       'lastEventXCoord', 'lastEventYCoord', 'Goal', 'distanceFromNet',\n",
      "       'gameSeconds', 'lastEventGameSeconds', 'timeFromLastEvent',\n",
      "       'distanceFromLastEvent', 'rebound', 'lastEventAngle',\n",
      "       'changeInAngleShot', 'speed'],\n",
      "      dtype='object')\n"
     ]
    }
   ],
   "source": [
    "df=  pd.read_csv('../data/AllSeasonsM2Q4.csv')\n",
    "df2=df[['lastEventType',\n",
    "       'lastEventPeriod', 'lastEventPeriodTime', 'lastEventXCoord',\n",
    "       'lastEventYCoord', 'Goal',  'distanceFromNet',  'gameSeconds', 'lastEventGameSeconds', 'timeFromLastEvent',\n",
    "       'distanceFromLastEvent', 'rebound', 'lastEventAngle',\n",
    "       'changeInAngleShot', 'speed']]\n",
    "\n",
    "finalDf=pd.merge(df1, df2, left_index=True, right_index=True)\n",
    "print(finalDf.columns)\n",
    "\n",
    "#finalDf.to_csv('../data/AllSeasonsM2Q4-Merged.csv')"
   ]
  },
  {
   "cell_type": "code",
   "execution_count": 78,
   "id": "91d760bb-3716-47d2-ada8-7c8200c9e9b5",
   "metadata": {},
   "outputs": [
    {
     "data": {
      "text/plain": [
       "Index(['gameSeconds', 'period', 'xCoord', 'yCoord', 'distanceFromNet', 'angle',\n",
       "       'EmptyNet', 'lastEventXCoord', 'lastEventYCoord',\n",
       "       'lastEventGameSeconds', 'distanceFromLastEvent', 'rebound',\n",
       "       'lastEventAngle', 'changeInAngleShot', 'speed', 'Goal', 'shotType',\n",
       "       'lastEventType'],\n",
       "      dtype='object')"
      ]
     },
     "execution_count": 78,
     "metadata": {},
     "output_type": "execute_result"
    }
   ],
   "source": [
    "df=pd.read_csv('../data/AllSeasonsM2Q4-Merged.csv')\n",
    "\n",
    "\n",
    "df['rebound']=df['rebound'].astype(int)\n",
    "\n",
    "FinalDf = df[['gameSeconds','period','xCoord','yCoord','distanceFromNet','angle','shotType','EmptyNet','lastEventType', 'lastEventXCoord',\n",
    "       'lastEventYCoord','lastEventGameSeconds','distanceFromLastEvent','rebound', 'lastEventAngle',\n",
    "       'changeInAngleShot', 'speed','Goal']]\n",
    "obj_df=FinalDf.select_dtypes(include=['object']).copy()\n",
    "\n",
    "FinalDf=FinalDf.drop(obj_df.columns, axis=1)\n",
    "\n",
    "obj_df=obj_df.apply(preprocessing.LabelEncoder().fit_transform)\n",
    "\n",
    "#Frame is the dataset used fpr xgboost later\n",
    "Frame=pd.concat([FinalDf,obj_df],axis=1)\n",
    "Frame.columns\n",
    "\n",
    "\n",
    "\n"
   ]
  },
  {
   "cell_type": "code",
   "execution_count": 45,
   "id": "8ee02d5f-b9d1-46fa-9b3a-3958d8e3535d",
   "metadata": {},
   "outputs": [],
   "source": [
    "X = Frame.drop('Goal', 1)\n",
    "y = Frame['Goal'].to_numpy()\n",
    "X_trainXG_All, X_valXG_All, y_trainXG_All, y_valXG_All = train_test_split(X, y, test_size=0.2, random_state=0)\n"
   ]
  },
  {
   "cell_type": "code",
   "execution_count": 46,
   "id": "d5416fbd-9b66-4e9e-9108-1751dab5d697",
   "metadata": {},
   "outputs": [
    {
     "name": "stdout",
     "output_type": "stream",
     "text": [
      "[20:35:29] WARNING: C:/Users/Administrator/workspace/xgboost-win64_release_1.5.0/src/learner.cc:1115: Starting in XGBoost 1.3.0, the default evaluation metric used with the objective 'binary:logistic' was changed from 'error' to 'logloss'. Explicitly set eval_metric if you'd like to restore the old behavior.\n",
      "Training accuracy: 0.9097642629692156\n",
      "Validation accuracy: 0.9059843034663179\n"
     ]
    }
   ],
   "source": [
    "### XGBoost using all features only encoding  ###\n",
    "\n",
    "X_train1XG_All = X_trainXG_All.to_numpy().reshape(-1, len(X_trainXG_All.columns))\n",
    "X_val1XG_All = X_valXG_All.to_numpy().reshape(-1, len(X_trainXG_All.columns))\n",
    "\n",
    "xgb_clf2 = XGBClassifier().fit(X_train1XG_All, y_trainXG_All)\n",
    "\n",
    "train_score1 = xgb_clf2.score(X_train1XG_All, y_trainXG_All)\n",
    "val_score1 = xgb_clf2.score(X_val1XG_All, y_valXG_All)\n",
    "\n",
    "print(f'Training accuracy: {train_score1}')\n",
    "print(f'Validation accuracy: {val_score1}')"
   ]
  },
  {
   "cell_type": "code",
   "execution_count": 52,
   "id": "2bd638e8-21b7-4b11-8b0a-c50c83addee0",
   "metadata": {},
   "outputs": [
    {
     "name": "stdout",
     "output_type": "stream",
     "text": [
      "Training accuracy: 0.5002064282998893\n",
      "Validation accuracy: 0.5016023544800523\n",
      "XGBoost (trained on all ffeatures): ROC AUC=0.738\n",
      "Random: ROC AUC=0.500\n"
     ]
    },
    {
     "data": {
      "image/png": "[encoded data removed]",
      "text/plain": [
       "<Figure size 432x432 with 1 Axes>"
      ]
     },
     "metadata": {
      "needs_background": "light"
     },
     "output_type": "display_data"
    }
   ],
   "source": [
    "### ROC curve - AUC metric ###\n",
    "random_clf2 = DummyClassifier(strategy=\"uniform\").fit(X_trainXG_All, y_trainXG_All)\n",
    "\n",
    "train_score2 = random_clf2.score(X_trainXG_All, y_trainXG_All)\n",
    "val_score2 = random_clf2.score(X_val1XG_All, y_valXG_All)\n",
    "\n",
    "print(f'Training accuracy: {train_score2}')\n",
    "print(f'Validation accuracy: {val_score2}')\n",
    "\n",
    "xgb_probs2 = xgb_clf2.predict_proba(X_val1XG_All[:, :])[:,1]\n",
    "random_probs2 = random_clf2.predict_proba(X_val1XG_All[:, :])[:,1]\n",
    "\n",
    "\n",
    "xgb_auc2 = roc_auc_score(y_valXG_All, xgb_probs2)\n",
    "random_auc2 = roc_auc_score(y_valXG_All, random_probs2)\n",
    "\n",
    "print('XGBoost (trained on all ffeatures): ROC AUC=%.3f' % (xgb_auc2))\n",
    "print('Random: ROC AUC=%.3f' % (random_auc2))\n",
    "\n",
    "xgb_fpr1, xgb_tpr1, _ = roc_curve(y_valXG_All, xgb_probs2)\n",
    "random_fpr, random_tpr, _ = roc_curve(y_valXG_All, random_probs2)\n",
    "\n",
    "plt.figure(figsize=(6, 6))\n",
    "\n",
    "plt.plot(xgb_fpr1, xgb_tpr1, marker='.', label='XGBoost (allFeatures)')\n",
    "plt.plot(random_fpr, random_tpr, linestyle='--', marker='.', label='Random')\n",
    "\n",
    "\n",
    "plt.xlabel('False Positive Rate')\n",
    "plt.ylabel('True Positive Rate')\n",
    "plt.legend()\n",
    "\n",
    "# plt.savefig('../figures/roc.png')\n",
    "\n",
    "plt.show()"
   ]
  },
  {
   "cell_type": "code",
   "execution_count": 56,
   "id": "5cb0fb17-ae34-4861-98d6-083cd1cbd0cc",
   "metadata": {},
   "outputs": [
    {
     "data": {
      "image/png": "[encoded data removed]",
      "text/plain": [
       "<Figure size 432x432 with 1 Axes>"
      ]
     },
     "metadata": {
      "needs_background": "light"
     },
     "output_type": "display_data"
    }
   ],
   "source": [
    "### goal_rate = F(shot probability model percentile) ###\n",
    "\n",
    "\n",
    "\n",
    "percentiles1, rates1 = compute_goal_rate_per_percentile(xgb_probs2, y_valXG_All)\n",
    "percentiles2, rates2 = compute_goal_rate_per_percentile(random_probs2, y_valXG_All)\n",
    "\n",
    "plt.figure(figsize=(6, 6))\n",
    "\n",
    "plt.plot(percentiles1, rates1, marker='.', label='XGBoost (all features)')\n",
    "plt.plot(percentiles2, rates2, marker='.', label='Random')\n",
    "\n",
    "plt.xlabel('Shot probability model percentile')\n",
    "plt.ylabel('Goal rate')\n",
    "plt.legend()\n",
    "\n",
    "\n",
    "\n",
    "plt.show()"
   ]
  },
  {
   "cell_type": "code",
   "execution_count": 57,
   "id": "a308903a-c0f0-4480-b5e3-a71451798862",
   "metadata": {},
   "outputs": [
    {
     "data": {
      "image/png": "[encoded data removed]",
      "text/plain": [
       "<Figure size 432x432 with 1 Axes>"
      ]
     },
     "metadata": {
      "needs_background": "light"
     },
     "output_type": "display_data"
    }
   ],
   "source": [
    "percentiles1, rates1 = compute_cumulative_goal_rate_per_percentile(xgb_probs2, y_valXG_All)\n",
    "percentiles2, rates2 = compute_cumulative_goal_rate_per_percentile(random_probs2, y_valXG_All)\n",
    "\n",
    "plt.figure(figsize=(6, 6))\n",
    "\n",
    "plt.plot(percentiles1, rates1, marker='.', label='XGBoost (All features)')\n",
    "plt.plot(percentiles2, rates2, marker='.', label='Random')\n",
    "\n",
    "plt.xlabel('Shot probability model percentile')\n",
    "plt.ylabel('Goal rate')\n",
    "plt.legend()\n",
    "\n",
    "\n",
    "\n",
    "plt.show()"
   ]
  },
  {
   "cell_type": "code",
   "execution_count": 133,
   "id": "87937655-a1be-48c9-9da9-0532f37f4336",
   "metadata": {},
   "outputs": [
    {
     "ename": "NameError",
     "evalue": "name 'CalibrationDisplay' is not defined",
     "output_type": "error",
     "traceback": [
      "\u001b[1;31m---------------------------------------------------------------------------\u001b[0m",
      "\u001b[1;31mNameError\u001b[0m                                 Traceback (most recent call last)",
      "\u001b[1;32m<ipython-input-133-e299bfba68d6>\u001b[0m in \u001b[0;36m<module>\u001b[1;34m\u001b[0m\n\u001b[0;32m      1\u001b[0m \u001b[0mfig\u001b[0m\u001b[1;33m,\u001b[0m \u001b[0max\u001b[0m \u001b[1;33m=\u001b[0m \u001b[0mplt\u001b[0m\u001b[1;33m.\u001b[0m\u001b[0msubplots\u001b[0m\u001b[1;33m(\u001b[0m\u001b[0mfigsize\u001b[0m\u001b[1;33m=\u001b[0m\u001b[1;33m(\u001b[0m\u001b[1;36m6\u001b[0m\u001b[1;33m,\u001b[0m \u001b[1;36m6\u001b[0m\u001b[1;33m)\u001b[0m\u001b[1;33m)\u001b[0m\u001b[1;33m\u001b[0m\u001b[1;33m\u001b[0m\u001b[0m\n\u001b[0;32m      2\u001b[0m \u001b[1;33m\u001b[0m\u001b[0m\n\u001b[1;32m----> 3\u001b[1;33m \u001b[0mdisp1\u001b[0m \u001b[1;33m=\u001b[0m \u001b[0mCalibrationDisplay\u001b[0m\u001b[1;33m.\u001b[0m\u001b[0mfrom_estimator\u001b[0m\u001b[1;33m(\u001b[0m\u001b[0mxgb_clf1\u001b[0m\u001b[1;33m,\u001b[0m \u001b[0mX_valXG_All\u001b[0m\u001b[1;33m,\u001b[0m \u001b[0my_valXG_All\u001b[0m\u001b[1;33m,\u001b[0m \u001b[0mlabel\u001b[0m\u001b[1;33m=\u001b[0m\u001b[1;34m'XGBoost (All)'\u001b[0m\u001b[1;33m,\u001b[0m \u001b[0max\u001b[0m\u001b[1;33m=\u001b[0m\u001b[0max\u001b[0m\u001b[1;33m)\u001b[0m\u001b[1;33m\u001b[0m\u001b[1;33m\u001b[0m\u001b[0m\n\u001b[0m\u001b[0;32m      4\u001b[0m \u001b[0mdisp4\u001b[0m \u001b[1;33m=\u001b[0m \u001b[0mCalibrationDisplay\u001b[0m\u001b[1;33m.\u001b[0m\u001b[0mfrom_estimator\u001b[0m\u001b[1;33m(\u001b[0m\u001b[0mrandom_clf\u001b[0m\u001b[1;33m,\u001b[0m \u001b[0mX_valXG_All\u001b[0m\u001b[1;33m,\u001b[0m \u001b[0my_valXG_All\u001b[0m\u001b[1;33m,\u001b[0m \u001b[0mlabel\u001b[0m\u001b[1;33m=\u001b[0m\u001b[1;34m'Random'\u001b[0m\u001b[1;33m,\u001b[0m \u001b[0max\u001b[0m\u001b[1;33m=\u001b[0m\u001b[0max\u001b[0m\u001b[1;33m)\u001b[0m\u001b[1;33m\u001b[0m\u001b[1;33m\u001b[0m\u001b[0m\n\u001b[0;32m      5\u001b[0m \u001b[1;33m\u001b[0m\u001b[0m\n",
      "\u001b[1;31mNameError\u001b[0m: name 'CalibrationDisplay' is not defined"
     ]
    },
    {
     "data": {
      "image/png": "[encoded data removed]",
      "text/plain": [
       "<Figure size 432x432 with 1 Axes>"
      ]
     },
     "metadata": {
      "needs_background": "light"
     },
     "output_type": "display_data"
    }
   ],
   "source": [
    "fig, ax = plt.subplots(figsize=(6, 6))\n",
    "\n",
    "disp1 = CalibrationDisplay.from_estimator(xgb_clf1, X_valXG_All, y_valXG_All, label='XGBoost (All)', ax=ax)\n",
    "disp4 = CalibrationDisplay.from_estimator(random_clf, X_valXG_All, y_valXG_All, label='Random', ax=ax)\n",
    "\n",
    "# plt.savefig('../figures/calibration_diagram.png')\n",
    "\n",
    "plt.show()"
   ]
  },
  {
   "cell_type": "markdown",
   "id": "7fc8e3ec-441b-41b6-a1f6-1a7965c75864",
   "metadata": {},
   "source": [
    "### Feature selection"
   ]
  },
  {
   "cell_type": "code",
   "execution_count": 80,
   "id": "bea6691b-98b1-4dec-aa57-3dbbb96a7043",
   "metadata": {},
   "outputs": [],
   "source": [
    "### XGBoost using all features encoding + MinMaxScaling for some features ###\n",
    "df_f = Frame.dropna()\n",
    "\n",
    "df_f['rebound']=df_f['rebound'].astype(int)\n",
    "\n",
    "FinalDf = df_f[['gameSeconds','period','xCoord','yCoord','distanceFromNet','angle','shotType','EmptyNet','lastEventType', 'lastEventXCoord',\n",
    "       'lastEventYCoord','lastEventGameSeconds','distanceFromLastEvent','rebound', 'lastEventAngle',\n",
    "       'changeInAngleShot', 'speed','Goal']]\n",
    "obj_df=FinalDf.select_dtypes(include=['object']).copy()\n",
    "\n",
    "FinalDf=FinalDf.drop(obj_df.columns, axis=1)\n",
    "\n",
    "obj_df=obj_df.apply(preprocessing.LabelEncoder().fit_transform)\n",
    "\n",
    "#df is the dataset used fpr xgboost later\n",
    "df=pd.concat([FinalDf,obj_df],axis=1)\n",
    "\n",
    "\n",
    "\n",
    "X = df.drop('Goal', 1)\n",
    "y = df['Goal'].to_numpy()\n"
   ]
  },
  {
   "cell_type": "code",
   "execution_count": 81,
   "id": "2dcff9be-33e5-44aa-a394-c7ae5a82ab72",
   "metadata": {},
   "outputs": [
    {
     "data": {
      "text/plain": [
       "(56164, 18)"
      ]
     },
     "execution_count": 81,
     "metadata": {},
     "output_type": "execute_result"
    }
   ],
   "source": [
    "X.shape"
   ]
  },
  {
   "cell_type": "code",
   "execution_count": 90,
   "id": "5bf114d9-7846-4008-b188-3d7907219813",
   "metadata": {},
   "outputs": [
    {
     "name": "stdout",
     "output_type": "stream",
     "text": [
      "(56164, 14)\n",
      "<class 'numpy.ndarray'>\n"
     ]
    },
    {
     "data": {
      "text/html": [
       "<div>\n",
       "<style scoped>\n",
       "    .dataframe tbody tr th:only-of-type {\n",
       "        vertical-align: middle;\n",
       "    }\n",
       "\n",
       "    .dataframe tbody tr th {\n",
       "        vertical-align: top;\n",
       "    }\n",
       "\n",
       "    .dataframe thead th {\n",
       "        text-align: right;\n",
       "    }\n",
       "</style>\n",
       "<table border=\"1\" class=\"dataframe\">\n",
       "  <thead>\n",
       "    <tr style=\"text-align: right;\">\n",
       "      <th></th>\n",
       "      <th>gameSeconds</th>\n",
       "      <th>period</th>\n",
       "      <th>xCoord</th>\n",
       "      <th>yCoord</th>\n",
       "      <th>distanceFromNet</th>\n",
       "      <th>angle</th>\n",
       "      <th>shotType</th>\n",
       "      <th>EmptyNet</th>\n",
       "      <th>lastEventType</th>\n",
       "      <th>lastEventXCoord</th>\n",
       "      <th>lastEventYCoord</th>\n",
       "      <th>lastEventGameSeconds</th>\n",
       "      <th>distanceFromLastEvent</th>\n",
       "      <th>rebound</th>\n",
       "      <th>lastEventAngle</th>\n",
       "      <th>changeInAngleShot</th>\n",
       "      <th>speed</th>\n",
       "      <th>0</th>\n",
       "    </tr>\n",
       "  </thead>\n",
       "  <tbody>\n",
       "    <tr>\n",
       "      <th>10</th>\n",
       "      <td>625</td>\n",
       "      <td>1</td>\n",
       "      <td>34.0</td>\n",
       "      <td>-25.0</td>\n",
       "      <td>60.415230</td>\n",
       "      <td>65.556045</td>\n",
       "      <td>2</td>\n",
       "      <td>0</td>\n",
       "      <td>13</td>\n",
       "      <td>34.0</td>\n",
       "      <td>20.0</td>\n",
       "      <td>616</td>\n",
       "      <td>45.000000</td>\n",
       "      <td>1</td>\n",
       "      <td>109.983107</td>\n",
       "      <td>44.427061</td>\n",
       "      <td>5.000000</td>\n",
       "      <td>NaN</td>\n",
       "    </tr>\n",
       "    <tr>\n",
       "      <th>11</th>\n",
       "      <td>626</td>\n",
       "      <td>1</td>\n",
       "      <td>82.0</td>\n",
       "      <td>3.0</td>\n",
       "      <td>7.615773</td>\n",
       "      <td>113.198591</td>\n",
       "      <td>0</td>\n",
       "      <td>0</td>\n",
       "      <td>13</td>\n",
       "      <td>34.0</td>\n",
       "      <td>-25.0</td>\n",
       "      <td>625</td>\n",
       "      <td>55.569776</td>\n",
       "      <td>1</td>\n",
       "      <td>65.556045</td>\n",
       "      <td>47.642545</td>\n",
       "      <td>55.569776</td>\n",
       "      <td>NaN</td>\n",
       "    </tr>\n",
       "    <tr>\n",
       "      <th>14</th>\n",
       "      <td>769</td>\n",
       "      <td>1</td>\n",
       "      <td>34.0</td>\n",
       "      <td>-1.0</td>\n",
       "      <td>55.009090</td>\n",
       "      <td>88.958373</td>\n",
       "      <td>2</td>\n",
       "      <td>0</td>\n",
       "      <td>13</td>\n",
       "      <td>69.0</td>\n",
       "      <td>-8.0</td>\n",
       "      <td>764</td>\n",
       "      <td>35.693137</td>\n",
       "      <td>1</td>\n",
       "      <td>68.198591</td>\n",
       "      <td>20.759783</td>\n",
       "      <td>7.138627</td>\n",
       "      <td>NaN</td>\n",
       "    </tr>\n",
       "    <tr>\n",
       "      <th>23</th>\n",
       "      <td>1263</td>\n",
       "      <td>2</td>\n",
       "      <td>-55.0</td>\n",
       "      <td>-21.0</td>\n",
       "      <td>39.962482</td>\n",
       "      <td>121.701430</td>\n",
       "      <td>6</td>\n",
       "      <td>0</td>\n",
       "      <td>13</td>\n",
       "      <td>45.0</td>\n",
       "      <td>-27.0</td>\n",
       "      <td>1254</td>\n",
       "      <td>100.179838</td>\n",
       "      <td>1</td>\n",
       "      <td>101.392136</td>\n",
       "      <td>20.309294</td>\n",
       "      <td>11.131093</td>\n",
       "      <td>NaN</td>\n",
       "    </tr>\n",
       "    <tr>\n",
       "      <th>26</th>\n",
       "      <td>1328</td>\n",
       "      <td>2</td>\n",
       "      <td>-87.0</td>\n",
       "      <td>8.0</td>\n",
       "      <td>8.246211</td>\n",
       "      <td>14.036243</td>\n",
       "      <td>0</td>\n",
       "      <td>0</td>\n",
       "      <td>13</td>\n",
       "      <td>-35.0</td>\n",
       "      <td>-19.0</td>\n",
       "      <td>1322</td>\n",
       "      <td>58.591808</td>\n",
       "      <td>1</td>\n",
       "      <td>109.384516</td>\n",
       "      <td>95.348272</td>\n",
       "      <td>9.765301</td>\n",
       "      <td>NaN</td>\n",
       "    </tr>\n",
       "    <tr>\n",
       "      <th>...</th>\n",
       "      <td>...</td>\n",
       "      <td>...</td>\n",
       "      <td>...</td>\n",
       "      <td>...</td>\n",
       "      <td>...</td>\n",
       "      <td>...</td>\n",
       "      <td>...</td>\n",
       "      <td>...</td>\n",
       "      <td>...</td>\n",
       "      <td>...</td>\n",
       "      <td>...</td>\n",
       "      <td>...</td>\n",
       "      <td>...</td>\n",
       "      <td>...</td>\n",
       "      <td>...</td>\n",
       "      <td>...</td>\n",
       "      <td>...</td>\n",
       "      <td>...</td>\n",
       "    </tr>\n",
       "    <tr>\n",
       "      <th>305756</th>\n",
       "      <td>609</td>\n",
       "      <td>2</td>\n",
       "      <td>79.0</td>\n",
       "      <td>-20.0</td>\n",
       "      <td>10.198039</td>\n",
       "      <td>26.565051</td>\n",
       "      <td>2</td>\n",
       "      <td>0</td>\n",
       "      <td>13</td>\n",
       "      <td>-75.0</td>\n",
       "      <td>-3.0</td>\n",
       "      <td>608</td>\n",
       "      <td>4.123106</td>\n",
       "      <td>1</td>\n",
       "      <td>102.094757</td>\n",
       "      <td>0.784825</td>\n",
       "      <td>4.123106</td>\n",
       "      <td>NaN</td>\n",
       "    </tr>\n",
       "    <tr>\n",
       "      <th>305770</th>\n",
       "      <td>1096</td>\n",
       "      <td>2</td>\n",
       "      <td>34.0</td>\n",
       "      <td>28.0</td>\n",
       "      <td>59.076222</td>\n",
       "      <td>116.980231</td>\n",
       "      <td>6</td>\n",
       "      <td>0</td>\n",
       "      <td>13</td>\n",
       "      <td>34.0</td>\n",
       "      <td>37.0</td>\n",
       "      <td>1095</td>\n",
       "      <td>70.256672</td>\n",
       "      <td>1</td>\n",
       "      <td>123.929797</td>\n",
       "      <td>67.888857</td>\n",
       "      <td>70.256672</td>\n",
       "      <td>NaN</td>\n",
       "    </tr>\n",
       "    <tr>\n",
       "      <th>305774</th>\n",
       "      <td>1280</td>\n",
       "      <td>3</td>\n",
       "      <td>81.0</td>\n",
       "      <td>-11.0</td>\n",
       "      <td>12.529964</td>\n",
       "      <td>36.027373</td>\n",
       "      <td>6</td>\n",
       "      <td>0</td>\n",
       "      <td>13</td>\n",
       "      <td>79.0</td>\n",
       "      <td>-20.0</td>\n",
       "      <td>1279</td>\n",
       "      <td>14.035669</td>\n",
       "      <td>1</td>\n",
       "      <td>26.565051</td>\n",
       "      <td>34.824489</td>\n",
       "      <td>14.035669</td>\n",
       "      <td>NaN</td>\n",
       "    </tr>\n",
       "    <tr>\n",
       "      <th>305776</th>\n",
       "      <td>1302</td>\n",
       "      <td>3</td>\n",
       "      <td>36.0</td>\n",
       "      <td>-20.0</td>\n",
       "      <td>19.849433</td>\n",
       "      <td>69.325575</td>\n",
       "      <td>2</td>\n",
       "      <td>0</td>\n",
       "      <td>13</td>\n",
       "      <td>34.0</td>\n",
       "      <td>-14.0</td>\n",
       "      <td>1287</td>\n",
       "      <td>40.012498</td>\n",
       "      <td>1</td>\n",
       "      <td>75.718904</td>\n",
       "      <td>26.633287</td>\n",
       "      <td>2.667500</td>\n",
       "      <td>NaN</td>\n",
       "    </tr>\n",
       "    <tr>\n",
       "      <th>305790</th>\n",
       "      <td>2336</td>\n",
       "      <td>3</td>\n",
       "      <td>-68.0</td>\n",
       "      <td>17.0</td>\n",
       "      <td>36.221541</td>\n",
       "      <td>51.009006</td>\n",
       "      <td>6</td>\n",
       "      <td>0</td>\n",
       "      <td>13</td>\n",
       "      <td>34.0</td>\n",
       "      <td>33.0</td>\n",
       "      <td>2330</td>\n",
       "      <td>34.669872</td>\n",
       "      <td>1</td>\n",
       "      <td>120.963757</td>\n",
       "      <td>24.623565</td>\n",
       "      <td>5.778312</td>\n",
       "      <td>NaN</td>\n",
       "    </tr>\n",
       "  </tbody>\n",
       "</table>\n",
       "<p>56164 rows × 18 columns</p>\n",
       "</div>"
      ],
      "text/plain": [
       "        gameSeconds  period  xCoord  yCoord  distanceFromNet       angle  \\\n",
       "10              625       1    34.0   -25.0        60.415230   65.556045   \n",
       "11              626       1    82.0     3.0         7.615773  113.198591   \n",
       "14              769       1    34.0    -1.0        55.009090   88.958373   \n",
       "23             1263       2   -55.0   -21.0        39.962482  121.701430   \n",
       "26             1328       2   -87.0     8.0         8.246211   14.036243   \n",
       "...             ...     ...     ...     ...              ...         ...   \n",
       "305756          609       2    79.0   -20.0        10.198039   26.565051   \n",
       "305770         1096       2    34.0    28.0        59.076222  116.980231   \n",
       "305774         1280       3    81.0   -11.0        12.529964   36.027373   \n",
       "305776         1302       3    36.0   -20.0        19.849433   69.325575   \n",
       "305790         2336       3   -68.0    17.0        36.221541   51.009006   \n",
       "\n",
       "        shotType  EmptyNet  lastEventType  lastEventXCoord  lastEventYCoord  \\\n",
       "10             2         0             13             34.0             20.0   \n",
       "11             0         0             13             34.0            -25.0   \n",
       "14             2         0             13             69.0             -8.0   \n",
       "23             6         0             13             45.0            -27.0   \n",
       "26             0         0             13            -35.0            -19.0   \n",
       "...          ...       ...            ...              ...              ...   \n",
       "305756         2         0             13            -75.0             -3.0   \n",
       "305770         6         0             13             34.0             37.0   \n",
       "305774         6         0             13             79.0            -20.0   \n",
       "305776         2         0             13             34.0            -14.0   \n",
       "305790         6         0             13             34.0             33.0   \n",
       "\n",
       "        lastEventGameSeconds  distanceFromLastEvent  rebound  lastEventAngle  \\\n",
       "10                       616              45.000000        1      109.983107   \n",
       "11                       625              55.569776        1       65.556045   \n",
       "14                       764              35.693137        1       68.198591   \n",
       "23                      1254             100.179838        1      101.392136   \n",
       "26                      1322              58.591808        1      109.384516   \n",
       "...                      ...                    ...      ...             ...   \n",
       "305756                   608               4.123106        1      102.094757   \n",
       "305770                  1095              70.256672        1      123.929797   \n",
       "305774                  1279              14.035669        1       26.565051   \n",
       "305776                  1287              40.012498        1       75.718904   \n",
       "305790                  2330              34.669872        1      120.963757   \n",
       "\n",
       "        changeInAngleShot      speed   0  \n",
       "10              44.427061   5.000000 NaN  \n",
       "11              47.642545  55.569776 NaN  \n",
       "14              20.759783   7.138627 NaN  \n",
       "23              20.309294  11.131093 NaN  \n",
       "26              95.348272   9.765301 NaN  \n",
       "...                   ...        ...  ..  \n",
       "305756           0.784825   4.123106 NaN  \n",
       "305770          67.888857  70.256672 NaN  \n",
       "305774          34.824489  14.035669 NaN  \n",
       "305776          26.633287   2.667500 NaN  \n",
       "305790          24.623565   5.778312 NaN  \n",
       "\n",
       "[56164 rows x 18 columns]"
      ]
     },
     "execution_count": 90,
     "metadata": {},
     "output_type": "execute_result"
    }
   ],
   "source": [
    "###Removing features with low variance\n",
    "##threshold here 0.8\n",
    "sel = VarianceThreshold(threshold=(.8 * (1 - .8)))\n",
    "vt=sel.fit_transform(X)\n",
    "print(vt.shape)\n",
    "print(type(vt))\n",
    "X[X.columns[sel.get_support(indices=True)]] \n",
    "X\n",
    "#X_HighVar=X[:, vt.variances_ > threshold]\n",
    "#X_HighVar.shape"
   ]
  }
 ],
 "metadata": {
  "kernelspec": {
   "display_name": "Python 3",
   "language": "python",
   "name": "python3"
  },
  "language_info": {
   "codemirror_mode": {
    "name": "ipython",
    "version": 3
   },
   "file_extension": ".py",
   "mimetype": "text/x-python",
   "name": "python",
   "nbconvert_exporter": "python",
   "pygments_lexer": "ipython3",
   "version": "3.8.8"
  }
 },
 "nbformat": 4,
 "nbformat_minor": 5
}
