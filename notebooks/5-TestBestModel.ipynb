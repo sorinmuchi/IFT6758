{
 "cells": [
  {
   "cell_type": "code",
   "execution_count": 1,
   "id": "3a7b4fb3-5348-4cf4-9afa-e97ed59b5a33",
   "metadata": {},
   "outputs": [],
   "source": [
    "from comet_ml import Experiment\n",
    "from comet_ml import API\n",
    "import os\n",
    "from dotenv import load_dotenv\n",
    "import warnings\n",
    "import pandas as pd\n",
    "import numpy as np\n",
    "import matplotlib.pyplot as plt\n",
    "import seaborn as sns\n",
    "from joblib import load\n",
    "from sklearn.metrics import brier_score_loss\n",
    "from sklearn.metrics import roc_curve\n",
    "from sklearn.metrics import roc_auc_score\n",
    "from sklearn.metrics import classification_report\n",
    "from sklearn.dummy import DummyClassifier\n",
    "from sklearn.calibration import CalibrationDisplay\n",
    "\n",
    "warnings.filterwarnings(\"ignore\")\n",
    "load_dotenv('../.env')\n",
    "COMET_API_KEY = os.getenv('COMET_API_KEY')\n",
    "COMET_PROJECT_NAME = os.getenv('COMET_PROJECT_NAME')\n",
    "COMET_WORKSPACE = os.getenv('COMET_WORKSPACE')"
   ]
  },
  {
   "cell_type": "code",
   "execution_count": 2,
   "id": "5ec760a0-d4f1-4b41-8e61-ee79072cc495",
   "metadata": {},
   "outputs": [],
   "source": [
    "def get_registered_comet_model(workspace, model, version, output_path):\n",
    "    api = API()\n",
    "    # Download a Registry Model\n",
    "    file = api.download_registry_model({workspace}, model, version, output_path=output_path, expand=True)\n",
    "    return file"
   ]
  },
  {
   "cell_type": "markdown",
   "id": "7a09e5a3-19e4-4ac0-b05f-ef0f20ca28b3",
   "metadata": {},
   "source": [
    "## Question-1: Regular season\n"
   ]
  },
  {
   "cell_type": "code",
   "execution_count": 3,
   "id": "f9f5b6e6-b687-4157-a7a3-24036d938c6e",
   "metadata": {},
   "outputs": [
    {
     "data": {
      "text/plain": [
       "(68500, 39)"
      ]
     },
     "metadata": {},
     "output_type": "display_data"
    },
    {
     "data": {
      "text/html": [
       "<div>\n",
       "<style scoped>\n",
       "    .dataframe tbody tr th:only-of-type {\n",
       "        vertical-align: middle;\n",
       "    }\n",
       "\n",
       "    .dataframe tbody tr th {\n",
       "        vertical-align: top;\n",
       "    }\n",
       "\n",
       "    .dataframe thead th {\n",
       "        text-align: right;\n",
       "    }\n",
       "</style>\n",
       "<table border=\"1\" class=\"dataframe\">\n",
       "  <thead>\n",
       "    <tr style=\"text-align: right;\">\n",
       "      <th></th>\n",
       "      <th>eventType</th>\n",
       "      <th>period</th>\n",
       "      <th>periodTime</th>\n",
       "      <th>periodType</th>\n",
       "      <th>gameID</th>\n",
       "      <th>teamOfShooter</th>\n",
       "      <th>homeOrAway</th>\n",
       "      <th>xCoord</th>\n",
       "      <th>yCoord</th>\n",
       "      <th>shooter</th>\n",
       "      <th>...</th>\n",
       "      <th>timeFromLastEvent</th>\n",
       "      <th>distanceFromLastEvent</th>\n",
       "      <th>rebound</th>\n",
       "      <th>lastEventAngle</th>\n",
       "      <th>changeInAngleShot</th>\n",
       "      <th>speed</th>\n",
       "      <th>timeSincePowerPlayStarted</th>\n",
       "      <th>numFriendlyNonGoalieSkaters</th>\n",
       "      <th>numOpposingNonGoalieSkaters</th>\n",
       "      <th>strength2</th>\n",
       "    </tr>\n",
       "  </thead>\n",
       "  <tbody>\n",
       "    <tr>\n",
       "      <th>0</th>\n",
       "      <td>Goal</td>\n",
       "      <td>1</td>\n",
       "      <td>00:25</td>\n",
       "      <td>REGULAR</td>\n",
       "      <td>2019020001</td>\n",
       "      <td>Ottawa Senators</td>\n",
       "      <td>away</td>\n",
       "      <td>85.0</td>\n",
       "      <td>-1.0</td>\n",
       "      <td>Brady Tkachuk</td>\n",
       "      <td>...</td>\n",
       "      <td>25.0</td>\n",
       "      <td>85.005882</td>\n",
       "      <td>0.0</td>\n",
       "      <td>NaN</td>\n",
       "      <td>NaN</td>\n",
       "      <td>3.400235</td>\n",
       "      <td>0.0</td>\n",
       "      <td>5.0</td>\n",
       "      <td>5.0</td>\n",
       "      <td>Even</td>\n",
       "    </tr>\n",
       "    <tr>\n",
       "      <th>1</th>\n",
       "      <td>Shot</td>\n",
       "      <td>1</td>\n",
       "      <td>01:31</td>\n",
       "      <td>REGULAR</td>\n",
       "      <td>2019020001</td>\n",
       "      <td>Toronto Maple Leafs</td>\n",
       "      <td>home</td>\n",
       "      <td>-32.0</td>\n",
       "      <td>-2.0</td>\n",
       "      <td>Morgan Rielly</td>\n",
       "      <td>...</td>\n",
       "      <td>27.0</td>\n",
       "      <td>29.274562</td>\n",
       "      <td>0.0</td>\n",
       "      <td>NaN</td>\n",
       "      <td>NaN</td>\n",
       "      <td>1.084243</td>\n",
       "      <td>35.0</td>\n",
       "      <td>5.0</td>\n",
       "      <td>4.0</td>\n",
       "      <td>Power Play</td>\n",
       "    </tr>\n",
       "    <tr>\n",
       "      <th>2</th>\n",
       "      <td>Shot</td>\n",
       "      <td>1</td>\n",
       "      <td>03:23</td>\n",
       "      <td>REGULAR</td>\n",
       "      <td>2019020001</td>\n",
       "      <td>Ottawa Senators</td>\n",
       "      <td>away</td>\n",
       "      <td>63.0</td>\n",
       "      <td>-6.0</td>\n",
       "      <td>Dylan DeMelo</td>\n",
       "      <td>...</td>\n",
       "      <td>14.0</td>\n",
       "      <td>127.015747</td>\n",
       "      <td>0.0</td>\n",
       "      <td>NaN</td>\n",
       "      <td>NaN</td>\n",
       "      <td>9.072553</td>\n",
       "      <td>0.0</td>\n",
       "      <td>5.0</td>\n",
       "      <td>5.0</td>\n",
       "      <td>Even</td>\n",
       "    </tr>\n",
       "    <tr>\n",
       "      <th>3</th>\n",
       "      <td>Shot</td>\n",
       "      <td>1</td>\n",
       "      <td>03:56</td>\n",
       "      <td>REGULAR</td>\n",
       "      <td>2019020001</td>\n",
       "      <td>Toronto Maple Leafs</td>\n",
       "      <td>home</td>\n",
       "      <td>-59.0</td>\n",
       "      <td>-20.0</td>\n",
       "      <td>Morgan Rielly</td>\n",
       "      <td>...</td>\n",
       "      <td>6.0</td>\n",
       "      <td>93.000000</td>\n",
       "      <td>0.0</td>\n",
       "      <td>NaN</td>\n",
       "      <td>NaN</td>\n",
       "      <td>15.500000</td>\n",
       "      <td>0.0</td>\n",
       "      <td>5.0</td>\n",
       "      <td>5.0</td>\n",
       "      <td>Even</td>\n",
       "    </tr>\n",
       "    <tr>\n",
       "      <th>4</th>\n",
       "      <td>Shot</td>\n",
       "      <td>1</td>\n",
       "      <td>04:47</td>\n",
       "      <td>REGULAR</td>\n",
       "      <td>2019020001</td>\n",
       "      <td>Toronto Maple Leafs</td>\n",
       "      <td>home</td>\n",
       "      <td>-42.0</td>\n",
       "      <td>-29.0</td>\n",
       "      <td>Tyson Barrie</td>\n",
       "      <td>...</td>\n",
       "      <td>6.0</td>\n",
       "      <td>55.000000</td>\n",
       "      <td>0.0</td>\n",
       "      <td>NaN</td>\n",
       "      <td>NaN</td>\n",
       "      <td>9.166667</td>\n",
       "      <td>0.0</td>\n",
       "      <td>5.0</td>\n",
       "      <td>5.0</td>\n",
       "      <td>Even</td>\n",
       "    </tr>\n",
       "  </tbody>\n",
       "</table>\n",
       "<p>5 rows × 39 columns</p>\n",
       "</div>"
      ],
      "text/plain": [
       "  eventType  period periodTime periodType      gameID        teamOfShooter  \\\n",
       "0      Goal       1      00:25    REGULAR  2019020001      Ottawa Senators   \n",
       "1      Shot       1      01:31    REGULAR  2019020001  Toronto Maple Leafs   \n",
       "2      Shot       1      03:23    REGULAR  2019020001      Ottawa Senators   \n",
       "3      Shot       1      03:56    REGULAR  2019020001  Toronto Maple Leafs   \n",
       "4      Shot       1      04:47    REGULAR  2019020001  Toronto Maple Leafs   \n",
       "\n",
       "  homeOrAway  xCoord  yCoord        shooter  ... timeFromLastEvent  \\\n",
       "0       away    85.0    -1.0  Brady Tkachuk  ...              25.0   \n",
       "1       home   -32.0    -2.0  Morgan Rielly  ...              27.0   \n",
       "2       away    63.0    -6.0   Dylan DeMelo  ...              14.0   \n",
       "3       home   -59.0   -20.0  Morgan Rielly  ...               6.0   \n",
       "4       home   -42.0   -29.0   Tyson Barrie  ...               6.0   \n",
       "\n",
       "  distanceFromLastEvent rebound lastEventAngle  changeInAngleShot      speed  \\\n",
       "0             85.005882     0.0            NaN                NaN   3.400235   \n",
       "1             29.274562     0.0            NaN                NaN   1.084243   \n",
       "2            127.015747     0.0            NaN                NaN   9.072553   \n",
       "3             93.000000     0.0            NaN                NaN  15.500000   \n",
       "4             55.000000     0.0            NaN                NaN   9.166667   \n",
       "\n",
       "  timeSincePowerPlayStarted numFriendlyNonGoalieSkaters  \\\n",
       "0                       0.0                         5.0   \n",
       "1                      35.0                         5.0   \n",
       "2                       0.0                         5.0   \n",
       "3                       0.0                         5.0   \n",
       "4                       0.0                         5.0   \n",
       "\n",
       "  numOpposingNonGoalieSkaters   strength2  \n",
       "0                         5.0        Even  \n",
       "1                         4.0  Power Play  \n",
       "2                         5.0        Even  \n",
       "3                         5.0        Even  \n",
       "4                         5.0        Even  \n",
       "\n",
       "[5 rows x 39 columns]"
      ]
     },
     "execution_count": 3,
     "metadata": {},
     "output_type": "execute_result"
    }
   ],
   "source": [
    "data_regular = pd.read_csv('data/testSet.csv')\n",
    "data_regular = data_regular.drop(labels='index', axis=1).reset_index(drop=True)\n",
    "data_regular['Goal'] = data_regular['Goal'].astype(np.int64)\n",
    "display(data_regular.shape)\n",
    "data_regular.head()"
   ]
  },
  {
   "cell_type": "code",
   "execution_count": 4,
   "id": "aba7ec9f-6089-4546-beae-c6ac8932fd53",
   "metadata": {},
   "outputs": [
    {
     "data": {
      "text/plain": [
       "(68499, 3)"
      ]
     },
     "metadata": {},
     "output_type": "display_data"
    },
    {
     "data": {
      "text/html": [
       "<div>\n",
       "<style scoped>\n",
       "    .dataframe tbody tr th:only-of-type {\n",
       "        vertical-align: middle;\n",
       "    }\n",
       "\n",
       "    .dataframe tbody tr th {\n",
       "        vertical-align: top;\n",
       "    }\n",
       "\n",
       "    .dataframe thead th {\n",
       "        text-align: right;\n",
       "    }\n",
       "</style>\n",
       "<table border=\"1\" class=\"dataframe\">\n",
       "  <thead>\n",
       "    <tr style=\"text-align: right;\">\n",
       "      <th></th>\n",
       "      <th>distanceFromNet</th>\n",
       "      <th>angle</th>\n",
       "      <th>Goal</th>\n",
       "    </tr>\n",
       "  </thead>\n",
       "  <tbody>\n",
       "    <tr>\n",
       "      <th>0</th>\n",
       "      <td>4.123106</td>\n",
       "      <td>75.963757</td>\n",
       "      <td>1</td>\n",
       "    </tr>\n",
       "    <tr>\n",
       "      <th>1</th>\n",
       "      <td>57.035077</td>\n",
       "      <td>92.009554</td>\n",
       "      <td>0</td>\n",
       "    </tr>\n",
       "    <tr>\n",
       "      <th>2</th>\n",
       "      <td>26.683328</td>\n",
       "      <td>77.005383</td>\n",
       "      <td>0</td>\n",
       "    </tr>\n",
       "    <tr>\n",
       "      <th>3</th>\n",
       "      <td>36.055513</td>\n",
       "      <td>123.690068</td>\n",
       "      <td>0</td>\n",
       "    </tr>\n",
       "    <tr>\n",
       "      <th>4</th>\n",
       "      <td>55.226805</td>\n",
       "      <td>121.675469</td>\n",
       "      <td>0</td>\n",
       "    </tr>\n",
       "  </tbody>\n",
       "</table>\n",
       "</div>"
      ],
      "text/plain": [
       "   distanceFromNet       angle  Goal\n",
       "0         4.123106   75.963757     1\n",
       "1        57.035077   92.009554     0\n",
       "2        26.683328   77.005383     0\n",
       "3        36.055513  123.690068     0\n",
       "4        55.226805  121.675469     0"
      ]
     },
     "execution_count": 4,
     "metadata": {},
     "output_type": "execute_result"
    }
   ],
   "source": [
    "# Read and preprocess data\n",
    "df =data_regular[['distanceFromNet', 'angle', 'Goal']]\n",
    "\n",
    "df= df.dropna().reset_index(drop=True)\n",
    "display(df.shape)\n",
    "df.head()"
   ]
  },
  {
   "cell_type": "markdown",
   "id": "68c0fa32-6055-4e85-b273-95942a4ca8bf",
   "metadata": {},
   "source": [
    "### Evaluate Model"
   ]
  },
  {
   "cell_type": "code",
   "execution_count": 5,
   "id": "e43de668-cd14-4cbd-8e05-8d209195238f",
   "metadata": {},
   "outputs": [
    {
     "name": "stderr",
     "output_type": "stream",
     "text": [
      "COMET INFO: Downloading registry model 'xgboost-task5-model', version '1.0.0', stage None from workspace {'meriembchaaben'}...\n",
      "COMET INFO: Unzipping model to 'C:\\\\Users\\\\merie\\\\OneDrive\\\\Documents\\\\Data science\\\\Milestone2\\\\IFT6758\\\\tmp' ...\n",
      "COMET INFO: done!\n"
     ]
    }
   ],
   "source": [
    "Xr1 = df[['distanceFromNet', 'angle']].to_numpy().reshape(-1, 2)\n",
    "yr = df['Goal'].to_numpy().reshape(-1, 1)\n",
    "\n",
    "filename = '../tmp/XGBoost_Task5.joblib'\n",
    "get_registered_comet_model(COMET_WORKSPACE, 'xgboost-task5-model', '1.0.0', '../tmp/')\n",
    "XGboost = load(filename)\n",
    "\n",
    "preds1 = XGboost.predict(Xr1)"
   ]
  },
  {
   "cell_type": "code",
   "execution_count": 6,
   "id": "ee1efa6c-4cd3-46fa-9038-f4baf862a1f0",
   "metadata": {},
   "outputs": [
    {
     "name": "stdout",
     "output_type": "stream",
     "text": [
      "Test accuracy: 0.9029182907779676\n",
      "Brier score: 0.09708170922203244\n",
      "** Classification report **\n",
      "              precision    recall  f1-score   support\n",
      "\n",
      "    Non-goal       0.90      1.00      0.95     61851\n",
      "        Goal       0.47      0.00      0.01      6648\n",
      "\n",
      "    accuracy                           0.90     68499\n",
      "   macro avg       0.69      0.50      0.48     68499\n",
      "weighted avg       0.86      0.90      0.86     68499\n",
      "\n"
     ]
    }
   ],
   "source": [
    "target_names = ['Non-goal', 'Goal']\n",
    "accuracy1 = XGboost.score(Xr1, yr)\n",
    "brier1 = brier_score_loss(yr, preds1)\n",
    "print(f'Test accuracy: {accuracy1}' )\n",
    "print(f'Brier score: {brier1}' )\n",
    "print('** Classification report **')\n",
    "print(classification_report(yr, preds1, target_names=target_names))"
   ]
  },
  {
   "cell_type": "markdown",
   "id": "bb52cda5-4141-4588-bec0-d7fc1da35277",
   "metadata": {},
   "source": [
    "## Visualization"
   ]
  },
  {
   "cell_type": "code",
   "execution_count": 7,
   "id": "75ac1077-0697-417f-a961-d30c2381e632",
   "metadata": {},
   "outputs": [
    {
     "name": "stdout",
     "output_type": "stream",
     "text": [
      "XGboost (tuned but trained on distanceFromNet and Angle only): ROC AUC=0.717\n",
      "Random: ROC AUC=0.500\n"
     ]
    },
    {
     "data": {
      "image/png": "[encoded data removed]",
      "text/plain": [
       "<Figure size 432x432 with 1 Axes>"
      ]
     },
     "metadata": {
      "needs_background": "light"
     },
     "output_type": "display_data"
    }
   ],
   "source": [
    "### ROC curve - AUC metric ###\n",
    "\n",
    "XGboost_probs1 = XGboost.predict_proba(Xr1[:, :])[:,1]\n",
    "\n",
    "\n",
    "random_clf = DummyClassifier(strategy=\"uniform\").fit(Xr1, yr)\n",
    "random_probs = random_clf.predict_proba(Xr1[:, :])[:,1]\n",
    "\n",
    "\n",
    "\n",
    "XGboost_auc1 = roc_auc_score(yr, XGboost_probs1)\n",
    "random_auc = roc_auc_score(yr, random_probs)\n",
    "\n",
    "\n",
    "print('XGboost (tuned but trained on distanceFromNet and Angle only): ROC AUC=%.3f' % (XGboost_auc1))\n",
    "\n",
    "print('Random: ROC AUC=%.3f' % (random_auc))\n",
    "\n",
    "XGboost_fpr1, XGboost_tpr1, _ = roc_curve(yr, XGboost_probs1)\n",
    "\n",
    "random_fpr, random_tpr, _ = roc_curve(yr, random_probs)\n",
    "\n",
    "plt.figure(figsize=(6, 6))\n",
    "\n",
    "plt.plot(XGboost_fpr1, XGboost_tpr1, linestyle='-.', label='XGboost (distance)')\n",
    "plt.plot(random_fpr, random_tpr, linestyle='--', label='Random')\n",
    "\n",
    "\n",
    "plt.xlabel('False Positive Rate')\n",
    "plt.ylabel('True Positive Rate')\n",
    "plt.legend()\n",
    "\n",
    "plt.savefig('../figures/Regular season_XGboostRsults_ROC.png')\n",
    "\n",
    "plt.show()"
   ]
  },
  {
   "cell_type": "code",
   "execution_count": 8,
   "id": "b7cd3e6b-3aec-4340-9b9c-13699ffc01c2",
   "metadata": {},
   "outputs": [
    {
     "data": {
      "image/png": "[encoded data removed]",
      "text/plain": [
       "<Figure size 432x432 with 1 Axes>"
      ]
     },
     "metadata": {
      "needs_background": "light"
     },
     "output_type": "display_data"
    }
   ],
   "source": [
    "### goal_rate = F(shot probability model percentile) ###\n",
    "def compute_goal_rate_per_percentile(probs, y):\n",
    "    percentiles = []\n",
    "    rates = []\n",
    "\n",
    "    for i in range(0, 101):\n",
    "        percentile = np.percentile(probs, i)\n",
    "        r_percentile = np.float32(round(percentile, 2))\n",
    "        goals = 0\n",
    "        no_goals = 0\n",
    "        for idx, p in enumerate(probs):\n",
    "#             if p<=percentile:\n",
    "            if np.float32(round(p, 2))==r_percentile:\n",
    "                if y[idx]==1:\n",
    "                    goals+=1\n",
    "                else:\n",
    "                    no_goals+=1\n",
    "        if (goals+no_goals==0):\n",
    "            rate=0\n",
    "        else:\n",
    "            rate = goals *100 / (goals + no_goals)\n",
    "        percentiles.append(percentile)\n",
    "        rates.append(rate)\n",
    "    return percentiles, rates\n",
    "\n",
    "percentiles1, rates1 = compute_goal_rate_per_percentile(XGboost_probs1, yr)\n",
    "percentiles4, rates4 = compute_goal_rate_per_percentile(random_probs, yr)\n",
    "\n",
    "plt.figure(figsize=(6, 6))\n",
    "\n",
    "plt.plot(percentiles1, rates1, linestyle='-.', label='XGboost_Disatne+Angle')\n",
    "plt.plot(percentiles4, rates4, linestyle='--', label='Random')\n",
    "\n",
    "plt.xlabel('Shot probability model percentile')\n",
    "plt.ylabel('Goal rate')\n",
    "plt.legend()\n",
    "plt.ylim([0, 100])\n",
    "plt.xlim([0, 1])\n",
    "plt.title('Goal rate')\n",
    "\n",
    "plt.savefig('../figures/Regular season_XGboost-goal_rate_percentile_1.png')\n",
    "\n",
    "plt.show()"
   ]
  },
  {
   "cell_type": "code",
   "execution_count": 9,
   "id": "2699b3df-cd97-4da6-b543-8368621cccf2",
   "metadata": {},
   "outputs": [
    {
     "data": {
      "image/png": "[encoded data removed]",
      "text/plain": [
       "<Figure size 432x432 with 1 Axes>"
      ]
     },
     "metadata": {
      "needs_background": "light"
     },
     "output_type": "display_data"
    }
   ],
   "source": [
    "def compute_cumulative_propotion_of_goals_per_percentile(probs, y):\n",
    "    percentiles = []\n",
    "    cum_rates = []\n",
    "    cum_rate = 0\n",
    "    total_goals = sum(y)\n",
    "    cum_goals = 0\n",
    "    for i in range(0, 101):\n",
    "        percentile = np.percentile(probs, i)\n",
    "        cum_goals=0\n",
    "        for idx, p in enumerate(probs):\n",
    "            if p<=percentile:\n",
    "                if y[idx]==1:\n",
    "                    cum_goals+=1 \n",
    "        cum_rate = cum_goals * 100 / total_goals\n",
    "        percentiles.append(percentile)\n",
    "        cum_rates.append(cum_rate)\n",
    "    return percentiles, cum_rates\n",
    "\n",
    "\n",
    "percentiles1, rates1 = compute_cumulative_propotion_of_goals_per_percentile(XGboost_probs1, yr)\n",
    "\n",
    "percentiles4, rates4 = compute_cumulative_propotion_of_goals_per_percentile(random_probs, yr)\n",
    "\n",
    "plt.figure(figsize=(6, 6))\n",
    "\n",
    "plt.plot(percentiles1, rates1, linestyle='-.', label='XGboost_Disatne+Angle')\n",
    "\n",
    "plt.plot(percentiles4, rates4, linestyle=':', label='Random')\n",
    "\n",
    "plt.xlabel('Shot probability model percentile')\n",
    "plt.ylabel('Cumulative proportion of goals')\n",
    "plt.legend(loc='lower right')\n",
    "plt.ylim([0, 100])\n",
    "plt.xlim([0, 1])\n",
    "plt.title('Cumulative proportion of goals')\n",
    "\n",
    "plt.savefig('../figures/Regular season_XGboost-goal_rate_percentile_2.png')\n",
    "\n",
    "plt.show()"
   ]
  },
  {
   "cell_type": "code",
   "execution_count": 10,
   "id": "5fda3daa-4596-44c9-8ddd-6c1c3daf950e",
   "metadata": {},
   "outputs": [
    {
     "data": {
      "image/png": "[encoded data removed]",
      "text/plain": [
       "<Figure size 432x432 with 1 Axes>"
      ]
     },
     "metadata": {
      "needs_background": "light"
     },
     "output_type": "display_data"
    }
   ],
   "source": [
    "fig, ax = plt.subplots(figsize=(6, 6))\n",
    "\n",
    "\n",
    "disp1 = CalibrationDisplay.from_estimator(XGboost, Xr1, yr, label='XGboost_Disatne+Angle', marker=\"P\", ax=ax)\n",
    "\n",
    "ax.legend(loc='upper left')\n",
    "\n",
    "plt.savefig('../figures/Regular season_XGboost-calibration_diagram2.png')\n",
    "\n",
    "plt.show()"
   ]
  },
  {
   "cell_type": "markdown",
   "id": "397e7986-f4f0-46d9-9e3f-995108ccd9fc",
   "metadata": {},
   "source": [
    "## Question-2: PlayOffs\n"
   ]
  },
  {
   "cell_type": "code",
   "execution_count": 11,
   "id": "a5914041-0859-41d2-b43b-3b1be270bdea",
   "metadata": {},
   "outputs": [
    {
     "data": {
      "text/plain": [
       "(5367, 39)"
      ]
     },
     "metadata": {},
     "output_type": "display_data"
    },
    {
     "data": {
      "text/html": [
       "<div>\n",
       "<style scoped>\n",
       "    .dataframe tbody tr th:only-of-type {\n",
       "        vertical-align: middle;\n",
       "    }\n",
       "\n",
       "    .dataframe tbody tr th {\n",
       "        vertical-align: top;\n",
       "    }\n",
       "\n",
       "    .dataframe thead th {\n",
       "        text-align: right;\n",
       "    }\n",
       "</style>\n",
       "<table border=\"1\" class=\"dataframe\">\n",
       "  <thead>\n",
       "    <tr style=\"text-align: right;\">\n",
       "      <th></th>\n",
       "      <th>eventType</th>\n",
       "      <th>period</th>\n",
       "      <th>periodTime</th>\n",
       "      <th>periodType</th>\n",
       "      <th>gameID</th>\n",
       "      <th>teamOfShooter</th>\n",
       "      <th>homeOrAway</th>\n",
       "      <th>xCoord</th>\n",
       "      <th>yCoord</th>\n",
       "      <th>shooter</th>\n",
       "      <th>...</th>\n",
       "      <th>timeFromLastEvent</th>\n",
       "      <th>distanceFromLastEvent</th>\n",
       "      <th>rebound</th>\n",
       "      <th>lastEventAngle</th>\n",
       "      <th>changeInAngleShot</th>\n",
       "      <th>speed</th>\n",
       "      <th>timeSincePowerPlayStarted</th>\n",
       "      <th>numFriendlyNonGoalieSkaters</th>\n",
       "      <th>numOpposingNonGoalieSkaters</th>\n",
       "      <th>strength2</th>\n",
       "    </tr>\n",
       "  </thead>\n",
       "  <tbody>\n",
       "    <tr>\n",
       "      <th>0</th>\n",
       "      <td>Shot</td>\n",
       "      <td>1</td>\n",
       "      <td>02:18</td>\n",
       "      <td>REGULAR</td>\n",
       "      <td>2019030111</td>\n",
       "      <td>Philadelphia Flyers</td>\n",
       "      <td>home</td>\n",
       "      <td>-56.0</td>\n",
       "      <td>-5.0</td>\n",
       "      <td>Sean Couturier</td>\n",
       "      <td>...</td>\n",
       "      <td>2.0</td>\n",
       "      <td>21.400935</td>\n",
       "      <td>0.0</td>\n",
       "      <td>NaN</td>\n",
       "      <td>NaN</td>\n",
       "      <td>10.700467</td>\n",
       "      <td>0.0</td>\n",
       "      <td>5.0</td>\n",
       "      <td>5.0</td>\n",
       "      <td>Even</td>\n",
       "    </tr>\n",
       "    <tr>\n",
       "      <th>1</th>\n",
       "      <td>Shot</td>\n",
       "      <td>1</td>\n",
       "      <td>04:15</td>\n",
       "      <td>REGULAR</td>\n",
       "      <td>2019030111</td>\n",
       "      <td>Montréal Canadiens</td>\n",
       "      <td>away</td>\n",
       "      <td>54.0</td>\n",
       "      <td>-26.0</td>\n",
       "      <td>Joel Armia</td>\n",
       "      <td>...</td>\n",
       "      <td>39.0</td>\n",
       "      <td>97.867257</td>\n",
       "      <td>0.0</td>\n",
       "      <td>NaN</td>\n",
       "      <td>NaN</td>\n",
       "      <td>2.509417</td>\n",
       "      <td>0.0</td>\n",
       "      <td>5.0</td>\n",
       "      <td>5.0</td>\n",
       "      <td>Even</td>\n",
       "    </tr>\n",
       "    <tr>\n",
       "      <th>2</th>\n",
       "      <td>Shot</td>\n",
       "      <td>1</td>\n",
       "      <td>04:58</td>\n",
       "      <td>REGULAR</td>\n",
       "      <td>2019030111</td>\n",
       "      <td>Philadelphia Flyers</td>\n",
       "      <td>home</td>\n",
       "      <td>-61.0</td>\n",
       "      <td>38.0</td>\n",
       "      <td>Philippe Myers</td>\n",
       "      <td>...</td>\n",
       "      <td>5.0</td>\n",
       "      <td>45.354162</td>\n",
       "      <td>0.0</td>\n",
       "      <td>NaN</td>\n",
       "      <td>NaN</td>\n",
       "      <td>9.070832</td>\n",
       "      <td>0.0</td>\n",
       "      <td>5.0</td>\n",
       "      <td>5.0</td>\n",
       "      <td>Even</td>\n",
       "    </tr>\n",
       "    <tr>\n",
       "      <th>3</th>\n",
       "      <td>Shot</td>\n",
       "      <td>1</td>\n",
       "      <td>05:06</td>\n",
       "      <td>REGULAR</td>\n",
       "      <td>2019030111</td>\n",
       "      <td>Philadelphia Flyers</td>\n",
       "      <td>home</td>\n",
       "      <td>-52.0</td>\n",
       "      <td>-14.0</td>\n",
       "      <td>Ivan Provorov</td>\n",
       "      <td>...</td>\n",
       "      <td>0.0</td>\n",
       "      <td>NaN</td>\n",
       "      <td>0.0</td>\n",
       "      <td>NaN</td>\n",
       "      <td>NaN</td>\n",
       "      <td>NaN</td>\n",
       "      <td>0.0</td>\n",
       "      <td>5.0</td>\n",
       "      <td>5.0</td>\n",
       "      <td>Even</td>\n",
       "    </tr>\n",
       "    <tr>\n",
       "      <th>4</th>\n",
       "      <td>Shot</td>\n",
       "      <td>1</td>\n",
       "      <td>06:11</td>\n",
       "      <td>REGULAR</td>\n",
       "      <td>2019030111</td>\n",
       "      <td>Philadelphia Flyers</td>\n",
       "      <td>home</td>\n",
       "      <td>-49.0</td>\n",
       "      <td>-32.0</td>\n",
       "      <td>Travis Sanheim</td>\n",
       "      <td>...</td>\n",
       "      <td>4.0</td>\n",
       "      <td>78.771822</td>\n",
       "      <td>0.0</td>\n",
       "      <td>NaN</td>\n",
       "      <td>NaN</td>\n",
       "      <td>19.692956</td>\n",
       "      <td>0.0</td>\n",
       "      <td>5.0</td>\n",
       "      <td>5.0</td>\n",
       "      <td>Even</td>\n",
       "    </tr>\n",
       "  </tbody>\n",
       "</table>\n",
       "<p>5 rows × 39 columns</p>\n",
       "</div>"
      ],
      "text/plain": [
       "  eventType  period periodTime periodType      gameID        teamOfShooter  \\\n",
       "0      Shot       1      02:18    REGULAR  2019030111  Philadelphia Flyers   \n",
       "1      Shot       1      04:15    REGULAR  2019030111   Montréal Canadiens   \n",
       "2      Shot       1      04:58    REGULAR  2019030111  Philadelphia Flyers   \n",
       "3      Shot       1      05:06    REGULAR  2019030111  Philadelphia Flyers   \n",
       "4      Shot       1      06:11    REGULAR  2019030111  Philadelphia Flyers   \n",
       "\n",
       "  homeOrAway  xCoord  yCoord         shooter  ... timeFromLastEvent  \\\n",
       "0       home   -56.0    -5.0  Sean Couturier  ...               2.0   \n",
       "1       away    54.0   -26.0      Joel Armia  ...              39.0   \n",
       "2       home   -61.0    38.0  Philippe Myers  ...               5.0   \n",
       "3       home   -52.0   -14.0   Ivan Provorov  ...               0.0   \n",
       "4       home   -49.0   -32.0  Travis Sanheim  ...               4.0   \n",
       "\n",
       "  distanceFromLastEvent rebound lastEventAngle  changeInAngleShot      speed  \\\n",
       "0             21.400935     0.0            NaN                NaN  10.700467   \n",
       "1             97.867257     0.0            NaN                NaN   2.509417   \n",
       "2             45.354162     0.0            NaN                NaN   9.070832   \n",
       "3                   NaN     0.0            NaN                NaN        NaN   \n",
       "4             78.771822     0.0            NaN                NaN  19.692956   \n",
       "\n",
       "  timeSincePowerPlayStarted numFriendlyNonGoalieSkaters  \\\n",
       "0                       0.0                         5.0   \n",
       "1                       0.0                         5.0   \n",
       "2                       0.0                         5.0   \n",
       "3                       0.0                         5.0   \n",
       "4                       0.0                         5.0   \n",
       "\n",
       "  numOpposingNonGoalieSkaters  strength2  \n",
       "0                         5.0       Even  \n",
       "1                         5.0       Even  \n",
       "2                         5.0       Even  \n",
       "3                         5.0       Even  \n",
       "4                         5.0       Even  \n",
       "\n",
       "[5 rows x 39 columns]"
      ]
     },
     "execution_count": 11,
     "metadata": {},
     "output_type": "execute_result"
    }
   ],
   "source": [
    "data_playoffs = pd.read_csv('data/testSetPlayOff.csv')\n",
    "data_playoffs = data_playoffs.drop(labels=['index', 'Unnamed: 0'], axis=1).reset_index(drop=True)\n",
    "data_playoffs['Goal'] = data_playoffs['Goal'].astype(np.int64)\n",
    "display(data_playoffs.shape)\n",
    "data_playoffs.head()"
   ]
  },
  {
   "cell_type": "code",
   "execution_count": 12,
   "id": "a1bc32a2-c7db-43da-847f-715a457ef752",
   "metadata": {},
   "outputs": [
    {
     "data": {
      "text/plain": [
       "(5367, 3)"
      ]
     },
     "metadata": {},
     "output_type": "display_data"
    },
    {
     "data": {
      "text/html": [
       "<div>\n",
       "<style scoped>\n",
       "    .dataframe tbody tr th:only-of-type {\n",
       "        vertical-align: middle;\n",
       "    }\n",
       "\n",
       "    .dataframe tbody tr th {\n",
       "        vertical-align: top;\n",
       "    }\n",
       "\n",
       "    .dataframe thead th {\n",
       "        text-align: right;\n",
       "    }\n",
       "</style>\n",
       "<table border=\"1\" class=\"dataframe\">\n",
       "  <thead>\n",
       "    <tr style=\"text-align: right;\">\n",
       "      <th></th>\n",
       "      <th>distanceFromNet</th>\n",
       "      <th>angle</th>\n",
       "      <th>Goal</th>\n",
       "    </tr>\n",
       "  </thead>\n",
       "  <tbody>\n",
       "    <tr>\n",
       "      <th>0</th>\n",
       "      <td>33.376639</td>\n",
       "      <td>98.615648</td>\n",
       "      <td>0</td>\n",
       "    </tr>\n",
       "    <tr>\n",
       "      <th>1</th>\n",
       "      <td>43.600459</td>\n",
       "      <td>53.392925</td>\n",
       "      <td>0</td>\n",
       "    </tr>\n",
       "    <tr>\n",
       "      <th>2</th>\n",
       "      <td>47.201695</td>\n",
       "      <td>36.384352</td>\n",
       "      <td>0</td>\n",
       "    </tr>\n",
       "    <tr>\n",
       "      <th>3</th>\n",
       "      <td>39.560081</td>\n",
       "      <td>110.725559</td>\n",
       "      <td>0</td>\n",
       "    </tr>\n",
       "    <tr>\n",
       "      <th>4</th>\n",
       "      <td>51.224994</td>\n",
       "      <td>128.659808</td>\n",
       "      <td>0</td>\n",
       "    </tr>\n",
       "  </tbody>\n",
       "</table>\n",
       "</div>"
      ],
      "text/plain": [
       "   distanceFromNet       angle  Goal\n",
       "0        33.376639   98.615648     0\n",
       "1        43.600459   53.392925     0\n",
       "2        47.201695   36.384352     0\n",
       "3        39.560081  110.725559     0\n",
       "4        51.224994  128.659808     0"
      ]
     },
     "execution_count": 12,
     "metadata": {},
     "output_type": "execute_result"
    }
   ],
   "source": [
    "df_PO =data_playoffs[['distanceFromNet', 'angle', 'Goal']]\n",
    "\n",
    "df_PO= df_PO.dropna().reset_index(drop=True)\n",
    "display(df_PO.shape)\n",
    "df_PO.head()"
   ]
  },
  {
   "cell_type": "markdown",
   "id": "5e97134f-337c-4da5-9fde-01f8081d5ac6",
   "metadata": {},
   "source": [
    "## Evaluate Model"
   ]
  },
  {
   "cell_type": "code",
   "execution_count": 14,
   "id": "cfc98b1c-10b1-4d13-97e9-1835164acc0a",
   "metadata": {},
   "outputs": [
    {
     "name": "stdout",
     "output_type": "stream",
     "text": [
      "####### XGBoost Distance+Angle  #######\n",
      "Test accuracy: 0.9118688280231042\n",
      "Brier score: 0.08813117197689585\n",
      "** Classification report **\n",
      "              precision    recall  f1-score   support\n",
      "\n",
      "    Non-goal       0.91      1.00      0.95      4893\n",
      "        Goal       0.60      0.01      0.01       474\n",
      "\n",
      "    accuracy                           0.91      5367\n",
      "   macro avg       0.76      0.50      0.48      5367\n",
      "weighted avg       0.88      0.91      0.87      5367\n",
      "\n"
     ]
    }
   ],
   "source": [
    "X_PO = df_PO[['distanceFromNet', 'angle']].to_numpy().reshape(-1, 2)\n",
    "y_PO = df_PO['Goal'].to_numpy().reshape(-1, 1)\n",
    "predsPO = XGboost.predict(X_PO)\n",
    "print('####### XGBoost Distance+Angle  #######')\n",
    "target_names = ['Non-goal', 'Goal']\n",
    "accuracy1 = XGboost.score(X_PO, y_PO)\n",
    "brier1 = brier_score_loss(y_PO, predsPO)\n",
    "print(f'Test accuracy: {accuracy1}' )\n",
    "print(f'Brier score: {brier1}' )\n",
    "print('** Classification report **')\n",
    "print(classification_report(y_PO, predsPO, target_names=target_names))"
   ]
  },
  {
   "cell_type": "markdown",
   "id": "acabfcee-fae1-444f-bd42-6fd27f07bb85",
   "metadata": {},
   "source": [
    "### Visualisation"
   ]
  },
  {
   "cell_type": "code",
   "execution_count": 15,
   "id": "5a287d47-4dcf-41e7-a330-8e1f75d5559c",
   "metadata": {},
   "outputs": [
    {
     "name": "stdout",
     "output_type": "stream",
     "text": [
      "XGboost (tuned but trained on distanceFromNet and Angle only): ROC AUC=0.696\n",
      "Random: ROC AUC=0.500\n"
     ]
    },
    {
     "data": {
      "image/png": "[encoded data removed]",
      "text/plain": [
       "<Figure size 432x432 with 1 Axes>"
      ]
     },
     "metadata": {
      "needs_background": "light"
     },
     "output_type": "display_data"
    }
   ],
   "source": [
    "XGboost_probsPlayOff = XGboost.predict_proba(X_PO[:, :])[:,1]\n",
    "\n",
    "\n",
    "random_clf = DummyClassifier(strategy=\"uniform\").fit(X_PO, y_PO)\n",
    "random_probs = random_clf.predict_proba(X_PO[:, :])[:,1]\n",
    "\n",
    "\n",
    "\n",
    "XGboost_auc1 = roc_auc_score(y_PO, XGboost_probsPlayOff)\n",
    "random_auc = roc_auc_score(y_PO, random_probs)\n",
    "\n",
    "\n",
    "print('XGboost (tuned but trained on distanceFromNet and Angle only): ROC AUC=%.3f' % (XGboost_auc1))\n",
    "\n",
    "print('Random: ROC AUC=%.3f' % (random_auc))\n",
    "\n",
    "XGboost_fpr1, XGboost_tpr1, _ = roc_curve(y_PO, XGboost_probsPlayOff)\n",
    "\n",
    "random_fpr, random_tpr, _ = roc_curve(y_PO, random_probs)\n",
    "\n",
    "plt.figure(figsize=(6, 6))\n",
    "\n",
    "plt.plot(XGboost_fpr1, XGboost_tpr1, linestyle='-.', label='XGboost (distance)')\n",
    "plt.plot(random_fpr, random_tpr, linestyle='--', label='Random')\n",
    "\n",
    "\n",
    "plt.xlabel('False Positive Rate')\n",
    "plt.ylabel('True Positive Rate')\n",
    "plt.legend()\n",
    "\n",
    "plt.savefig('../figures/PlayOffs_XGboostRsults_ROC.png')\n",
    "\n",
    "plt.show()"
   ]
  },
  {
   "cell_type": "code",
   "execution_count": 16,
   "id": "3f922acb-4255-489a-93a5-dcdd7b263830",
   "metadata": {},
   "outputs": [
    {
     "data": {
      "image/png": "[encoded data removed]",
      "text/plain": [
       "<Figure size 432x432 with 1 Axes>"
      ]
     },
     "metadata": {
      "needs_background": "light"
     },
     "output_type": "display_data"
    }
   ],
   "source": [
    "percentiles1, rates1 = compute_goal_rate_per_percentile(XGboost_probsPlayOff, y_PO)\n",
    "percentiles4, rates4 = compute_goal_rate_per_percentile(random_probs, y_PO)\n",
    "\n",
    "plt.figure(figsize=(6, 6))\n",
    "\n",
    "plt.plot(percentiles1, rates1, linestyle='-.', label='XGboost_Disatne+Angle')\n",
    "plt.plot(percentiles4, rates4, linestyle='--', label='Random')\n",
    "\n",
    "plt.xlabel('Shot probability model percentile')\n",
    "plt.ylabel('Goal rate')\n",
    "plt.legend()\n",
    "plt.ylim([0, 100])\n",
    "plt.xlim([0, 1])\n",
    "plt.title('Goal rate')\n",
    "\n",
    "plt.savefig('../figures/PlayOffs_XGboost-goal_rate_percentile_1.png')\n",
    "\n",
    "plt.show()"
   ]
  },
  {
   "cell_type": "code",
   "execution_count": null,
   "id": "09a78999-4290-46ec-8578-843f685a0c47",
   "metadata": {},
   "outputs": [],
   "source": [
    "percentiles1, rates1 = compute_cumulative_propotion_of_goals_per_percentile(XGboost_probsPlayOff, y_PO)\n",
    "\n",
    "percentiles4, rates4 = compute_cumulative_propotion_of_goals_per_percentile(random_probs, y_PO)\n",
    "\n",
    "plt.figure(figsize=(6, 6))\n",
    "\n",
    "plt.plot(percentiles1, rates1, linestyle='-.', label='XGboost_Disatne+Angle')\n",
    "\n",
    "plt.plot(percentiles4, rates4, linestyle=':', label='Random')\n",
    "\n",
    "plt.xlabel('Shot probability model percentile')\n",
    "plt.ylabel('Cumulative proportion of goals')\n",
    "plt.legend(loc='lower right')\n",
    "plt.ylim([0, 100])\n",
    "plt.xlim([0, 1])\n",
    "plt.title('Cumulative proportion of goals')\n",
    "\n",
    "plt.savefig('../figures/PlayOffs_XGboost-goal_rate_percentile_2.png')\n",
    "\n",
    "plt.show()"
   ]
  },
  {
   "cell_type": "code",
   "execution_count": 17,
   "id": "68c651bc-4756-4282-b6a7-9592355dcd5e",
   "metadata": {},
   "outputs": [
    {
     "data": {
      "image/png": "[encoded data removed]",
      "text/plain": [
       "<Figure size 432x432 with 1 Axes>"
      ]
     },
     "metadata": {
      "needs_background": "light"
     },
     "output_type": "display_data"
    }
   ],
   "source": [
    "fig, ax = plt.subplots(figsize=(6, 6))\n",
    "\n",
    "\n",
    "disp1 = CalibrationDisplay.from_estimator(XGboost, X_PO, y_PO, label='XGboost_Disatne+Angle', marker=\"P\", ax=ax)\n",
    "\n",
    "ax.legend(loc='upper left')\n",
    "\n",
    "plt.savefig('../figures/PlayOffs_XGboost-calibration_diagram2.png')\n",
    "\n",
    "plt.show()"
   ]
  }
 ],
 "metadata": {
  "kernelspec": {
   "display_name": "Python 3",
   "language": "python",
   "name": "python3"
  },
  "language_info": {
   "codemirror_mode": {
    "name": "ipython",
    "version": 3
   },
   "file_extension": ".py",
   "mimetype": "text/x-python",
   "name": "python",
   "nbconvert_exporter": "python",
   "pygments_lexer": "ipython3",
   "version": "3.8.8"
  }
 },
 "nbformat": 4,
 "nbformat_minor": 5
}
