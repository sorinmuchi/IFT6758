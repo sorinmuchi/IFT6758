{
 "cells": [
  {
   "cell_type": "code",
   "execution_count": 1,
   "metadata": {},
   "outputs": [],
   "source": [
    "from comet_ml import API\n",
    "\n",
    "import pickle\n",
    "import pandas as pd\n"
   ]
  },
  {
   "cell_type": "code",
   "execution_count": 2,
   "metadata": {},
   "outputs": [
    {
     "name": "stderr",
     "output_type": "stream",
     "text": [
      "COMET INFO: Downloading registry model 'final-best-task-6-xgb', version '1.0.0', stage None from workspace 'meriembchaaben'...\n",
      "COMET INFO: Unzipping model to '/home/smuchi/Dev/IFT6758/notebooks' ...\n",
      "COMET INFO: done!\n"
     ]
    }
   ],
   "source": [
    "#Download Model\n",
    "api = API()\n",
    "experiment = api.get(\"meriembchaaben/ift6758/6cc6d08bce9844af9141e87129e9a78f\")\n",
    "api.download_registry_model(\"meriembchaaben\", \"final-best-task-6-xgb\", \"1.0.0\",\n",
    "                            output_path=\"./\", expand=True)"
   ]
  },
  {
   "cell_type": "code",
   "execution_count": 3,
   "metadata": {},
   "outputs": [],
   "source": [
    "# Load Model\n",
    "with open(f'./sklearn-XGB-CV-NFS.pkl', 'rb') as f:\n",
    "    pipe = pickle.load(f)"
   ]
  },
  {
   "cell_type": "code",
   "execution_count": 4,
   "metadata": {},
   "outputs": [],
   "source": [
    "# Load Test Data\n",
    "PATH_REL_PREFIX = '..'\n",
    "df = pd.read_csv(f'{PATH_REL_PREFIX}/data/M2Data/testSet.csv')\n",
    "\n",
    "# The following pre-processing code is not required to run the SKLearn Pipeline\n",
    "# I kept it for reference\n",
    " \n",
    "# df['strength'] = df['strength2']\n",
    "\n",
    "# df['rebound'] = df.rebound.astype(int)\n",
    "# df['Goal'] = df['Goal'].astype(int)\n",
    "# df['EmptyNet'] = df['EmptyNet'].astype(int)\n",
    "\n",
    "# df = df.drop(labels=[\n",
    "#     'totalPlayTime', 'gameID', 'eventType',\n",
    "#     'lastEventPeriodTime',\n",
    "#     'strength2',\n",
    "#     'lastEventAngle',\n",
    "#     'lastEventGameSeconds',\n",
    "#     'emptyNet',\n",
    "#     'lastEventPeriod',\n",
    "#     'xCoord', 'yCoord',\n",
    "#     'lastEventXCoord', 'lastEventYCoord',\n",
    "#     'index',\n",
    "# ], axis=1, errors='ignore')\n",
    "\n",
    "# X, y = df.drop(labels='Goal', axis=1), df['Goal']"
   ]
  },
  {
   "cell_type": "code",
   "execution_count": 5,
   "metadata": {},
   "outputs": [],
   "source": [
    "# Make Predictions\n",
    "test_actual_labels = df.Goal.to_numpy()\n",
    "test_predicted_labels = pipe.predict(df)\n",
    "test_predicted_probabilities = pipe.predict_proba(df)[:,1]\n",
    "\n",
    "results_df = pd.DataFrame({\n",
    "    'actual': test_actual_labels,\n",
    "    'predicted_labels': test_predicted_labels,\n",
    "    'predicted_probabilities': test_predicted_probabilities,\n",
    "})\n",
    "\n",
    "# Save Predictions to CSV\n",
    "results_df.to_csv('./predictions/task-6-best-final.csv')"
   ]
  },
  {
   "cell_type": "code",
   "execution_count": 6,
   "metadata": {},
   "outputs": [
    {
     "name": "stdout",
     "output_type": "stream",
     "text": [
      "0.7912830588552948\n",
      "0.6309400776047751\n",
      "0.12252128006127017\n"
     ]
    }
   ],
   "source": [
    "# Quick Validation of Test Set Predicitons\n",
    "from sklearn.metrics import roc_auc_score, f1_score, brier_score_loss\n",
    "print(roc_auc_score(test_actual_labels, test_predicted_probabilities))\n",
    "print(f1_score(test_actual_labels, test_predicted_labels, average='macro'))\n",
    "print(brier_score_loss(test_actual_labels, test_predicted_probabilities))"
   ]
  },
  {
   "cell_type": "code",
   "execution_count": null,
   "metadata": {},
   "outputs": [],
   "source": []
  }
 ],
 "metadata": {
  "interpreter": {
   "hash": "ba0a36c4ba77987c0ac3c8ffb3ac6e5dd1eb3bac642c6367df2c2db5382bc97d"
  },
  "kernelspec": {
   "display_name": "Python 3",
   "language": "python",
   "name": "python3"
  },
  "language_info": {
   "codemirror_mode": {
    "name": "ipython",
    "version": 3
   },
   "file_extension": ".py",
   "mimetype": "text/x-python",
   "name": "python",
   "nbconvert_exporter": "python",
   "pygments_lexer": "ipython3",
   "version": "3.8.10"
  }
 },
 "nbformat": 4,
 "nbformat_minor": 4
}
