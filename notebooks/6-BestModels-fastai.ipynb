{
 "cells": [
  {
   "cell_type": "code",
   "execution_count": 1,
   "metadata": {},
   "outputs": [],
   "source": [
    "import comet_ml\n",
    "\n",
    "import os\n",
    "from dotenv import load_dotenv\n",
    "\n",
    "import numpy as np\n",
    "import pandas as pd\n",
    "\n",
    "from sklearn.dummy import DummyClassifier\n",
    "from fastai.tabular.all import *\n",
    "\n",
    "import matplotlib.pyplot as plt\n",
    "\n",
    "from sklearn.metrics import f1_score, brier_score_loss, roc_auc_score, confusion_matrix, classification_report, roc_curve, PrecisionRecallDisplay \n",
    "from sklearn.calibration import CalibrationDisplay"
   ]
  },
  {
   "cell_type": "code",
   "execution_count": 2,
   "metadata": {},
   "outputs": [],
   "source": [
    "EXP_DESCRIPTION = 'CE-ES'"
   ]
  },
  {
   "cell_type": "code",
   "execution_count": 3,
   "metadata": {},
   "outputs": [
    {
     "name": "stderr",
     "output_type": "stream",
     "text": [
      "COMET WARNING: As you are running in a Jupyter environment, you will need to call `experiment.end()` when finished to ensure all metrics and code are logged before exiting.\n",
      "COMET INFO: Experiment is live on comet.ml https://www.comet.ml/meriembchaaben/ift6758/b037038651174cecb547c2b7d4dd55ea\n",
      "\n"
     ]
    }
   ],
   "source": [
    "PATH_REL_PREFIX = '..'\n",
    "load_dotenv(f'{PATH_REL_PREFIX}/.env')\n",
    "COMET_API_KEY = os.getenv('COMET_API_KEY')\n",
    "exp = comet_ml.Experiment(\n",
    "    api_key=COMET_API_KEY,\n",
    "    project_name='ift6758',\n",
    "    workspace='meriembchaaben',\n",
    ")\n",
    "exp.set_name(f'Question6/YourBestShot-fastai-{EXP_DESCRIPTION}')"
   ]
  },
  {
   "cell_type": "code",
   "execution_count": 4,
   "metadata": {},
   "outputs": [],
   "source": [
    "def compute_goal_rate_per_percentile(probs, y):\n",
    "    percentiles = []\n",
    "    rates = []\n",
    "\n",
    "    for i in range(0, 101):\n",
    "        percentile = np.percentile(probs, i)\n",
    "        goals = 0\n",
    "        no_goals = 0\n",
    "        for idx, p in enumerate(probs):\n",
    "            if p<=percentile:\n",
    "                if y[idx]==1:\n",
    "                    goals+=1\n",
    "                else:\n",
    "                    no_goals+=1\n",
    "        rate = goals / (goals + no_goals)\n",
    "        percentiles.append(percentile)\n",
    "        rates.append(rate)\n",
    "    return percentiles, rates\n",
    "\n",
    "def compute_cumulative_goal_rate_per_percentile(probs, y):\n",
    "        percentiles = []\n",
    "        rates = []\n",
    "        cum_rate = 0\n",
    "\n",
    "        for i in range(0, 101):\n",
    "            percentile = np.percentile(probs, i)\n",
    "            goals = 0\n",
    "            no_goals = 0\n",
    "            for idx, p in enumerate(probs):\n",
    "                if p<=percentile:\n",
    "                    if y[idx]==1:\n",
    "                        goals+=1\n",
    "                    else:\n",
    "                        no_goals+=1\n",
    "            cum_rate += goals / (goals + no_goals)\n",
    "            percentiles.append(percentile)\n",
    "            rates.append(cum_rate)\n",
    "        return percentiles, rates\n",
    "\n",
    "\n",
    "def plot_metrics(learn, y_val_pred, val_y_pred_proba, y_val):\n",
    "    params = {'classifier': 'FastAI NN'}\n",
    "    random_clf = DummyClassifier(strategy=\"uniform\").fit(X_train, y_train)\n",
    "    random_probs = random_clf.predict_proba(X_val)[:, 1]\n",
    "\n",
    "    val_f1 = f1_score(y_val, y_val_pred, average='macro')\n",
    "    val_brier = brier_score_loss(y_val, y_val_pred)\n",
    "    \n",
    "    #F1 Score (Macro)\n",
    "    print(f'F1 Score (Macro) Validation: {val_f1}')\n",
    "    exp.log_metric('F1 Score (Macro) Validation', val_f1)\n",
    "\n",
    "    #Brier Score \n",
    "    print(f'Brier Score Validation: {val_brier}')\n",
    "    exp.log_metric('Brier Score Validation', val_brier)\n",
    "\n",
    "    # Log Model Architecture\n",
    "    exp.log_text(learn.model)\n",
    "\n",
    "    # Confusion Matrix\n",
    "    print(confusion_matrix(y_val, y_val_pred))\n",
    "    exp.log_confusion_matrix(y_val, y_val_pred)\n",
    "\n",
    "    # Classification Report\n",
    "    print(classification_report(y_val, y_val_pred))\n",
    "    exp.log_text(classification_report(y_val, y_val_pred))\n",
    "\n",
    "    ### PR Curve -- AUC metric ###\n",
    "    display = PrecisionRecallDisplay.from_predictions(y_val, val_y_pred_proba)\n",
    "    display.ax_.set_title(\"2-class Precision-Recall curve\")\n",
    "    exp.log_figure('PR AUC Curve', display.figure_)\n",
    "\n",
    "    ### ROC curve - AUC metric ###\n",
    "    pipe_roc_auc = roc_auc_score(y_val, y_val_pred)\n",
    "    random_auc = roc_auc_score(y_val, random_probs)\n",
    "    print('Our Model: ROC AUC=%.3f' % (pipe_roc_auc))\n",
    "    print('Random: ROC AUC=%.3f' % (random_auc))\n",
    "    exp.log_metric('ROC AUC', pipe_roc_auc)\n",
    "    xgb_fpr, xgb_tpr, _ = roc_curve(y_val, val_y_pred_proba)\n",
    "    plt.figure(figsize=(6, 6))\n",
    "    plt.plot(xgb_fpr, xgb_tpr, marker='.', label=f'{params[\"classifier\"]}')\n",
    "    plt.plot([0, 1], [0, 1], linestyle='--', marker='.', label='Random')\n",
    "    plt.xlabel('False Positive Rate')\n",
    "    plt.ylabel('True Positive Rate')\n",
    "    plt.legend()\n",
    "    exp.log_figure('ROC AUC Curve', plt)\n",
    "    # plt.savefig('../figures/roc.png')\n",
    "    plt.show()\n",
    "\n",
    "\n",
    "    # The goal rate (#goals / (#no_goals + #goals)) as a function of the shot probability model percentile,\n",
    "    # i.e. if a value is the 70th percentile, it is above 70% of the data. \n",
    "    ### goal_rate = F(shot probability model percentile) ###\n",
    "    percentiles1, rates1 = compute_goal_rate_per_percentile(val_y_pred_proba, y_val)\n",
    "    percentiles2, rates2 = compute_goal_rate_per_percentile(random_probs, y_val)\n",
    "    plt.figure(figsize=(6, 6))\n",
    "    plt.plot(percentiles1, rates1, marker='.', label=f'{params[\"classifier\"]}')\n",
    "    plt.plot(percentiles2, rates2, marker='.', label='Random')\n",
    "    plt.xlabel('Shot probability model percentile')\n",
    "    plt.ylabel('Goal rate')\n",
    "    plt.legend()\n",
    "    # plt.savefig('../figures/goal_rate_percentile_1.png')\n",
    "    exp.log_figure('Goal Rate vs Predicted Percentile', plt)\n",
    "    plt.show()\n",
    "\n",
    "\n",
    "    # c. The cumulative proportion of goals (not shots) as a function of the shot probability model percentile.\n",
    "    percentiles1, rates1 = compute_cumulative_goal_rate_per_percentile(val_y_pred_proba, y_val)\n",
    "    percentiles2, rates2 = compute_cumulative_goal_rate_per_percentile(random_probs, y_val)\n",
    "    plt.figure(figsize=(6, 6))\n",
    "    plt.plot(percentiles1, rates1, marker='.', label=f'{params[\"classifier\"]}')\n",
    "    plt.plot(percentiles2, rates2, marker='.', label='Random')\n",
    "    plt.xlabel('Shot probability model percentile')\n",
    "    plt.ylabel('Goal rate')\n",
    "    plt.legend()\n",
    "    # plt.savefig('../figures/goal_rate_percentile_2.png')\n",
    "    exp.log_figure('Cumulative Goal Rate vs Predicted Percentile', plt)\n",
    "    plt.show()\n",
    "\n",
    "    # # d. The reliability diagram (calibration curve).\n",
    "    fig, ax = plt.subplots(figsize=(6, 6))\n",
    "    \n",
    "    disp1 = CalibrationDisplay.from_predictions(y_val, val_y_pred_proba, label=f'{params[\"classifier\"]}', ax=ax)\n",
    "    disp4 = CalibrationDisplay.from_estimator(random_clf, X_val, y_val, label='Random', ax=ax)\n",
    "    # plt.savefig('../figures/calibration_diagram.png')\n",
    "    exp.log_figure('Reliability Diagram', plt)\n",
    "    plt.show()"
   ]
  },
  {
   "cell_type": "code",
   "execution_count": 5,
   "metadata": {},
   "outputs": [],
   "source": [
    "path = '../data/M2Data'\n",
    "# df = pd.read_csv(f'{path}/trainingSet.csv')\n",
    "\n",
    "# df['strength'] = df['strength2']\n",
    "\n",
    "# df['rebound'] = df.rebound.astype(int)\n",
    "# df['Goal'] = df['Goal'].astype(int)\n",
    "# df['EmptyNet'] = df['EmptyNet'].astype(int)\n",
    "\n",
    "# df.fillna({'changeInAngleShot': 0}, inplace=True)\n",
    "\n",
    "# df = df.drop(labels=[\n",
    "#     'totalPlayTime', 'gameID', 'eventType',\n",
    "#     'periodTime',\n",
    "#     'lastEventPeriodTime',\n",
    "#     'strength2',\n",
    "#     'lastEventAngle',\n",
    "#     'lastEventGameSeconds',\n",
    "#     'emptyNet',\n",
    "#     'lastEventPeriod',\n",
    "#     'xCoord', 'yCoord',\n",
    "#     'lastEventXCoord', 'lastEventYCoord',\n",
    "#     'index',\n",
    "# ], axis=1, errors='ignore')\n",
    "\n",
    "# df.replace({\n",
    "#     'Goal':\n",
    "#         {\n",
    "#             0: 'Shot',\n",
    "#             1: 'Goal',\n",
    "#         }\n",
    "#     }, inplace=True)\n",
    "\n",
    "# df.to_csv(f'{path}/traningSetFastAI.csv', index=False)\n",
    "\n",
    "\n",
    "df = pd.read_csv(f'{path}/traningSetFastAI.csv')"
   ]
  },
  {
   "cell_type": "code",
   "execution_count": 6,
   "metadata": {},
   "outputs": [
    {
     "data": {
      "text/plain": [
       "((230628, 24),\n",
       " Index(['period', 'periodType', 'teamOfShooter', 'homeOrAway', 'shooter',\n",
       "        'goalie', 'shotType', 'strength', 'season', 'rinkSide', 'gameType',\n",
       "        'lastEventType', 'EmptyNet', 'distanceFromNet', 'angle', 'gameSeconds',\n",
       "        'timeFromLastEvent', 'distanceFromLastEvent', 'rebound',\n",
       "        'changeInAngleShot', 'speed', 'timeSincePowerPlayStarted',\n",
       "        'numFriendlyNonGoalieSkaters', 'numOpposingNonGoalieSkaters'],\n",
       "       dtype='object'),\n",
       " (230628,),\n",
       " 'Goal')"
      ]
     },
     "execution_count": 6,
     "metadata": {},
     "output_type": "execute_result"
    }
   ],
   "source": [
    "# Train / Valid Split\n",
    "season_split = 2018\n",
    "train_ix, valid_ix = df[df.season < season_split].index, df[df.season >= season_split].index\n",
    "\n",
    "X, y = df.drop(labels='Goal', axis=1), df['Goal']\n",
    "train_df, valid_df = df.iloc[train_ix], df.iloc[valid_ix]\n",
    "\n",
    "X_train, X_val, y_train, y_val = X.iloc[train_ix], X.iloc[valid_ix], y.iloc[train_ix], y.iloc[valid_ix]\n",
    "\n",
    "# exp.log_dataset_info(name='trainingSet.csv', version='2021-11-17', path=f'{PATH_REL_PREFIX}/data/M2Data/trainingSet.csv')\n",
    "\n",
    "# for dataset in [X_train, X_val, y_train, y_val]:\n",
    "#     exp.log_dataset_hash(dataset)\n",
    "\n",
    "X_train.shape, X_train.columns, y_train.shape, y_train.name"
   ]
  },
  {
   "cell_type": "code",
   "execution_count": 7,
   "metadata": {},
   "outputs": [],
   "source": [
    "cat_names = list(set(df.dtypes[df.dtypes == object].keys()) - set(['Goal'])) + [ 'period', 'season', 'EmptyNet', 'rebound']\n",
    "cont_names = [col for col in df.columns if col not in cat_names and col != 'Goal']"
   ]
  },
  {
   "cell_type": "code",
   "execution_count": 8,
   "metadata": {},
   "outputs": [
    {
     "data": {
      "text/plain": [
       "['rinkSide',\n",
       " 'gameType',\n",
       " 'lastEventType',\n",
       " 'periodType',\n",
       " 'shotType',\n",
       " 'teamOfShooter',\n",
       " 'strength',\n",
       " 'goalie',\n",
       " 'homeOrAway',\n",
       " 'shooter',\n",
       " 'period',\n",
       " 'season',\n",
       " 'EmptyNet',\n",
       " 'rebound']"
      ]
     },
     "execution_count": 8,
     "metadata": {},
     "output_type": "execute_result"
    }
   ],
   "source": [
    "cat_names"
   ]
  },
  {
   "cell_type": "code",
   "execution_count": 9,
   "metadata": {},
   "outputs": [
    {
     "data": {
      "text/plain": [
       "['distanceFromNet',\n",
       " 'angle',\n",
       " 'gameSeconds',\n",
       " 'timeFromLastEvent',\n",
       " 'distanceFromLastEvent',\n",
       " 'changeInAngleShot',\n",
       " 'speed',\n",
       " 'timeSincePowerPlayStarted',\n",
       " 'numFriendlyNonGoalieSkaters',\n",
       " 'numOpposingNonGoalieSkaters']"
      ]
     },
     "execution_count": 9,
     "metadata": {},
     "output_type": "execute_result"
    }
   ],
   "source": [
    "cont_names"
   ]
  },
  {
   "cell_type": "code",
   "execution_count": 10,
   "metadata": {},
   "outputs": [],
   "source": [
    "target = \"Goal\""
   ]
  },
  {
   "cell_type": "code",
   "execution_count": 11,
   "metadata": {},
   "outputs": [],
   "source": [
    "dls = TabularDataLoaders.from_df(train_df, y_names=target,\n",
    "    cat_names = cat_names,\n",
    "    cont_names = cont_names,\n",
    "    procs = [Categorify, FillMissing, Normalize])\n"
   ]
  },
  {
   "cell_type": "code",
   "execution_count": 12,
   "metadata": {},
   "outputs": [
    {
     "name": "stdout",
     "output_type": "stream",
     "text": [
      "<class 'tuple'> <class 'fastcore.foundation.L'> <class 'fastcore.foundation.L'>\n"
     ]
    }
   ],
   "source": [
    "splits = RandomSplitter(valid_pct=0.2)(range_of(train_df))\n",
    "print(type(splits), type(splits[0]), type(splits[1]))"
   ]
  },
  {
   "cell_type": "code",
   "execution_count": 13,
   "metadata": {},
   "outputs": [],
   "source": [
    "to = TabularPandas(train_df, procs=[Categorify, FillMissing, Normalize],\n",
    "                   cat_names = cat_names,\n",
    "                   cont_names = cont_names,\n",
    "                   y_names=target,\n",
    "                   splits=splits)\n",
    "\n",
    "dls = to.dataloaders(bs=64, shuffle=True)\n"
   ]
  },
  {
   "cell_type": "code",
   "execution_count": 14,
   "metadata": {},
   "outputs": [
    {
     "data": {
      "text/html": [],
      "text/plain": [
       "<IPython.core.display.HTML object>"
      ]
     },
     "metadata": {},
     "output_type": "display_data"
    },
    {
     "data": {
      "image/png": "[encoded data removed]",
      "text/plain": [
       "<Figure size 432x288 with 1 Axes>"
      ]
     },
     "metadata": {
      "needs_background": "light"
     },
     "output_type": "display_data"
    }
   ],
   "source": [
    "learn = tabular_learner(\n",
    "    dls, metrics=[F1Score(average='macro'), BalancedAccuracy(), BrierScore(pos_label=0)],\n",
    "    # loss_func=FocalLossFlat(gamma=2),\n",
    "    # loss_func=BCEWithLogitsLossFlat(),\n",
    "    cbs=[\n",
    "            EarlyStoppingCallback(monitor='f1_score', min_delta=0.0001, patience=5),\n",
    "            SaveModelCallback(fname='best', monitor='f1_score'),\n",
    "            SaveModelCallback(fname='end', at_end=True)\n",
    "        ]\n",
    "    )\n",
    "lr_min, lr_steep, lr_valley, lr_slide = learn.lr_find(suggest_funcs=(minimum, steep, valley, slide))"
   ]
  },
  {
   "cell_type": "code",
   "execution_count": 15,
   "metadata": {},
   "outputs": [
    {
     "data": {
      "text/html": [
       "<table border=\"1\" class=\"dataframe\">\n",
       "  <thead>\n",
       "    <tr style=\"text-align: left;\">\n",
       "      <th>epoch</th>\n",
       "      <th>train_loss</th>\n",
       "      <th>valid_loss</th>\n",
       "      <th>f1_score</th>\n",
       "      <th>balanced_accuracy_score</th>\n",
       "      <th>brier_score_loss</th>\n",
       "      <th>time</th>\n",
       "    </tr>\n",
       "  </thead>\n",
       "  <tbody>\n",
       "    <tr>\n",
       "      <td>0</td>\n",
       "      <td>0.261915</td>\n",
       "      <td>0.257376</td>\n",
       "      <td>0.534050</td>\n",
       "      <td>0.529680</td>\n",
       "      <td>0.915252</td>\n",
       "      <td>00:21</td>\n",
       "    </tr>\n",
       "    <tr>\n",
       "      <td>1</td>\n",
       "      <td>0.248071</td>\n",
       "      <td>0.255667</td>\n",
       "      <td>0.530965</td>\n",
       "      <td>0.527983</td>\n",
       "      <td>0.914949</td>\n",
       "      <td>00:21</td>\n",
       "    </tr>\n",
       "    <tr>\n",
       "      <td>2</td>\n",
       "      <td>0.256307</td>\n",
       "      <td>0.257795</td>\n",
       "      <td>0.535593</td>\n",
       "      <td>0.530487</td>\n",
       "      <td>0.914732</td>\n",
       "      <td>00:21</td>\n",
       "    </tr>\n",
       "    <tr>\n",
       "      <td>3</td>\n",
       "      <td>0.256006</td>\n",
       "      <td>0.259356</td>\n",
       "      <td>0.536984</td>\n",
       "      <td>0.531233</td>\n",
       "      <td>0.914298</td>\n",
       "      <td>00:21</td>\n",
       "    </tr>\n",
       "    <tr>\n",
       "      <td>4</td>\n",
       "      <td>0.237663</td>\n",
       "      <td>0.259168</td>\n",
       "      <td>0.538020</td>\n",
       "      <td>0.531805</td>\n",
       "      <td>0.914146</td>\n",
       "      <td>00:21</td>\n",
       "    </tr>\n",
       "    <tr>\n",
       "      <td>5</td>\n",
       "      <td>0.239424</td>\n",
       "      <td>0.261856</td>\n",
       "      <td>0.545644</td>\n",
       "      <td>0.536170</td>\n",
       "      <td>0.913734</td>\n",
       "      <td>00:21</td>\n",
       "    </tr>\n",
       "    <tr>\n",
       "      <td>6</td>\n",
       "      <td>0.256852</td>\n",
       "      <td>0.262212</td>\n",
       "      <td>0.542376</td>\n",
       "      <td>0.534274</td>\n",
       "      <td>0.913864</td>\n",
       "      <td>00:21</td>\n",
       "    </tr>\n",
       "    <tr>\n",
       "      <td>7</td>\n",
       "      <td>0.257102</td>\n",
       "      <td>0.260884</td>\n",
       "      <td>0.545601</td>\n",
       "      <td>0.536137</td>\n",
       "      <td>0.914472</td>\n",
       "      <td>00:21</td>\n",
       "    </tr>\n",
       "    <tr>\n",
       "      <td>8</td>\n",
       "      <td>0.264665</td>\n",
       "      <td>0.266013</td>\n",
       "      <td>0.549414</td>\n",
       "      <td>0.538408</td>\n",
       "      <td>0.913431</td>\n",
       "      <td>00:21</td>\n",
       "    </tr>\n",
       "    <tr>\n",
       "      <td>9</td>\n",
       "      <td>0.235368</td>\n",
       "      <td>0.266607</td>\n",
       "      <td>0.550763</td>\n",
       "      <td>0.539223</td>\n",
       "      <td>0.913322</td>\n",
       "      <td>00:22</td>\n",
       "    </tr>\n",
       "    <tr>\n",
       "      <td>10</td>\n",
       "      <td>0.249039</td>\n",
       "      <td>0.271014</td>\n",
       "      <td>0.549577</td>\n",
       "      <td>0.538584</td>\n",
       "      <td>0.911762</td>\n",
       "      <td>00:22</td>\n",
       "    </tr>\n",
       "    <tr>\n",
       "      <td>11</td>\n",
       "      <td>0.238730</td>\n",
       "      <td>0.277463</td>\n",
       "      <td>0.554740</td>\n",
       "      <td>0.541971</td>\n",
       "      <td>0.909767</td>\n",
       "      <td>00:22</td>\n",
       "    </tr>\n",
       "    <tr>\n",
       "      <td>12</td>\n",
       "      <td>0.219687</td>\n",
       "      <td>0.279868</td>\n",
       "      <td>0.558604</td>\n",
       "      <td>0.544499</td>\n",
       "      <td>0.909593</td>\n",
       "      <td>00:22</td>\n",
       "    </tr>\n",
       "    <tr>\n",
       "      <td>13</td>\n",
       "      <td>0.233843</td>\n",
       "      <td>0.281801</td>\n",
       "      <td>0.562868</td>\n",
       "      <td>0.547589</td>\n",
       "      <td>0.908054</td>\n",
       "      <td>00:22</td>\n",
       "    </tr>\n",
       "    <tr>\n",
       "      <td>14</td>\n",
       "      <td>0.245172</td>\n",
       "      <td>0.270021</td>\n",
       "      <td>0.554268</td>\n",
       "      <td>0.541432</td>\n",
       "      <td>0.912369</td>\n",
       "      <td>00:23</td>\n",
       "    </tr>\n",
       "    <tr>\n",
       "      <td>15</td>\n",
       "      <td>0.254497</td>\n",
       "      <td>0.269484</td>\n",
       "      <td>0.551261</td>\n",
       "      <td>0.539602</td>\n",
       "      <td>0.912022</td>\n",
       "      <td>00:22</td>\n",
       "    </tr>\n",
       "    <tr>\n",
       "      <td>16</td>\n",
       "      <td>0.229998</td>\n",
       "      <td>0.277090</td>\n",
       "      <td>0.547161</td>\n",
       "      <td>0.537095</td>\n",
       "      <td>0.912434</td>\n",
       "      <td>00:22</td>\n",
       "    </tr>\n",
       "    <tr>\n",
       "      <td>17</td>\n",
       "      <td>0.232578</td>\n",
       "      <td>0.284106</td>\n",
       "      <td>0.557666</td>\n",
       "      <td>0.543959</td>\n",
       "      <td>0.909008</td>\n",
       "      <td>00:23</td>\n",
       "    </tr>\n",
       "    <tr>\n",
       "      <td>18</td>\n",
       "      <td>0.231213</td>\n",
       "      <td>0.283557</td>\n",
       "      <td>0.551776</td>\n",
       "      <td>0.540018</td>\n",
       "      <td>0.910591</td>\n",
       "      <td>00:22</td>\n",
       "    </tr>\n",
       "  </tbody>\n",
       "</table>"
      ],
      "text/plain": [
       "<IPython.core.display.HTML object>"
      ]
     },
     "metadata": {},
     "output_type": "display_data"
    },
    {
     "name": "stdout",
     "output_type": "stream",
     "text": [
      "Better model found at epoch 0 with f1_score value: 0.5340502428918339.\n",
      "Better model found at epoch 0 with valid_loss value: 0.25737595558166504.\n",
      "Better model found at epoch 1 with valid_loss value: 0.2556673586368561.\n",
      "Better model found at epoch 2 with f1_score value: 0.5355933204649332.\n",
      "Better model found at epoch 3 with f1_score value: 0.5369843572548159.\n",
      "Better model found at epoch 4 with f1_score value: 0.5380202399717955.\n",
      "Better model found at epoch 5 with f1_score value: 0.5456439807627702.\n",
      "Better model found at epoch 8 with f1_score value: 0.5494136082409579.\n",
      "Better model found at epoch 9 with f1_score value: 0.550762612243237.\n",
      "Better model found at epoch 11 with f1_score value: 0.5547402552508722.\n",
      "Better model found at epoch 12 with f1_score value: 0.558603793884283.\n",
      "Better model found at epoch 13 with f1_score value: 0.5628684874385363.\n",
      "No improvement since epoch 13: early stopping\n"
     ]
    },
    {
     "data": {
      "text/plain": [
       "{'web': 'https://www.comet.ml/api/asset/download?assetId=0248c6d833734e068989ea4b233768cd&experimentKey=b037038651174cecb547c2b7d4dd55ea',\n",
       " 'api': 'https://www.comet.ml/api/rest/v2/experiment/asset/get-asset?assetId=0248c6d833734e068989ea4b233768cd&experimentKey=b037038651174cecb547c2b7d4dd55ea',\n",
       " 'assetId': '0248c6d833734e068989ea4b233768cd'}"
      ]
     },
     "execution_count": 15,
     "metadata": {},
     "output_type": "execute_result"
    }
   ],
   "source": [
    "with exp.train():\n",
    "    # learn.fit_one_cycle(5, lr_min)\n",
    "    learn.fit_sgdr(5,2)\n",
    "\n",
    "\n",
    "exp.log_model(\"FastAI Best Model\", \"models/best.pth\")\n",
    "exp.log_model(\"FastAI Final Model\", \"models/end.pth\")\n"
   ]
  },
  {
   "cell_type": "code",
   "execution_count": 16,
   "metadata": {},
   "outputs": [
    {
     "data": {
      "image/png": "[encoded data removed]",
      "text/plain": [
       "<Figure size 432x288 with 1 Axes>"
      ]
     },
     "metadata": {
      "needs_background": "light"
     },
     "output_type": "display_data"
    }
   ],
   "source": [
    "learn.recorder.plot_sched()"
   ]
  },
  {
   "cell_type": "code",
   "execution_count": 17,
   "metadata": {},
   "outputs": [
    {
     "data": {
      "image/png": "[encoded data removed]",
      "text/plain": [
       "<Figure size 432x288 with 1 Axes>"
      ]
     },
     "metadata": {
      "needs_background": "light"
     },
     "output_type": "display_data"
    }
   ],
   "source": [
    "learn.recorder.plot_loss()"
   ]
  },
  {
   "cell_type": "code",
   "execution_count": 18,
   "metadata": {},
   "outputs": [
    {
     "data": {
      "text/html": [],
      "text/plain": [
       "<IPython.core.display.HTML object>"
      ]
     },
     "metadata": {},
     "output_type": "display_data"
    }
   ],
   "source": [
    "test_df = valid_df.copy()\n",
    "test_df.drop([target], axis=1, inplace=True)\n",
    "test_df.fillna({'angle': 0}, inplace=True)\n",
    "dl = learn.dls.test_dl(test_df, ignore_exceptions=True)\n",
    "y_pred = learn.get_preds(dl=dl)\n",
    "\n",
    "y_val_pred = np.argmin(y_pred[0], axis=1)\n",
    "val_y_pred_proba = np.array(y_pred[0][:,0])\n",
    "y_val_binary = y_val.replace({'Shot': 0, 'Goal': 1}).to_list()"
   ]
  },
  {
   "cell_type": "code",
   "execution_count": 19,
   "metadata": {},
   "outputs": [],
   "source": [
    "with open(f'./predictions/fastai-{EXP_DESCRIPTION}.pkl', 'wb') as f:\n",
    "    pickle.dump(\n",
    "        { \n",
    "            'model': 'fastai-{EXP_DESCRIPTION}.pkl',\n",
    "            'validation_set_predicted_probs': val_y_pred_proba,\n",
    "            'validation_set_predicted_labels': y_val_pred,\n",
    "            'validation_set_actual_labels': y_val_binary\n",
    "        },\n",
    "        f\n",
    "    )"
   ]
  },
  {
   "cell_type": "code",
   "execution_count": 20,
   "metadata": {},
   "outputs": [],
   "source": [
    "# exp.log_artifact('./predictions/fastai-{EXP_DESCRIPTION}.pkl')"
   ]
  },
  {
   "cell_type": "code",
   "execution_count": 21,
   "metadata": {},
   "outputs": [
    {
     "name": "stderr",
     "output_type": "stream",
     "text": [
      "COMET ERROR: Failed to log asset data as JSON\n"
     ]
    },
    {
     "name": "stdout",
     "output_type": "stream",
     "text": [
      "F1 Score (Macro) Validation: 0.5588774856198988\n",
      "Brier Score Validation: 0.1029970923730709\n",
      "[[71324  1389]\n",
      " [ 6900   865]]\n",
      "              precision    recall  f1-score   support\n",
      "\n",
      "           0       0.91      0.98      0.95     72713\n",
      "           1       0.38      0.11      0.17      7765\n",
      "\n",
      "    accuracy                           0.90     80478\n",
      "   macro avg       0.65      0.55      0.56     80478\n",
      "weighted avg       0.86      0.90      0.87     80478\n",
      "\n",
      "Our Model: ROC AUC=0.546\n",
      "Random: ROC AUC=0.500\n"
     ]
    },
    {
     "data": {
      "image/png": "[encoded data removed]",
      "text/plain": [
       "<Figure size 432x288 with 1 Axes>"
      ]
     },
     "metadata": {
      "needs_background": "light"
     },
     "output_type": "display_data"
    },
    {
     "data": {
      "image/png": "[encoded data removed]",
      "text/plain": [
       "<Figure size 432x432 with 1 Axes>"
      ]
     },
     "metadata": {
      "needs_background": "light"
     },
     "output_type": "display_data"
    },
    {
     "data": {
      "image/png": "[encoded data removed]",
      "text/plain": [
       "<Figure size 432x432 with 1 Axes>"
      ]
     },
     "metadata": {
      "needs_background": "light"
     },
     "output_type": "display_data"
    },
    {
     "data": {
      "image/png": "[encoded data removed]",
      "text/plain": [
       "<Figure size 432x432 with 1 Axes>"
      ]
     },
     "metadata": {
      "needs_background": "light"
     },
     "output_type": "display_data"
    },
    {
     "data": {
      "image/png": "[encoded data removed]",
      "text/plain": [
       "<Figure size 432x432 with 1 Axes>"
      ]
     },
     "metadata": {
      "needs_background": "light"
     },
     "output_type": "display_data"
    }
   ],
   "source": [
    "plot_metrics(learn, y_val_pred, val_y_pred_proba, y_val_binary)"
   ]
  },
  {
   "cell_type": "code",
   "execution_count": 22,
   "metadata": {},
   "outputs": [
    {
     "name": "stderr",
     "output_type": "stream",
     "text": [
      "COMET INFO: ---------------------------\n",
      "COMET INFO: Comet.ml Experiment Summary\n",
      "COMET INFO: ---------------------------\n",
      "COMET INFO:   Data:\n",
      "COMET INFO:     display_summary_level : 1\n",
      "COMET INFO:     url                   : https://www.comet.ml/meriembchaaben/ift6758/b037038651174cecb547c2b7d4dd55ea\n",
      "COMET INFO:   Metrics [count] (min, max):\n",
      "COMET INFO:     Brier Score Validation      : 0.1029970923730709\n",
      "COMET INFO:     F1 Score (Macro) Validation : 0.5588774856198988\n",
      "COMET INFO:     ROC AUC                     : 0.5461473983457921\n",
      "COMET INFO:     loss [18]                   : (0.434376060962677, 13.235371589660645)\n",
      "COMET INFO:     train_loss [10952]          : (0.07358131557703018, 0.7896100282669067)\n",
      "COMET INFO:   Others:\n",
      "COMET INFO:     Name : Question6/YourBestShot-fastai-CE-ES\n",
      "COMET INFO:   Parameters:\n",
      "COMET INFO:     constant     : 1\n",
      "COMET INFO:     random_state : 1\n",
      "COMET INFO:     strategy     : uniform\n",
      "COMET INFO:   Uploads:\n",
      "COMET INFO:     confusion-matrix         : 1\n",
      "COMET INFO:     environment details      : 1\n",
      "COMET INFO:     figures                  : 5\n",
      "COMET INFO:     filename                 : 1\n",
      "COMET INFO:     git metadata             : 1\n",
      "COMET INFO:     git-patch (uncompressed) : 1 (1.74 MB)\n",
      "COMET INFO:     installed packages       : 1\n",
      "COMET INFO:     model graph              : 1\n",
      "COMET INFO:     model-element            : 2 (1.50 MB)\n",
      "COMET INFO:     notebook                 : 1\n",
      "COMET INFO:     os packages              : 1\n",
      "COMET INFO:     source_code              : 1\n",
      "COMET INFO:     text-sample              : 1\n",
      "COMET INFO: ---------------------------\n",
      "COMET INFO: Uploading metrics, params, and assets to Comet before program termination (may take several seconds)\n",
      "COMET INFO: The Python SDK has 3600 seconds to finish before aborting...\n"
     ]
    }
   ],
   "source": [
    "exp.end()"
   ]
  },
  {
   "cell_type": "code",
   "execution_count": null,
   "metadata": {},
   "outputs": [],
   "source": []
  }
 ],
 "metadata": {
  "interpreter": {
   "hash": "b6858a7b58d52f160222ca577a62ba2299d00412f3e359f423c27d5b0b71389b"
  },
  "kernelspec": {
   "display_name": "Python 3.10.0 64-bit ('ift6758-conda-env': conda)",
   "language": "python",
   "name": "python3"
  },
  "language_info": {
   "codemirror_mode": {
    "name": "ipython",
    "version": 3
   },
   "file_extension": ".py",
   "mimetype": "text/x-python",
   "name": "python",
   "nbconvert_exporter": "python",
   "pygments_lexer": "ipython3",
   "version": "3.8.12"
  },
  "orig_nbformat": 4
 },
 "nbformat": 4,
 "nbformat_minor": 2
}
