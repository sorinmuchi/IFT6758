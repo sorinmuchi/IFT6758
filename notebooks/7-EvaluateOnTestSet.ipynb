{
 "cells": [
  {
   "cell_type": "code",
   "execution_count": 108,
   "id": "f86b28f5-9f3a-4c10-af1d-10e123b292f2",
   "metadata": {},
   "outputs": [],
   "source": [
    "from comet_ml import Experiment\n",
    "from comet_ml import API\n",
    "import os\n",
    "from dotenv import load_dotenv\n",
    "import warnings\n",
    "import pandas as pd\n",
    "import numpy as np\n",
    "import matplotlib.pyplot as plt\n",
    "import seaborn as sns\n",
    "from joblib import load\n",
    "from sklearn.metrics import brier_score_loss\n",
    "from sklearn.metrics import roc_curve\n",
    "from sklearn.metrics import roc_auc_score\n",
    "from sklearn.metrics import classification_report\n",
    "from sklearn.dummy import DummyClassifier\n",
    "from sklearn.calibration import CalibrationDisplay\n",
    "import pickle\n",
    "\n",
    "warnings.filterwarnings(\"ignore\")\n",
    "load_dotenv('../.env')\n",
    "COMET_API_KEY = os.getenv('COMET_API_KEY')\n",
    "COMET_PROJECT_NAME = os.getenv('COMET_PROJECT_NAME')\n",
    "COMET_WORKSPACE = os.getenv('COMET_WORKSPACE')"
   ]
  },
  {
   "cell_type": "code",
   "execution_count": 109,
   "id": "371e4362-66ad-4b0a-9f76-59e87a248b86",
   "metadata": {},
   "outputs": [],
   "source": [
    "pd.set_option('display.max_columns', None)"
   ]
  },
  {
   "cell_type": "code",
   "execution_count": 110,
   "id": "d481c3ea-8b12-46a6-bb55-80580778a16f",
   "metadata": {},
   "outputs": [],
   "source": [
    "def get_registered_comet_model(workspace, model, version, output_path):\n",
    "    api = API()\n",
    "    # Download a Registry Model\n",
    "    file = api.download_registry_model({workspace}, model, version, output_path=output_path, expand=True)\n",
    "    return file"
   ]
  },
  {
   "cell_type": "markdown",
   "id": "9ab95858-4d32-46df-90ae-1aa9e1dacd41",
   "metadata": {},
   "source": [
    "# Question-1: Regular season"
   ]
  },
  {
   "cell_type": "markdown",
   "id": "b112735c-f48c-4fc7-88af-5e8cb16f8ced",
   "metadata": {},
   "source": [
    "### 1.1. Read and preprocess data"
   ]
  },
  {
   "cell_type": "code",
   "execution_count": 111,
   "id": "a7a53f8d-be0c-4021-88a1-a976724ca632",
   "metadata": {},
   "outputs": [
    {
     "data": {
      "text/plain": [
       "(68500, 39)"
      ]
     },
     "metadata": {},
     "output_type": "display_data"
    },
    {
     "data": {
      "text/html": [
       "<div>\n",
       "<style scoped>\n",
       "    .dataframe tbody tr th:only-of-type {\n",
       "        vertical-align: middle;\n",
       "    }\n",
       "\n",
       "    .dataframe tbody tr th {\n",
       "        vertical-align: top;\n",
       "    }\n",
       "\n",
       "    .dataframe thead th {\n",
       "        text-align: right;\n",
       "    }\n",
       "</style>\n",
       "<table border=\"1\" class=\"dataframe\">\n",
       "  <thead>\n",
       "    <tr style=\"text-align: right;\">\n",
       "      <th></th>\n",
       "      <th>eventType</th>\n",
       "      <th>period</th>\n",
       "      <th>periodTime</th>\n",
       "      <th>periodType</th>\n",
       "      <th>gameID</th>\n",
       "      <th>teamOfShooter</th>\n",
       "      <th>homeOrAway</th>\n",
       "      <th>xCoord</th>\n",
       "      <th>yCoord</th>\n",
       "      <th>shooter</th>\n",
       "      <th>goalie</th>\n",
       "      <th>shotType</th>\n",
       "      <th>emptyNet</th>\n",
       "      <th>strength</th>\n",
       "      <th>season</th>\n",
       "      <th>rinkSide</th>\n",
       "      <th>gameType</th>\n",
       "      <th>totalPlayTime</th>\n",
       "      <th>lastEventType</th>\n",
       "      <th>lastEventPeriod</th>\n",
       "      <th>lastEventPeriodTime</th>\n",
       "      <th>lastEventXCoord</th>\n",
       "      <th>lastEventYCoord</th>\n",
       "      <th>Goal</th>\n",
       "      <th>EmptyNet</th>\n",
       "      <th>distanceFromNet</th>\n",
       "      <th>angle</th>\n",
       "      <th>gameSeconds</th>\n",
       "      <th>lastEventGameSeconds</th>\n",
       "      <th>timeFromLastEvent</th>\n",
       "      <th>distanceFromLastEvent</th>\n",
       "      <th>rebound</th>\n",
       "      <th>lastEventAngle</th>\n",
       "      <th>changeInAngleShot</th>\n",
       "      <th>speed</th>\n",
       "      <th>timeSincePowerPlayStarted</th>\n",
       "      <th>numFriendlyNonGoalieSkaters</th>\n",
       "      <th>numOpposingNonGoalieSkaters</th>\n",
       "      <th>strength2</th>\n",
       "    </tr>\n",
       "  </thead>\n",
       "  <tbody>\n",
       "    <tr>\n",
       "      <th>0</th>\n",
       "      <td>Goal</td>\n",
       "      <td>1</td>\n",
       "      <td>00:25</td>\n",
       "      <td>REGULAR</td>\n",
       "      <td>2019020001</td>\n",
       "      <td>Ottawa Senators</td>\n",
       "      <td>away</td>\n",
       "      <td>85.0</td>\n",
       "      <td>-1.0</td>\n",
       "      <td>Brady Tkachuk</td>\n",
       "      <td>Frederik Andersen</td>\n",
       "      <td>Tip-In</td>\n",
       "      <td>False</td>\n",
       "      <td>Even</td>\n",
       "      <td>2019</td>\n",
       "      <td>left</td>\n",
       "      <td>R</td>\n",
       "      <td>01:00:00</td>\n",
       "      <td>Faceoff</td>\n",
       "      <td>1</td>\n",
       "      <td>00:00</td>\n",
       "      <td>0.0</td>\n",
       "      <td>0.0</td>\n",
       "      <td>1</td>\n",
       "      <td>0.0</td>\n",
       "      <td>4.123106</td>\n",
       "      <td>75.963757</td>\n",
       "      <td>25.0</td>\n",
       "      <td>0.0</td>\n",
       "      <td>25.0</td>\n",
       "      <td>85.005882</td>\n",
       "      <td>0.0</td>\n",
       "      <td>NaN</td>\n",
       "      <td>NaN</td>\n",
       "      <td>3.400235</td>\n",
       "      <td>0.0</td>\n",
       "      <td>5.0</td>\n",
       "      <td>5.0</td>\n",
       "      <td>Even</td>\n",
       "    </tr>\n",
       "    <tr>\n",
       "      <th>1</th>\n",
       "      <td>Shot</td>\n",
       "      <td>1</td>\n",
       "      <td>01:31</td>\n",
       "      <td>REGULAR</td>\n",
       "      <td>2019020001</td>\n",
       "      <td>Toronto Maple Leafs</td>\n",
       "      <td>home</td>\n",
       "      <td>-32.0</td>\n",
       "      <td>-2.0</td>\n",
       "      <td>Morgan Rielly</td>\n",
       "      <td>Craig Anderson</td>\n",
       "      <td>Snap Shot</td>\n",
       "      <td>NaN</td>\n",
       "      <td>NaN</td>\n",
       "      <td>2019</td>\n",
       "      <td>right</td>\n",
       "      <td>R</td>\n",
       "      <td>01:00:00</td>\n",
       "      <td>Giveaway</td>\n",
       "      <td>1</td>\n",
       "      <td>01:04</td>\n",
       "      <td>-36.0</td>\n",
       "      <td>-31.0</td>\n",
       "      <td>0</td>\n",
       "      <td>0.0</td>\n",
       "      <td>57.035077</td>\n",
       "      <td>92.009554</td>\n",
       "      <td>91.0</td>\n",
       "      <td>64.0</td>\n",
       "      <td>27.0</td>\n",
       "      <td>29.274562</td>\n",
       "      <td>0.0</td>\n",
       "      <td>NaN</td>\n",
       "      <td>NaN</td>\n",
       "      <td>1.084243</td>\n",
       "      <td>35.0</td>\n",
       "      <td>5.0</td>\n",
       "      <td>4.0</td>\n",
       "      <td>Power Play</td>\n",
       "    </tr>\n",
       "    <tr>\n",
       "      <th>2</th>\n",
       "      <td>Shot</td>\n",
       "      <td>1</td>\n",
       "      <td>03:23</td>\n",
       "      <td>REGULAR</td>\n",
       "      <td>2019020001</td>\n",
       "      <td>Ottawa Senators</td>\n",
       "      <td>away</td>\n",
       "      <td>63.0</td>\n",
       "      <td>-6.0</td>\n",
       "      <td>Dylan DeMelo</td>\n",
       "      <td>Frederik Andersen</td>\n",
       "      <td>Snap Shot</td>\n",
       "      <td>NaN</td>\n",
       "      <td>NaN</td>\n",
       "      <td>2019</td>\n",
       "      <td>left</td>\n",
       "      <td>R</td>\n",
       "      <td>01:00:00</td>\n",
       "      <td>Missed Shot</td>\n",
       "      <td>1</td>\n",
       "      <td>03:09</td>\n",
       "      <td>-64.0</td>\n",
       "      <td>-4.0</td>\n",
       "      <td>0</td>\n",
       "      <td>0.0</td>\n",
       "      <td>26.683328</td>\n",
       "      <td>77.005383</td>\n",
       "      <td>203.0</td>\n",
       "      <td>189.0</td>\n",
       "      <td>14.0</td>\n",
       "      <td>127.015747</td>\n",
       "      <td>0.0</td>\n",
       "      <td>NaN</td>\n",
       "      <td>NaN</td>\n",
       "      <td>9.072553</td>\n",
       "      <td>0.0</td>\n",
       "      <td>5.0</td>\n",
       "      <td>5.0</td>\n",
       "      <td>Even</td>\n",
       "    </tr>\n",
       "    <tr>\n",
       "      <th>3</th>\n",
       "      <td>Shot</td>\n",
       "      <td>1</td>\n",
       "      <td>03:56</td>\n",
       "      <td>REGULAR</td>\n",
       "      <td>2019020001</td>\n",
       "      <td>Toronto Maple Leafs</td>\n",
       "      <td>home</td>\n",
       "      <td>-59.0</td>\n",
       "      <td>-20.0</td>\n",
       "      <td>Morgan Rielly</td>\n",
       "      <td>Craig Anderson</td>\n",
       "      <td>Wrist Shot</td>\n",
       "      <td>NaN</td>\n",
       "      <td>NaN</td>\n",
       "      <td>2019</td>\n",
       "      <td>right</td>\n",
       "      <td>R</td>\n",
       "      <td>01:00:00</td>\n",
       "      <td>Takeaway</td>\n",
       "      <td>1</td>\n",
       "      <td>03:50</td>\n",
       "      <td>34.0</td>\n",
       "      <td>-20.0</td>\n",
       "      <td>0</td>\n",
       "      <td>0.0</td>\n",
       "      <td>36.055513</td>\n",
       "      <td>123.690068</td>\n",
       "      <td>236.0</td>\n",
       "      <td>230.0</td>\n",
       "      <td>6.0</td>\n",
       "      <td>93.000000</td>\n",
       "      <td>0.0</td>\n",
       "      <td>NaN</td>\n",
       "      <td>NaN</td>\n",
       "      <td>15.500000</td>\n",
       "      <td>0.0</td>\n",
       "      <td>5.0</td>\n",
       "      <td>5.0</td>\n",
       "      <td>Even</td>\n",
       "    </tr>\n",
       "    <tr>\n",
       "      <th>4</th>\n",
       "      <td>Shot</td>\n",
       "      <td>1</td>\n",
       "      <td>04:47</td>\n",
       "      <td>REGULAR</td>\n",
       "      <td>2019020001</td>\n",
       "      <td>Toronto Maple Leafs</td>\n",
       "      <td>home</td>\n",
       "      <td>-42.0</td>\n",
       "      <td>-29.0</td>\n",
       "      <td>Tyson Barrie</td>\n",
       "      <td>Craig Anderson</td>\n",
       "      <td>Slap Shot</td>\n",
       "      <td>NaN</td>\n",
       "      <td>NaN</td>\n",
       "      <td>2019</td>\n",
       "      <td>right</td>\n",
       "      <td>R</td>\n",
       "      <td>01:00:00</td>\n",
       "      <td>Missed Shot</td>\n",
       "      <td>1</td>\n",
       "      <td>04:41</td>\n",
       "      <td>-86.0</td>\n",
       "      <td>4.0</td>\n",
       "      <td>0</td>\n",
       "      <td>0.0</td>\n",
       "      <td>55.226805</td>\n",
       "      <td>121.675469</td>\n",
       "      <td>287.0</td>\n",
       "      <td>281.0</td>\n",
       "      <td>6.0</td>\n",
       "      <td>55.000000</td>\n",
       "      <td>0.0</td>\n",
       "      <td>NaN</td>\n",
       "      <td>NaN</td>\n",
       "      <td>9.166667</td>\n",
       "      <td>0.0</td>\n",
       "      <td>5.0</td>\n",
       "      <td>5.0</td>\n",
       "      <td>Even</td>\n",
       "    </tr>\n",
       "  </tbody>\n",
       "</table>\n",
       "</div>"
      ],
      "text/plain": [
       "  eventType  period periodTime periodType      gameID        teamOfShooter  \\\n",
       "0      Goal       1      00:25    REGULAR  2019020001      Ottawa Senators   \n",
       "1      Shot       1      01:31    REGULAR  2019020001  Toronto Maple Leafs   \n",
       "2      Shot       1      03:23    REGULAR  2019020001      Ottawa Senators   \n",
       "3      Shot       1      03:56    REGULAR  2019020001  Toronto Maple Leafs   \n",
       "4      Shot       1      04:47    REGULAR  2019020001  Toronto Maple Leafs   \n",
       "\n",
       "  homeOrAway  xCoord  yCoord        shooter             goalie    shotType  \\\n",
       "0       away    85.0    -1.0  Brady Tkachuk  Frederik Andersen      Tip-In   \n",
       "1       home   -32.0    -2.0  Morgan Rielly     Craig Anderson   Snap Shot   \n",
       "2       away    63.0    -6.0   Dylan DeMelo  Frederik Andersen   Snap Shot   \n",
       "3       home   -59.0   -20.0  Morgan Rielly     Craig Anderson  Wrist Shot   \n",
       "4       home   -42.0   -29.0   Tyson Barrie     Craig Anderson   Slap Shot   \n",
       "\n",
       "  emptyNet strength  season rinkSide gameType totalPlayTime lastEventType  \\\n",
       "0    False     Even    2019     left        R      01:00:00       Faceoff   \n",
       "1      NaN      NaN    2019    right        R      01:00:00      Giveaway   \n",
       "2      NaN      NaN    2019     left        R      01:00:00   Missed Shot   \n",
       "3      NaN      NaN    2019    right        R      01:00:00      Takeaway   \n",
       "4      NaN      NaN    2019    right        R      01:00:00   Missed Shot   \n",
       "\n",
       "   lastEventPeriod lastEventPeriodTime  lastEventXCoord  lastEventYCoord  \\\n",
       "0                1               00:00              0.0              0.0   \n",
       "1                1               01:04            -36.0            -31.0   \n",
       "2                1               03:09            -64.0             -4.0   \n",
       "3                1               03:50             34.0            -20.0   \n",
       "4                1               04:41            -86.0              4.0   \n",
       "\n",
       "   Goal  EmptyNet  distanceFromNet       angle  gameSeconds  \\\n",
       "0     1       0.0         4.123106   75.963757         25.0   \n",
       "1     0       0.0        57.035077   92.009554         91.0   \n",
       "2     0       0.0        26.683328   77.005383        203.0   \n",
       "3     0       0.0        36.055513  123.690068        236.0   \n",
       "4     0       0.0        55.226805  121.675469        287.0   \n",
       "\n",
       "   lastEventGameSeconds  timeFromLastEvent  distanceFromLastEvent  rebound  \\\n",
       "0                   0.0               25.0              85.005882      0.0   \n",
       "1                  64.0               27.0              29.274562      0.0   \n",
       "2                 189.0               14.0             127.015747      0.0   \n",
       "3                 230.0                6.0              93.000000      0.0   \n",
       "4                 281.0                6.0              55.000000      0.0   \n",
       "\n",
       "   lastEventAngle  changeInAngleShot      speed  timeSincePowerPlayStarted  \\\n",
       "0             NaN                NaN   3.400235                        0.0   \n",
       "1             NaN                NaN   1.084243                       35.0   \n",
       "2             NaN                NaN   9.072553                        0.0   \n",
       "3             NaN                NaN  15.500000                        0.0   \n",
       "4             NaN                NaN   9.166667                        0.0   \n",
       "\n",
       "   numFriendlyNonGoalieSkaters  numOpposingNonGoalieSkaters   strength2  \n",
       "0                          5.0                          5.0        Even  \n",
       "1                          5.0                          4.0  Power Play  \n",
       "2                          5.0                          5.0        Even  \n",
       "3                          5.0                          5.0        Even  \n",
       "4                          5.0                          5.0        Even  "
      ]
     },
     "execution_count": 111,
     "metadata": {},
     "output_type": "execute_result"
    }
   ],
   "source": [
    "data_regular = pd.read_csv('../data/testSet.csv')\n",
    "data_regular = data_regular.drop(labels='index', axis=1).reset_index(drop=True)\n",
    "data_regular['Goal'] = data_regular['Goal'].astype(np.int64)\n",
    "display(data_regular.shape)\n",
    "data_regular.head()"
   ]
  },
  {
   "cell_type": "code",
   "execution_count": 112,
   "id": "e8bd670a-be1f-4a69-805e-b40ed8e8c4f8",
   "metadata": {},
   "outputs": [
    {
     "data": {
      "text/plain": [
       "(68499, 4)"
      ]
     },
     "metadata": {},
     "output_type": "display_data"
    },
    {
     "data": {
      "text/html": [
       "<div>\n",
       "<style scoped>\n",
       "    .dataframe tbody tr th:only-of-type {\n",
       "        vertical-align: middle;\n",
       "    }\n",
       "\n",
       "    .dataframe tbody tr th {\n",
       "        vertical-align: top;\n",
       "    }\n",
       "\n",
       "    .dataframe thead th {\n",
       "        text-align: right;\n",
       "    }\n",
       "</style>\n",
       "<table border=\"1\" class=\"dataframe\">\n",
       "  <thead>\n",
       "    <tr style=\"text-align: right;\">\n",
       "      <th></th>\n",
       "      <th>distance</th>\n",
       "      <th>angle</th>\n",
       "      <th>EmptyNet</th>\n",
       "      <th>is_goal</th>\n",
       "    </tr>\n",
       "  </thead>\n",
       "  <tbody>\n",
       "    <tr>\n",
       "      <th>0</th>\n",
       "      <td>4.123106</td>\n",
       "      <td>75.963757</td>\n",
       "      <td>0.0</td>\n",
       "      <td>1</td>\n",
       "    </tr>\n",
       "    <tr>\n",
       "      <th>1</th>\n",
       "      <td>57.035077</td>\n",
       "      <td>92.009554</td>\n",
       "      <td>0.0</td>\n",
       "      <td>0</td>\n",
       "    </tr>\n",
       "    <tr>\n",
       "      <th>2</th>\n",
       "      <td>26.683328</td>\n",
       "      <td>77.005383</td>\n",
       "      <td>0.0</td>\n",
       "      <td>0</td>\n",
       "    </tr>\n",
       "    <tr>\n",
       "      <th>3</th>\n",
       "      <td>36.055513</td>\n",
       "      <td>123.690068</td>\n",
       "      <td>0.0</td>\n",
       "      <td>0</td>\n",
       "    </tr>\n",
       "    <tr>\n",
       "      <th>4</th>\n",
       "      <td>55.226805</td>\n",
       "      <td>121.675469</td>\n",
       "      <td>0.0</td>\n",
       "      <td>0</td>\n",
       "    </tr>\n",
       "  </tbody>\n",
       "</table>\n",
       "</div>"
      ],
      "text/plain": [
       "    distance       angle  EmptyNet  is_goal\n",
       "0   4.123106   75.963757       0.0        1\n",
       "1  57.035077   92.009554       0.0        0\n",
       "2  26.683328   77.005383       0.0        0\n",
       "3  36.055513  123.690068       0.0        0\n",
       "4  55.226805  121.675469       0.0        0"
      ]
     },
     "execution_count": 112,
     "metadata": {},
     "output_type": "execute_result"
    }
   ],
   "source": [
    "# Read and preprocess data\n",
    "df3_regular = data_regular[['distanceFromNet', 'angle', 'EmptyNet', 'Goal']]\n",
    "df3_regular = df3_regular.rename({'Goal': 'is_goal', 'distanceFromNet': 'distance'}, axis=1)\n",
    "df3_regular = df3_regular.dropna().reset_index(drop=True)\n",
    "display(df3_regular.shape)\n",
    "df3_regular.head()"
   ]
  },
  {
   "cell_type": "markdown",
   "id": "5a4571cf-e534-4fb9-9fa3-c2ac261b85a5",
   "metadata": {},
   "source": [
    "### 1.2. Load registered models"
   ]
  },
  {
   "cell_type": "code",
   "execution_count": 113,
   "id": "d14b5d47-92c9-42d2-9109-5fa8abca5108",
   "metadata": {},
   "outputs": [
    {
     "name": "stderr",
     "output_type": "stream",
     "text": [
      "COMET INFO: Downloading registry model 'lr-distance-model', version '1.0.0', stage None from workspace {'meriembchaaben'}...\n",
      "COMET INFO: Unzipping model to 'C:\\\\Users\\\\oussa\\\\OneDrive\\\\Desktop\\\\UdeM\\\\PhD\\\\Courses\\\\Fall-21\\\\IFT-6758-DataScience\\\\Project\\\\milestone-2\\\\IFT6758-code\\\\IFT6758\\\\tmp' ...\n",
      "COMET INFO: done!\n"
     ]
    }
   ],
   "source": [
    "Xr1 = df3_regular['distance'].to_numpy().reshape(-1, 1)\n",
    "yr = df3_regular['is_goal'].to_numpy().reshape(-1, 1)\n",
    "\n",
    "filename = '../tmp/3-lr_distance.joblib'\n",
    "get_registered_comet_model(COMET_WORKSPACE, 'lr-distance-model', '1.0.0', '../tmp/')\n",
    "lr_distance = load(filename)\n",
    "\n",
    "preds1 = lr_distance.predict(Xr1)"
   ]
  },
  {
   "cell_type": "code",
   "execution_count": 114,
   "id": "a0a9acbe-cfab-4776-aa60-732b002923c5",
   "metadata": {},
   "outputs": [
    {
     "name": "stderr",
     "output_type": "stream",
     "text": [
      "COMET INFO: Downloading registry model 'lr-angle-model', version '1.0.0', stage None from workspace {'meriembchaaben'}...\n",
      "COMET INFO: Unzipping model to 'C:\\\\Users\\\\oussa\\\\OneDrive\\\\Desktop\\\\UdeM\\\\PhD\\\\Courses\\\\Fall-21\\\\IFT-6758-DataScience\\\\Project\\\\milestone-2\\\\IFT6758-code\\\\IFT6758\\\\tmp' ...\n",
      "COMET INFO: done!\n"
     ]
    }
   ],
   "source": [
    "Xr2 = df3_regular['angle'].to_numpy().reshape(-1, 1)\n",
    "\n",
    "filename = '../tmp/3-lr_angle.joblib'\n",
    "get_registered_comet_model(COMET_WORKSPACE, 'lr-angle-model', '1.0.0', '../tmp/')\n",
    "lr_angle = load(filename)\n",
    "\n",
    "preds2 = lr_angle.predict(Xr2)"
   ]
  },
  {
   "cell_type": "code",
   "execution_count": 115,
   "id": "a9c849e5-3f6a-4121-a9a5-ee8501bd1178",
   "metadata": {},
   "outputs": [
    {
     "name": "stderr",
     "output_type": "stream",
     "text": [
      "COMET INFO: Downloading registry model 'lr-distance-angle-model', version '1.0.0', stage None from workspace {'meriembchaaben'}...\n",
      "COMET INFO: Unzipping model to 'C:\\\\Users\\\\oussa\\\\OneDrive\\\\Desktop\\\\UdeM\\\\PhD\\\\Courses\\\\Fall-21\\\\IFT-6758-DataScience\\\\Project\\\\milestone-2\\\\IFT6758-code\\\\IFT6758\\\\tmp' ...\n",
      "COMET INFO: done!\n"
     ]
    }
   ],
   "source": [
    "Xr3 = df3_regular[['distance', 'angle']].to_numpy().reshape(-1, 2)\n",
    "\n",
    "filename = '../tmp/3-lr_distance_angle.joblib'\n",
    "get_registered_comet_model(COMET_WORKSPACE, 'lr-distance-angle-model', '1.0.0', '../tmp/')\n",
    "lr_distance_angle = load(filename)\n",
    "\n",
    "preds3 = lr_distance_angle.predict(Xr3)"
   ]
  },
  {
   "cell_type": "code",
   "execution_count": 116,
   "id": "55c09e9d-cdff-4094-9db3-1b37114102f8",
   "metadata": {},
   "outputs": [
    {
     "name": "stderr",
     "output_type": "stream",
     "text": [
      "COMET INFO: Downloading registry model 'xgboost-task5-model', version '1.0.0', stage None from workspace {'meriembchaaben'}...\n",
      "COMET INFO: Unzipping model to 'C:\\\\Users\\\\oussa\\\\OneDrive\\\\Desktop\\\\UdeM\\\\PhD\\\\Courses\\\\Fall-21\\\\IFT-6758-DataScience\\\\Project\\\\milestone-2\\\\IFT6758-code\\\\IFT6758\\\\tmp' ...\n",
      "COMET INFO: done!\n"
     ]
    }
   ],
   "source": [
    "filename = '../tmp/XGBoost_Task5.joblib'\n",
    "get_registered_comet_model(COMET_WORKSPACE, 'xgboost-task5-model', '1.0.0', '../tmp/')\n",
    "XGboost = load(filename)\n",
    "\n",
    "preds4 = XGboost.predict(Xr3)"
   ]
  },
  {
   "cell_type": "code",
   "execution_count": 117,
   "id": "beed0ce6-64fe-4796-9641-2de474730525",
   "metadata": {},
   "outputs": [
    {
     "name": "stderr",
     "output_type": "stream",
     "text": [
      "COMET INFO: Downloading registry model 'final-best-task-6-xgb', version '1.0.0', stage None from workspace {'meriembchaaben'}...\n",
      "COMET INFO: Unzipping model to 'C:\\\\Users\\\\oussa\\\\OneDrive\\\\Desktop\\\\UdeM\\\\PhD\\\\Courses\\\\Fall-21\\\\IFT-6758-DataScience\\\\Project\\\\milestone-2\\\\IFT6758-code\\\\IFT6758\\\\tmp' ...\n",
      "COMET INFO: done!\n"
     ]
    },
    {
     "name": "stdout",
     "output_type": "stream",
     "text": [
      "[22:35:40] WARNING: C:/Users/Administrator/workspace/xgboost-win64_release_1.5.0/src/learner.cc:231: Only 1 GPUs are visible, setting `gpu_id` to 0\n"
     ]
    }
   ],
   "source": [
    "yr2 = data_regular.Goal.to_numpy()\n",
    "\n",
    "filename = '../tmp/sklearn-XGB-CV-NFS.pkl'\n",
    "get_registered_comet_model(COMET_WORKSPACE, 'final-best-task-6-xgb', '1.0.0', '../tmp/')\n",
    "\n",
    "with open(filename, 'rb') as f:\n",
    "    pipe = pickle.load(f)\n",
    "\n",
    "preds5 = pipe.predict(data_regular)"
   ]
  },
  {
   "cell_type": "markdown",
   "id": "975147fe-fc0f-4677-a105-4470cb3a7d0c",
   "metadata": {},
   "source": [
    "### 1.3. Evaluate models"
   ]
  },
  {
   "cell_type": "code",
   "execution_count": 118,
   "id": "a73bb458-5dad-4f6e-a96f-38f85dfb9a47",
   "metadata": {},
   "outputs": [
    {
     "name": "stdout",
     "output_type": "stream",
     "text": [
      "####### Logistic Regression (distance) #######\n",
      "Test accuracy: 0.9029474882845006\n",
      "Brier score: 0.0970525117154995\n",
      "** Classification report **\n",
      "              precision    recall  f1-score   support\n",
      "\n",
      "    Non-goal       0.90      1.00      0.95     61851\n",
      "        Goal       0.00      0.00      0.00      6648\n",
      "\n",
      "    accuracy                           0.90     68499\n",
      "   macro avg       0.45      0.50      0.47     68499\n",
      "weighted avg       0.82      0.90      0.86     68499\n",
      "\n"
     ]
    }
   ],
   "source": [
    "print('####### Logistic Regression (distance) #######')\n",
    "target_names = ['Non-goal', 'Goal']\n",
    "accuracy1 = lr_distance.score(Xr1, yr)\n",
    "brier1 = brier_score_loss(yr, preds1)\n",
    "print(f'Test accuracy: {accuracy1}' )\n",
    "print(f'Brier score: {brier1}' )\n",
    "print('** Classification report **')\n",
    "print(classification_report(yr, preds1, target_names=target_names))"
   ]
  },
  {
   "cell_type": "code",
   "execution_count": 119,
   "id": "d7234d67-348d-4cc6-8e3c-c44e4bee1c6e",
   "metadata": {},
   "outputs": [
    {
     "name": "stdout",
     "output_type": "stream",
     "text": [
      "####### Logistic Regression (angle) #######\n",
      "Test accuracy: 0.9029474882845006\n",
      "Brier score: 0.0970525117154995\n",
      "** Classification report **\n",
      "              precision    recall  f1-score   support\n",
      "\n",
      "    Non-goal       0.90      1.00      0.95     61851\n",
      "        Goal       0.00      0.00      0.00      6648\n",
      "\n",
      "    accuracy                           0.90     68499\n",
      "   macro avg       0.45      0.50      0.47     68499\n",
      "weighted avg       0.82      0.90      0.86     68499\n",
      "\n"
     ]
    }
   ],
   "source": [
    "print('####### Logistic Regression (angle) #######')\n",
    "target_names = ['Non-goal', 'Goal']\n",
    "accuracy2 = lr_angle.score(Xr2, yr)\n",
    "brier2 = brier_score_loss(yr, preds2)\n",
    "print(f'Test accuracy: {accuracy2}' )\n",
    "print(f'Brier score: {brier2}' )\n",
    "print('** Classification report **')\n",
    "print(classification_report(yr, preds2, target_names=target_names))"
   ]
  },
  {
   "cell_type": "code",
   "execution_count": 120,
   "id": "66f27417-bccf-470c-8101-c3c361c0a53a",
   "metadata": {},
   "outputs": [
    {
     "name": "stdout",
     "output_type": "stream",
     "text": [
      "####### Logistic Regression (distance+angle) #######\n",
      "Test accuracy: 0.9029474882845006\n",
      "Brier score: 0.0970525117154995\n",
      "** Classification report **\n",
      "              precision    recall  f1-score   support\n",
      "\n",
      "    Non-goal       0.90      1.00      0.95     61851\n",
      "        Goal       0.00      0.00      0.00      6648\n",
      "\n",
      "    accuracy                           0.90     68499\n",
      "   macro avg       0.45      0.50      0.47     68499\n",
      "weighted avg       0.82      0.90      0.86     68499\n",
      "\n"
     ]
    }
   ],
   "source": [
    "print('####### Logistic Regression (distance+angle) #######')\n",
    "target_names = ['Non-goal', 'Goal']\n",
    "accuracy3 = lr_distance_angle.score(Xr3, yr)\n",
    "brier3 = brier_score_loss(yr, preds3)\n",
    "print(f'Test accuracy: {accuracy3}' )\n",
    "print(f'Brier score: {brier3}' )\n",
    "print('** Classification report **')\n",
    "print(classification_report(yr, preds3, target_names=target_names))"
   ]
  },
  {
   "cell_type": "code",
   "execution_count": 121,
   "id": "89b308c8-d0a1-4050-912f-a32cb90737c6",
   "metadata": {},
   "outputs": [
    {
     "name": "stdout",
     "output_type": "stream",
     "text": [
      "####### XGBoost - best model #######\n",
      "Test accuracy: 0.9029182907779676\n",
      "Brier score: 0.09708170922203244\n",
      "** Classification report **\n",
      "              precision    recall  f1-score   support\n",
      "\n",
      "    Non-goal       0.90      1.00      0.95     61851\n",
      "        Goal       0.47      0.00      0.01      6648\n",
      "\n",
      "    accuracy                           0.90     68499\n",
      "   macro avg       0.69      0.50      0.48     68499\n",
      "weighted avg       0.86      0.90      0.86     68499\n",
      "\n"
     ]
    }
   ],
   "source": [
    "print('####### XGBoost - best model #######')\n",
    "target_names = ['Non-goal', 'Goal']\n",
    "accuracy4 = XGboost.score(Xr3, yr)\n",
    "brier4 = brier_score_loss(yr, preds4)\n",
    "print(f'Test accuracy: {accuracy4}' )\n",
    "print(f'Brier score: {brier4}' )\n",
    "print('** Classification report **')\n",
    "print(classification_report(yr, preds4, target_names=target_names))"
   ]
  },
  {
   "cell_type": "code",
   "execution_count": 122,
   "id": "91b56b4f-5c46-4fea-b71a-1256a23a951f",
   "metadata": {},
   "outputs": [
    {
     "name": "stdout",
     "output_type": "stream",
     "text": [
      "####### Best Model #######\n",
      "Test accuracy: 0.8316204379562043\n",
      "Brier score: 0.16837956204379562\n",
      "** Classification report **\n",
      "              precision    recall  f1-score   support\n",
      "\n",
      "    Non-goal       0.94      0.87      0.90     61852\n",
      "        Goal       0.28      0.49      0.36      6648\n",
      "\n",
      "    accuracy                           0.83     68500\n",
      "   macro avg       0.61      0.68      0.63     68500\n",
      "weighted avg       0.88      0.83      0.85     68500\n",
      "\n"
     ]
    }
   ],
   "source": [
    "print('####### Best Model #######')\n",
    "target_names = ['Non-goal', 'Goal']\n",
    "accuracy5 = pipe.score(data_regular, yr2)\n",
    "brier5 = brier_score_loss(yr2, preds5)\n",
    "print(f'Test accuracy: {accuracy5}' )\n",
    "print(f'Brier score: {brier5}' )\n",
    "print('** Classification report **')\n",
    "print(classification_report(yr2, preds5, target_names=target_names))"
   ]
  },
  {
   "cell_type": "markdown",
   "id": "bee1de0a-e8a1-40ec-8aae-355503a185d8",
   "metadata": {},
   "source": [
    "### 1.2. Visualization"
   ]
  },
  {
   "cell_type": "code",
   "execution_count": 123,
   "id": "3563cf5c-735e-4b3a-a5ff-90d88c31ee2f",
   "metadata": {},
   "outputs": [
    {
     "name": "stdout",
     "output_type": "stream",
     "text": [
      "Logistic Regression (trained on distance only): ROC AUC=0.704\n",
      "Logistic Regression (trained on angle only): ROC AUC=0.508\n",
      "Logistic Regression (trained on both distance and angle): ROC AUC=0.704\n",
      "XGBoost (best model): ROC AUC=0.717\n",
      "Best Model: ROC AUC=0.791\n",
      "Random: ROC AUC=0.500\n"
     ]
    },
    {
     "data": {
      "image/png": "[encoded data removed]",
      "text/plain": [
       "<Figure size 432x432 with 1 Axes>"
      ]
     },
     "metadata": {
      "needs_background": "light"
     },
     "output_type": "display_data"
    }
   ],
   "source": [
    "### ROC curve - AUC metric ###\n",
    "\n",
    "lr_probs1 = lr_distance.predict_proba(Xr1[:, :])[:,1]\n",
    "lr_probs2 = lr_angle.predict_proba(Xr2[:, :])[:,1]\n",
    "lr_probs3 = lr_distance_angle.predict_proba(Xr3[:, :])[:,1]\n",
    "XGboost_probs = XGboost.predict_proba(Xr3[:, :])[:,1]\n",
    "bm_probs = pipe.predict_proba(data_regular)[:,1]\n",
    "\n",
    "random_clf = DummyClassifier(strategy=\"uniform\").fit(Xr1, yr)\n",
    "random_probs = random_clf.predict_proba(Xr1[:, :])[:,1]\n",
    "\n",
    "\n",
    "\n",
    "lr_auc1 = roc_auc_score(yr, lr_probs1)\n",
    "lr_auc2 = roc_auc_score(yr, lr_probs2)\n",
    "lr_auc3 = roc_auc_score(yr, lr_probs3)\n",
    "XGboost_auc = roc_auc_score(yr, XGboost_probs)\n",
    "bm_auc = roc_auc_score(yr2, bm_probs)\n",
    "random_auc = roc_auc_score(yr, random_probs)\n",
    "\n",
    "\n",
    "print('Logistic Regression (trained on distance only): ROC AUC=%.3f' % (lr_auc1))\n",
    "print('Logistic Regression (trained on angle only): ROC AUC=%.3f' % (lr_auc2))\n",
    "print('Logistic Regression (trained on both distance and angle): ROC AUC=%.3f' % (lr_auc3))\n",
    "print('XGBoost (best model): ROC AUC=%.3f' % (XGboost_auc))\n",
    "print('Best Model: ROC AUC=%.3f' % (bm_auc))\n",
    "print('Random: ROC AUC=%.3f' % (random_auc))\n",
    "\n",
    "lr_fpr1, lr_tpr1, _ = roc_curve(yr, lr_probs1)\n",
    "lr_fpr2, lr_tpr2, _ = roc_curve(yr, lr_probs2)\n",
    "lr_fpr3, lr_tpr3, _ = roc_curve(yr, lr_probs3)\n",
    "XGboost_fpr, XGboost_tpr, _ = roc_curve(yr, XGboost_probs)\n",
    "bm_fpr, bm_tpr, _ = roc_curve(yr2, bm_probs)\n",
    "random_fpr, random_tpr, _ = roc_curve(yr, random_probs)\n",
    "\n",
    "plt.figure(figsize=(6, 6))\n",
    "\n",
    "plt.plot(lr_fpr1, lr_tpr1, linestyle='-.', label='Logistic Regression (distance)')\n",
    "plt.plot(lr_fpr2, lr_tpr2, linestyle='-', label='Logistic Regression (angle)')\n",
    "plt.plot(lr_fpr3, lr_tpr3, linestyle=':', label='Logistic Regression (distance + angle)')\n",
    "plt.plot(XGboost_fpr, XGboost_tpr, linestyle='-', label='XGBoost (best model)')\n",
    "plt.plot(bm_fpr, bm_tpr, linestyle='-', label='best Model')\n",
    "plt.plot(random_fpr, random_tpr, linestyle='--', label='Random')\n",
    "\n",
    "\n",
    "plt.xlabel('False Positive Rate')\n",
    "plt.ylabel('True Positive Rate')\n",
    "plt.legend()\n",
    "\n",
    "plt.savefig('../figures/7-roc.png')\n",
    "\n",
    "plt.show()"
   ]
  },
  {
   "cell_type": "code",
   "execution_count": 124,
   "id": "e6f3ce82-f80c-4f79-aced-634bd8d23564",
   "metadata": {},
   "outputs": [
    {
     "data": {
      "image/png": "[encoded data removed]",
      "text/plain": [
       "<Figure size 432x432 with 1 Axes>"
      ]
     },
     "metadata": {
      "needs_background": "light"
     },
     "output_type": "display_data"
    }
   ],
   "source": [
    "### goal_rate = F(shot probability model percentile) ###\n",
    "def compute_goal_rate_per_percentile(probs, y):\n",
    "    percentiles = []\n",
    "    rates = []\n",
    "\n",
    "    for i in range(0, 101):\n",
    "        percentile = np.percentile(probs, i)\n",
    "        r_percentile = np.float32(round(percentile, 2))\n",
    "        goals = 0\n",
    "        no_goals = 0\n",
    "        for idx, p in enumerate(probs):\n",
    "#             if p<=percentile:\n",
    "            if np.float32(round(p, 2))==r_percentile:\n",
    "                if y[idx]==1:\n",
    "                    goals+=1\n",
    "                else:\n",
    "                    no_goals+=1\n",
    "        rate = goals *100 / (goals + no_goals)\n",
    "        percentiles.append(percentile)\n",
    "        rates.append(rate)\n",
    "    return percentiles, rates\n",
    "\n",
    "\n",
    "percentiles1, rates1 = compute_goal_rate_per_percentile(lr_probs1, yr)\n",
    "percentiles2, rates2 = compute_goal_rate_per_percentile(lr_probs2, yr)\n",
    "percentiles3, rates3 = compute_goal_rate_per_percentile(lr_probs3, yr)\n",
    "percentiles4, rates4 = compute_goal_rate_per_percentile(XGboost_probs, yr)\n",
    "percentiles5, rates5 = compute_goal_rate_per_percentile(bm_probs, yr2)\n",
    "percentiles6, rates6 = compute_goal_rate_per_percentile(random_probs, yr)\n",
    "\n",
    "\n",
    "plt.figure(figsize=(6, 6))\n",
    "\n",
    "plt.plot(percentiles1, rates1, linestyle='-.', label='Logistic Regression (distance)')\n",
    "plt.plot(percentiles2, rates2, linestyle='-', label='Logistic Regression (angle)')\n",
    "plt.plot(percentiles3, rates3, linestyle=':', label='Logistic Regression (distance+angle)')\n",
    "plt.plot(percentiles4, rates4, linestyle='-', label='XGBoost (best model)')\n",
    "plt.plot(percentiles5, rates5, linestyle='-', label='Best Model')\n",
    "plt.plot(percentiles6, rates6, linestyle='--', label='Random')\n",
    "\n",
    "plt.xlabel('Shot probability model percentile')\n",
    "plt.ylabel('Goal rate')\n",
    "plt.legend()\n",
    "plt.ylim([0, 100])\n",
    "plt.xlim([0, 1])\n",
    "plt.title('Goal rate')\n",
    "\n",
    "plt.savefig('../figures/7-goal_rate_percentile_1.png')\n",
    "\n",
    "plt.show()"
   ]
  },
  {
   "cell_type": "code",
   "execution_count": 125,
   "id": "b84db91d-8516-43c8-ad81-c819165ba034",
   "metadata": {},
   "outputs": [
    {
     "data": {
      "image/png": "[encoded data removed]",
      "text/plain": [
       "<Figure size 432x432 with 1 Axes>"
      ]
     },
     "metadata": {
      "needs_background": "light"
     },
     "output_type": "display_data"
    }
   ],
   "source": [
    "### cumulative portion of goals = F(shot probability model percentile) ###\n",
    "\n",
    "def compute_cumulative_propotion_of_goals_per_percentile(probs, y):\n",
    "    percentiles = []\n",
    "    cum_rates = []\n",
    "    cum_rate = 0\n",
    "    total_goals = sum(y)\n",
    "    cum_goals = 0\n",
    "    for i in range(0, 101):\n",
    "        percentile = np.percentile(probs, i)\n",
    "        cum_goals=0\n",
    "        for idx, p in enumerate(probs):\n",
    "            if p<=percentile:\n",
    "                if y[idx]==1:\n",
    "                    cum_goals+=1 \n",
    "        cum_rate = cum_goals * 100 / total_goals\n",
    "        percentiles.append(percentile)\n",
    "        cum_rates.append(cum_rate)\n",
    "    return percentiles, cum_rates\n",
    "\n",
    "\n",
    "percentiles1, rates1 = compute_cumulative_propotion_of_goals_per_percentile(lr_probs1, yr)\n",
    "percentiles2, rates2 = compute_cumulative_propotion_of_goals_per_percentile(lr_probs2, yr)\n",
    "percentiles3, rates3 = compute_cumulative_propotion_of_goals_per_percentile(lr_probs3, yr)\n",
    "percentiles4, rates4 = compute_cumulative_propotion_of_goals_per_percentile(XGboost_probs, yr)\n",
    "percentiles5, rates5 = compute_cumulative_propotion_of_goals_per_percentile(bm_probs, yr2)\n",
    "percentiles6, rates6 = compute_cumulative_propotion_of_goals_per_percentile(random_probs, yr)\n",
    "\n",
    "plt.figure(figsize=(6, 6))\n",
    "\n",
    "plt.plot(percentiles1, rates1, linestyle='-.', label='Logistic Regression (distance)')\n",
    "plt.plot(percentiles2, rates2, linestyle='-', label='Logistic Regression (angle)')\n",
    "plt.plot(percentiles3, rates3, linestyle=':', label='Logistic Regression (distance+angle)')\n",
    "plt.plot(percentiles4, rates4, linestyle='-', label='XGBoost (best model)')\n",
    "plt.plot(percentiles5, rates5, linestyle='-', label='Best Model')\n",
    "plt.plot(percentiles6, rates6, linestyle='--', label='Random')\n",
    "\n",
    "plt.xlabel('Shot probability model percentile')\n",
    "plt.ylabel('Cumulative proportion of goals')\n",
    "plt.legend(loc='lower right')\n",
    "plt.ylim([0, 100])\n",
    "plt.xlim([0, 1])\n",
    "plt.title('Cumulative proportion of goals')\n",
    "\n",
    "plt.savefig('../figures/7-goal_rate_percentile_2.png')\n",
    "\n",
    "plt.show()"
   ]
  },
  {
   "cell_type": "code",
   "execution_count": 126,
   "id": "cf0161fe-528d-4ea0-bd37-b868cc8646c8",
   "metadata": {},
   "outputs": [
    {
     "data": {
      "image/png": "[encoded data removed]",
      "text/plain": [
       "<Figure size 432x432 with 1 Axes>"
      ]
     },
     "metadata": {
      "needs_background": "light"
     },
     "output_type": "display_data"
    }
   ],
   "source": [
    "fig, ax = plt.subplots(figsize=(6, 6))\n",
    "\n",
    "\n",
    "disp1 = CalibrationDisplay.from_estimator(lr_distance, Xr1, yr, label='Logistic Regression (distance)', marker=\"P\", ax=ax)\n",
    "disp2 = CalibrationDisplay.from_estimator(lr_angle, Xr2, yr, label='Logistic Regression (angle)', marker=\"*\", ax=ax)\n",
    "disp3 = CalibrationDisplay.from_estimator(lr_distance_angle, Xr3, yr, label='Logistic Regression (distance+angle)', marker=\"h\", ax=ax)\n",
    "disp4 = CalibrationDisplay.from_estimator(XGboost, Xr3, yr, label='XGboost (best model)', marker=\"P\", ax=ax)\n",
    "disp5 = CalibrationDisplay.from_estimator(pipe, data_regular, yr2, label='Best Model', marker=\"P\", ax=ax)\n",
    "\n",
    "\n",
    "ax.legend(loc='upper left')\n",
    "\n",
    "plt.savefig('../figures/7-calibration_diagram.png')\n",
    "\n",
    "plt.show()"
   ]
  },
  {
   "cell_type": "code",
   "execution_count": null,
   "id": "466fa229-9a4a-4944-b021-b46ef2fe8f0a",
   "metadata": {},
   "outputs": [],
   "source": []
  },
  {
   "cell_type": "markdown",
   "id": "899962af-429f-478b-b85d-1f66e7ad3fa7",
   "metadata": {},
   "source": [
    "## Question-2: Playoffs"
   ]
  },
  {
   "cell_type": "markdown",
   "id": "15c8ce71-249e-4163-b889-ba402b0f11d7",
   "metadata": {},
   "source": [
    "### 1.1. Read and preprocess data"
   ]
  },
  {
   "cell_type": "code",
   "execution_count": 127,
   "id": "a03d1eed-379e-42ef-87f4-a3b3b63d6b73",
   "metadata": {},
   "outputs": [
    {
     "data": {
      "text/plain": [
       "(5367, 39)"
      ]
     },
     "metadata": {},
     "output_type": "display_data"
    },
    {
     "data": {
      "text/html": [
       "<div>\n",
       "<style scoped>\n",
       "    .dataframe tbody tr th:only-of-type {\n",
       "        vertical-align: middle;\n",
       "    }\n",
       "\n",
       "    .dataframe tbody tr th {\n",
       "        vertical-align: top;\n",
       "    }\n",
       "\n",
       "    .dataframe thead th {\n",
       "        text-align: right;\n",
       "    }\n",
       "</style>\n",
       "<table border=\"1\" class=\"dataframe\">\n",
       "  <thead>\n",
       "    <tr style=\"text-align: right;\">\n",
       "      <th></th>\n",
       "      <th>eventType</th>\n",
       "      <th>period</th>\n",
       "      <th>periodTime</th>\n",
       "      <th>periodType</th>\n",
       "      <th>gameID</th>\n",
       "      <th>teamOfShooter</th>\n",
       "      <th>homeOrAway</th>\n",
       "      <th>xCoord</th>\n",
       "      <th>yCoord</th>\n",
       "      <th>shooter</th>\n",
       "      <th>goalie</th>\n",
       "      <th>shotType</th>\n",
       "      <th>emptyNet</th>\n",
       "      <th>strength</th>\n",
       "      <th>season</th>\n",
       "      <th>rinkSide</th>\n",
       "      <th>gameType</th>\n",
       "      <th>totalPlayTime</th>\n",
       "      <th>lastEventType</th>\n",
       "      <th>lastEventPeriod</th>\n",
       "      <th>lastEventPeriodTime</th>\n",
       "      <th>lastEventXCoord</th>\n",
       "      <th>lastEventYCoord</th>\n",
       "      <th>Goal</th>\n",
       "      <th>EmptyNet</th>\n",
       "      <th>distanceFromNet</th>\n",
       "      <th>angle</th>\n",
       "      <th>gameSeconds</th>\n",
       "      <th>lastEventGameSeconds</th>\n",
       "      <th>timeFromLastEvent</th>\n",
       "      <th>distanceFromLastEvent</th>\n",
       "      <th>rebound</th>\n",
       "      <th>lastEventAngle</th>\n",
       "      <th>changeInAngleShot</th>\n",
       "      <th>speed</th>\n",
       "      <th>timeSincePowerPlayStarted</th>\n",
       "      <th>numFriendlyNonGoalieSkaters</th>\n",
       "      <th>numOpposingNonGoalieSkaters</th>\n",
       "      <th>strength2</th>\n",
       "    </tr>\n",
       "  </thead>\n",
       "  <tbody>\n",
       "    <tr>\n",
       "      <th>0</th>\n",
       "      <td>Shot</td>\n",
       "      <td>1</td>\n",
       "      <td>02:18</td>\n",
       "      <td>REGULAR</td>\n",
       "      <td>2019030111</td>\n",
       "      <td>Philadelphia Flyers</td>\n",
       "      <td>home</td>\n",
       "      <td>-56.0</td>\n",
       "      <td>-5.0</td>\n",
       "      <td>Sean Couturier</td>\n",
       "      <td>Carey Price</td>\n",
       "      <td>Snap Shot</td>\n",
       "      <td>NaN</td>\n",
       "      <td>NaN</td>\n",
       "      <td>2019</td>\n",
       "      <td>right</td>\n",
       "      <td>P</td>\n",
       "      <td>01:00:00</td>\n",
       "      <td>Faceoff</td>\n",
       "      <td>1</td>\n",
       "      <td>02:16</td>\n",
       "      <td>-69.0</td>\n",
       "      <td>-22.0</td>\n",
       "      <td>0</td>\n",
       "      <td>0.0</td>\n",
       "      <td>33.376639</td>\n",
       "      <td>98.615648</td>\n",
       "      <td>138.0</td>\n",
       "      <td>136.0</td>\n",
       "      <td>2.0</td>\n",
       "      <td>21.400935</td>\n",
       "      <td>0.0</td>\n",
       "      <td>NaN</td>\n",
       "      <td>NaN</td>\n",
       "      <td>10.700467</td>\n",
       "      <td>0.0</td>\n",
       "      <td>5.0</td>\n",
       "      <td>5.0</td>\n",
       "      <td>Even</td>\n",
       "    </tr>\n",
       "    <tr>\n",
       "      <th>1</th>\n",
       "      <td>Shot</td>\n",
       "      <td>1</td>\n",
       "      <td>04:15</td>\n",
       "      <td>REGULAR</td>\n",
       "      <td>2019030111</td>\n",
       "      <td>Montréal Canadiens</td>\n",
       "      <td>away</td>\n",
       "      <td>54.0</td>\n",
       "      <td>-26.0</td>\n",
       "      <td>Joel Armia</td>\n",
       "      <td>Carter Hart</td>\n",
       "      <td>Wrist Shot</td>\n",
       "      <td>NaN</td>\n",
       "      <td>NaN</td>\n",
       "      <td>2019</td>\n",
       "      <td>left</td>\n",
       "      <td>P</td>\n",
       "      <td>01:00:00</td>\n",
       "      <td>Missed Shot</td>\n",
       "      <td>1</td>\n",
       "      <td>03:36</td>\n",
       "      <td>-43.0</td>\n",
       "      <td>-13.0</td>\n",
       "      <td>0</td>\n",
       "      <td>0.0</td>\n",
       "      <td>43.600459</td>\n",
       "      <td>53.392925</td>\n",
       "      <td>255.0</td>\n",
       "      <td>216.0</td>\n",
       "      <td>39.0</td>\n",
       "      <td>97.867257</td>\n",
       "      <td>0.0</td>\n",
       "      <td>NaN</td>\n",
       "      <td>NaN</td>\n",
       "      <td>2.509417</td>\n",
       "      <td>0.0</td>\n",
       "      <td>5.0</td>\n",
       "      <td>5.0</td>\n",
       "      <td>Even</td>\n",
       "    </tr>\n",
       "    <tr>\n",
       "      <th>2</th>\n",
       "      <td>Shot</td>\n",
       "      <td>1</td>\n",
       "      <td>04:58</td>\n",
       "      <td>REGULAR</td>\n",
       "      <td>2019030111</td>\n",
       "      <td>Philadelphia Flyers</td>\n",
       "      <td>home</td>\n",
       "      <td>-61.0</td>\n",
       "      <td>38.0</td>\n",
       "      <td>Philippe Myers</td>\n",
       "      <td>Carey Price</td>\n",
       "      <td>Wrist Shot</td>\n",
       "      <td>NaN</td>\n",
       "      <td>NaN</td>\n",
       "      <td>2019</td>\n",
       "      <td>right</td>\n",
       "      <td>P</td>\n",
       "      <td>01:00:00</td>\n",
       "      <td>Blocked Shot</td>\n",
       "      <td>1</td>\n",
       "      <td>04:53</td>\n",
       "      <td>-72.0</td>\n",
       "      <td>-6.0</td>\n",
       "      <td>0</td>\n",
       "      <td>0.0</td>\n",
       "      <td>47.201695</td>\n",
       "      <td>36.384352</td>\n",
       "      <td>298.0</td>\n",
       "      <td>293.0</td>\n",
       "      <td>5.0</td>\n",
       "      <td>45.354162</td>\n",
       "      <td>0.0</td>\n",
       "      <td>NaN</td>\n",
       "      <td>NaN</td>\n",
       "      <td>9.070832</td>\n",
       "      <td>0.0</td>\n",
       "      <td>5.0</td>\n",
       "      <td>5.0</td>\n",
       "      <td>Even</td>\n",
       "    </tr>\n",
       "    <tr>\n",
       "      <th>3</th>\n",
       "      <td>Shot</td>\n",
       "      <td>1</td>\n",
       "      <td>05:06</td>\n",
       "      <td>REGULAR</td>\n",
       "      <td>2019030111</td>\n",
       "      <td>Philadelphia Flyers</td>\n",
       "      <td>home</td>\n",
       "      <td>-52.0</td>\n",
       "      <td>-14.0</td>\n",
       "      <td>Ivan Provorov</td>\n",
       "      <td>Carey Price</td>\n",
       "      <td>Slap Shot</td>\n",
       "      <td>NaN</td>\n",
       "      <td>NaN</td>\n",
       "      <td>2019</td>\n",
       "      <td>right</td>\n",
       "      <td>P</td>\n",
       "      <td>01:00:00</td>\n",
       "      <td>Stoppage</td>\n",
       "      <td>1</td>\n",
       "      <td>05:06</td>\n",
       "      <td>NaN</td>\n",
       "      <td>NaN</td>\n",
       "      <td>0</td>\n",
       "      <td>0.0</td>\n",
       "      <td>39.560081</td>\n",
       "      <td>110.725559</td>\n",
       "      <td>306.0</td>\n",
       "      <td>306.0</td>\n",
       "      <td>0.0</td>\n",
       "      <td>NaN</td>\n",
       "      <td>0.0</td>\n",
       "      <td>NaN</td>\n",
       "      <td>NaN</td>\n",
       "      <td>NaN</td>\n",
       "      <td>0.0</td>\n",
       "      <td>5.0</td>\n",
       "      <td>5.0</td>\n",
       "      <td>Even</td>\n",
       "    </tr>\n",
       "    <tr>\n",
       "      <th>4</th>\n",
       "      <td>Shot</td>\n",
       "      <td>1</td>\n",
       "      <td>06:11</td>\n",
       "      <td>REGULAR</td>\n",
       "      <td>2019030111</td>\n",
       "      <td>Philadelphia Flyers</td>\n",
       "      <td>home</td>\n",
       "      <td>-49.0</td>\n",
       "      <td>-32.0</td>\n",
       "      <td>Travis Sanheim</td>\n",
       "      <td>Carey Price</td>\n",
       "      <td>Wrist Shot</td>\n",
       "      <td>NaN</td>\n",
       "      <td>NaN</td>\n",
       "      <td>2019</td>\n",
       "      <td>right</td>\n",
       "      <td>P</td>\n",
       "      <td>01:00:00</td>\n",
       "      <td>Takeaway</td>\n",
       "      <td>1</td>\n",
       "      <td>06:07</td>\n",
       "      <td>17.0</td>\n",
       "      <td>11.0</td>\n",
       "      <td>0</td>\n",
       "      <td>0.0</td>\n",
       "      <td>51.224994</td>\n",
       "      <td>128.659808</td>\n",
       "      <td>371.0</td>\n",
       "      <td>367.0</td>\n",
       "      <td>4.0</td>\n",
       "      <td>78.771822</td>\n",
       "      <td>0.0</td>\n",
       "      <td>NaN</td>\n",
       "      <td>NaN</td>\n",
       "      <td>19.692956</td>\n",
       "      <td>0.0</td>\n",
       "      <td>5.0</td>\n",
       "      <td>5.0</td>\n",
       "      <td>Even</td>\n",
       "    </tr>\n",
       "  </tbody>\n",
       "</table>\n",
       "</div>"
      ],
      "text/plain": [
       "  eventType  period periodTime periodType      gameID        teamOfShooter  \\\n",
       "0      Shot       1      02:18    REGULAR  2019030111  Philadelphia Flyers   \n",
       "1      Shot       1      04:15    REGULAR  2019030111   Montréal Canadiens   \n",
       "2      Shot       1      04:58    REGULAR  2019030111  Philadelphia Flyers   \n",
       "3      Shot       1      05:06    REGULAR  2019030111  Philadelphia Flyers   \n",
       "4      Shot       1      06:11    REGULAR  2019030111  Philadelphia Flyers   \n",
       "\n",
       "  homeOrAway  xCoord  yCoord         shooter       goalie    shotType  \\\n",
       "0       home   -56.0    -5.0  Sean Couturier  Carey Price   Snap Shot   \n",
       "1       away    54.0   -26.0      Joel Armia  Carter Hart  Wrist Shot   \n",
       "2       home   -61.0    38.0  Philippe Myers  Carey Price  Wrist Shot   \n",
       "3       home   -52.0   -14.0   Ivan Provorov  Carey Price   Slap Shot   \n",
       "4       home   -49.0   -32.0  Travis Sanheim  Carey Price  Wrist Shot   \n",
       "\n",
       "  emptyNet strength  season rinkSide gameType totalPlayTime lastEventType  \\\n",
       "0      NaN      NaN    2019    right        P      01:00:00       Faceoff   \n",
       "1      NaN      NaN    2019     left        P      01:00:00   Missed Shot   \n",
       "2      NaN      NaN    2019    right        P      01:00:00  Blocked Shot   \n",
       "3      NaN      NaN    2019    right        P      01:00:00      Stoppage   \n",
       "4      NaN      NaN    2019    right        P      01:00:00      Takeaway   \n",
       "\n",
       "   lastEventPeriod lastEventPeriodTime  lastEventXCoord  lastEventYCoord  \\\n",
       "0                1               02:16            -69.0            -22.0   \n",
       "1                1               03:36            -43.0            -13.0   \n",
       "2                1               04:53            -72.0             -6.0   \n",
       "3                1               05:06              NaN              NaN   \n",
       "4                1               06:07             17.0             11.0   \n",
       "\n",
       "   Goal  EmptyNet  distanceFromNet       angle  gameSeconds  \\\n",
       "0     0       0.0        33.376639   98.615648        138.0   \n",
       "1     0       0.0        43.600459   53.392925        255.0   \n",
       "2     0       0.0        47.201695   36.384352        298.0   \n",
       "3     0       0.0        39.560081  110.725559        306.0   \n",
       "4     0       0.0        51.224994  128.659808        371.0   \n",
       "\n",
       "   lastEventGameSeconds  timeFromLastEvent  distanceFromLastEvent  rebound  \\\n",
       "0                 136.0                2.0              21.400935      0.0   \n",
       "1                 216.0               39.0              97.867257      0.0   \n",
       "2                 293.0                5.0              45.354162      0.0   \n",
       "3                 306.0                0.0                    NaN      0.0   \n",
       "4                 367.0                4.0              78.771822      0.0   \n",
       "\n",
       "   lastEventAngle  changeInAngleShot      speed  timeSincePowerPlayStarted  \\\n",
       "0             NaN                NaN  10.700467                        0.0   \n",
       "1             NaN                NaN   2.509417                        0.0   \n",
       "2             NaN                NaN   9.070832                        0.0   \n",
       "3             NaN                NaN        NaN                        0.0   \n",
       "4             NaN                NaN  19.692956                        0.0   \n",
       "\n",
       "   numFriendlyNonGoalieSkaters  numOpposingNonGoalieSkaters strength2  \n",
       "0                          5.0                          5.0      Even  \n",
       "1                          5.0                          5.0      Even  \n",
       "2                          5.0                          5.0      Even  \n",
       "3                          5.0                          5.0      Even  \n",
       "4                          5.0                          5.0      Even  "
      ]
     },
     "execution_count": 127,
     "metadata": {},
     "output_type": "execute_result"
    }
   ],
   "source": [
    "data_playoffs = pd.read_csv('../data/testSetPlayOff.csv')\n",
    "data_playoffs = data_playoffs.drop(labels=['index', 'Unnamed: 0'], axis=1).reset_index(drop=True)\n",
    "data_playoffs['Goal'] = data_playoffs['Goal'].astype(np.int64)\n",
    "display(data_playoffs.shape)\n",
    "data_playoffs.head()"
   ]
  },
  {
   "cell_type": "code",
   "execution_count": 128,
   "id": "38c05a98-3e1d-4d78-b350-d90a62f02aed",
   "metadata": {},
   "outputs": [
    {
     "data": {
      "text/plain": [
       "(5367, 4)"
      ]
     },
     "metadata": {},
     "output_type": "display_data"
    },
    {
     "data": {
      "text/html": [
       "<div>\n",
       "<style scoped>\n",
       "    .dataframe tbody tr th:only-of-type {\n",
       "        vertical-align: middle;\n",
       "    }\n",
       "\n",
       "    .dataframe tbody tr th {\n",
       "        vertical-align: top;\n",
       "    }\n",
       "\n",
       "    .dataframe thead th {\n",
       "        text-align: right;\n",
       "    }\n",
       "</style>\n",
       "<table border=\"1\" class=\"dataframe\">\n",
       "  <thead>\n",
       "    <tr style=\"text-align: right;\">\n",
       "      <th></th>\n",
       "      <th>distance</th>\n",
       "      <th>angle</th>\n",
       "      <th>EmptyNet</th>\n",
       "      <th>is_goal</th>\n",
       "    </tr>\n",
       "  </thead>\n",
       "  <tbody>\n",
       "    <tr>\n",
       "      <th>0</th>\n",
       "      <td>33.376639</td>\n",
       "      <td>98.615648</td>\n",
       "      <td>0.0</td>\n",
       "      <td>0</td>\n",
       "    </tr>\n",
       "    <tr>\n",
       "      <th>1</th>\n",
       "      <td>43.600459</td>\n",
       "      <td>53.392925</td>\n",
       "      <td>0.0</td>\n",
       "      <td>0</td>\n",
       "    </tr>\n",
       "    <tr>\n",
       "      <th>2</th>\n",
       "      <td>47.201695</td>\n",
       "      <td>36.384352</td>\n",
       "      <td>0.0</td>\n",
       "      <td>0</td>\n",
       "    </tr>\n",
       "    <tr>\n",
       "      <th>3</th>\n",
       "      <td>39.560081</td>\n",
       "      <td>110.725559</td>\n",
       "      <td>0.0</td>\n",
       "      <td>0</td>\n",
       "    </tr>\n",
       "    <tr>\n",
       "      <th>4</th>\n",
       "      <td>51.224994</td>\n",
       "      <td>128.659808</td>\n",
       "      <td>0.0</td>\n",
       "      <td>0</td>\n",
       "    </tr>\n",
       "  </tbody>\n",
       "</table>\n",
       "</div>"
      ],
      "text/plain": [
       "    distance       angle  EmptyNet  is_goal\n",
       "0  33.376639   98.615648       0.0        0\n",
       "1  43.600459   53.392925       0.0        0\n",
       "2  47.201695   36.384352       0.0        0\n",
       "3  39.560081  110.725559       0.0        0\n",
       "4  51.224994  128.659808       0.0        0"
      ]
     },
     "execution_count": 128,
     "metadata": {},
     "output_type": "execute_result"
    }
   ],
   "source": [
    "# Read and preprocess data\n",
    "df3_playoffs = data_playoffs[['distanceFromNet', 'angle', 'EmptyNet', 'Goal']]\n",
    "df3_playoffs = df3_playoffs.rename({'Goal': 'is_goal', 'distanceFromNet': 'distance'}, axis=1)\n",
    "df3_playoffs = df3_playoffs.dropna().reset_index(drop=True)\n",
    "display(df3_playoffs.shape)\n",
    "df3_playoffs.head()"
   ]
  },
  {
   "cell_type": "code",
   "execution_count": 129,
   "id": "38c26fc7-73d7-49bf-bcbf-223657ab4bba",
   "metadata": {},
   "outputs": [],
   "source": [
    "Xp1 = df3_playoffs['distance'].to_numpy().reshape(-1, 1)\n",
    "yp = df3_playoffs['is_goal'].to_numpy().reshape(-1, 1)\n",
    "preds1 = lr_distance.predict(Xp1)"
   ]
  },
  {
   "cell_type": "code",
   "execution_count": 130,
   "id": "c7a2c1dc-ce97-46aa-b4d2-66559d30b8e3",
   "metadata": {},
   "outputs": [],
   "source": [
    "Xp2 = df3_playoffs['angle'].to_numpy().reshape(-1, 1)\n",
    "preds2 = lr_angle.predict(Xp2)"
   ]
  },
  {
   "cell_type": "code",
   "execution_count": 131,
   "id": "5ab7c2fc-3df5-4222-a8a3-4a92932c6b8f",
   "metadata": {},
   "outputs": [],
   "source": [
    "Xp3 = df3_playoffs[['distance', 'angle']].to_numpy().reshape(-1, 2)\n",
    "preds3 = lr_distance_angle.predict(Xp3)"
   ]
  },
  {
   "cell_type": "code",
   "execution_count": 132,
   "id": "432e66b0-6ed7-468d-b57d-629687e593c4",
   "metadata": {},
   "outputs": [],
   "source": [
    "preds4 = XGboost.predict(Xp3)"
   ]
  },
  {
   "cell_type": "code",
   "execution_count": 133,
   "id": "fc08a183-c9db-40d1-824c-366cce91a1fc",
   "metadata": {},
   "outputs": [],
   "source": [
    "yp2 = data_playoffs.Goal.to_numpy()\n",
    "preds5 = pipe.predict(data_playoffs)"
   ]
  },
  {
   "cell_type": "markdown",
   "id": "672b45f1-d329-4ece-89b8-c8794620103b",
   "metadata": {},
   "source": [
    "### 2.2. Evaluate models"
   ]
  },
  {
   "cell_type": "code",
   "execution_count": 134,
   "id": "51dc2c50-f665-4855-9f25-30d91ee2a621",
   "metadata": {},
   "outputs": [
    {
     "name": "stdout",
     "output_type": "stream",
     "text": [
      "####### Logistic Regression (distance) #######\n",
      "Test accuracy: 0.9116825041922862\n",
      "Brier score: 0.08831749580771381\n",
      "** Classification report **\n",
      "              precision    recall  f1-score   support\n",
      "\n",
      "    Non-goal       0.91      1.00      0.95      4893\n",
      "        Goal       0.00      0.00      0.00       474\n",
      "\n",
      "    accuracy                           0.91      5367\n",
      "   macro avg       0.46      0.50      0.48      5367\n",
      "weighted avg       0.83      0.91      0.87      5367\n",
      "\n"
     ]
    }
   ],
   "source": [
    "print('####### Logistic Regression (distance) #######')\n",
    "target_names = ['Non-goal', 'Goal']\n",
    "accuracy1 = lr_distance.score(Xp1, yp)\n",
    "brier1 = brier_score_loss(yp, preds1)\n",
    "print(f'Test accuracy: {accuracy1}' )\n",
    "print(f'Brier score: {brier1}' )\n",
    "print('** Classification report **')\n",
    "print(classification_report(yp, preds1, target_names=target_names))"
   ]
  },
  {
   "cell_type": "code",
   "execution_count": 135,
   "id": "3134694a-5940-4700-b4ea-b6eab32dbc1f",
   "metadata": {},
   "outputs": [
    {
     "name": "stdout",
     "output_type": "stream",
     "text": [
      "####### Logistic Regression (angle) #######\n",
      "Test accuracy: 0.9116825041922862\n",
      "Brier score: 0.08831749580771381\n",
      "** Classification report **\n",
      "              precision    recall  f1-score   support\n",
      "\n",
      "    Non-goal       0.91      1.00      0.95      4893\n",
      "        Goal       0.00      0.00      0.00       474\n",
      "\n",
      "    accuracy                           0.91      5367\n",
      "   macro avg       0.46      0.50      0.48      5367\n",
      "weighted avg       0.83      0.91      0.87      5367\n",
      "\n"
     ]
    }
   ],
   "source": [
    "print('####### Logistic Regression (angle) #######')\n",
    "target_names = ['Non-goal', 'Goal']\n",
    "accuracy2 = lr_angle.score(Xp2, yp)\n",
    "brier2 = brier_score_loss(yp, preds2)\n",
    "print(f'Test accuracy: {accuracy2}' )\n",
    "print(f'Brier score: {brier2}' )\n",
    "print('** Classification report **')\n",
    "print(classification_report(yp, preds2, target_names=target_names))"
   ]
  },
  {
   "cell_type": "code",
   "execution_count": 136,
   "id": "3c3f17da-3235-4061-b0b9-ecae0305d8ab",
   "metadata": {},
   "outputs": [
    {
     "name": "stdout",
     "output_type": "stream",
     "text": [
      "####### Logistic Regression (distance+angle) #######\n",
      "Test accuracy: 0.9116825041922862\n",
      "Brier score: 0.08831749580771381\n",
      "** Classification report **\n",
      "              precision    recall  f1-score   support\n",
      "\n",
      "    Non-goal       0.91      1.00      0.95      4893\n",
      "        Goal       0.00      0.00      0.00       474\n",
      "\n",
      "    accuracy                           0.91      5367\n",
      "   macro avg       0.46      0.50      0.48      5367\n",
      "weighted avg       0.83      0.91      0.87      5367\n",
      "\n"
     ]
    }
   ],
   "source": [
    "print('####### Logistic Regression (distance+angle) #######')\n",
    "target_names = ['Non-goal', 'Goal']\n",
    "accuracy3 = lr_distance_angle.score(Xp3, yp)\n",
    "brier3 = brier_score_loss(yp, preds3)\n",
    "print(f'Test accuracy: {accuracy3}' )\n",
    "print(f'Brier score: {brier3}' )\n",
    "print('** Classification report **')\n",
    "print(classification_report(yp, preds3, target_names=target_names))"
   ]
  },
  {
   "cell_type": "code",
   "execution_count": 137,
   "id": "f1526413-6d0f-48ae-b1eb-3ee86186aacf",
   "metadata": {},
   "outputs": [
    {
     "name": "stdout",
     "output_type": "stream",
     "text": [
      "####### XGBoost - best model #######\n",
      "Test accuracy: 0.9118688280231042\n",
      "Brier score: 0.08813117197689585\n",
      "** Classification report **\n",
      "              precision    recall  f1-score   support\n",
      "\n",
      "    Non-goal       0.91      1.00      0.95      4893\n",
      "        Goal       0.60      0.01      0.01       474\n",
      "\n",
      "    accuracy                           0.91      5367\n",
      "   macro avg       0.76      0.50      0.48      5367\n",
      "weighted avg       0.88      0.91      0.87      5367\n",
      "\n"
     ]
    }
   ],
   "source": [
    "print('####### XGBoost - best model #######')\n",
    "target_names = ['Non-goal', 'Goal']\n",
    "accuracy4 = XGboost.score(Xp3, yp)\n",
    "brier4 = brier_score_loss(yp, preds4)\n",
    "print(f'Test accuracy: {accuracy4}' )\n",
    "print(f'Brier score: {brier4}' )\n",
    "print('** Classification report **')\n",
    "print(classification_report(yp, preds4, target_names=target_names))"
   ]
  },
  {
   "cell_type": "code",
   "execution_count": 138,
   "id": "55625f71-53b7-463e-b3f3-86ff63d46bff",
   "metadata": {},
   "outputs": [
    {
     "name": "stdout",
     "output_type": "stream",
     "text": [
      "####### Best Model #######\n",
      "Test accuracy: 0.8699459660890628\n",
      "Brier score: 0.1300540339109372\n",
      "** Classification report **\n",
      "              precision    recall  f1-score   support\n",
      "\n",
      "    Non-goal       0.93      0.93      0.93      4893\n",
      "        Goal       0.28      0.29      0.28       474\n",
      "\n",
      "    accuracy                           0.87      5367\n",
      "   macro avg       0.60      0.61      0.61      5367\n",
      "weighted avg       0.87      0.87      0.87      5367\n",
      "\n"
     ]
    }
   ],
   "source": [
    "print('####### Best Model #######')\n",
    "target_names = ['Non-goal', 'Goal']\n",
    "accuracy5 = pipe.score(data_playoffs, yp2)\n",
    "brier5 = brier_score_loss(yp2, preds5)\n",
    "print(f'Test accuracy: {accuracy5}' )\n",
    "print(f'Brier score: {brier5}' )\n",
    "print('** Classification report **')\n",
    "print(classification_report(yp2, preds5, target_names=target_names))"
   ]
  },
  {
   "cell_type": "markdown",
   "id": "50cda442-0df1-42e1-837c-a02069c7b0e5",
   "metadata": {},
   "source": [
    "### 2.3. Visualization"
   ]
  },
  {
   "cell_type": "code",
   "execution_count": 139,
   "id": "14283aba-437a-4e90-a7c4-08d9d262de36",
   "metadata": {},
   "outputs": [
    {
     "name": "stdout",
     "output_type": "stream",
     "text": [
      "Logistic Regression (trained on distance only): ROC AUC=0.500\n",
      "Logistic Regression (trained on angle only): ROC AUC=0.516\n",
      "Logistic Regression (trained on both distance and angle): ROC AUC=0.499\n",
      "XGBoost (best model): ROC AUC=0.696\n",
      "Best Model: ROC AUC=0.721\n",
      "Random: ROC AUC=0.500\n"
     ]
    },
    {
     "data": {
      "image/png": "[encoded data removed]",
      "text/plain": [
       "<Figure size 432x432 with 1 Axes>"
      ]
     },
     "metadata": {
      "needs_background": "light"
     },
     "output_type": "display_data"
    }
   ],
   "source": [
    "### ROdata_playoffsC metric ###\n",
    "\n",
    "lr_probs1 = lr_distance.predict_proba(Xp1[:, :])[:,1]\n",
    "lr_probs2 = lr_angle.predict_proba(Xp2[:, :])[:,1]\n",
    "lr_probs3 = lr_distance_angle.predict_proba(Xp3[:, :])[:,1]\n",
    "bm_probs = pipe.predict_proba(data_playoffs)[:,1]\n",
    "xgboost_probs = XGboost.predict_proba(Xp3[:, :])[:,1]\n",
    "\n",
    "random_clf = DummyClassifier(strategy=\"uniform\").fit(Xp1, yp)\n",
    "random_probs = random_clf.predict_proba(Xp1[:, :])[:,1]\n",
    "\n",
    "\n",
    "\n",
    "lr_auc1 = roc_auc_score(yp, lr_probs1)\n",
    "lr_auc2 = roc_auc_score(yp, lr_probs2)\n",
    "lr_auc3 = roc_auc_score(yp, lr_probs3)\n",
    "xgboost_auc = roc_auc_score(yp, xgboost_probs)\n",
    "bm_auc = roc_auc_score(yp2, bm_probs)\n",
    "random_auc = roc_auc_score(yp, random_probs)\n",
    "\n",
    "\n",
    "print('Logistic Regression (trained on distance only): ROC AUC=%.3f' % (lr_auc1))\n",
    "print('Logistic Regression (trained on angle only): ROC AUC=%.3f' % (lr_auc2))\n",
    "print('Logistic Regression (trained on both distance and angle): ROC AUC=%.3f' % (lr_auc3))\n",
    "print('XGBoost (best model): ROC AUC=%.3f' % (xgboost_auc))\n",
    "print('Best Model: ROC AUC=%.3f' % (bm_auc))\n",
    "print('Random: ROC AUC=%.3f' % (random_auc))\n",
    "\n",
    "lr_fpr1, lr_tpr1, _ = roc_curve(yp, lr_probs1)\n",
    "lr_fpr2, lr_tpr2, _ = roc_curve(yp, lr_probs2)\n",
    "lr_fpr3, lr_tpr3, _ = roc_curve(yp, lr_probs3)\n",
    "xgboost_fpr, xgboost_tpr, _ = roc_curve(yp, xgboost_probs)\n",
    "bm_fpr, bm_tpr, _ = roc_curve(yp2, bm_probs)\n",
    "random_fpr, random_tpr, _ = roc_curve(yp, random_probs)\n",
    "\n",
    "plt.figure(figsize=(6, 6))\n",
    "\n",
    "plt.plot(lr_fpr1, lr_tpr1, linestyle='-.', label='Logistic Regression (distance)')\n",
    "plt.plot(lr_fpr2, lr_tpr2, linestyle='-', label='Logistic Regression (angle)')\n",
    "plt.plot(lr_fpr3, lr_tpr3, linestyle=':', label='Logistic Regression (distance + angle)')\n",
    "plt.plot(xgboost_fpr, xgboost_tpr, linestyle='-', label='XGBoost (best model)')\n",
    "plt.plot(bm_fpr, bm_tpr, linestyle='-', label='Best Model)')\n",
    "plt.plot(random_fpr, random_tpr, linestyle='--', label='Random')\n",
    "\n",
    "\n",
    "plt.xlabel('False Positive Rate')\n",
    "plt.ylabel('True Positive Rate')\n",
    "plt.legend()\n",
    "\n",
    "plt.savefig('../figures/7-roc.png')\n",
    "\n",
    "plt.show()"
   ]
  },
  {
   "cell_type": "code",
   "execution_count": 140,
   "id": "63050510-4d2f-43d9-8784-279e683dc87e",
   "metadata": {},
   "outputs": [
    {
     "data": {
      "image/png": "[encoded data removed]",
      "text/plain": [
       "<Figure size 432x432 with 1 Axes>"
      ]
     },
     "metadata": {
      "needs_background": "light"
     },
     "output_type": "display_data"
    }
   ],
   "source": [
    "### goal_rate = F(shot probability model percentile) ###\n",
    "def compute_goal_rate_per_percentile(probs, y):\n",
    "    percentiles = []\n",
    "    rates = []\n",
    "\n",
    "    for i in range(0, 101):\n",
    "        percentile = np.percentile(probs, i)\n",
    "        r_percentile = np.float32(round(percentile, 2))\n",
    "        goals = 0\n",
    "        no_goals = 0\n",
    "        for idx, p in enumerate(probs):\n",
    "#             if p<=percentile:\n",
    "            if np.float32(round(p, 2))==r_percentile:\n",
    "                if y[idx]==1:\n",
    "                    goals+=1\n",
    "                else:\n",
    "                    no_goals+=1\n",
    "        rate = goals *100 / (goals + no_goals)\n",
    "        percentiles.append(percentile)\n",
    "        rates.append(rate)\n",
    "    return percentiles, rates\n",
    "\n",
    "\n",
    "percentiles1, rates1 = compute_goal_rate_per_percentile(lr_probs1, yp)\n",
    "percentiles2, rates2 = compute_goal_rate_per_percentile(lr_probs2, yp)\n",
    "percentiles3, rates3 = compute_goal_rate_per_percentile(lr_probs3, yp)\n",
    "percentiles4, rates4 = compute_goal_rate_per_percentile(xgboost_probs, yp)\n",
    "percentiles5, rates5 = compute_goal_rate_per_percentile(bm_probs, yp2)\n",
    "percentiles6, rates6 = compute_goal_rate_per_percentile(random_probs, yp)\n",
    "\n",
    "plt.figure(figsize=(6, 6))\n",
    "\n",
    "plt.plot(percentiles1, rates1, linestyle='-.', label='Logistic Regression (distance)')\n",
    "plt.plot(percentiles2, rates2, linestyle='-', label='Logistic Regression (angle)')\n",
    "plt.plot(percentiles3, rates3, linestyle=':', label='Logistic Regression (distance+angle)')\n",
    "plt.plot(percentiles4, rates4, linestyle='-', label='XGBoost (best model)')\n",
    "plt.plot(percentiles5, rates5, linestyle='-', label='Best Model')\n",
    "plt.plot(percentiles6, rates6, linestyle='--', label='Random')\n",
    "\n",
    "plt.xlabel('Shot probability model percentile')\n",
    "plt.ylabel('Goal rate')\n",
    "plt.legend()\n",
    "plt.ylim([0, 100])\n",
    "plt.xlim([0, 1])\n",
    "plt.title('Goal rate')\n",
    "\n",
    "plt.savefig('../figures/7-goal_rate_percentile_1.png')\n",
    "\n",
    "plt.show()"
   ]
  },
  {
   "cell_type": "code",
   "execution_count": 141,
   "id": "b8b42ca1-1919-44eb-86dc-664f4b9ff6a1",
   "metadata": {},
   "outputs": [
    {
     "data": {
      "image/png": "[encoded data removed]",
      "text/plain": [
       "<Figure size 432x432 with 1 Axes>"
      ]
     },
     "metadata": {
      "needs_background": "light"
     },
     "output_type": "display_data"
    }
   ],
   "source": [
    "### cumulative portion of goals = F(shot probability model percentile) ###\n",
    "\n",
    "def compute_cumulative_propotion_of_goals_per_percentile(probs, y):\n",
    "    percentiles = []\n",
    "    cum_rates = []\n",
    "    cum_rate = 0\n",
    "    total_goals = sum(y)\n",
    "    cum_goals = 0\n",
    "    for i in range(0, 101):\n",
    "        percentile = np.percentile(probs, i)\n",
    "        cum_goals=0\n",
    "        for idx, p in enumerate(probs):\n",
    "            if p<=percentile:\n",
    "                if y[idx]==1:\n",
    "                    cum_goals+=1 \n",
    "        cum_rate = cum_goals * 100 / total_goals\n",
    "        percentiles.append(percentile)\n",
    "        cum_rates.append(cum_rate)\n",
    "    return percentiles, cum_rates\n",
    "\n",
    "\n",
    "percentiles1, rates1 = compute_cumulative_propotion_of_goals_per_percentile(lr_probs1, yp)\n",
    "percentiles2, rates2 = compute_cumulative_propotion_of_goals_per_percentile(lr_probs2, yp)\n",
    "percentiles3, rates3 = compute_cumulative_propotion_of_goals_per_percentile(lr_probs3, yp)\n",
    "percentiles4, rates4 = compute_cumulative_propotion_of_goals_per_percentile(xgboost_probs, yp)\n",
    "percentiles5, rates5 = compute_cumulative_propotion_of_goals_per_percentile(bm_probs, yp2)\n",
    "percentiles6, rates6 = compute_cumulative_propotion_of_goals_per_percentile(random_probs, yp)\n",
    "\n",
    "plt.figure(figsize=(6, 6))\n",
    "\n",
    "plt.plot(percentiles1, rates1, linestyle='-.', label='Logistic Regression (distance)')\n",
    "plt.plot(percentiles2, rates2, linestyle='-', label='Logistic Regression (angle)')\n",
    "plt.plot(percentiles3, rates3, linestyle=':', label='Logistic Regression (distance+angle)')\n",
    "plt.plot(percentiles4, rates4, linestyle='-', label='XGBoost (best model)')\n",
    "plt.plot(percentiles5, rates5, linestyle='-', label='Best Model')\n",
    "plt.plot(percentiles6, rates6, linestyle='--', label='Random')\n",
    "\n",
    "plt.xlabel('Shot probability model percentile')\n",
    "plt.ylabel('Cumulative proportion of goals')\n",
    "plt.legend(loc='lower right')\n",
    "plt.ylim([0, 100])\n",
    "plt.xlim([0, 1])\n",
    "plt.title('Cumulative proportion of goals')\n",
    "\n",
    "plt.savefig('../figures/7-goal_rate_percentile_2.png')\n",
    "\n",
    "plt.show()\n"
   ]
  },
  {
   "cell_type": "code",
   "execution_count": 142,
   "id": "86b42164-8489-413c-93eb-d20745e917c8",
   "metadata": {},
   "outputs": [
    {
     "data": {
      "image/png": "[encoded data removed]",
      "text/plain": [
       "<Figure size 432x432 with 1 Axes>"
      ]
     },
     "metadata": {
      "needs_background": "light"
     },
     "output_type": "display_data"
    }
   ],
   "source": [
    "fig, ax = plt.subplots(figsize=(6, 6))\n",
    "\n",
    "\n",
    "disp1 = CalibrationDisplay.from_estimator(lr_distance, Xp1, yp, label='Logistic Regression (distance)', marker=\"P\", ax=ax)\n",
    "disp2 = CalibrationDisplay.from_estimator(lr_angle, Xp2, yp, label='Logistic Regression (angle)', marker=\"*\", ax=ax)\n",
    "disp3 = CalibrationDisplay.from_estimator(lr_distance_angle, Xp3, yp, label='Logistic Regression (distance+angle)', marker=\"h\", ax=ax)\n",
    "disp4 = CalibrationDisplay.from_estimator(XGboost, Xp3, yp, label='XGBoost (best model)', marker=\"h\", ax=ax)\n",
    "disp5 = CalibrationDisplay.from_estimator(pipe, data_playoffs, yp2, label='Best Model', marker=\"h\", ax=ax)\n",
    "\n",
    "ax.legend(loc='upper left')\n",
    "\n",
    "plt.savefig('../figures/7-calibration_diagram2.png')\n",
    "\n",
    "plt.show()"
   ]
  },
  {
   "cell_type": "code",
   "execution_count": null,
   "id": "6d72a0a1-e9aa-446c-85f3-52bc65f86a50",
   "metadata": {},
   "outputs": [],
   "source": []
  }
 ],
 "metadata": {
  "kernelspec": {
   "display_name": "Python 3",
   "language": "python",
   "name": "python3"
  },
  "language_info": {
   "codemirror_mode": {
    "name": "ipython",
    "version": 3
   },
   "file_extension": ".py",
   "mimetype": "text/x-python",
   "name": "python",
   "nbconvert_exporter": "python",
   "pygments_lexer": "ipython3",
   "version": "3.8.10"
  }
 },
 "nbformat": 4,
 "nbformat_minor": 5
}
