{
 "cells": [
  {
   "cell_type": "markdown",
   "id": "dedd5bb0-0c41-4e99-9e13-0aabaeac9bba",
   "metadata": {},
   "source": [
    "# Question 2: Data Acquisition"
   ]
  },
  {
   "cell_type": "code",
   "execution_count": 5,
   "id": "51fe610c-9647-48a6-a49c-c0ee26d5b28b",
   "metadata": {},
   "outputs": [],
   "source": [
    "import requests\n",
    "import numpy as np\n",
    "import pandas as pd\n",
    "from dotenv import load_dotenv\n",
    "from time import sleep\n",
    "from tqdm.notebook import tqdm\n",
    "import os"
   ]
  },
  {
   "cell_type": "code",
   "execution_count": 6,
   "id": "f38164ff-70eb-4216-8072-acd3749d07ee",
   "metadata": {},
   "outputs": [],
   "source": [
    "# Load dataset directory path from .env file\n",
    "load_dotenv('../.env2')\n",
    "DATASET_DIR_PATH = os.getenv('DATASET_DIR_PATH')\n",
    "\n",
    "if (not DATASET_DIR_PATH):\n",
    "    DATASET_DIR_PATH = 'dataset/'"
   ]
  },
  {
   "cell_type": "code",
   "execution_count": 3,
   "id": "7c6cf8e7-6e5d-4008-9658-3d4154d26f74",
   "metadata": {},
   "outputs": [],
   "source": [
    "def get_nhl_data(start_season, end_season):\n",
    "    \"\"\"Return the NHL play-by-play data between two seasons.\n",
    " \n",
    "    :param start_season: start season (start_season/start_season+1)\n",
    "    :type a: int\n",
    "    :param end_season: end season (end_season/end_season+1)\n",
    "    :type b: int\n",
    "    \n",
    "    :rtype: list\n",
    "    :return: NHL play-by-play data of all seasons between start_season and end_season\n",
    "    \"\"\"\n",
    "    progress_bar = tqdm(range(start_season, end_season + 1))\n",
    "    data = []\n",
    "    for season in progress_bar:\n",
    "        progress_bar.set_description(f'Retrieving NHL data for season {season}/{season + 1}')\n",
    "        data.extend(get_nhl_season(season))\n",
    "        progress_bar.set_description('')\n",
    "\n",
    "    return data\n",
    "    \n",
    "\n",
    "def get_nhl_season(season):\n",
    "    \"\"\"Return the NHL play-by-play data for one season (regular season and playoffs)\n",
    " \n",
    "    :param season: season (season/season+1)\n",
    "    :type a: int\n",
    "    \n",
    "    :rtype: list\n",
    "    :return: NHL play-by-play data of season/season+1\n",
    "    \"\"\"\n",
    "    \n",
    "    filepath = os.path.join(DATASET_DIR_PATH, f'data-{season}.npy')\n",
    "    \n",
    "    # check if the data already exists in local\n",
    "    if os.path.exists(filepath):\n",
    "        return np.load(filepath, allow_pickle=True)\n",
    "    \n",
    "    data = []\n",
    "    data.extend(get_nhl_regular(season))\n",
    "    data.extend(get_nhl_playoffs(season))\n",
    "    \n",
    "    # save the data in local for next usage     \n",
    "    np.save(filepath, data)\n",
    "    \n",
    "    return data\n",
    "\n",
    "\n",
    "def get_nhl_regular(season, game_type = 2):\n",
    "    \"\"\"Retrieve and return the NHL play-by-play data for a regular season.\n",
    " \n",
    "    :param season: season (season/season+1)\n",
    "    :type a: int\n",
    "    :game_type: type index of regular season in the NHL Stats API \n",
    "    :type a: int\n",
    "    \n",
    "    :rtype: list\n",
    "    :return: NHL play-by-play data of regular season (season/season+1)\n",
    "    \"\"\"\n",
    "    \n",
    "    nb_games = 868 if season == 2020 else 1271 if season > 2016 else 1230\n",
    "    data=[]\n",
    "    \n",
    "    for i in range(nb_games):\n",
    "        game_id = f'{season}{game_type:02}{i+1:04}'\n",
    "        url = f'https://statsapi.web.nhl.com/api/v1/game/{game_id}/feed/live/'\n",
    "        response = requests.get(url)\n",
    "        \n",
    "        if(response.status_code != 200):\n",
    "            raise Exception('Error occured while retrieving data from NHL api!')\n",
    "            \n",
    "        data.append(response.json())\n",
    "    return data\n",
    "\n",
    "\n",
    "def get_nhl_playoffs(season, game_type = 3): \n",
    "    \"\"\"Retrieve and return the NHL play-by-play data for the playoffs of season/season+1.\n",
    " \n",
    "    :param season: season (season/season+1)\n",
    "    :type a: int\n",
    "    :game_type: type index of playoffs in the NHL Stats API \n",
    "    :type a: int\n",
    "    \n",
    "    :rtype: list\n",
    "    :return: NHL play-by-play data of playoffs (season/season+1)\n",
    "    \"\"\"\n",
    "    \n",
    "    data=[]\n",
    "    nb_rounds = 4\n",
    "    nb_games = 7\n",
    "    \n",
    "    for iround in range(nb_rounds):\n",
    "        for matchup in range(pow(2, 3 - iround)):\n",
    "            for game in range(7):\n",
    "                game_id = f'{season}{game_type:02}0{iround+1}{matchup+1}{game+1}'\n",
    "                url = f'https://statsapi.web.nhl.com/api/v1/game/{game_id}/feed/live/'\n",
    "                response = requests.get(url)\n",
    "\n",
    "                if(response.status_code != 200):\n",
    "                    #Temporary fix - when nb_games < 7            \n",
    "                    continue\n",
    "            \n",
    "                data.append(response.json())\n",
    "    return data"
   ]
  },
  {
   "cell_type": "markdown",
   "id": "820c869a-a530-4b5c-b414-ffdc4b86d979",
   "metadata": {},
   "source": [
    "## Example:"
   ]
  },
  {
   "cell_type": "code",
   "execution_count": 4,
   "id": "fdee1678-3a02-4fd0-946f-d7c67e9072bd",
   "metadata": {},
   "outputs": [
    {
     "data": {
      "application/vnd.jupyter.widget-view+json": {
       "model_id": "17f8d717a8e64d7fb48aade768f1315a",
       "version_major": 2,
       "version_minor": 0
      },
      "text/plain": [
       "  0%|          | 0/5 [00:00<?, ?it/s]"
      ]
     },
     "metadata": {},
     "output_type": "display_data"
    }
   ],
   "source": [
    "data = get_nhl_data(2016, 2020)"
   ]
  },
  {
   "cell_type": "code",
   "execution_count": null,
   "id": "ad88404f-f440-46f7-89ba-d54ecb9fcf9c",
   "metadata": {},
   "outputs": [],
   "source": []
  }
 ],
 "metadata": {
  "kernelspec": {
   "display_name": "Python 3 (ipykernel)",
   "language": "python",
   "name": "python3"
  },
  "language_info": {
   "codemirror_mode": {
    "name": "ipython",
    "version": 3
   },
   "file_extension": ".py",
   "mimetype": "text/x-python",
   "name": "python",
   "nbconvert_exporter": "python",
   "pygments_lexer": "ipython3",
   "version": "3.9.7"
  }
 },
 "nbformat": 4,
 "nbformat_minor": 5
}
