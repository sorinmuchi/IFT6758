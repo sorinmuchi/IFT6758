{
 "cells": [
  {
   "cell_type": "code",
   "execution_count": 14,
   "id": "462871c3-b21d-4b07-a20c-d1074b1116b2",
   "metadata": {},
   "outputs": [],
   "source": [
    "import pandas as pd\n",
    "import numpy as np\n",
    "import matplotlib.pyplot as plt\n",
    "import matplotlib.cm as cm\n",
    "from IPython.display import display\n",
    "import ipywidgets as widgets\n",
    "from ipywidgets import interact, interactive, fixed, interact_manual, widgets\n",
    "from scipy.ndimage.filters import gaussian_filter\n",
    "import seaborn as sns"
   ]
  },
  {
   "cell_type": "code",
   "execution_count": 15,
   "id": "55bf5b9f-5e10-490a-8561-6bdb2e8e4f33",
   "metadata": {},
   "outputs": [],
   "source": [
    "def processData(season,team):\n",
    "    df = pd.read_csv('dataset/Allseasons.csv')\n",
    "    df=df[df[\"season\"]==season]\n",
    "    df['x'] = df['xCoord']\n",
    "    df['xCoord'] = df['xCoord'].abs()\n",
    "    shotsPerXY = df.groupby(['xCoord','yCoord']).size().reset_index(name='nbShotsLeague')\n",
    "    nbTeams = len(df['teamOfShooter'].unique())\n",
    "\n",
    "    shotsPerXY['avgShotsLeague'] = shotsPerXY['nbShotsLeague'] / nbTeams\n",
    "    shotsPerTeamPerXY = df.groupby(['teamOfShooter', 'xCoord','yCoord']).size().reset_index(name='nbShotsTeam')\n",
    "    excessShots = shotsPerTeamPerXY.loc[shotsPerTeamPerXY['teamOfShooter'] == team]\n",
    "    excessShots = pd.merge(excessShots, shotsPerXY, on=['xCoord', 'yCoord']) \n",
    "    excessShots['excessShots'] = excessShots['nbShotsTeam'] - excessShots['avgShotsLeague']\n",
    "    return excessShots\n",
    "\n",
    "\n",
    "def getTeams():\n",
    "    df = pd.read_csv('dataset/Allseasons.csv')\n",
    "    return df[\"teamOfShooter\"].unique()"
   ]
  },
  {
   "cell_type": "code",
   "execution_count": 16,
   "id": "1a8b6e4b-ebf7-4b48-b657-379a9b21ca40",
   "metadata": {},
   "outputs": [],
   "source": [
    "def myplot(x, y, z, s, bins=1000):\n",
    "    heatmap, xedges, yedges = np.histogram2d(x, y, bins=bins, weights=z)\n",
    "    heatmap = gaussian_filter(heatmap, sigma=s)\n",
    "\n",
    "    extent = [xedges[0], xedges[-1], yedges[0], yedges[-1]]\n",
    "    return heatmap.T, extent\n",
    "\n",
    "def plotShotMap(season_year, team, season_games):\n",
    "    fig, ax = plt.subplots(figsize=(13,8.5))\n",
    "\n",
    "    img = plt.imread('../figures/nhl_rink.png')\n",
    "\n",
    "    ext = [-100, 100, -42.5, 42.5]\n",
    "    plt.imshow(img, zorder=0, extent=ext, aspect=1)\n",
    "    # Generate some test data\n",
    "    x = season_games['xCoord']\n",
    "    y = season_games['yCoord']\n",
    "    z = season_games['excessShots']\n",
    "\n",
    "    sigma = 64\n",
    "    img, extent = myplot(x, y, z, sigma, bins=1000)\n",
    "    img = ax.imshow(img, extent=extent, origin='lower', cmap='seismic', alpha=.5)\n",
    "    plt.colorbar(img, ax=ax)\n",
    "    ax.set_title(f\"Shot map of {team} - season {season_year}/{season_year+1}\")\n",
    "    \n",
    "\n",
    "    plt.show()"
   ]
  },
  {
   "cell_type": "code",
   "execution_count": 29,
   "id": "991d047b-5ff4-44a8-92fc-98d6acfc447a",
   "metadata": {},
   "outputs": [],
   "source": [
    "def plotKDE(season_year, team, season_games):\n",
    "\n",
    "    x = season_games['xCoord']\n",
    "    y = season_games['yCoord']\n",
    "    z = season_games['excessShots']\n",
    "\n",
    "    fig, ax = plt.subplots(figsize=(13,8.5))\n",
    "    img = plt.imread('../figures/nhl_rink.png')\n",
    "\n",
    "    ext = [-100, 100, -42.5, 42.5]\n",
    "    plt.imshow(img, zorder=0, extent=ext, aspect=1)\n",
    "    sns.color_palette(\"coolwarm\", as_cmap=True)\n",
    "\n",
    "\n",
    "\n",
    "\n",
    "    #Create the heatmap\n",
    "    kde = sns.kdeplot(\n",
    "        data = season_games,\n",
    "        x='xCoord',\n",
    "        y='yCoord',\n",
    "        fill=True,\n",
    "        weights=z-z.min(),\n",
    "        alpha=.3,\n",
    "        cmap='seismic',\n",
    "        cbar=True,\n",
    "        cbar_kws={\"use_gridspec\":False, \"location\":\"right\"},\n",
    "    )\n",
    "\n",
    "\n",
    "    plt.xlim(-100,100)\n",
    "    plt.ylim(-42.5,42.5)\n",
    "\n",
    "\n",
    "\n",
    "    plt.show()"
   ]
  },
  {
   "cell_type": "code",
   "execution_count": 30,
   "id": "24634900-7ab7-4562-b32c-1e48eff02f5a",
   "metadata": {},
   "outputs": [
    {
     "data": {
      "application/vnd.jupyter.widget-view+json": {
       "model_id": "9d2a88f2cebe4441b7b242642b9c44e0",
       "version_major": 2,
       "version_minor": 0
      },
      "text/plain": [
       "interactive(children=(IntSlider(value=2016, description='season_year', max=2020, min=2016), Dropdown(descripti…"
      ]
     },
     "metadata": {},
     "output_type": "display_data"
    }
   ],
   "source": [
    "@interact(\n",
    "    season_year=widgets.IntSlider(min=2016, max=2020, step=1),\n",
    "    team=getTeams()\n",
    ")\n",
    "def show_data(season_year, team):\n",
    "    season_games = processData(season_year, team)\n",
    "    plotShotMap(season_year, team, season_games)\n",
    "    plotKDE(season_year, team, season_games)\n",
    "    display(season_games)"
   ]
  },
  {
   "cell_type": "code",
   "execution_count": null,
   "id": "31ae4545-5933-4ef8-a326-19bc6a56913b",
   "metadata": {},
   "outputs": [],
   "source": []
  },
  {
   "cell_type": "code",
   "execution_count": null,
   "id": "62cbd82e-2143-44ea-91ad-c9f0e1e1164a",
   "metadata": {},
   "outputs": [],
   "source": []
  },
  {
   "cell_type": "code",
   "execution_count": null,
   "id": "110b2779-5af9-4057-99c9-c026e762c425",
   "metadata": {},
   "outputs": [],
   "source": []
  }
 ],
 "metadata": {
  "kernelspec": {
   "display_name": "Python 3 (ipykernel)",
   "language": "python",
   "name": "python3"
  },
  "language_info": {
   "codemirror_mode": {
    "name": "ipython",
    "version": 3
   },
   "file_extension": ".py",
   "mimetype": "text/x-python",
   "name": "python",
   "nbconvert_exporter": "python",
   "pygments_lexer": "ipython3",
   "version": "3.9.7"
  }
 },
 "nbformat": 4,
 "nbformat_minor": 5
}
