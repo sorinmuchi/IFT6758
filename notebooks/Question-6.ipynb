{
 "cells": [
  {
   "cell_type": "code",
   "execution_count": 657,
   "id": "462871c3-b21d-4b07-a20c-d1074b1116b2",
   "metadata": {},
   "outputs": [],
   "source": [
    "import pandas as pd\n",
    "import numpy as np\n",
    "import matplotlib.pyplot as plt\n",
    "import matplotlib.cm as cm\n",
    "from IPython.display import display\n",
    "import ipywidgets as widgets\n",
    "from ipywidgets import interact, interactive, fixed, interact_manual, widgets\n",
    "from scipy.ndimage.filters import gaussian_filter\n",
    "import seaborn as sns\n",
    "from datetime import datetime"
   ]
  },
  {
   "cell_type": "code",
   "execution_count": 658,
   "id": "86ee7f8b-ce2b-4e57-a578-2c8214f0891a",
   "metadata": {},
   "outputs": [],
   "source": [
    "def normalize_df(df):\n",
    "    df_normalized = df.copy()\n",
    "    df_normalized['xCoordNorm'] = np.where(df['rinkSide'] == 'left', df['xCoord'], -1 * df['xCoord'])\n",
    "    df_normalized['yCoordNorm'] = np.where(df['rinkSide'] == 'left', df['yCoord'], -1 * df['yCoord'])\n",
    "\n",
    "    return df_normalized"
   ]
  },
  {
   "cell_type": "code",
   "execution_count": 659,
   "id": "404dc2fa-0f8f-48ff-bfd7-8cf660118e11",
   "metadata": {},
   "outputs": [],
   "source": [
    "def converTimeToHours(t):\n",
    "    delta_time = datetime.strptime(df['totalPlayTime'][0], '%H:%M:%S') - datetime(1900, 1, 1)\n",
    "    hours = delta_time.total_seconds() / 3600\n",
    "    return hours\n",
    "\n",
    "def totalPlayedTime(df, team):\n",
    "    df['totalPlayTimeInSeconds'] = df['totalPlayTime'].apply(lambda t: converTimeToHours(t))\n",
    "    totalTimePerTeam = df.drop_duplicates(subset=['gameID', 'teamOfShooter', 'totalPlayTimeInSeconds'])\n",
    "    totalTimePerTeam = totalTimePerTeam[['teamOfShooter', 'totalPlayTimeInSeconds']].groupby(['teamOfShooter']).sum()\n",
    "    hours = totalTimePerTeam.loc[team]['totalPlayTimeInSeconds']\n",
    "    return hours"
   ]
  },
  {
   "cell_type": "code",
   "execution_count": 660,
   "id": "55bf5b9f-5e10-490a-8561-6bdb2e8e4f33",
   "metadata": {},
   "outputs": [],
   "source": [
    "def processData(season,team):\n",
    "    \n",
    "    # read data     \n",
    "    df = pd.read_csv('dataset/Allseasons.csv')\n",
    "        \n",
    "    # get number of teams    \n",
    "    nbTeams = len(df['teamOfShooter'].unique())\n",
    "    \n",
    "    # normalize coordinates to use half of the rink\n",
    "    df = normalize_df(df)\n",
    "    \n",
    "    # filter events for the given season     \n",
    "    df=df[df[\"season\"]==season]\n",
    "    \n",
    "    # compute number of shots per (x,y) for the league (all the teams)     \n",
    "    shotsPerXY = df.groupby(['xCoordNorm','yCoordNorm']).size().reset_index(name='nbShotsLeague')\n",
    "    \n",
    "    # compute average shots per (x,y) in the league \n",
    "    shotsPerXY['avgShotsLeague'] = shotsPerXY['nbShotsLeague'] / nbTeams\n",
    "    \n",
    "    # filter shots for the given team\n",
    "    teamShots = df.loc[df['teamOfShooter'] == team]\n",
    "    \n",
    "    # compute number of shots for the given team per (x,y)     \n",
    "    teamShotsPerXY = teamShots.groupby(['xCoordNorm','yCoordNorm']).size().reset_index(name='nbShotsTeam')\n",
    "    \n",
    "    # Compute excess shots: excess shots = nb shots for a given team - average league shots\n",
    "    excessShots = pd.merge(teamShotsPerXY, shotsPerXY, on=['xCoordNorm', 'yCoordNorm']) \n",
    "    excessShots['excessShots'] = excessShots['nbShotsTeam'] - excessShots['avgShotsLeague']\n",
    "    \n",
    "    # Compute played time by 'team' in hours\n",
    "    hours = totalPlayedTime(df, team)\n",
    "    \n",
    "    excessShots['excessShotsPerHour'] = excessShots['excessShots'] / hours\n",
    "\n",
    "    return excessShots"
   ]
  },
  {
   "cell_type": "code",
   "execution_count": 661,
   "id": "decc4a99-5a26-415e-a145-9c30cae085fb",
   "metadata": {},
   "outputs": [],
   "source": [
    "def getTeams():\n",
    "    df = pd.read_csv('dataset/Allseasons.csv')\n",
    "    return df[\"teamOfShooter\"].unique()"
   ]
  },
  {
   "cell_type": "code",
   "execution_count": 676,
   "id": "1a8b6e4b-ebf7-4b48-b657-379a9b21ca40",
   "metadata": {},
   "outputs": [],
   "source": [
    "def myplot(x, y, z, s, bins=1000):\n",
    "    heatmap, xedges, yedges = np.histogram2d(x, y, bins=bins, weights=z)\n",
    "    heatmap = gaussian_filter(heatmap, sigma=s)\n",
    "\n",
    "    extent = [xedges[0], xedges[-1], yedges[0], yedges[-1]]\n",
    "    return heatmap.T, extent\n",
    "\n",
    "def plotShotMap(season_year, team, season_games):\n",
    "    fig, ax = plt.subplots(figsize=(13,8.5))\n",
    "\n",
    "    img = plt.imread('../figures/nhl_rink.png')\n",
    "\n",
    "    ext = [-100, 100, -42.5, 42.5]\n",
    "    plt.imshow(img, zorder=0, extent=ext, aspect=1)\n",
    "    # Generate some test data\n",
    "    x = season_games['xCoordNorm']\n",
    "    y = season_games['yCoordNorm']\n",
    "    z = season_games['excessShotsPerHour']\n",
    "    \n",
    "    sigma = 2\n",
    "    \n",
    "    img, extent = myplot(x, y, z, sigma, bins=100)\n",
    "    img = ax.imshow(img, extent=[0, 100, -42.5, 42.5], origin='lower', cmap='seismic', alpha=.3)#, clim=(-1, 1))\n",
    "    \n",
    "    plt.colorbar(img, ax=ax)\n",
    "    ax.set_title(f\"Shot map of {team} - season {season_year}/{season_year+1}\")\n",
    "    \n",
    "    plt.show()\n",
    "    \n",
    "    # Export the figure to an HTML format\n",
    "    fig.write_html(\"exports/interactiveShotMap.html\")\n"
   ]
  },
  {
   "cell_type": "code",
   "execution_count": 677,
   "id": "24634900-7ab7-4562-b32c-1e48eff02f5a",
   "metadata": {},
   "outputs": [
    {
     "data": {
      "application/vnd.jupyter.widget-view+json": {
       "model_id": "06b804063dfe4bb892608bfc5d2a08b8",
       "version_major": 2,
       "version_minor": 0
      },
      "text/plain": [
       "interactive(children=(IntSlider(value=2016, description='season_year', max=2020, min=2016), Dropdown(descripti…"
      ]
     },
     "metadata": {},
     "output_type": "display_data"
    }
   ],
   "source": [
    "@interact(\n",
    "    season_year=widgets.IntSlider(min=2016, max=2020, step=1),\n",
    "    team=getTeams()\n",
    ")\n",
    "def show_data(season_year, team):\n",
    "    season_games = processData(season_year, team)\n",
    "    plotShotMap(season_year, team, season_games)\n",
    "    display(season_games.head())"
   ]
  },
  {
   "cell_type": "code",
   "execution_count": null,
   "id": "ec6e8797-b0e7-4c62-b2f0-180efae44a88",
   "metadata": {},
   "outputs": [],
   "source": []
  },
  {
   "cell_type": "code",
   "execution_count": null,
   "id": "a0711ea9-ea91-4c7d-9a27-8ce44c67169f",
   "metadata": {
    "scrolled": true,
    "tags": []
   },
   "outputs": [],
   "source": []
  }
 ],
 "metadata": {
  "kernelspec": {
   "display_name": "Python 3 (ipykernel)",
   "language": "python",
   "name": "python3"
  },
  "language_info": {
   "codemirror_mode": {
    "name": "ipython",
    "version": 3
   },
   "file_extension": ".py",
   "mimetype": "text/x-python",
   "name": "python",
   "nbconvert_exporter": "python",
   "pygments_lexer": "ipython3",
   "version": "3.9.7"
  }
 },
 "nbformat": 4,
 "nbformat_minor": 5
}
