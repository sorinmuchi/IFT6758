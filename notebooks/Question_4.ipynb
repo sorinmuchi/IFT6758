{
 "cells": [
  {
   "cell_type": "code",
   "execution_count": 2,
   "id": "1482ef27-f50b-4e78-a268-e457f624e37f",
   "metadata": {},
   "outputs": [],
   "source": [
    "import numpy as np\n",
    "import pandas as pd\n",
    "from ift6758.data.question_2 import NHL_API\n",
    "from ift6758.data.question_4 import NHL_TIDY"
   ]
  },
  {
   "cell_type": "code",
   "execution_count": 3,
   "id": "50825b44-39ee-4595-9f04-058a65bf33c9",
   "metadata": {},
   "outputs": [],
   "source": [
    "nhl_api = NHL_API()"
   ]
  },
  {
   "cell_type": "code",
   "execution_count": 6,
   "id": "ec5af72d-3c2b-4c27-a5a0-a47e57d517bf",
   "metadata": {},
   "outputs": [],
   "source": [
    "data = nhl_api.get_nhl_data(2016, 2020)"
   ]
  },
  {
   "cell_type": "code",
   "execution_count": 44,
   "id": "c714a13f-849a-48d7-8f71-bf84dfdbbe24",
   "metadata": {},
   "outputs": [],
   "source": [
    "bigList=[]\n",
    "\n",
    "for x in data:\n",
    "    if type(tidyGame(x))!=type(np.nan):\n",
    "        bigList.append(NHL_TIDY.tidyGame(x))"
   ]
  },
  {
   "cell_type": "code",
   "execution_count": 47,
   "id": "9f267f9c-b26f-482a-a3b0-7c3ffe8bfa4a",
   "metadata": {},
   "outputs": [
    {
     "name": "stdout",
     "output_type": "stream",
     "text": [
      "1317\n",
      "1355\n",
      "1358\n",
      "1168\n",
      "952\n"
     ]
    }
   ],
   "source": [
    "s1=[]\n",
    "s2=[]\n",
    "s3=[]\n",
    "s4=[]\n",
    "s5=[]\n",
    "\n",
    "\n",
    "i=0\n",
    "for e in range(len(bigList)):\n",
    "    if 'season' in bigList[i]:\n",
    "        if int(bigList[i]['season'][0])==2016:\n",
    "            s1.append(bigList[i])\n",
    "        if int(bigList[i]['season'][0])==2017:\n",
    "            s2.append(bigList[i])\n",
    "        if int(bigList[i]['season'][0])==2018:\n",
    "            s3.append(bigList[i])\n",
    "        if int(bigList[i]['season'][0])==2019:\n",
    "            s4.append(bigList[i])\n",
    "        if int(bigList[i]['season'][0])==2020:\n",
    "            s5.append(bigList[i])\n",
    "        i+=1  \n",
    "\n",
    "print(len(s1))\n",
    "print(len(s2))\n",
    "print(len(s3))\n",
    "print(len(s4))\n",
    "print(len(s5))\n",
    "\n",
    "df1 = NHL_TIDY.dfConcat(s1)\n",
    "df2 = NHL_TIDY.dfConcat(s2)\n",
    "df3 = NHL_TIDY.dfConcat(s3)\n",
    "df4 = NHL_TIDY.dfConcat(s4)\n",
    "df5 = NHL_TIDY.dfConcat(s5)\n",
    "\n",
    "allSeasons = [df1,df2,df3,df4,df5]\n",
    "\n",
    "dfTotal = NHL_TIDY.dfConcat(allSeasons)\n",
    "\n",
    "df1.to_csv(\"season2016.csv\",index=False)\n",
    "df2.to_csv(\"season2017.csv\",index=False)\n",
    "df3.to_csv(\"season2018.csv\",index=False)\n",
    "df4.to_csv(\"season2019.csv\",index=False)\n",
    "df5.to_csv(\"season2020.csv\",index=False)\n",
    "dfTotal.to_csv(\"Allseasons.csv\",index=False)"
   ]
  }
 ],
 "metadata": {
  "kernelspec": {
   "display_name": "ift6758-conda-env",
   "language": "python",
   "name": "ift6758-conda-env"
  },
  "language_info": {
   "codemirror_mode": {
    "name": "ipython",
    "version": 3
   },
   "file_extension": ".py",
   "mimetype": "text/x-python",
   "name": "python",
   "nbconvert_exporter": "python",
   "pygments_lexer": "ipython3",
   "version": "3.9.7"
  }
 },
 "nbformat": 4,
 "nbformat_minor": 5
}
