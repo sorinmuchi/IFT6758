{
 "cells": [
  {
   "cell_type": "code",
   "execution_count": 1,
   "id": "1a0851b2-f815-459f-9986-ad92acf7f137",
   "metadata": {},
   "outputs": [],
   "source": [
    "import numpy as np\n",
    "import pandas as pd\n",
    "import re\n",
    "fileName1 = \"data1.npy\" \n",
    "data1 = np.load(fileName1, allow_pickle=True)\n",
    "#fileName2 = \"data2.npy\" \n",
    "#data2 = np.load(fileName2, allow_pickle=True)\n",
    "#fileName3 = \"data3.npy\" \n",
    "#data3 = np.load(fileName3, allow_pickle=True)"
   ]
  },
  {
   "cell_type": "code",
   "execution_count": 2,
   "id": "06644e9f-0cdf-4764-bb03-0edcc3e93b53",
   "metadata": {},
   "outputs": [
    {
     "name": "stdout",
     "output_type": "stream",
     "text": [
      "A\n"
     ]
    }
   ],
   "source": [
    "print(\"A\")"
   ]
  },
  {
   "cell_type": "code",
   "execution_count": 18,
   "id": "38bbcc22-9a3e-4ea5-bbef-33d4d050885d",
   "metadata": {},
   "outputs": [
    {
     "name": "stdout",
     "output_type": "stream",
     "text": [
      "{'players': [{'player': {'id': 8474697, 'fullName': 'Mark Borowiecki', 'link': '/api/v1/people/8474697'}, 'playerType': 'PenaltyOn'}, {'player': {'id': 8474709, 'fullName': 'Matt Martin', 'link': '/api/v1/people/8474709'}, 'playerType': 'DrewBy'}], 'result': {'event': 'Penalty', 'eventCode': 'OTT47', 'eventTypeId': 'PENALTY', 'description': 'Mark Borowiecki Fighting against Matt Martin', 'secondaryType': 'Fighting', 'penaltySeverity': 'Major', 'penaltyMinutes': 5}, 'about': {'eventIdx': 74, 'eventId': 47, 'period': 1, 'periodType': 'REGULAR', 'ordinalNum': '1st', 'periodTime': '13:25', 'periodTimeRemaining': '06:35', 'dateTime': '2016-10-12T23:42:40Z', 'goals': {'away': 1, 'home': 2}}, 'coordinates': {'x': -90.0, 'y': -12.0}, 'team': {'id': 9, 'name': 'Ottawa Senators', 'link': '/api/v1/teams/9', 'triCode': 'OTT'}}\n",
      "Penalty\n",
      "Major\n",
      "5\n",
      "13:25\n",
      "1\n",
      "{'players': [{'player': {'id': 8474709, 'fullName': 'Matt Martin', 'link': '/api/v1/people/8474709'}, 'playerType': 'PenaltyOn'}, {'player': {'id': 8474697, 'fullName': 'Mark Borowiecki', 'link': '/api/v1/people/8474697'}, 'playerType': 'DrewBy'}], 'result': {'event': 'Penalty', 'eventCode': 'OTT49', 'eventTypeId': 'PENALTY', 'description': 'Matt Martin Fighting against Mark Borowiecki', 'secondaryType': 'Fighting', 'penaltySeverity': 'Major', 'penaltyMinutes': 5}, 'about': {'eventIdx': 75, 'eventId': 49, 'period': 1, 'periodType': 'REGULAR', 'ordinalNum': '1st', 'periodTime': '13:25', 'periodTimeRemaining': '06:35', 'dateTime': '2016-10-12T23:42:56Z', 'goals': {'away': 1, 'home': 2}}, 'coordinates': {'x': -87.0, 'y': -9.0}, 'team': {'id': 10, 'name': 'Toronto Maple Leafs', 'link': '/api/v1/teams/10', 'triCode': 'TOR'}}\n",
      "Penalty\n",
      "Major\n",
      "5\n",
      "13:25\n",
      "1\n",
      "{'players': [{'player': {'id': 8474250, 'fullName': 'Zack Smith', 'link': '/api/v1/people/8474250'}, 'playerType': 'PenaltyOn'}, {'player': {'id': 8475716, 'fullName': 'Martin Marincin', 'link': '/api/v1/people/8475716'}, 'playerType': 'DrewBy'}], 'result': {'event': 'Penalty', 'eventCode': 'OTT256', 'eventTypeId': 'PENALTY', 'description': 'Zack Smith Hooking against Martin Marincin', 'secondaryType': 'Hooking', 'penaltySeverity': 'Minor', 'penaltyMinutes': 2}, 'about': {'eventIdx': 85, 'eventId': 256, 'period': 1, 'periodType': 'REGULAR', 'ordinalNum': '1st', 'periodTime': '14:59', 'periodTimeRemaining': '05:01', 'dateTime': '2016-10-12T23:45:51Z', 'goals': {'away': 2, 'home': 2}}, 'coordinates': {'x': 68.0, 'y': 1.0}, 'team': {'id': 9, 'name': 'Ottawa Senators', 'link': '/api/v1/teams/9', 'triCode': 'OTT'}}\n",
      "Penalty\n",
      "Minor\n",
      "2\n",
      "14:59\n",
      "1\n",
      "{'players': [{'player': {'id': 8477015, 'fullName': 'Connor Brown', 'link': '/api/v1/people/8477015'}, 'playerType': 'PenaltyOn'}, {'player': {'id': 8474884, 'fullName': 'Mike Hoffman', 'link': '/api/v1/people/8474884'}, 'playerType': 'DrewBy'}], 'result': {'event': 'Penalty', 'eventCode': 'OTT266', 'eventTypeId': 'PENALTY', 'description': 'Connor Brown Hooking against Mike Hoffman', 'secondaryType': 'Hooking', 'penaltySeverity': 'Minor', 'penaltyMinutes': 2}, 'about': {'eventIdx': 102, 'eventId': 266, 'period': 1, 'periodType': 'REGULAR', 'ordinalNum': '1st', 'periodTime': '18:01', 'periodTimeRemaining': '01:59', 'dateTime': '2016-10-12T23:52:24Z', 'goals': {'away': 2, 'home': 2}}, 'coordinates': {'x': -92.0, 'y': 31.0}, 'team': {'id': 10, 'name': 'Toronto Maple Leafs', 'link': '/api/v1/teams/10', 'triCode': 'TOR'}}\n",
      "Penalty\n",
      "Minor\n",
      "2\n",
      "18:01\n",
      "1\n",
      "{'players': [{'player': {'id': 8474709, 'fullName': 'Matt Martin', 'link': '/api/v1/people/8474709'}, 'playerType': 'PenaltyOn'}, {'player': {'id': 8467493, 'fullName': 'Chris Neil', 'link': '/api/v1/people/8467493'}, 'playerType': 'DrewBy'}], 'result': {'event': 'Penalty', 'eventCode': 'OTT289', 'eventTypeId': 'PENALTY', 'description': 'Matt Martin Cross checking against Chris Neil', 'secondaryType': 'Cross checking', 'penaltySeverity': 'Minor', 'penaltyMinutes': 2}, 'about': {'eventIdx': 133, 'eventId': 289, 'period': 2, 'periodType': 'REGULAR', 'ordinalNum': '2nd', 'periodTime': '01:25', 'periodTimeRemaining': '18:35', 'dateTime': '2016-10-13T00:20:46Z', 'goals': {'away': 3, 'home': 2}}, 'coordinates': {'x': -5.0, 'y': 17.0}, 'team': {'id': 10, 'name': 'Toronto Maple Leafs', 'link': '/api/v1/teams/10', 'triCode': 'TOR'}}\n",
      "Penalty\n",
      "Minor\n",
      "2\n",
      "01:25\n",
      "2\n",
      "{'players': [{'player': {'id': 8467493, 'fullName': 'Chris Neil', 'link': '/api/v1/people/8467493'}, 'playerType': 'PenaltyOn'}, {'player': {'id': 8474709, 'fullName': 'Matt Martin', 'link': '/api/v1/people/8474709'}, 'playerType': 'DrewBy'}], 'result': {'event': 'Penalty', 'eventCode': 'OTT291', 'eventTypeId': 'PENALTY', 'description': 'Chris Neil Cross checking against Matt Martin', 'secondaryType': 'Cross checking', 'penaltySeverity': 'Minor', 'penaltyMinutes': 2}, 'about': {'eventIdx': 134, 'eventId': 291, 'period': 2, 'periodType': 'REGULAR', 'ordinalNum': '2nd', 'periodTime': '01:25', 'periodTimeRemaining': '18:35', 'dateTime': '2016-10-13T00:21:05Z', 'goals': {'away': 3, 'home': 2}}, 'coordinates': {'x': 0.0, 'y': 19.0}, 'team': {'id': 9, 'name': 'Ottawa Senators', 'link': '/api/v1/teams/9', 'triCode': 'OTT'}}\n",
      "Penalty\n",
      "Minor\n",
      "2\n",
      "01:25\n",
      "2\n",
      "{'players': [{'player': {'id': 8475227, 'fullName': 'Chris Wideman', 'link': '/api/v1/people/8475227'}, 'playerType': 'PenaltyOn'}, {'player': {'id': 8478483, 'fullName': 'Mitchell Marner', 'link': '/api/v1/people/8478483'}, 'playerType': 'DrewBy'}], 'result': {'event': 'Penalty', 'eventCode': 'OTT296', 'eventTypeId': 'PENALTY', 'description': 'Chris Wideman Interference against Mitchell Marner', 'secondaryType': 'Interference', 'penaltySeverity': 'Minor', 'penaltyMinutes': 2}, 'about': {'eventIdx': 144, 'eventId': 296, 'period': 2, 'periodType': 'REGULAR', 'ordinalNum': '2nd', 'periodTime': '03:26', 'periodTimeRemaining': '16:34', 'dateTime': '2016-10-13T00:23:35Z', 'goals': {'away': 3, 'home': 2}}, 'coordinates': {'x': -8.0, 'y': -35.0}, 'team': {'id': 9, 'name': 'Ottawa Senators', 'link': '/api/v1/teams/9', 'triCode': 'OTT'}}\n",
      "Penalty\n",
      "Minor\n",
      "2\n",
      "03:26\n",
      "2\n",
      "{'players': [{'player': {'id': 8474884, 'fullName': 'Mike Hoffman', 'link': '/api/v1/people/8474884'}, 'playerType': 'PenaltyOn'}], 'result': {'event': 'Penalty', 'eventCode': 'OTT456', 'eventTypeId': 'PENALTY', 'description': 'Too many men/ice served by Mike Hoffman', 'secondaryType': 'Too many men on the ice', 'penaltySeverity': 'Bench Minor', 'penaltyMinutes': 2}, 'about': {'eventIdx': 163, 'eventId': 456, 'period': 2, 'periodType': 'REGULAR', 'ordinalNum': '2nd', 'periodTime': '06:36', 'periodTimeRemaining': '13:24', 'dateTime': '2016-10-13T00:29:35Z', 'goals': {'away': 3, 'home': 2}}, 'coordinates': {'x': -11.0, 'y': 31.0}, 'team': {'id': 9, 'name': 'Ottawa Senators', 'link': '/api/v1/teams/9', 'triCode': 'OTT'}}\n",
      "Penalty\n",
      "Bench Minor\n",
      "2\n",
      "06:36\n",
      "2\n",
      "{'players': [{'player': {'id': 8470602, 'fullName': 'Dion Phaneuf', 'link': '/api/v1/people/8470602'}, 'playerType': 'PenaltyOn'}, {'player': {'id': 8473463, 'fullName': 'Leo Komarov', 'link': '/api/v1/people/8473463'}, 'playerType': 'DrewBy'}], 'result': {'event': 'Penalty', 'eventCode': 'OTT469', 'eventTypeId': 'PENALTY', 'description': 'Dion Phaneuf Hooking against Leo Komarov', 'secondaryType': 'Hooking', 'penaltySeverity': 'Minor', 'penaltyMinutes': 2}, 'about': {'eventIdx': 187, 'eventId': 469, 'period': 2, 'periodType': 'REGULAR', 'ordinalNum': '2nd', 'periodTime': '10:55', 'periodTimeRemaining': '09:05', 'dateTime': '2016-10-13T00:37:09Z', 'goals': {'away': 3, 'home': 2}}, 'coordinates': {'x': 80.0, 'y': 5.0}, 'team': {'id': 9, 'name': 'Ottawa Senators', 'link': '/api/v1/teams/9', 'triCode': 'OTT'}}\n",
      "Penalty\n",
      "Minor\n",
      "2\n",
      "10:55\n",
      "2\n",
      "{'players': [{'player': {'id': 8477939, 'fullName': 'William Nylander', 'link': '/api/v1/people/8477939'}, 'playerType': 'PenaltyOn'}, {'player': {'id': 8476419, 'fullName': 'Jean-Gabriel Pageau', 'link': '/api/v1/people/8476419'}, 'playerType': 'DrewBy'}], 'result': {'event': 'Penalty', 'eventCode': 'OTT668', 'eventTypeId': 'PENALTY', 'description': 'William Nylander Holding against Jean-Gabriel Pageau', 'secondaryType': 'Holding', 'penaltySeverity': 'Minor', 'penaltyMinutes': 2}, 'about': {'eventIdx': 260, 'eventId': 668, 'period': 3, 'periodType': 'REGULAR', 'ordinalNum': '3rd', 'periodTime': '02:02', 'periodTimeRemaining': '17:58', 'dateTime': '2016-10-13T01:17:43Z', 'goals': {'away': 4, 'home': 3}}, 'coordinates': {'x': -35.0, 'y': 28.0}, 'team': {'id': 10, 'name': 'Toronto Maple Leafs', 'link': '/api/v1/teams/10', 'triCode': 'TOR'}}\n",
      "Penalty\n",
      "Minor\n",
      "2\n",
      "02:02\n",
      "3\n"
     ]
    }
   ],
   "source": [
    "'''\n",
    "main classes:\n",
    "copyright\n",
    "gamePk\n",
    "link\n",
    "metaData\n",
    "gameData\n",
    "liveData\n",
    "'''\n",
    "game = data1[0]\n",
    "\n",
    "a=game[\"liveData\"][\"plays\"][\"penaltyPlays\"]\n",
    "b=game[\"liveData\"][\"plays\"]\n",
    "c=game[\"liveData\"][\"plays\"][\"allPlays\"]\n",
    "\n",
    "\n",
    "for x in a:\n",
    "    print(c[x])\n",
    "    print(c[x][\"result\"][\"event\"])\n",
    "    print(c[x][\"result\"][\"penaltySeverity\"])\n",
    "    print(c[x][\"result\"][\"penaltyMinutes\"])\n",
    "    print(c[x][\"about\"][\"periodTime\"])\n",
    "    print(c[x][\"about\"][\"period\"])\n",
    "\n",
    "#for x in c:\n",
    "    #print(x)\n"
   ]
  },
  {
   "cell_type": "code",
   "execution_count": null,
   "id": "2ddf4a24-6439-49c6-96ed-fb344f0ac1eb",
   "metadata": {},
   "outputs": [],
   "source": []
  },
  {
   "cell_type": "code",
   "execution_count": null,
   "id": "c305c394-ec4d-422e-aa09-c7d933e75208",
   "metadata": {},
   "outputs": [],
   "source": []
  }
 ],
 "metadata": {
  "kernelspec": {
   "display_name": "ift6758-conda-env",
   "language": "python",
   "name": "ift6758-conda-env"
  },
  "language_info": {
   "codemirror_mode": {
    "name": "ipython",
    "version": 3
   },
   "file_extension": ".py",
   "mimetype": "text/x-python",
   "name": "python",
   "nbconvert_exporter": "python",
   "pygments_lexer": "ipython3",
   "version": "3.9.7"
  }
 },
 "nbformat": 4,
 "nbformat_minor": 5
}
